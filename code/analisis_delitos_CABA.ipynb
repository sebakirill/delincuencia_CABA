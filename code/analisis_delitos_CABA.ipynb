{
 "cells": [
  {
   "cell_type": "code",
   "execution_count": 1,
   "id": "ec800f6d-525b-4f69-974a-34c34d2e6562",
   "metadata": {},
   "outputs": [],
   "source": [
    "import pandas as pd\n",
    "import numpy as np\n",
    "import plotly.express as px\n",
    "import plotly.graph_objects as go\n",
    "import plotly.io as pio"
   ]
  },
  {
   "cell_type": "code",
   "execution_count": 2,
   "id": "59117503-e1d8-4596-8e9a-d6c1cda0e0b0",
   "metadata": {},
   "outputs": [],
   "source": [
    "df_2020 = pd.read_csv('../csv/delitos_2020.csv',low_memory=False, parse_dates = ['fecha'], dayfirst = True)\n",
    "df_2019 = pd.read_csv('../csv/delitos_2019.csv', low_memory=False, parse_dates = ['fecha'], dayfirst = True)\n",
    "df_2018 = pd.read_csv('../csv/delitos_2018.csv', low_memory=False, parse_dates = ['fecha'], dayfirst = True)\n",
    "df_2017 = pd.read_csv('../csv/delitos_2017.csv', low_memory=False, parse_dates = ['fecha'], dayfirst = True)\n",
    "df_2016 = pd.read_csv('../csv/delitos_2016.csv', low_memory=False, parse_dates = ['fecha'], dayfirst = True)"
   ]
  },
  {
   "cell_type": "code",
   "execution_count": 3,
   "id": "07bd0a4c-960b-4fdc-9030-74b803a76840",
   "metadata": {},
   "outputs": [
    {
     "name": "stdout",
     "output_type": "stream",
     "text": [
      "<class 'pandas.core.frame.DataFrame'>\n",
      "RangeIndex: 66714 entries, 0 to 66713\n",
      "Data columns (total 14 columns):\n",
      " #   Column     Non-Null Count  Dtype         \n",
      "---  ------     --------------  -----         \n",
      " 0   id_mapa    66714 non-null  object        \n",
      " 1   anio       66714 non-null  int64         \n",
      " 2   mes        66714 non-null  object        \n",
      " 3   dia        66714 non-null  object        \n",
      " 4   fecha      66714 non-null  datetime64[ns]\n",
      " 5   franja     66714 non-null  object        \n",
      " 6   tipo       66714 non-null  object        \n",
      " 7   subtipo    13633 non-null  object        \n",
      " 8   uso_armas  7281 non-null   object        \n",
      " 9   barrio     66303 non-null  object        \n",
      " 10  comuna     66303 non-null  float64       \n",
      " 11  latitud    66303 non-null  float64       \n",
      " 12  longitud   66303 non-null  float64       \n",
      " 13  victimas   190 non-null    float64       \n",
      "dtypes: datetime64[ns](1), float64(4), int64(1), object(8)\n",
      "memory usage: 7.1+ MB\n"
     ]
    }
   ],
   "source": [
    "df_2020.info()"
   ]
  },
  {
   "cell_type": "code",
   "execution_count": 4,
   "id": "c7b2aaae-0d87-48a4-9657-3333482b27c7",
   "metadata": {},
   "outputs": [
    {
     "data": {
      "text/html": [
       "<div>\n",
       "<style scoped>\n",
       "    .dataframe tbody tr th:only-of-type {\n",
       "        vertical-align: middle;\n",
       "    }\n",
       "\n",
       "    .dataframe tbody tr th {\n",
       "        vertical-align: top;\n",
       "    }\n",
       "\n",
       "    .dataframe thead th {\n",
       "        text-align: right;\n",
       "    }\n",
       "</style>\n",
       "<table border=\"1\" class=\"dataframe\">\n",
       "  <thead>\n",
       "    <tr style=\"text-align: right;\">\n",
       "      <th></th>\n",
       "      <th>id</th>\n",
       "      <th>fecha</th>\n",
       "      <th>franja_horaria</th>\n",
       "      <th>tipo_delito</th>\n",
       "      <th>subtipo_delito</th>\n",
       "      <th>cantidad_registrada</th>\n",
       "      <th>comuna</th>\n",
       "      <th>barrio</th>\n",
       "      <th>lat</th>\n",
       "      <th>long</th>\n",
       "    </tr>\n",
       "  </thead>\n",
       "  <tbody>\n",
       "    <tr>\n",
       "      <th>0</th>\n",
       "      <td>1038983</td>\n",
       "      <td>2019-09-13</td>\n",
       "      <td>14</td>\n",
       "      <td>Robo (con violencia)</td>\n",
       "      <td>NaN</td>\n",
       "      <td>NaN</td>\n",
       "      <td>6.0</td>\n",
       "      <td>Caballito</td>\n",
       "      <td>-34.609876</td>\n",
       "      <td>-58.456159</td>\n",
       "    </tr>\n",
       "    <tr>\n",
       "      <th>1</th>\n",
       "      <td>1038986</td>\n",
       "      <td>2019-09-13</td>\n",
       "      <td>16</td>\n",
       "      <td>Robo (con violencia)</td>\n",
       "      <td>NaN</td>\n",
       "      <td>NaN</td>\n",
       "      <td>3.0</td>\n",
       "      <td>Balvanera</td>\n",
       "      <td>-34.609394</td>\n",
       "      <td>-58.395934</td>\n",
       "    </tr>\n",
       "    <tr>\n",
       "      <th>2</th>\n",
       "      <td>1038989</td>\n",
       "      <td>2019-09-13</td>\n",
       "      <td>13</td>\n",
       "      <td>Robo (con violencia)</td>\n",
       "      <td>NaN</td>\n",
       "      <td>NaN</td>\n",
       "      <td>3.0</td>\n",
       "      <td>Balvanera</td>\n",
       "      <td>-34.609231</td>\n",
       "      <td>-58.411177</td>\n",
       "    </tr>\n",
       "    <tr>\n",
       "      <th>3</th>\n",
       "      <td>1038990</td>\n",
       "      <td>2019-09-13</td>\n",
       "      <td>16</td>\n",
       "      <td>Robo (con violencia)</td>\n",
       "      <td>NaN</td>\n",
       "      <td>NaN</td>\n",
       "      <td>3.0</td>\n",
       "      <td>Balvanera</td>\n",
       "      <td>-34.609095</td>\n",
       "      <td>-58.405899</td>\n",
       "    </tr>\n",
       "    <tr>\n",
       "      <th>4</th>\n",
       "      <td>1038991</td>\n",
       "      <td>2019-09-13</td>\n",
       "      <td>11</td>\n",
       "      <td>Robo (con violencia)</td>\n",
       "      <td>NaN</td>\n",
       "      <td>NaN</td>\n",
       "      <td>1.0</td>\n",
       "      <td>Monserrat</td>\n",
       "      <td>-34.609073</td>\n",
       "      <td>-58.380570</td>\n",
       "    </tr>\n",
       "  </tbody>\n",
       "</table>\n",
       "</div>"
      ],
      "text/plain": [
       "        id      fecha franja_horaria           tipo_delito subtipo_delito  \\\n",
       "0  1038983 2019-09-13             14  Robo (con violencia)            NaN   \n",
       "1  1038986 2019-09-13             16  Robo (con violencia)            NaN   \n",
       "2  1038989 2019-09-13             13  Robo (con violencia)            NaN   \n",
       "3  1038990 2019-09-13             16  Robo (con violencia)            NaN   \n",
       "4  1038991 2019-09-13             11  Robo (con violencia)            NaN   \n",
       "\n",
       "   cantidad_registrada  comuna     barrio        lat       long  \n",
       "0                  NaN     6.0  Caballito -34.609876 -58.456159  \n",
       "1                  NaN     3.0  Balvanera -34.609394 -58.395934  \n",
       "2                  NaN     3.0  Balvanera -34.609231 -58.411177  \n",
       "3                  NaN     3.0  Balvanera -34.609095 -58.405899  \n",
       "4                  NaN     1.0  Monserrat -34.609073 -58.380570  "
      ]
     },
     "execution_count": 4,
     "metadata": {},
     "output_type": "execute_result"
    }
   ],
   "source": [
    "df_2019.head()"
   ]
  },
  {
   "cell_type": "code",
   "execution_count": 5,
   "id": "729cc27c-df5d-4bdd-855e-d15bc839d6ec",
   "metadata": {},
   "outputs": [],
   "source": [
    "df1_2020 = df_2020.rename(columns = {'longitud':'long', 'latitud':'lat', 'franja':'franja_horaria', \n",
    "                          'id_mapa' : 'id', 'tipo' : 'tipo_delito', 'subtipo' : 'subtipo_delito'})\n",
    "df1_2020.drop(['anio', 'mes', 'dia'], axis = 1, inplace = True)"
   ]
  },
  {
   "cell_type": "code",
   "execution_count": 6,
   "id": "2ea22669-0621-4b49-a9c7-361c9828236a",
   "metadata": {},
   "outputs": [],
   "source": [
    "df = pd.concat([df1_2020, df_2019, df_2018, df_2017, df_2016], axis = 0)"
   ]
  },
  {
   "cell_type": "code",
   "execution_count": 7,
   "id": "d29962d2-f0bd-4d09-9c4b-bedad3b1a106",
   "metadata": {},
   "outputs": [
    {
     "data": {
      "text/html": [
       "<div>\n",
       "<style scoped>\n",
       "    .dataframe tbody tr th:only-of-type {\n",
       "        vertical-align: middle;\n",
       "    }\n",
       "\n",
       "    .dataframe tbody tr th {\n",
       "        vertical-align: top;\n",
       "    }\n",
       "\n",
       "    .dataframe thead th {\n",
       "        text-align: right;\n",
       "    }\n",
       "</style>\n",
       "<table border=\"1\" class=\"dataframe\">\n",
       "  <thead>\n",
       "    <tr style=\"text-align: right;\">\n",
       "      <th></th>\n",
       "      <th>id</th>\n",
       "      <th>fecha</th>\n",
       "      <th>franja_horaria</th>\n",
       "      <th>tipo_delito</th>\n",
       "      <th>subtipo_delito</th>\n",
       "      <th>uso_armas</th>\n",
       "      <th>barrio</th>\n",
       "      <th>comuna</th>\n",
       "      <th>lat</th>\n",
       "      <th>long</th>\n",
       "      <th>victimas</th>\n",
       "      <th>cantidad_registrada</th>\n",
       "    </tr>\n",
       "  </thead>\n",
       "  <tbody>\n",
       "    <tr>\n",
       "      <th>0</th>\n",
       "      <td>HC-2020-0007157</td>\n",
       "      <td>2020-01-04</td>\n",
       "      <td>10</td>\n",
       "      <td>Homicidio</td>\n",
       "      <td>Siniestro Vial</td>\n",
       "      <td>NaN</td>\n",
       "      <td>Villa Crespo</td>\n",
       "      <td>15.0</td>\n",
       "      <td>-34.592133</td>\n",
       "      <td>-58.439106</td>\n",
       "      <td>1.0</td>\n",
       "      <td>NaN</td>\n",
       "    </tr>\n",
       "    <tr>\n",
       "      <th>1</th>\n",
       "      <td>HC-2020-0009055</td>\n",
       "      <td>2020-01-05</td>\n",
       "      <td>20</td>\n",
       "      <td>Homicidio</td>\n",
       "      <td>Siniestro Vial</td>\n",
       "      <td>NaN</td>\n",
       "      <td>Flores</td>\n",
       "      <td>7.0</td>\n",
       "      <td>-34.646459</td>\n",
       "      <td>-58.450195</td>\n",
       "      <td>1.0</td>\n",
       "      <td>NaN</td>\n",
       "    </tr>\n",
       "    <tr>\n",
       "      <th>2</th>\n",
       "      <td>HC-2020-0022499</td>\n",
       "      <td>2020-01-11</td>\n",
       "      <td>6</td>\n",
       "      <td>Homicidio</td>\n",
       "      <td>Siniestro Vial</td>\n",
       "      <td>NaN</td>\n",
       "      <td>Balvanera</td>\n",
       "      <td>3.0</td>\n",
       "      <td>-34.609272</td>\n",
       "      <td>-58.393379</td>\n",
       "      <td>1.0</td>\n",
       "      <td>NaN</td>\n",
       "    </tr>\n",
       "    <tr>\n",
       "      <th>3</th>\n",
       "      <td>HC-2020-0028163</td>\n",
       "      <td>2020-01-14</td>\n",
       "      <td>6</td>\n",
       "      <td>Homicidio</td>\n",
       "      <td>Siniestro Vial</td>\n",
       "      <td>NaN</td>\n",
       "      <td>San Cristóbal</td>\n",
       "      <td>3.0</td>\n",
       "      <td>-34.624766</td>\n",
       "      <td>-58.410372</td>\n",
       "      <td>1.0</td>\n",
       "      <td>NaN</td>\n",
       "    </tr>\n",
       "    <tr>\n",
       "      <th>4</th>\n",
       "      <td>HC-2020-0029931</td>\n",
       "      <td>2020-01-14</td>\n",
       "      <td>21</td>\n",
       "      <td>Homicidio</td>\n",
       "      <td>Siniestro Vial</td>\n",
       "      <td>NaN</td>\n",
       "      <td>Monserrat</td>\n",
       "      <td>1.0</td>\n",
       "      <td>-34.609303</td>\n",
       "      <td>-58.390526</td>\n",
       "      <td>1.0</td>\n",
       "      <td>NaN</td>\n",
       "    </tr>\n",
       "  </tbody>\n",
       "</table>\n",
       "</div>"
      ],
      "text/plain": [
       "                id      fecha franja_horaria tipo_delito  subtipo_delito  \\\n",
       "0  HC-2020-0007157 2020-01-04             10   Homicidio  Siniestro Vial   \n",
       "1  HC-2020-0009055 2020-01-05             20   Homicidio  Siniestro Vial   \n",
       "2  HC-2020-0022499 2020-01-11              6   Homicidio  Siniestro Vial   \n",
       "3  HC-2020-0028163 2020-01-14              6   Homicidio  Siniestro Vial   \n",
       "4  HC-2020-0029931 2020-01-14             21   Homicidio  Siniestro Vial   \n",
       "\n",
       "  uso_armas         barrio  comuna        lat       long  victimas  \\\n",
       "0       NaN   Villa Crespo    15.0 -34.592133 -58.439106       1.0   \n",
       "1       NaN         Flores     7.0 -34.646459 -58.450195       1.0   \n",
       "2       NaN      Balvanera     3.0 -34.609272 -58.393379       1.0   \n",
       "3       NaN  San Cristóbal     3.0 -34.624766 -58.410372       1.0   \n",
       "4       NaN      Monserrat     1.0 -34.609303 -58.390526       1.0   \n",
       "\n",
       "   cantidad_registrada  \n",
       "0                  NaN  \n",
       "1                  NaN  \n",
       "2                  NaN  \n",
       "3                  NaN  \n",
       "4                  NaN  "
      ]
     },
     "execution_count": 7,
     "metadata": {},
     "output_type": "execute_result"
    }
   ],
   "source": [
    "df.head()"
   ]
  },
  {
   "cell_type": "code",
   "execution_count": 8,
   "id": "7c8e91f0-5dbe-4a66-913a-c72e24bb9de4",
   "metadata": {},
   "outputs": [],
   "source": [
    "df['lat'] = df['lat'].apply(lambda x : x if x > -35 else x/1000)\n",
    "df['long'] = df['long'].apply(lambda x : x if x > -59 else x/1000)"
   ]
  },
  {
   "cell_type": "code",
   "execution_count": 9,
   "id": "af0642a9-9ba0-4821-8cf1-2c7c988b7cba",
   "metadata": {},
   "outputs": [],
   "source": [
    "def pct_null (df):\n",
    "    for col in df.columns:\n",
    "        pct_missing = np.mean(df[col].isnull())\n",
    "        print(f'{col} - {round(pct_missing*100)}%')"
   ]
  },
  {
   "cell_type": "code",
   "execution_count": 10,
   "id": "f5b19173-640e-44dc-b04b-8c3a86ca40b2",
   "metadata": {},
   "outputs": [
    {
     "name": "stdout",
     "output_type": "stream",
     "text": [
      "id - 0%\n",
      "fecha - 0%\n",
      "franja_horaria - 0%\n",
      "tipo_delito - 0%\n",
      "subtipo_delito - 86%\n",
      "uso_armas - 99%\n",
      "barrio - 2%\n",
      "comuna - 2%\n",
      "lat - 2%\n",
      "long - 2%\n",
      "victimas - 100%\n",
      "cantidad_registrada - 32%\n"
     ]
    }
   ],
   "source": [
    "pct_null(df)"
   ]
  },
  {
   "cell_type": "code",
   "execution_count": 11,
   "id": "ed85fdb8-5ade-4f45-82e8-a0d10278443d",
   "metadata": {},
   "outputs": [],
   "source": [
    "df.dropna(subset = ['barrio'], inplace = True)"
   ]
  },
  {
   "cell_type": "code",
   "execution_count": 12,
   "id": "ceb087a7-ceec-4a68-ae00-1bf1b7b11498",
   "metadata": {},
   "outputs": [],
   "source": [
    "df['mes'] = df['fecha'].dt.month\n",
    "df['mes_nombre'] = df['fecha'].dt.month_name()\n",
    "df['anio'] = df['fecha'].dt.year\n",
    "df['dia'] = df['fecha'].dt.day_name()"
   ]
  },
  {
   "cell_type": "code",
   "execution_count": 13,
   "id": "1f28d64f-8f33-49af-955a-6711692f4b98",
   "metadata": {},
   "outputs": [],
   "source": [
    "df_mes = df.groupby(['anio','mes','mes_nombre'])['tipo_delito'].count().reset_index(name = 'count')"
   ]
  },
  {
   "cell_type": "code",
   "execution_count": 14,
   "id": "4cba785e-3608-4c6f-b911-de9487475171",
   "metadata": {},
   "outputs": [
    {
     "data": {
      "text/plain": [
       "Templates configuration\n",
       "-----------------------\n",
       "    Default template: 'plotly'\n",
       "    Available templates:\n",
       "        ['ggplot2', 'seaborn', 'simple_white', 'plotly',\n",
       "         'plotly_white', 'plotly_dark', 'presentation', 'xgridoff',\n",
       "         'ygridoff', 'gridon', 'none']"
      ]
     },
     "execution_count": 14,
     "metadata": {},
     "output_type": "execute_result"
    }
   ],
   "source": [
    "pio.templates"
   ]
  },
  {
   "cell_type": "code",
   "execution_count": 24,
   "id": "de475ad2-d71d-4b01-9b66-e6a61a95bb8f",
   "metadata": {},
   "outputs": [
    {
     "data": {
      "application/vnd.plotly.v1+json": {
       "config": {
        "plotlyServerURL": "https://plot.ly"
       },
       "data": [
        {
         "hovertemplate": "<b>%{hovertext}</b><br><br>Año=2016<br>mes_nombre=%{x}<br>Cantidad de delitos=%{y}<extra></extra>",
         "hovertext": [
          "January",
          "February",
          "March",
          "April",
          "May",
          "June",
          "July",
          "August",
          "September",
          "October",
          "November",
          "December"
         ],
         "legendgroup": "2016",
         "line": {
          "color": "#1F77B4",
          "dash": "solid"
         },
         "mode": "lines",
         "name": "2016",
         "orientation": "v",
         "showlegend": true,
         "type": "scatter",
         "x": [
          "January",
          "February",
          "March",
          "April",
          "May",
          "June",
          "July",
          "August",
          "September",
          "October",
          "November",
          "December"
         ],
         "xaxis": "x",
         "y": [
          9787,
          9659,
          10786,
          10536,
          10813,
          10082,
          10641,
          10907,
          10361,
          10780,
          11244,
          10361
         ],
         "yaxis": "y"
        },
        {
         "hovertemplate": "<b>%{hovertext}</b><br><br>Año=2017<br>mes_nombre=%{x}<br>Cantidad de delitos=%{y}<extra></extra>",
         "hovertext": [
          "January",
          "February",
          "March",
          "April",
          "May",
          "June",
          "July",
          "August",
          "September",
          "October",
          "November",
          "December"
         ],
         "legendgroup": "2017",
         "line": {
          "color": "#FF7F0E",
          "dash": "solid"
         },
         "mode": "lines",
         "name": "2017",
         "orientation": "v",
         "showlegend": true,
         "type": "scatter",
         "x": [
          "January",
          "February",
          "March",
          "April",
          "May",
          "June",
          "July",
          "August",
          "September",
          "October",
          "November",
          "December"
         ],
         "xaxis": "x",
         "y": [
          9855,
          8933,
          11148,
          9950,
          10016,
          9408,
          9133,
          9584,
          9329,
          10248,
          11074,
          10045
         ],
         "yaxis": "y"
        },
        {
         "hovertemplate": "<b>%{hovertext}</b><br><br>Año=2018<br>mes_nombre=%{x}<br>Cantidad de delitos=%{y}<extra></extra>",
         "hovertext": [
          "January",
          "February",
          "March",
          "April",
          "May",
          "June",
          "July",
          "August",
          "September",
          "October",
          "November",
          "December"
         ],
         "legendgroup": "2018",
         "line": {
          "color": "#2CA02C",
          "dash": "solid"
         },
         "mode": "lines",
         "name": "2018",
         "orientation": "v",
         "showlegend": true,
         "type": "scatter",
         "x": [
          "January",
          "February",
          "March",
          "April",
          "May",
          "June",
          "July",
          "August",
          "September",
          "October",
          "November",
          "December"
         ],
         "xaxis": "x",
         "y": [
          9535,
          9044,
          10437,
          9170,
          10080,
          8967,
          9161,
          10179,
          10006,
          10303,
          10539,
          11012
         ],
         "yaxis": "y"
        },
        {
         "hovertemplate": "<b>%{hovertext}</b><br><br>Año=2019<br>mes_nombre=%{x}<br>Cantidad de delitos=%{y}<extra></extra>",
         "hovertext": [
          "January",
          "February",
          "March",
          "April",
          "May",
          "June",
          "July",
          "August",
          "September",
          "October",
          "November",
          "December"
         ],
         "legendgroup": "2019",
         "line": {
          "color": "#D62728",
          "dash": "solid"
         },
         "mode": "lines",
         "name": "2019",
         "orientation": "v",
         "showlegend": true,
         "type": "scatter",
         "x": [
          "January",
          "February",
          "March",
          "April",
          "May",
          "June",
          "July",
          "August",
          "September",
          "October",
          "November",
          "December"
         ],
         "xaxis": "x",
         "y": [
          10463,
          10078,
          11174,
          10171,
          10385,
          9555,
          9886,
          10103,
          9888,
          10219,
          10090,
          9780
         ],
         "yaxis": "y"
        },
        {
         "hovertemplate": "<b>%{hovertext}</b><br><br>Año=2020<br>mes_nombre=%{x}<br>Cantidad de delitos=%{y}<extra></extra>",
         "hovertext": [
          "January",
          "February",
          "March",
          "April",
          "May",
          "June",
          "July",
          "August",
          "September",
          "October",
          "November",
          "December"
         ],
         "legendgroup": "2020",
         "line": {
          "color": "#9467BD",
          "dash": "solid"
         },
         "mode": "lines",
         "name": "2020",
         "orientation": "v",
         "showlegend": true,
         "type": "scatter",
         "x": [
          "January",
          "February",
          "March",
          "April",
          "May",
          "June",
          "July",
          "August",
          "September",
          "October",
          "November",
          "December"
         ],
         "xaxis": "x",
         "y": [
          9817,
          9353,
          6006,
          1900,
          3088,
          3701,
          4080,
          4615,
          4952,
          5707,
          6475,
          6609
         ],
         "yaxis": "y"
        }
       ],
       "layout": {
        "autosize": true,
        "legend": {
         "title": {
          "text": "Año"
         },
         "tracegroupgap": 0
        },
        "template": {
         "data": {
          "bar": [
           {
            "error_x": {
             "color": "rgb(36,36,36)"
            },
            "error_y": {
             "color": "rgb(36,36,36)"
            },
            "marker": {
             "line": {
              "color": "white",
              "width": 0.5
             },
             "pattern": {
              "fillmode": "overlay",
              "size": 10,
              "solidity": 0.2
             }
            },
            "type": "bar"
           }
          ],
          "barpolar": [
           {
            "marker": {
             "line": {
              "color": "white",
              "width": 0.5
             },
             "pattern": {
              "fillmode": "overlay",
              "size": 10,
              "solidity": 0.2
             }
            },
            "type": "barpolar"
           }
          ],
          "carpet": [
           {
            "aaxis": {
             "endlinecolor": "rgb(36,36,36)",
             "gridcolor": "white",
             "linecolor": "white",
             "minorgridcolor": "white",
             "startlinecolor": "rgb(36,36,36)"
            },
            "baxis": {
             "endlinecolor": "rgb(36,36,36)",
             "gridcolor": "white",
             "linecolor": "white",
             "minorgridcolor": "white",
             "startlinecolor": "rgb(36,36,36)"
            },
            "type": "carpet"
           }
          ],
          "choropleth": [
           {
            "colorbar": {
             "outlinewidth": 1,
             "tickcolor": "rgb(36,36,36)",
             "ticks": "outside"
            },
            "type": "choropleth"
           }
          ],
          "contour": [
           {
            "colorbar": {
             "outlinewidth": 1,
             "tickcolor": "rgb(36,36,36)",
             "ticks": "outside"
            },
            "colorscale": [
             [
              0,
              "#440154"
             ],
             [
              0.1111111111111111,
              "#482878"
             ],
             [
              0.2222222222222222,
              "#3e4989"
             ],
             [
              0.3333333333333333,
              "#31688e"
             ],
             [
              0.4444444444444444,
              "#26828e"
             ],
             [
              0.5555555555555556,
              "#1f9e89"
             ],
             [
              0.6666666666666666,
              "#35b779"
             ],
             [
              0.7777777777777778,
              "#6ece58"
             ],
             [
              0.8888888888888888,
              "#b5de2b"
             ],
             [
              1,
              "#fde725"
             ]
            ],
            "type": "contour"
           }
          ],
          "contourcarpet": [
           {
            "colorbar": {
             "outlinewidth": 1,
             "tickcolor": "rgb(36,36,36)",
             "ticks": "outside"
            },
            "type": "contourcarpet"
           }
          ],
          "heatmap": [
           {
            "colorbar": {
             "outlinewidth": 1,
             "tickcolor": "rgb(36,36,36)",
             "ticks": "outside"
            },
            "colorscale": [
             [
              0,
              "#440154"
             ],
             [
              0.1111111111111111,
              "#482878"
             ],
             [
              0.2222222222222222,
              "#3e4989"
             ],
             [
              0.3333333333333333,
              "#31688e"
             ],
             [
              0.4444444444444444,
              "#26828e"
             ],
             [
              0.5555555555555556,
              "#1f9e89"
             ],
             [
              0.6666666666666666,
              "#35b779"
             ],
             [
              0.7777777777777778,
              "#6ece58"
             ],
             [
              0.8888888888888888,
              "#b5de2b"
             ],
             [
              1,
              "#fde725"
             ]
            ],
            "type": "heatmap"
           }
          ],
          "heatmapgl": [
           {
            "colorbar": {
             "outlinewidth": 1,
             "tickcolor": "rgb(36,36,36)",
             "ticks": "outside"
            },
            "colorscale": [
             [
              0,
              "#440154"
             ],
             [
              0.1111111111111111,
              "#482878"
             ],
             [
              0.2222222222222222,
              "#3e4989"
             ],
             [
              0.3333333333333333,
              "#31688e"
             ],
             [
              0.4444444444444444,
              "#26828e"
             ],
             [
              0.5555555555555556,
              "#1f9e89"
             ],
             [
              0.6666666666666666,
              "#35b779"
             ],
             [
              0.7777777777777778,
              "#6ece58"
             ],
             [
              0.8888888888888888,
              "#b5de2b"
             ],
             [
              1,
              "#fde725"
             ]
            ],
            "type": "heatmapgl"
           }
          ],
          "histogram": [
           {
            "marker": {
             "line": {
              "color": "white",
              "width": 0.6
             }
            },
            "type": "histogram"
           }
          ],
          "histogram2d": [
           {
            "colorbar": {
             "outlinewidth": 1,
             "tickcolor": "rgb(36,36,36)",
             "ticks": "outside"
            },
            "colorscale": [
             [
              0,
              "#440154"
             ],
             [
              0.1111111111111111,
              "#482878"
             ],
             [
              0.2222222222222222,
              "#3e4989"
             ],
             [
              0.3333333333333333,
              "#31688e"
             ],
             [
              0.4444444444444444,
              "#26828e"
             ],
             [
              0.5555555555555556,
              "#1f9e89"
             ],
             [
              0.6666666666666666,
              "#35b779"
             ],
             [
              0.7777777777777778,
              "#6ece58"
             ],
             [
              0.8888888888888888,
              "#b5de2b"
             ],
             [
              1,
              "#fde725"
             ]
            ],
            "type": "histogram2d"
           }
          ],
          "histogram2dcontour": [
           {
            "colorbar": {
             "outlinewidth": 1,
             "tickcolor": "rgb(36,36,36)",
             "ticks": "outside"
            },
            "colorscale": [
             [
              0,
              "#440154"
             ],
             [
              0.1111111111111111,
              "#482878"
             ],
             [
              0.2222222222222222,
              "#3e4989"
             ],
             [
              0.3333333333333333,
              "#31688e"
             ],
             [
              0.4444444444444444,
              "#26828e"
             ],
             [
              0.5555555555555556,
              "#1f9e89"
             ],
             [
              0.6666666666666666,
              "#35b779"
             ],
             [
              0.7777777777777778,
              "#6ece58"
             ],
             [
              0.8888888888888888,
              "#b5de2b"
             ],
             [
              1,
              "#fde725"
             ]
            ],
            "type": "histogram2dcontour"
           }
          ],
          "mesh3d": [
           {
            "colorbar": {
             "outlinewidth": 1,
             "tickcolor": "rgb(36,36,36)",
             "ticks": "outside"
            },
            "type": "mesh3d"
           }
          ],
          "parcoords": [
           {
            "line": {
             "colorbar": {
              "outlinewidth": 1,
              "tickcolor": "rgb(36,36,36)",
              "ticks": "outside"
             }
            },
            "type": "parcoords"
           }
          ],
          "pie": [
           {
            "automargin": true,
            "type": "pie"
           }
          ],
          "scatter": [
           {
            "marker": {
             "colorbar": {
              "outlinewidth": 1,
              "tickcolor": "rgb(36,36,36)",
              "ticks": "outside"
             }
            },
            "type": "scatter"
           }
          ],
          "scatter3d": [
           {
            "line": {
             "colorbar": {
              "outlinewidth": 1,
              "tickcolor": "rgb(36,36,36)",
              "ticks": "outside"
             }
            },
            "marker": {
             "colorbar": {
              "outlinewidth": 1,
              "tickcolor": "rgb(36,36,36)",
              "ticks": "outside"
             }
            },
            "type": "scatter3d"
           }
          ],
          "scattercarpet": [
           {
            "marker": {
             "colorbar": {
              "outlinewidth": 1,
              "tickcolor": "rgb(36,36,36)",
              "ticks": "outside"
             }
            },
            "type": "scattercarpet"
           }
          ],
          "scattergeo": [
           {
            "marker": {
             "colorbar": {
              "outlinewidth": 1,
              "tickcolor": "rgb(36,36,36)",
              "ticks": "outside"
             }
            },
            "type": "scattergeo"
           }
          ],
          "scattergl": [
           {
            "marker": {
             "colorbar": {
              "outlinewidth": 1,
              "tickcolor": "rgb(36,36,36)",
              "ticks": "outside"
             }
            },
            "type": "scattergl"
           }
          ],
          "scattermapbox": [
           {
            "marker": {
             "colorbar": {
              "outlinewidth": 1,
              "tickcolor": "rgb(36,36,36)",
              "ticks": "outside"
             }
            },
            "type": "scattermapbox"
           }
          ],
          "scatterpolar": [
           {
            "marker": {
             "colorbar": {
              "outlinewidth": 1,
              "tickcolor": "rgb(36,36,36)",
              "ticks": "outside"
             }
            },
            "type": "scatterpolar"
           }
          ],
          "scatterpolargl": [
           {
            "marker": {
             "colorbar": {
              "outlinewidth": 1,
              "tickcolor": "rgb(36,36,36)",
              "ticks": "outside"
             }
            },
            "type": "scatterpolargl"
           }
          ],
          "scatterternary": [
           {
            "marker": {
             "colorbar": {
              "outlinewidth": 1,
              "tickcolor": "rgb(36,36,36)",
              "ticks": "outside"
             }
            },
            "type": "scatterternary"
           }
          ],
          "surface": [
           {
            "colorbar": {
             "outlinewidth": 1,
             "tickcolor": "rgb(36,36,36)",
             "ticks": "outside"
            },
            "colorscale": [
             [
              0,
              "#440154"
             ],
             [
              0.1111111111111111,
              "#482878"
             ],
             [
              0.2222222222222222,
              "#3e4989"
             ],
             [
              0.3333333333333333,
              "#31688e"
             ],
             [
              0.4444444444444444,
              "#26828e"
             ],
             [
              0.5555555555555556,
              "#1f9e89"
             ],
             [
              0.6666666666666666,
              "#35b779"
             ],
             [
              0.7777777777777778,
              "#6ece58"
             ],
             [
              0.8888888888888888,
              "#b5de2b"
             ],
             [
              1,
              "#fde725"
             ]
            ],
            "type": "surface"
           }
          ],
          "table": [
           {
            "cells": {
             "fill": {
              "color": "rgb(237,237,237)"
             },
             "line": {
              "color": "white"
             }
            },
            "header": {
             "fill": {
              "color": "rgb(217,217,217)"
             },
             "line": {
              "color": "white"
             }
            },
            "type": "table"
           }
          ]
         },
         "layout": {
          "annotationdefaults": {
           "arrowhead": 0,
           "arrowwidth": 1
          },
          "autotypenumbers": "strict",
          "coloraxis": {
           "colorbar": {
            "outlinewidth": 1,
            "tickcolor": "rgb(36,36,36)",
            "ticks": "outside"
           }
          },
          "colorscale": {
           "diverging": [
            [
             0,
             "rgb(103,0,31)"
            ],
            [
             0.1,
             "rgb(178,24,43)"
            ],
            [
             0.2,
             "rgb(214,96,77)"
            ],
            [
             0.3,
             "rgb(244,165,130)"
            ],
            [
             0.4,
             "rgb(253,219,199)"
            ],
            [
             0.5,
             "rgb(247,247,247)"
            ],
            [
             0.6,
             "rgb(209,229,240)"
            ],
            [
             0.7,
             "rgb(146,197,222)"
            ],
            [
             0.8,
             "rgb(67,147,195)"
            ],
            [
             0.9,
             "rgb(33,102,172)"
            ],
            [
             1,
             "rgb(5,48,97)"
            ]
           ],
           "sequential": [
            [
             0,
             "#440154"
            ],
            [
             0.1111111111111111,
             "#482878"
            ],
            [
             0.2222222222222222,
             "#3e4989"
            ],
            [
             0.3333333333333333,
             "#31688e"
            ],
            [
             0.4444444444444444,
             "#26828e"
            ],
            [
             0.5555555555555556,
             "#1f9e89"
            ],
            [
             0.6666666666666666,
             "#35b779"
            ],
            [
             0.7777777777777778,
             "#6ece58"
            ],
            [
             0.8888888888888888,
             "#b5de2b"
            ],
            [
             1,
             "#fde725"
            ]
           ],
           "sequentialminus": [
            [
             0,
             "#440154"
            ],
            [
             0.1111111111111111,
             "#482878"
            ],
            [
             0.2222222222222222,
             "#3e4989"
            ],
            [
             0.3333333333333333,
             "#31688e"
            ],
            [
             0.4444444444444444,
             "#26828e"
            ],
            [
             0.5555555555555556,
             "#1f9e89"
            ],
            [
             0.6666666666666666,
             "#35b779"
            ],
            [
             0.7777777777777778,
             "#6ece58"
            ],
            [
             0.8888888888888888,
             "#b5de2b"
            ],
            [
             1,
             "#fde725"
            ]
           ]
          },
          "colorway": [
           "#1F77B4",
           "#FF7F0E",
           "#2CA02C",
           "#D62728",
           "#9467BD",
           "#8C564B",
           "#E377C2",
           "#7F7F7F",
           "#BCBD22",
           "#17BECF"
          ],
          "font": {
           "color": "rgb(36,36,36)"
          },
          "geo": {
           "bgcolor": "white",
           "lakecolor": "white",
           "landcolor": "white",
           "showlakes": true,
           "showland": true,
           "subunitcolor": "white"
          },
          "hoverlabel": {
           "align": "left"
          },
          "hovermode": "closest",
          "mapbox": {
           "style": "light"
          },
          "paper_bgcolor": "white",
          "plot_bgcolor": "white",
          "polar": {
           "angularaxis": {
            "gridcolor": "rgb(232,232,232)",
            "linecolor": "rgb(36,36,36)",
            "showgrid": false,
            "showline": true,
            "ticks": "outside"
           },
           "bgcolor": "white",
           "radialaxis": {
            "gridcolor": "rgb(232,232,232)",
            "linecolor": "rgb(36,36,36)",
            "showgrid": false,
            "showline": true,
            "ticks": "outside"
           }
          },
          "scene": {
           "xaxis": {
            "backgroundcolor": "white",
            "gridcolor": "rgb(232,232,232)",
            "gridwidth": 2,
            "linecolor": "rgb(36,36,36)",
            "showbackground": true,
            "showgrid": false,
            "showline": true,
            "ticks": "outside",
            "zeroline": false,
            "zerolinecolor": "rgb(36,36,36)"
           },
           "yaxis": {
            "backgroundcolor": "white",
            "gridcolor": "rgb(232,232,232)",
            "gridwidth": 2,
            "linecolor": "rgb(36,36,36)",
            "showbackground": true,
            "showgrid": false,
            "showline": true,
            "ticks": "outside",
            "zeroline": false,
            "zerolinecolor": "rgb(36,36,36)"
           },
           "zaxis": {
            "backgroundcolor": "white",
            "gridcolor": "rgb(232,232,232)",
            "gridwidth": 2,
            "linecolor": "rgb(36,36,36)",
            "showbackground": true,
            "showgrid": false,
            "showline": true,
            "ticks": "outside",
            "zeroline": false,
            "zerolinecolor": "rgb(36,36,36)"
           }
          },
          "shapedefaults": {
           "fillcolor": "black",
           "line": {
            "width": 0
           },
           "opacity": 0.3
          },
          "ternary": {
           "aaxis": {
            "gridcolor": "rgb(232,232,232)",
            "linecolor": "rgb(36,36,36)",
            "showgrid": false,
            "showline": true,
            "ticks": "outside"
           },
           "baxis": {
            "gridcolor": "rgb(232,232,232)",
            "linecolor": "rgb(36,36,36)",
            "showgrid": false,
            "showline": true,
            "ticks": "outside"
           },
           "bgcolor": "white",
           "caxis": {
            "gridcolor": "rgb(232,232,232)",
            "linecolor": "rgb(36,36,36)",
            "showgrid": false,
            "showline": true,
            "ticks": "outside"
           }
          },
          "title": {
           "x": 0.05
          },
          "xaxis": {
           "automargin": true,
           "gridcolor": "rgb(232,232,232)",
           "linecolor": "rgb(36,36,36)",
           "showgrid": false,
           "showline": true,
           "ticks": "outside",
           "title": {
            "standoff": 15
           },
           "zeroline": false,
           "zerolinecolor": "rgb(36,36,36)"
          },
          "yaxis": {
           "automargin": true,
           "gridcolor": "rgb(232,232,232)",
           "linecolor": "rgb(36,36,36)",
           "showgrid": false,
           "showline": true,
           "ticks": "outside",
           "title": {
            "standoff": 15
           },
           "zeroline": false,
           "zerolinecolor": "rgb(36,36,36)"
          }
         }
        },
        "title": {
         "text": "Delitos por mes CABA"
        },
        "xaxis": {
         "anchor": "y",
         "autorange": true,
         "domain": [
          0,
          1
         ],
         "range": [
          0,
          11
         ],
         "title": {
          "text": "mes_nombre"
         },
         "type": "category"
        },
        "yaxis": {
         "anchor": "x",
         "autorange": true,
         "domain": [
          0,
          1
         ],
         "range": [
          3.2358554211760193,
          4.093819016712212
         ],
         "title": {
          "text": "Cantidad de delitos"
         },
         "type": "log"
        }
       }
      },
      "image/png": "[encoded data removed]",
      "text/html": [
       "<div>                            <div id=\"6357cf08-f94a-421b-8fdb-f2bcb9a9a444\" class=\"plotly-graph-div\" style=\"height:500px; width:100%;\"></div>            <script type=\"text/javascript\">                require([\"plotly\"], function(Plotly) {                    window.PLOTLYENV=window.PLOTLYENV || {};                                    if (document.getElementById(\"6357cf08-f94a-421b-8fdb-f2bcb9a9a444\")) {                    Plotly.newPlot(                        \"6357cf08-f94a-421b-8fdb-f2bcb9a9a444\",                        [{\"hovertemplate\":\"<b>%{hovertext}</b><br><br>A\\u00f1o=2016<br>mes_nombre=%{x}<br>Cantidad de delitos=%{y}<extra></extra>\",\"hovertext\":[\"January\",\"February\",\"March\",\"April\",\"May\",\"June\",\"July\",\"August\",\"September\",\"October\",\"November\",\"December\"],\"legendgroup\":\"2016\",\"line\":{\"color\":\"#1F77B4\",\"dash\":\"solid\"},\"mode\":\"lines\",\"name\":\"2016\",\"orientation\":\"v\",\"showlegend\":true,\"type\":\"scatter\",\"x\":[\"January\",\"February\",\"March\",\"April\",\"May\",\"June\",\"July\",\"August\",\"September\",\"October\",\"November\",\"December\"],\"xaxis\":\"x\",\"y\":[9787,9659,10786,10536,10813,10082,10641,10907,10361,10780,11244,10361],\"yaxis\":\"y\"},{\"hovertemplate\":\"<b>%{hovertext}</b><br><br>A\\u00f1o=2017<br>mes_nombre=%{x}<br>Cantidad de delitos=%{y}<extra></extra>\",\"hovertext\":[\"January\",\"February\",\"March\",\"April\",\"May\",\"June\",\"July\",\"August\",\"September\",\"October\",\"November\",\"December\"],\"legendgroup\":\"2017\",\"line\":{\"color\":\"#FF7F0E\",\"dash\":\"solid\"},\"mode\":\"lines\",\"name\":\"2017\",\"orientation\":\"v\",\"showlegend\":true,\"type\":\"scatter\",\"x\":[\"January\",\"February\",\"March\",\"April\",\"May\",\"June\",\"July\",\"August\",\"September\",\"October\",\"November\",\"December\"],\"xaxis\":\"x\",\"y\":[9855,8933,11148,9950,10016,9408,9133,9584,9329,10248,11074,10045],\"yaxis\":\"y\"},{\"hovertemplate\":\"<b>%{hovertext}</b><br><br>A\\u00f1o=2018<br>mes_nombre=%{x}<br>Cantidad de delitos=%{y}<extra></extra>\",\"hovertext\":[\"January\",\"February\",\"March\",\"April\",\"May\",\"June\",\"July\",\"August\",\"September\",\"October\",\"November\",\"December\"],\"legendgroup\":\"2018\",\"line\":{\"color\":\"#2CA02C\",\"dash\":\"solid\"},\"mode\":\"lines\",\"name\":\"2018\",\"orientation\":\"v\",\"showlegend\":true,\"type\":\"scatter\",\"x\":[\"January\",\"February\",\"March\",\"April\",\"May\",\"June\",\"July\",\"August\",\"September\",\"October\",\"November\",\"December\"],\"xaxis\":\"x\",\"y\":[9535,9044,10437,9170,10080,8967,9161,10179,10006,10303,10539,11012],\"yaxis\":\"y\"},{\"hovertemplate\":\"<b>%{hovertext}</b><br><br>A\\u00f1o=2019<br>mes_nombre=%{x}<br>Cantidad de delitos=%{y}<extra></extra>\",\"hovertext\":[\"January\",\"February\",\"March\",\"April\",\"May\",\"June\",\"July\",\"August\",\"September\",\"October\",\"November\",\"December\"],\"legendgroup\":\"2019\",\"line\":{\"color\":\"#D62728\",\"dash\":\"solid\"},\"mode\":\"lines\",\"name\":\"2019\",\"orientation\":\"v\",\"showlegend\":true,\"type\":\"scatter\",\"x\":[\"January\",\"February\",\"March\",\"April\",\"May\",\"June\",\"July\",\"August\",\"September\",\"October\",\"November\",\"December\"],\"xaxis\":\"x\",\"y\":[10463,10078,11174,10171,10385,9555,9886,10103,9888,10219,10090,9780],\"yaxis\":\"y\"},{\"hovertemplate\":\"<b>%{hovertext}</b><br><br>A\\u00f1o=2020<br>mes_nombre=%{x}<br>Cantidad de delitos=%{y}<extra></extra>\",\"hovertext\":[\"January\",\"February\",\"March\",\"April\",\"May\",\"June\",\"July\",\"August\",\"September\",\"October\",\"November\",\"December\"],\"legendgroup\":\"2020\",\"line\":{\"color\":\"#9467BD\",\"dash\":\"solid\"},\"mode\":\"lines\",\"name\":\"2020\",\"orientation\":\"v\",\"showlegend\":true,\"type\":\"scatter\",\"x\":[\"January\",\"February\",\"March\",\"April\",\"May\",\"June\",\"July\",\"August\",\"September\",\"October\",\"November\",\"December\"],\"xaxis\":\"x\",\"y\":[9817,9353,6006,1900,3088,3701,4080,4615,4952,5707,6475,6609],\"yaxis\":\"y\"}],                        {\"height\":500,\"legend\":{\"title\":{\"text\":\"A\\u00f1o\"},\"tracegroupgap\":0},\"template\":{\"data\":{\"bar\":[{\"error_x\":{\"color\":\"rgb(36,36,36)\"},\"error_y\":{\"color\":\"rgb(36,36,36)\"},\"marker\":{\"line\":{\"color\":\"white\",\"width\":0.5},\"pattern\":{\"fillmode\":\"overlay\",\"size\":10,\"solidity\":0.2}},\"type\":\"bar\"}],\"barpolar\":[{\"marker\":{\"line\":{\"color\":\"white\",\"width\":0.5},\"pattern\":{\"fillmode\":\"overlay\",\"size\":10,\"solidity\":0.2}},\"type\":\"barpolar\"}],\"carpet\":[{\"aaxis\":{\"endlinecolor\":\"rgb(36,36,36)\",\"gridcolor\":\"white\",\"linecolor\":\"white\",\"minorgridcolor\":\"white\",\"startlinecolor\":\"rgb(36,36,36)\"},\"baxis\":{\"endlinecolor\":\"rgb(36,36,36)\",\"gridcolor\":\"white\",\"linecolor\":\"white\",\"minorgridcolor\":\"white\",\"startlinecolor\":\"rgb(36,36,36)\"},\"type\":\"carpet\"}],\"choropleth\":[{\"colorbar\":{\"outlinewidth\":1,\"tickcolor\":\"rgb(36,36,36)\",\"ticks\":\"outside\"},\"type\":\"choropleth\"}],\"contour\":[{\"colorbar\":{\"outlinewidth\":1,\"tickcolor\":\"rgb(36,36,36)\",\"ticks\":\"outside\"},\"colorscale\":[[0.0,\"#440154\"],[0.1111111111111111,\"#482878\"],[0.2222222222222222,\"#3e4989\"],[0.3333333333333333,\"#31688e\"],[0.4444444444444444,\"#26828e\"],[0.5555555555555556,\"#1f9e89\"],[0.6666666666666666,\"#35b779\"],[0.7777777777777778,\"#6ece58\"],[0.8888888888888888,\"#b5de2b\"],[1.0,\"#fde725\"]],\"type\":\"contour\"}],\"contourcarpet\":[{\"colorbar\":{\"outlinewidth\":1,\"tickcolor\":\"rgb(36,36,36)\",\"ticks\":\"outside\"},\"type\":\"contourcarpet\"}],\"heatmap\":[{\"colorbar\":{\"outlinewidth\":1,\"tickcolor\":\"rgb(36,36,36)\",\"ticks\":\"outside\"},\"colorscale\":[[0.0,\"#440154\"],[0.1111111111111111,\"#482878\"],[0.2222222222222222,\"#3e4989\"],[0.3333333333333333,\"#31688e\"],[0.4444444444444444,\"#26828e\"],[0.5555555555555556,\"#1f9e89\"],[0.6666666666666666,\"#35b779\"],[0.7777777777777778,\"#6ece58\"],[0.8888888888888888,\"#b5de2b\"],[1.0,\"#fde725\"]],\"type\":\"heatmap\"}],\"heatmapgl\":[{\"colorbar\":{\"outlinewidth\":1,\"tickcolor\":\"rgb(36,36,36)\",\"ticks\":\"outside\"},\"colorscale\":[[0.0,\"#440154\"],[0.1111111111111111,\"#482878\"],[0.2222222222222222,\"#3e4989\"],[0.3333333333333333,\"#31688e\"],[0.4444444444444444,\"#26828e\"],[0.5555555555555556,\"#1f9e89\"],[0.6666666666666666,\"#35b779\"],[0.7777777777777778,\"#6ece58\"],[0.8888888888888888,\"#b5de2b\"],[1.0,\"#fde725\"]],\"type\":\"heatmapgl\"}],\"histogram\":[{\"marker\":{\"line\":{\"color\":\"white\",\"width\":0.6}},\"type\":\"histogram\"}],\"histogram2d\":[{\"colorbar\":{\"outlinewidth\":1,\"tickcolor\":\"rgb(36,36,36)\",\"ticks\":\"outside\"},\"colorscale\":[[0.0,\"#440154\"],[0.1111111111111111,\"#482878\"],[0.2222222222222222,\"#3e4989\"],[0.3333333333333333,\"#31688e\"],[0.4444444444444444,\"#26828e\"],[0.5555555555555556,\"#1f9e89\"],[0.6666666666666666,\"#35b779\"],[0.7777777777777778,\"#6ece58\"],[0.8888888888888888,\"#b5de2b\"],[1.0,\"#fde725\"]],\"type\":\"histogram2d\"}],\"histogram2dcontour\":[{\"colorbar\":{\"outlinewidth\":1,\"tickcolor\":\"rgb(36,36,36)\",\"ticks\":\"outside\"},\"colorscale\":[[0.0,\"#440154\"],[0.1111111111111111,\"#482878\"],[0.2222222222222222,\"#3e4989\"],[0.3333333333333333,\"#31688e\"],[0.4444444444444444,\"#26828e\"],[0.5555555555555556,\"#1f9e89\"],[0.6666666666666666,\"#35b779\"],[0.7777777777777778,\"#6ece58\"],[0.8888888888888888,\"#b5de2b\"],[1.0,\"#fde725\"]],\"type\":\"histogram2dcontour\"}],\"mesh3d\":[{\"colorbar\":{\"outlinewidth\":1,\"tickcolor\":\"rgb(36,36,36)\",\"ticks\":\"outside\"},\"type\":\"mesh3d\"}],\"parcoords\":[{\"line\":{\"colorbar\":{\"outlinewidth\":1,\"tickcolor\":\"rgb(36,36,36)\",\"ticks\":\"outside\"}},\"type\":\"parcoords\"}],\"pie\":[{\"automargin\":true,\"type\":\"pie\"}],\"scatter\":[{\"marker\":{\"colorbar\":{\"outlinewidth\":1,\"tickcolor\":\"rgb(36,36,36)\",\"ticks\":\"outside\"}},\"type\":\"scatter\"}],\"scatter3d\":[{\"line\":{\"colorbar\":{\"outlinewidth\":1,\"tickcolor\":\"rgb(36,36,36)\",\"ticks\":\"outside\"}},\"marker\":{\"colorbar\":{\"outlinewidth\":1,\"tickcolor\":\"rgb(36,36,36)\",\"ticks\":\"outside\"}},\"type\":\"scatter3d\"}],\"scattercarpet\":[{\"marker\":{\"colorbar\":{\"outlinewidth\":1,\"tickcolor\":\"rgb(36,36,36)\",\"ticks\":\"outside\"}},\"type\":\"scattercarpet\"}],\"scattergeo\":[{\"marker\":{\"colorbar\":{\"outlinewidth\":1,\"tickcolor\":\"rgb(36,36,36)\",\"ticks\":\"outside\"}},\"type\":\"scattergeo\"}],\"scattergl\":[{\"marker\":{\"colorbar\":{\"outlinewidth\":1,\"tickcolor\":\"rgb(36,36,36)\",\"ticks\":\"outside\"}},\"type\":\"scattergl\"}],\"scattermapbox\":[{\"marker\":{\"colorbar\":{\"outlinewidth\":1,\"tickcolor\":\"rgb(36,36,36)\",\"ticks\":\"outside\"}},\"type\":\"scattermapbox\"}],\"scatterpolar\":[{\"marker\":{\"colorbar\":{\"outlinewidth\":1,\"tickcolor\":\"rgb(36,36,36)\",\"ticks\":\"outside\"}},\"type\":\"scatterpolar\"}],\"scatterpolargl\":[{\"marker\":{\"colorbar\":{\"outlinewidth\":1,\"tickcolor\":\"rgb(36,36,36)\",\"ticks\":\"outside\"}},\"type\":\"scatterpolargl\"}],\"scatterternary\":[{\"marker\":{\"colorbar\":{\"outlinewidth\":1,\"tickcolor\":\"rgb(36,36,36)\",\"ticks\":\"outside\"}},\"type\":\"scatterternary\"}],\"surface\":[{\"colorbar\":{\"outlinewidth\":1,\"tickcolor\":\"rgb(36,36,36)\",\"ticks\":\"outside\"},\"colorscale\":[[0.0,\"#440154\"],[0.1111111111111111,\"#482878\"],[0.2222222222222222,\"#3e4989\"],[0.3333333333333333,\"#31688e\"],[0.4444444444444444,\"#26828e\"],[0.5555555555555556,\"#1f9e89\"],[0.6666666666666666,\"#35b779\"],[0.7777777777777778,\"#6ece58\"],[0.8888888888888888,\"#b5de2b\"],[1.0,\"#fde725\"]],\"type\":\"surface\"}],\"table\":[{\"cells\":{\"fill\":{\"color\":\"rgb(237,237,237)\"},\"line\":{\"color\":\"white\"}},\"header\":{\"fill\":{\"color\":\"rgb(217,217,217)\"},\"line\":{\"color\":\"white\"}},\"type\":\"table\"}]},\"layout\":{\"annotationdefaults\":{\"arrowhead\":0,\"arrowwidth\":1},\"autotypenumbers\":\"strict\",\"coloraxis\":{\"colorbar\":{\"outlinewidth\":1,\"tickcolor\":\"rgb(36,36,36)\",\"ticks\":\"outside\"}},\"colorscale\":{\"diverging\":[[0.0,\"rgb(103,0,31)\"],[0.1,\"rgb(178,24,43)\"],[0.2,\"rgb(214,96,77)\"],[0.3,\"rgb(244,165,130)\"],[0.4,\"rgb(253,219,199)\"],[0.5,\"rgb(247,247,247)\"],[0.6,\"rgb(209,229,240)\"],[0.7,\"rgb(146,197,222)\"],[0.8,\"rgb(67,147,195)\"],[0.9,\"rgb(33,102,172)\"],[1.0,\"rgb(5,48,97)\"]],\"sequential\":[[0.0,\"#440154\"],[0.1111111111111111,\"#482878\"],[0.2222222222222222,\"#3e4989\"],[0.3333333333333333,\"#31688e\"],[0.4444444444444444,\"#26828e\"],[0.5555555555555556,\"#1f9e89\"],[0.6666666666666666,\"#35b779\"],[0.7777777777777778,\"#6ece58\"],[0.8888888888888888,\"#b5de2b\"],[1.0,\"#fde725\"]],\"sequentialminus\":[[0.0,\"#440154\"],[0.1111111111111111,\"#482878\"],[0.2222222222222222,\"#3e4989\"],[0.3333333333333333,\"#31688e\"],[0.4444444444444444,\"#26828e\"],[0.5555555555555556,\"#1f9e89\"],[0.6666666666666666,\"#35b779\"],[0.7777777777777778,\"#6ece58\"],[0.8888888888888888,\"#b5de2b\"],[1.0,\"#fde725\"]]},\"colorway\":[\"#1F77B4\",\"#FF7F0E\",\"#2CA02C\",\"#D62728\",\"#9467BD\",\"#8C564B\",\"#E377C2\",\"#7F7F7F\",\"#BCBD22\",\"#17BECF\"],\"font\":{\"color\":\"rgb(36,36,36)\"},\"geo\":{\"bgcolor\":\"white\",\"lakecolor\":\"white\",\"landcolor\":\"white\",\"showlakes\":true,\"showland\":true,\"subunitcolor\":\"white\"},\"hoverlabel\":{\"align\":\"left\"},\"hovermode\":\"closest\",\"mapbox\":{\"style\":\"light\"},\"paper_bgcolor\":\"white\",\"plot_bgcolor\":\"white\",\"polar\":{\"angularaxis\":{\"gridcolor\":\"rgb(232,232,232)\",\"linecolor\":\"rgb(36,36,36)\",\"showgrid\":false,\"showline\":true,\"ticks\":\"outside\"},\"bgcolor\":\"white\",\"radialaxis\":{\"gridcolor\":\"rgb(232,232,232)\",\"linecolor\":\"rgb(36,36,36)\",\"showgrid\":false,\"showline\":true,\"ticks\":\"outside\"}},\"scene\":{\"xaxis\":{\"backgroundcolor\":\"white\",\"gridcolor\":\"rgb(232,232,232)\",\"gridwidth\":2,\"linecolor\":\"rgb(36,36,36)\",\"showbackground\":true,\"showgrid\":false,\"showline\":true,\"ticks\":\"outside\",\"zeroline\":false,\"zerolinecolor\":\"rgb(36,36,36)\"},\"yaxis\":{\"backgroundcolor\":\"white\",\"gridcolor\":\"rgb(232,232,232)\",\"gridwidth\":2,\"linecolor\":\"rgb(36,36,36)\",\"showbackground\":true,\"showgrid\":false,\"showline\":true,\"ticks\":\"outside\",\"zeroline\":false,\"zerolinecolor\":\"rgb(36,36,36)\"},\"zaxis\":{\"backgroundcolor\":\"white\",\"gridcolor\":\"rgb(232,232,232)\",\"gridwidth\":2,\"linecolor\":\"rgb(36,36,36)\",\"showbackground\":true,\"showgrid\":false,\"showline\":true,\"ticks\":\"outside\",\"zeroline\":false,\"zerolinecolor\":\"rgb(36,36,36)\"}},\"shapedefaults\":{\"fillcolor\":\"black\",\"line\":{\"width\":0},\"opacity\":0.3},\"ternary\":{\"aaxis\":{\"gridcolor\":\"rgb(232,232,232)\",\"linecolor\":\"rgb(36,36,36)\",\"showgrid\":false,\"showline\":true,\"ticks\":\"outside\"},\"baxis\":{\"gridcolor\":\"rgb(232,232,232)\",\"linecolor\":\"rgb(36,36,36)\",\"showgrid\":false,\"showline\":true,\"ticks\":\"outside\"},\"bgcolor\":\"white\",\"caxis\":{\"gridcolor\":\"rgb(232,232,232)\",\"linecolor\":\"rgb(36,36,36)\",\"showgrid\":false,\"showline\":true,\"ticks\":\"outside\"}},\"title\":{\"x\":0.05},\"xaxis\":{\"automargin\":true,\"gridcolor\":\"rgb(232,232,232)\",\"linecolor\":\"rgb(36,36,36)\",\"showgrid\":false,\"showline\":true,\"ticks\":\"outside\",\"title\":{\"standoff\":15},\"zeroline\":false,\"zerolinecolor\":\"rgb(36,36,36)\"},\"yaxis\":{\"automargin\":true,\"gridcolor\":\"rgb(232,232,232)\",\"linecolor\":\"rgb(36,36,36)\",\"showgrid\":false,\"showline\":true,\"ticks\":\"outside\",\"title\":{\"standoff\":15},\"zeroline\":false,\"zerolinecolor\":\"rgb(36,36,36)\"}}},\"title\":{\"text\":\"Delitos por mes CABA\"},\"xaxis\":{\"anchor\":\"y\",\"domain\":[0.0,1.0],\"title\":{\"text\":\"mes_nombre\"}},\"yaxis\":{\"anchor\":\"x\",\"domain\":[0.0,1.0],\"title\":{\"text\":\"Cantidad de delitos\"},\"type\":\"log\"}},                        {\"responsive\": true}                    ).then(function(){\n",
       "                            \n",
       "var gd = document.getElementById('6357cf08-f94a-421b-8fdb-f2bcb9a9a444');\n",
       "var x = new MutationObserver(function (mutations, observer) {{\n",
       "        var display = window.getComputedStyle(gd).display;\n",
       "        if (!display || display === 'none') {{\n",
       "            console.log([gd, 'removed!']);\n",
       "            Plotly.purge(gd);\n",
       "            observer.disconnect();\n",
       "        }}\n",
       "}});\n",
       "\n",
       "// Listen for the removal of the full notebook cells\n",
       "var notebookContainer = gd.closest('#notebook-container');\n",
       "if (notebookContainer) {{\n",
       "    x.observe(notebookContainer, {childList: true});\n",
       "}}\n",
       "\n",
       "// Listen for the clearing of the current output cell\n",
       "var outputEl = gd.closest('.output');\n",
       "if (outputEl) {{\n",
       "    x.observe(outputEl, {childList: true});\n",
       "}}\n",
       "\n",
       "                        })                };                });            </script>        </div>"
      ]
     },
     "metadata": {},
     "output_type": "display_data"
    }
   ],
   "source": [
    "fig = px.line(df_mes, x = 'mes_nombre', y = 'count',\n",
    "            color = 'anio',\n",
    "            template = 'simple_white',\n",
    "            labels = {'count' : 'Cantidad de delitos', 'mes': 'Meses', 'anio':'Año'},\n",
    "            title = 'Delitos por mes CABA',\n",
    "            hover_name = 'mes_nombre',\n",
    "            height = 500, \n",
    "            log_y = True\n",
    "            )\n",
    "fig.show()"
   ]
  },
  {
   "cell_type": "code",
   "execution_count": 17,
   "id": "0b9aa96c-d287-43e1-b469-e354ab40f893",
   "metadata": {},
   "outputs": [
    {
     "data": {
      "text/html": [
       "<div>\n",
       "<style scoped>\n",
       "    .dataframe tbody tr th:only-of-type {\n",
       "        vertical-align: middle;\n",
       "    }\n",
       "\n",
       "    .dataframe tbody tr th {\n",
       "        vertical-align: top;\n",
       "    }\n",
       "\n",
       "    .dataframe thead th {\n",
       "        text-align: right;\n",
       "    }\n",
       "</style>\n",
       "<table border=\"1\" class=\"dataframe\">\n",
       "  <thead>\n",
       "    <tr style=\"text-align: right;\">\n",
       "      <th></th>\n",
       "      <th>anio</th>\n",
       "      <th>mes</th>\n",
       "      <th>mes_nombre</th>\n",
       "      <th>tipo_delito</th>\n",
       "      <th>count</th>\n",
       "    </tr>\n",
       "  </thead>\n",
       "  <tbody>\n",
       "    <tr>\n",
       "      <th>0</th>\n",
       "      <td>2016</td>\n",
       "      <td>1</td>\n",
       "      <td>January</td>\n",
       "      <td>Homicidio</td>\n",
       "      <td>25</td>\n",
       "    </tr>\n",
       "    <tr>\n",
       "      <th>1</th>\n",
       "      <td>2016</td>\n",
       "      <td>1</td>\n",
       "      <td>January</td>\n",
       "      <td>Hurto (sin violencia)</td>\n",
       "      <td>3574</td>\n",
       "    </tr>\n",
       "    <tr>\n",
       "      <th>2</th>\n",
       "      <td>2016</td>\n",
       "      <td>1</td>\n",
       "      <td>January</td>\n",
       "      <td>Lesiones</td>\n",
       "      <td>588</td>\n",
       "    </tr>\n",
       "    <tr>\n",
       "      <th>3</th>\n",
       "      <td>2016</td>\n",
       "      <td>1</td>\n",
       "      <td>January</td>\n",
       "      <td>Robo (con violencia)</td>\n",
       "      <td>5600</td>\n",
       "    </tr>\n",
       "    <tr>\n",
       "      <th>4</th>\n",
       "      <td>2016</td>\n",
       "      <td>2</td>\n",
       "      <td>February</td>\n",
       "      <td>Homicidio</td>\n",
       "      <td>25</td>\n",
       "    </tr>\n",
       "    <tr>\n",
       "      <th>...</th>\n",
       "      <td>...</td>\n",
       "      <td>...</td>\n",
       "      <td>...</td>\n",
       "      <td>...</td>\n",
       "      <td>...</td>\n",
       "    </tr>\n",
       "    <tr>\n",
       "      <th>235</th>\n",
       "      <td>2020</td>\n",
       "      <td>11</td>\n",
       "      <td>November</td>\n",
       "      <td>Robo (con violencia)</td>\n",
       "      <td>3298</td>\n",
       "    </tr>\n",
       "    <tr>\n",
       "      <th>236</th>\n",
       "      <td>2020</td>\n",
       "      <td>12</td>\n",
       "      <td>December</td>\n",
       "      <td>Homicidio</td>\n",
       "      <td>33</td>\n",
       "    </tr>\n",
       "    <tr>\n",
       "      <th>237</th>\n",
       "      <td>2020</td>\n",
       "      <td>12</td>\n",
       "      <td>December</td>\n",
       "      <td>Hurto (sin violencia)</td>\n",
       "      <td>2518</td>\n",
       "    </tr>\n",
       "    <tr>\n",
       "      <th>238</th>\n",
       "      <td>2020</td>\n",
       "      <td>12</td>\n",
       "      <td>December</td>\n",
       "      <td>Lesiones</td>\n",
       "      <td>668</td>\n",
       "    </tr>\n",
       "    <tr>\n",
       "      <th>239</th>\n",
       "      <td>2020</td>\n",
       "      <td>12</td>\n",
       "      <td>December</td>\n",
       "      <td>Robo (con violencia)</td>\n",
       "      <td>3390</td>\n",
       "    </tr>\n",
       "  </tbody>\n",
       "</table>\n",
       "<p>240 rows × 5 columns</p>\n",
       "</div>"
      ],
      "text/plain": [
       "     anio  mes mes_nombre            tipo_delito  count\n",
       "0    2016    1    January              Homicidio     25\n",
       "1    2016    1    January  Hurto (sin violencia)   3574\n",
       "2    2016    1    January               Lesiones    588\n",
       "3    2016    1    January   Robo (con violencia)   5600\n",
       "4    2016    2   February              Homicidio     25\n",
       "..    ...  ...        ...                    ...    ...\n",
       "235  2020   11   November   Robo (con violencia)   3298\n",
       "236  2020   12   December              Homicidio     33\n",
       "237  2020   12   December  Hurto (sin violencia)   2518\n",
       "238  2020   12   December               Lesiones    668\n",
       "239  2020   12   December   Robo (con violencia)   3390\n",
       "\n",
       "[240 rows x 5 columns]"
      ]
     },
     "execution_count": 17,
     "metadata": {},
     "output_type": "execute_result"
    }
   ],
   "source": [
    "df_mes_tipo = df.groupby(['anio','mes','mes_nombre', 'tipo_delito'])['tipo_delito'].count().reset_index(name = 'count')\n",
    "df_mes_tipo"
   ]
  },
  {
   "cell_type": "code",
   "execution_count": 25,
   "id": "0a14dbe5-1bcb-4dfb-8062-1ad46ca4de6a",
   "metadata": {},
   "outputs": [
    {
     "data": {
      "application/vnd.plotly.v1+json": {
       "config": {
        "plotlyServerURL": "https://plot.ly"
       },
       "data": [
        {
         "hovertemplate": "tipo_delito=Homicidio<br>Año=2016<br>mes_nombre=%{x}<br>Cantidad de delitos=%{y}<extra></extra>",
         "legendgroup": "Homicidio",
         "line": {
          "color": "#636efa",
          "dash": "solid"
         },
         "mode": "lines",
         "name": "Homicidio",
         "orientation": "v",
         "showlegend": true,
         "type": "scatter",
         "x": [
          "January",
          "February",
          "March",
          "April",
          "May",
          "June",
          "July",
          "August",
          "September",
          "October",
          "November",
          "December"
         ],
         "xaxis": "x",
         "y": [
          25,
          25,
          29,
          20,
          11,
          20,
          18,
          17,
          17,
          21,
          26,
          39
         ],
         "yaxis": "y"
        },
        {
         "hovertemplate": "tipo_delito=Homicidio<br>Año=2017<br>mes_nombre=%{x}<br>Cantidad de delitos=%{y}<extra></extra>",
         "legendgroup": "Homicidio",
         "line": {
          "color": "#636efa",
          "dash": "solid"
         },
         "mode": "lines",
         "name": "Homicidio",
         "orientation": "v",
         "showlegend": false,
         "type": "scatter",
         "x": [
          "January",
          "February",
          "March",
          "April",
          "May",
          "June",
          "July",
          "August",
          "September",
          "October",
          "November",
          "December"
         ],
         "xaxis": "x2",
         "y": [
          21,
          22,
          21,
          15,
          28,
          19,
          28,
          17,
          20,
          23,
          20,
          29
         ],
         "yaxis": "y2"
        },
        {
         "hovertemplate": "tipo_delito=Homicidio<br>Año=2018<br>mes_nombre=%{x}<br>Cantidad de delitos=%{y}<extra></extra>",
         "legendgroup": "Homicidio",
         "line": {
          "color": "#636efa",
          "dash": "solid"
         },
         "mode": "lines",
         "name": "Homicidio",
         "orientation": "v",
         "showlegend": false,
         "type": "scatter",
         "x": [
          "January",
          "February",
          "March",
          "April",
          "May",
          "June",
          "July",
          "August",
          "September",
          "October",
          "November",
          "December"
         ],
         "xaxis": "x3",
         "y": [
          27,
          17,
          20,
          22,
          19,
          23,
          22,
          21,
          17,
          25,
          30,
          23
         ],
         "yaxis": "y3"
        },
        {
         "hovertemplate": "tipo_delito=Homicidio<br>Año=2019<br>mes_nombre=%{x}<br>Cantidad de delitos=%{y}<extra></extra>",
         "legendgroup": "Homicidio",
         "line": {
          "color": "#636efa",
          "dash": "solid"
         },
         "mode": "lines",
         "name": "Homicidio",
         "orientation": "v",
         "showlegend": false,
         "type": "scatter",
         "x": [
          "January",
          "February",
          "March",
          "April",
          "May",
          "June",
          "July",
          "August",
          "September",
          "October",
          "November",
          "December"
         ],
         "xaxis": "x4",
         "y": [
          15,
          17,
          20,
          13,
          15,
          19,
          11,
          23,
          19,
          15,
          18,
          13
         ],
         "yaxis": "y4"
        },
        {
         "hovertemplate": "tipo_delito=Homicidio<br>Año=2020<br>mes_nombre=%{x}<br>Cantidad de delitos=%{y}<extra></extra>",
         "legendgroup": "Homicidio",
         "line": {
          "color": "#636efa",
          "dash": "solid"
         },
         "mode": "lines",
         "name": "Homicidio",
         "orientation": "v",
         "showlegend": false,
         "type": "scatter",
         "x": [
          "January",
          "February",
          "March",
          "April",
          "May",
          "June",
          "July",
          "August",
          "September",
          "October",
          "November",
          "December"
         ],
         "xaxis": "x5",
         "y": [
          13,
          16,
          11,
          7,
          15,
          9,
          14,
          23,
          16,
          13,
          20,
          33
         ],
         "yaxis": "y5"
        },
        {
         "hovertemplate": "tipo_delito=Hurto (sin violencia)<br>Año=2016<br>mes_nombre=%{x}<br>Cantidad de delitos=%{y}<extra></extra>",
         "legendgroup": "Hurto (sin violencia)",
         "line": {
          "color": "#EF553B",
          "dash": "solid"
         },
         "mode": "lines",
         "name": "Hurto (sin violencia)",
         "orientation": "v",
         "showlegend": true,
         "type": "scatter",
         "x": [
          "January",
          "February",
          "March",
          "April",
          "May",
          "June",
          "July",
          "August",
          "September",
          "October",
          "November",
          "December"
         ],
         "xaxis": "x",
         "y": [
          3574,
          3396,
          3866,
          3870,
          3860,
          3798,
          4000,
          3994,
          3959,
          3954,
          4019,
          3780
         ],
         "yaxis": "y"
        },
        {
         "hovertemplate": "tipo_delito=Hurto (sin violencia)<br>Año=2017<br>mes_nombre=%{x}<br>Cantidad de delitos=%{y}<extra></extra>",
         "legendgroup": "Hurto (sin violencia)",
         "line": {
          "color": "#EF553B",
          "dash": "solid"
         },
         "mode": "lines",
         "name": "Hurto (sin violencia)",
         "orientation": "v",
         "showlegend": false,
         "type": "scatter",
         "x": [
          "January",
          "February",
          "March",
          "April",
          "May",
          "June",
          "July",
          "August",
          "September",
          "October",
          "November",
          "December"
         ],
         "xaxis": "x2",
         "y": [
          3701,
          3106,
          3855,
          3478,
          3527,
          3342,
          3328,
          3288,
          3264,
          3527,
          4034,
          3600
         ],
         "yaxis": "y2"
        },
        {
         "hovertemplate": "tipo_delito=Hurto (sin violencia)<br>Año=2018<br>mes_nombre=%{x}<br>Cantidad de delitos=%{y}<extra></extra>",
         "legendgroup": "Hurto (sin violencia)",
         "line": {
          "color": "#EF553B",
          "dash": "solid"
         },
         "mode": "lines",
         "name": "Hurto (sin violencia)",
         "orientation": "v",
         "showlegend": false,
         "type": "scatter",
         "x": [
          "January",
          "February",
          "March",
          "April",
          "May",
          "June",
          "July",
          "August",
          "September",
          "October",
          "November",
          "December"
         ],
         "xaxis": "x3",
         "y": [
          3225,
          3013,
          3783,
          3378,
          3611,
          3166,
          3363,
          3361,
          3287,
          3542,
          3429,
          3783
         ],
         "yaxis": "y3"
        },
        {
         "hovertemplate": "tipo_delito=Hurto (sin violencia)<br>Año=2019<br>mes_nombre=%{x}<br>Cantidad de delitos=%{y}<extra></extra>",
         "legendgroup": "Hurto (sin violencia)",
         "line": {
          "color": "#EF553B",
          "dash": "solid"
         },
         "mode": "lines",
         "name": "Hurto (sin violencia)",
         "orientation": "v",
         "showlegend": false,
         "type": "scatter",
         "x": [
          "January",
          "February",
          "March",
          "April",
          "May",
          "June",
          "July",
          "August",
          "September",
          "October",
          "November",
          "December"
         ],
         "xaxis": "x4",
         "y": [
          3928,
          3882,
          4272,
          3927,
          3996,
          3797,
          4031,
          4189,
          4197,
          4277,
          4474,
          4299
         ],
         "yaxis": "y4"
        },
        {
         "hovertemplate": "tipo_delito=Hurto (sin violencia)<br>Año=2020<br>mes_nombre=%{x}<br>Cantidad de delitos=%{y}<extra></extra>",
         "legendgroup": "Hurto (sin violencia)",
         "line": {
          "color": "#EF553B",
          "dash": "solid"
         },
         "mode": "lines",
         "name": "Hurto (sin violencia)",
         "orientation": "v",
         "showlegend": false,
         "type": "scatter",
         "x": [
          "January",
          "February",
          "March",
          "April",
          "May",
          "June",
          "July",
          "August",
          "September",
          "October",
          "November",
          "December"
         ],
         "xaxis": "x5",
         "y": [
          4022,
          3936,
          2455,
          620,
          1043,
          1344,
          1437,
          1692,
          1922,
          2170,
          2457,
          2518
         ],
         "yaxis": "y5"
        },
        {
         "hovertemplate": "tipo_delito=Lesiones<br>Año=2016<br>mes_nombre=%{x}<br>Cantidad de delitos=%{y}<extra></extra>",
         "legendgroup": "Lesiones",
         "line": {
          "color": "#00cc96",
          "dash": "solid"
         },
         "mode": "lines",
         "name": "Lesiones",
         "orientation": "v",
         "showlegend": true,
         "type": "scatter",
         "x": [
          "January",
          "February",
          "March",
          "April",
          "May",
          "June",
          "July",
          "August",
          "September",
          "October",
          "November",
          "December"
         ],
         "xaxis": "x",
         "y": [
          588,
          614,
          773,
          690,
          866,
          802,
          674,
          759,
          699,
          745,
          746,
          700
         ],
         "yaxis": "y"
        },
        {
         "hovertemplate": "tipo_delito=Lesiones<br>Año=2017<br>mes_nombre=%{x}<br>Cantidad de delitos=%{y}<extra></extra>",
         "legendgroup": "Lesiones",
         "line": {
          "color": "#00cc96",
          "dash": "solid"
         },
         "mode": "lines",
         "name": "Lesiones",
         "orientation": "v",
         "showlegend": false,
         "type": "scatter",
         "x": [
          "January",
          "February",
          "March",
          "April",
          "May",
          "June",
          "July",
          "August",
          "September",
          "October",
          "November",
          "December"
         ],
         "xaxis": "x2",
         "y": [
          796,
          753,
          856,
          813,
          932,
          827,
          805,
          744,
          776,
          867,
          861,
          779
         ],
         "yaxis": "y2"
        },
        {
         "hovertemplate": "tipo_delito=Lesiones<br>Año=2018<br>mes_nombre=%{x}<br>Cantidad de delitos=%{y}<extra></extra>",
         "legendgroup": "Lesiones",
         "line": {
          "color": "#00cc96",
          "dash": "solid"
         },
         "mode": "lines",
         "name": "Lesiones",
         "orientation": "v",
         "showlegend": false,
         "type": "scatter",
         "x": [
          "January",
          "February",
          "March",
          "April",
          "May",
          "June",
          "July",
          "August",
          "September",
          "October",
          "November",
          "December"
         ],
         "xaxis": "x3",
         "y": [
          696,
          662,
          808,
          451,
          553,
          621,
          305,
          666,
          642,
          796,
          868,
          879
         ],
         "yaxis": "y3"
        },
        {
         "hovertemplate": "tipo_delito=Lesiones<br>Año=2019<br>mes_nombre=%{x}<br>Cantidad de delitos=%{y}<extra></extra>",
         "legendgroup": "Lesiones",
         "line": {
          "color": "#00cc96",
          "dash": "solid"
         },
         "mode": "lines",
         "name": "Lesiones",
         "orientation": "v",
         "showlegend": false,
         "type": "scatter",
         "x": [
          "January",
          "February",
          "March",
          "April",
          "May",
          "June",
          "July",
          "August",
          "September",
          "October",
          "November",
          "December"
         ],
         "xaxis": "x4",
         "y": [
          702,
          737,
          904,
          910,
          1017,
          827,
          907,
          879,
          848,
          854,
          501,
          505
         ],
         "yaxis": "y4"
        },
        {
         "hovertemplate": "tipo_delito=Lesiones<br>Año=2020<br>mes_nombre=%{x}<br>Cantidad de delitos=%{y}<extra></extra>",
         "legendgroup": "Lesiones",
         "line": {
          "color": "#00cc96",
          "dash": "solid"
         },
         "mode": "lines",
         "name": "Lesiones",
         "orientation": "v",
         "showlegend": false,
         "type": "scatter",
         "x": [
          "January",
          "February",
          "March",
          "April",
          "May",
          "June",
          "July",
          "August",
          "September",
          "October",
          "November",
          "December"
         ],
         "xaxis": "x5",
         "y": [
          730,
          768,
          515,
          200,
          312,
          317,
          377,
          444,
          484,
          579,
          700,
          668
         ],
         "yaxis": "y5"
        },
        {
         "hovertemplate": "tipo_delito=Robo (con violencia)<br>Año=2016<br>mes_nombre=%{x}<br>Cantidad de delitos=%{y}<extra></extra>",
         "legendgroup": "Robo (con violencia)",
         "line": {
          "color": "#ab63fa",
          "dash": "solid"
         },
         "mode": "lines",
         "name": "Robo (con violencia)",
         "orientation": "v",
         "showlegend": true,
         "type": "scatter",
         "x": [
          "January",
          "February",
          "March",
          "April",
          "May",
          "June",
          "July",
          "August",
          "September",
          "October",
          "November",
          "December"
         ],
         "xaxis": "x",
         "y": [
          5600,
          5624,
          6118,
          5956,
          6076,
          5462,
          5949,
          6137,
          5686,
          6060,
          6453,
          5842
         ],
         "yaxis": "y"
        },
        {
         "hovertemplate": "tipo_delito=Robo (con violencia)<br>Año=2017<br>mes_nombre=%{x}<br>Cantidad de delitos=%{y}<extra></extra>",
         "legendgroup": "Robo (con violencia)",
         "line": {
          "color": "#ab63fa",
          "dash": "solid"
         },
         "mode": "lines",
         "name": "Robo (con violencia)",
         "orientation": "v",
         "showlegend": false,
         "type": "scatter",
         "x": [
          "January",
          "February",
          "March",
          "April",
          "May",
          "June",
          "July",
          "August",
          "September",
          "October",
          "November",
          "December"
         ],
         "xaxis": "x2",
         "y": [
          5337,
          5052,
          6416,
          5644,
          5529,
          5220,
          4972,
          5535,
          5269,
          5831,
          6159,
          5637
         ],
         "yaxis": "y2"
        },
        {
         "hovertemplate": "tipo_delito=Robo (con violencia)<br>Año=2018<br>mes_nombre=%{x}<br>Cantidad de delitos=%{y}<extra></extra>",
         "legendgroup": "Robo (con violencia)",
         "line": {
          "color": "#ab63fa",
          "dash": "solid"
         },
         "mode": "lines",
         "name": "Robo (con violencia)",
         "orientation": "v",
         "showlegend": false,
         "type": "scatter",
         "x": [
          "January",
          "February",
          "March",
          "April",
          "May",
          "June",
          "July",
          "August",
          "September",
          "October",
          "November",
          "December"
         ],
         "xaxis": "x3",
         "y": [
          5587,
          5352,
          5826,
          5319,
          5897,
          5157,
          5471,
          6131,
          6060,
          5940,
          6212,
          6327
         ],
         "yaxis": "y3"
        },
        {
         "hovertemplate": "tipo_delito=Robo (con violencia)<br>Año=2019<br>mes_nombre=%{x}<br>Cantidad de delitos=%{y}<extra></extra>",
         "legendgroup": "Robo (con violencia)",
         "line": {
          "color": "#ab63fa",
          "dash": "solid"
         },
         "mode": "lines",
         "name": "Robo (con violencia)",
         "orientation": "v",
         "showlegend": false,
         "type": "scatter",
         "x": [
          "January",
          "February",
          "March",
          "April",
          "May",
          "June",
          "July",
          "August",
          "September",
          "October",
          "November",
          "December"
         ],
         "xaxis": "x4",
         "y": [
          5818,
          5442,
          5978,
          5321,
          5357,
          4912,
          4937,
          5012,
          4824,
          5073,
          5097,
          4963
         ],
         "yaxis": "y4"
        },
        {
         "hovertemplate": "tipo_delito=Robo (con violencia)<br>Año=2020<br>mes_nombre=%{x}<br>Cantidad de delitos=%{y}<extra></extra>",
         "legendgroup": "Robo (con violencia)",
         "line": {
          "color": "#ab63fa",
          "dash": "solid"
         },
         "mode": "lines",
         "name": "Robo (con violencia)",
         "orientation": "v",
         "showlegend": false,
         "type": "scatter",
         "x": [
          "January",
          "February",
          "March",
          "April",
          "May",
          "June",
          "July",
          "August",
          "September",
          "October",
          "November",
          "December"
         ],
         "xaxis": "x5",
         "y": [
          5052,
          4633,
          3025,
          1073,
          1718,
          2031,
          2252,
          2456,
          2530,
          2945,
          3298,
          3390
         ],
         "yaxis": "y5"
        }
       ],
       "layout": {
        "annotations": [
         {
          "font": {},
          "showarrow": false,
          "text": "Año=2016",
          "x": 0.09200000000000001,
          "xanchor": "center",
          "xref": "paper",
          "y": 1,
          "yanchor": "bottom",
          "yref": "paper"
         },
         {
          "font": {},
          "showarrow": false,
          "text": "Año=2017",
          "x": 0.29600000000000004,
          "xanchor": "center",
          "xref": "paper",
          "y": 1,
          "yanchor": "bottom",
          "yref": "paper"
         },
         {
          "font": {},
          "showarrow": false,
          "text": "Año=2018",
          "x": 0.5,
          "xanchor": "center",
          "xref": "paper",
          "y": 1,
          "yanchor": "bottom",
          "yref": "paper"
         },
         {
          "font": {},
          "showarrow": false,
          "text": "Año=2019",
          "x": 0.7040000000000002,
          "xanchor": "center",
          "xref": "paper",
          "y": 1,
          "yanchor": "bottom",
          "yref": "paper"
         },
         {
          "font": {},
          "showarrow": false,
          "text": "Año=2020",
          "x": 0.908,
          "xanchor": "center",
          "xref": "paper",
          "y": 1,
          "yanchor": "bottom",
          "yref": "paper"
         }
        ],
        "autosize": true,
        "legend": {
         "title": {
          "text": "tipo_delito"
         },
         "tracegroupgap": 0
        },
        "margin": {
         "t": 60
        },
        "template": {
         "data": {
          "bar": [
           {
            "error_x": {
             "color": "#2a3f5f"
            },
            "error_y": {
             "color": "#2a3f5f"
            },
            "marker": {
             "line": {
              "color": "#E5ECF6",
              "width": 0.5
             },
             "pattern": {
              "fillmode": "overlay",
              "size": 10,
              "solidity": 0.2
             }
            },
            "type": "bar"
           }
          ],
          "barpolar": [
           {
            "marker": {
             "line": {
              "color": "#E5ECF6",
              "width": 0.5
             },
             "pattern": {
              "fillmode": "overlay",
              "size": 10,
              "solidity": 0.2
             }
            },
            "type": "barpolar"
           }
          ],
          "carpet": [
           {
            "aaxis": {
             "endlinecolor": "#2a3f5f",
             "gridcolor": "white",
             "linecolor": "white",
             "minorgridcolor": "white",
             "startlinecolor": "#2a3f5f"
            },
            "baxis": {
             "endlinecolor": "#2a3f5f",
             "gridcolor": "white",
             "linecolor": "white",
             "minorgridcolor": "white",
             "startlinecolor": "#2a3f5f"
            },
            "type": "carpet"
           }
          ],
          "choropleth": [
           {
            "colorbar": {
             "outlinewidth": 0,
             "ticks": ""
            },
            "type": "choropleth"
           }
          ],
          "contour": [
           {
            "colorbar": {
             "outlinewidth": 0,
             "ticks": ""
            },
            "colorscale": [
             [
              0,
              "#0d0887"
             ],
             [
              0.1111111111111111,
              "#46039f"
             ],
             [
              0.2222222222222222,
              "#7201a8"
             ],
             [
              0.3333333333333333,
              "#9c179e"
             ],
             [
              0.4444444444444444,
              "#bd3786"
             ],
             [
              0.5555555555555556,
              "#d8576b"
             ],
             [
              0.6666666666666666,
              "#ed7953"
             ],
             [
              0.7777777777777778,
              "#fb9f3a"
             ],
             [
              0.8888888888888888,
              "#fdca26"
             ],
             [
              1,
              "#f0f921"
             ]
            ],
            "type": "contour"
           }
          ],
          "contourcarpet": [
           {
            "colorbar": {
             "outlinewidth": 0,
             "ticks": ""
            },
            "type": "contourcarpet"
           }
          ],
          "heatmap": [
           {
            "colorbar": {
             "outlinewidth": 0,
             "ticks": ""
            },
            "colorscale": [
             [
              0,
              "#0d0887"
             ],
             [
              0.1111111111111111,
              "#46039f"
             ],
             [
              0.2222222222222222,
              "#7201a8"
             ],
             [
              0.3333333333333333,
              "#9c179e"
             ],
             [
              0.4444444444444444,
              "#bd3786"
             ],
             [
              0.5555555555555556,
              "#d8576b"
             ],
             [
              0.6666666666666666,
              "#ed7953"
             ],
             [
              0.7777777777777778,
              "#fb9f3a"
             ],
             [
              0.8888888888888888,
              "#fdca26"
             ],
             [
              1,
              "#f0f921"
             ]
            ],
            "type": "heatmap"
           }
          ],
          "heatmapgl": [
           {
            "colorbar": {
             "outlinewidth": 0,
             "ticks": ""
            },
            "colorscale": [
             [
              0,
              "#0d0887"
             ],
             [
              0.1111111111111111,
              "#46039f"
             ],
             [
              0.2222222222222222,
              "#7201a8"
             ],
             [
              0.3333333333333333,
              "#9c179e"
             ],
             [
              0.4444444444444444,
              "#bd3786"
             ],
             [
              0.5555555555555556,
              "#d8576b"
             ],
             [
              0.6666666666666666,
              "#ed7953"
             ],
             [
              0.7777777777777778,
              "#fb9f3a"
             ],
             [
              0.8888888888888888,
              "#fdca26"
             ],
             [
              1,
              "#f0f921"
             ]
            ],
            "type": "heatmapgl"
           }
          ],
          "histogram": [
           {
            "marker": {
             "pattern": {
              "fillmode": "overlay",
              "size": 10,
              "solidity": 0.2
             }
            },
            "type": "histogram"
           }
          ],
          "histogram2d": [
           {
            "colorbar": {
             "outlinewidth": 0,
             "ticks": ""
            },
            "colorscale": [
             [
              0,
              "#0d0887"
             ],
             [
              0.1111111111111111,
              "#46039f"
             ],
             [
              0.2222222222222222,
              "#7201a8"
             ],
             [
              0.3333333333333333,
              "#9c179e"
             ],
             [
              0.4444444444444444,
              "#bd3786"
             ],
             [
              0.5555555555555556,
              "#d8576b"
             ],
             [
              0.6666666666666666,
              "#ed7953"
             ],
             [
              0.7777777777777778,
              "#fb9f3a"
             ],
             [
              0.8888888888888888,
              "#fdca26"
             ],
             [
              1,
              "#f0f921"
             ]
            ],
            "type": "histogram2d"
           }
          ],
          "histogram2dcontour": [
           {
            "colorbar": {
             "outlinewidth": 0,
             "ticks": ""
            },
            "colorscale": [
             [
              0,
              "#0d0887"
             ],
             [
              0.1111111111111111,
              "#46039f"
             ],
             [
              0.2222222222222222,
              "#7201a8"
             ],
             [
              0.3333333333333333,
              "#9c179e"
             ],
             [
              0.4444444444444444,
              "#bd3786"
             ],
             [
              0.5555555555555556,
              "#d8576b"
             ],
             [
              0.6666666666666666,
              "#ed7953"
             ],
             [
              0.7777777777777778,
              "#fb9f3a"
             ],
             [
              0.8888888888888888,
              "#fdca26"
             ],
             [
              1,
              "#f0f921"
             ]
            ],
            "type": "histogram2dcontour"
           }
          ],
          "mesh3d": [
           {
            "colorbar": {
             "outlinewidth": 0,
             "ticks": ""
            },
            "type": "mesh3d"
           }
          ],
          "parcoords": [
           {
            "line": {
             "colorbar": {
              "outlinewidth": 0,
              "ticks": ""
             }
            },
            "type": "parcoords"
           }
          ],
          "pie": [
           {
            "automargin": true,
            "type": "pie"
           }
          ],
          "scatter": [
           {
            "marker": {
             "colorbar": {
              "outlinewidth": 0,
              "ticks": ""
             }
            },
            "type": "scatter"
           }
          ],
          "scatter3d": [
           {
            "line": {
             "colorbar": {
              "outlinewidth": 0,
              "ticks": ""
             }
            },
            "marker": {
             "colorbar": {
              "outlinewidth": 0,
              "ticks": ""
             }
            },
            "type": "scatter3d"
           }
          ],
          "scattercarpet": [
           {
            "marker": {
             "colorbar": {
              "outlinewidth": 0,
              "ticks": ""
             }
            },
            "type": "scattercarpet"
           }
          ],
          "scattergeo": [
           {
            "marker": {
             "colorbar": {
              "outlinewidth": 0,
              "ticks": ""
             }
            },
            "type": "scattergeo"
           }
          ],
          "scattergl": [
           {
            "marker": {
             "colorbar": {
              "outlinewidth": 0,
              "ticks": ""
             }
            },
            "type": "scattergl"
           }
          ],
          "scattermapbox": [
           {
            "marker": {
             "colorbar": {
              "outlinewidth": 0,
              "ticks": ""
             }
            },
            "type": "scattermapbox"
           }
          ],
          "scatterpolar": [
           {
            "marker": {
             "colorbar": {
              "outlinewidth": 0,
              "ticks": ""
             }
            },
            "type": "scatterpolar"
           }
          ],
          "scatterpolargl": [
           {
            "marker": {
             "colorbar": {
              "outlinewidth": 0,
              "ticks": ""
             }
            },
            "type": "scatterpolargl"
           }
          ],
          "scatterternary": [
           {
            "marker": {
             "colorbar": {
              "outlinewidth": 0,
              "ticks": ""
             }
            },
            "type": "scatterternary"
           }
          ],
          "surface": [
           {
            "colorbar": {
             "outlinewidth": 0,
             "ticks": ""
            },
            "colorscale": [
             [
              0,
              "#0d0887"
             ],
             [
              0.1111111111111111,
              "#46039f"
             ],
             [
              0.2222222222222222,
              "#7201a8"
             ],
             [
              0.3333333333333333,
              "#9c179e"
             ],
             [
              0.4444444444444444,
              "#bd3786"
             ],
             [
              0.5555555555555556,
              "#d8576b"
             ],
             [
              0.6666666666666666,
              "#ed7953"
             ],
             [
              0.7777777777777778,
              "#fb9f3a"
             ],
             [
              0.8888888888888888,
              "#fdca26"
             ],
             [
              1,
              "#f0f921"
             ]
            ],
            "type": "surface"
           }
          ],
          "table": [
           {
            "cells": {
             "fill": {
              "color": "#EBF0F8"
             },
             "line": {
              "color": "white"
             }
            },
            "header": {
             "fill": {
              "color": "#C8D4E3"
             },
             "line": {
              "color": "white"
             }
            },
            "type": "table"
           }
          ]
         },
         "layout": {
          "annotationdefaults": {
           "arrowcolor": "#2a3f5f",
           "arrowhead": 0,
           "arrowwidth": 1
          },
          "autotypenumbers": "strict",
          "coloraxis": {
           "colorbar": {
            "outlinewidth": 0,
            "ticks": ""
           }
          },
          "colorscale": {
           "diverging": [
            [
             0,
             "#8e0152"
            ],
            [
             0.1,
             "#c51b7d"
            ],
            [
             0.2,
             "#de77ae"
            ],
            [
             0.3,
             "#f1b6da"
            ],
            [
             0.4,
             "#fde0ef"
            ],
            [
             0.5,
             "#f7f7f7"
            ],
            [
             0.6,
             "#e6f5d0"
            ],
            [
             0.7,
             "#b8e186"
            ],
            [
             0.8,
             "#7fbc41"
            ],
            [
             0.9,
             "#4d9221"
            ],
            [
             1,
             "#276419"
            ]
           ],
           "sequential": [
            [
             0,
             "#0d0887"
            ],
            [
             0.1111111111111111,
             "#46039f"
            ],
            [
             0.2222222222222222,
             "#7201a8"
            ],
            [
             0.3333333333333333,
             "#9c179e"
            ],
            [
             0.4444444444444444,
             "#bd3786"
            ],
            [
             0.5555555555555556,
             "#d8576b"
            ],
            [
             0.6666666666666666,
             "#ed7953"
            ],
            [
             0.7777777777777778,
             "#fb9f3a"
            ],
            [
             0.8888888888888888,
             "#fdca26"
            ],
            [
             1,
             "#f0f921"
            ]
           ],
           "sequentialminus": [
            [
             0,
             "#0d0887"
            ],
            [
             0.1111111111111111,
             "#46039f"
            ],
            [
             0.2222222222222222,
             "#7201a8"
            ],
            [
             0.3333333333333333,
             "#9c179e"
            ],
            [
             0.4444444444444444,
             "#bd3786"
            ],
            [
             0.5555555555555556,
             "#d8576b"
            ],
            [
             0.6666666666666666,
             "#ed7953"
            ],
            [
             0.7777777777777778,
             "#fb9f3a"
            ],
            [
             0.8888888888888888,
             "#fdca26"
            ],
            [
             1,
             "#f0f921"
            ]
           ]
          },
          "colorway": [
           "#636efa",
           "#EF553B",
           "#00cc96",
           "#ab63fa",
           "#FFA15A",
           "#19d3f3",
           "#FF6692",
           "#B6E880",
           "#FF97FF",
           "#FECB52"
          ],
          "font": {
           "color": "#2a3f5f"
          },
          "geo": {
           "bgcolor": "white",
           "lakecolor": "white",
           "landcolor": "#E5ECF6",
           "showlakes": true,
           "showland": true,
           "subunitcolor": "white"
          },
          "hoverlabel": {
           "align": "left"
          },
          "hovermode": "closest",
          "mapbox": {
           "style": "light"
          },
          "paper_bgcolor": "white",
          "plot_bgcolor": "#E5ECF6",
          "polar": {
           "angularaxis": {
            "gridcolor": "white",
            "linecolor": "white",
            "ticks": ""
           },
           "bgcolor": "#E5ECF6",
           "radialaxis": {
            "gridcolor": "white",
            "linecolor": "white",
            "ticks": ""
           }
          },
          "scene": {
           "xaxis": {
            "backgroundcolor": "#E5ECF6",
            "gridcolor": "white",
            "gridwidth": 2,
            "linecolor": "white",
            "showbackground": true,
            "ticks": "",
            "zerolinecolor": "white"
           },
           "yaxis": {
            "backgroundcolor": "#E5ECF6",
            "gridcolor": "white",
            "gridwidth": 2,
            "linecolor": "white",
            "showbackground": true,
            "ticks": "",
            "zerolinecolor": "white"
           },
           "zaxis": {
            "backgroundcolor": "#E5ECF6",
            "gridcolor": "white",
            "gridwidth": 2,
            "linecolor": "white",
            "showbackground": true,
            "ticks": "",
            "zerolinecolor": "white"
           }
          },
          "shapedefaults": {
           "line": {
            "color": "#2a3f5f"
           }
          },
          "ternary": {
           "aaxis": {
            "gridcolor": "white",
            "linecolor": "white",
            "ticks": ""
           },
           "baxis": {
            "gridcolor": "white",
            "linecolor": "white",
            "ticks": ""
           },
           "bgcolor": "#E5ECF6",
           "caxis": {
            "gridcolor": "white",
            "linecolor": "white",
            "ticks": ""
           }
          },
          "title": {
           "x": 0.05
          },
          "xaxis": {
           "automargin": true,
           "gridcolor": "white",
           "linecolor": "white",
           "ticks": "",
           "title": {
            "standoff": 15
           },
           "zerolinecolor": "white",
           "zerolinewidth": 2
          },
          "yaxis": {
           "automargin": true,
           "gridcolor": "white",
           "linecolor": "white",
           "ticks": "",
           "title": {
            "standoff": 15
           },
           "zerolinecolor": "white",
           "zerolinewidth": 2
          }
         }
        },
        "xaxis": {
         "anchor": "y",
         "autorange": true,
         "domain": [
          0,
          0.18400000000000002
         ],
         "range": [
          0,
          11
         ],
         "title": {
          "text": "mes_nombre"
         },
         "type": "category"
        },
        "xaxis2": {
         "anchor": "y2",
         "autorange": true,
         "domain": [
          0.20400000000000001,
          0.388
         ],
         "matches": "x",
         "range": [
          0,
          11
         ],
         "title": {
          "text": "mes_nombre"
         },
         "type": "category"
        },
        "xaxis3": {
         "anchor": "y3",
         "autorange": true,
         "domain": [
          0.40800000000000003,
          0.5920000000000001
         ],
         "matches": "x",
         "range": [
          0,
          11
         ],
         "title": {
          "text": "mes_nombre"
         },
         "type": "category"
        },
        "xaxis4": {
         "anchor": "y4",
         "autorange": true,
         "domain": [
          0.6120000000000001,
          0.7960000000000002
         ],
         "matches": "x",
         "range": [
          0,
          11
         ],
         "title": {
          "text": "mes_nombre"
         },
         "type": "category"
        },
        "xaxis5": {
         "anchor": "y5",
         "autorange": true,
         "domain": [
          0.8160000000000001,
          1
         ],
         "matches": "x",
         "range": [
          0,
          11
         ],
         "title": {
          "text": "mes_nombre"
         },
         "type": "category"
        },
        "yaxis": {
         "anchor": "x",
         "autorange": true,
         "domain": [
          0,
          1
         ],
         "range": [
          -351.1111111111111,
          6811.111111111111
         ],
         "title": {
          "text": "Cantidad de delitos"
         },
         "type": "linear"
        },
        "yaxis2": {
         "anchor": "x2",
         "autorange": true,
         "domain": [
          0,
          1
         ],
         "matches": "y",
         "range": [
          -351.1111111111111,
          6811.111111111111
         ],
         "showticklabels": false,
         "type": "linear"
        },
        "yaxis3": {
         "anchor": "x3",
         "autorange": true,
         "domain": [
          0,
          1
         ],
         "matches": "y",
         "range": [
          -351.1111111111111,
          6811.111111111111
         ],
         "showticklabels": false,
         "type": "linear"
        },
        "yaxis4": {
         "anchor": "x4",
         "autorange": true,
         "domain": [
          0,
          1
         ],
         "matches": "y",
         "range": [
          -351.1111111111111,
          6811.111111111111
         ],
         "showticklabels": false,
         "type": "linear"
        },
        "yaxis5": {
         "anchor": "x5",
         "autorange": true,
         "domain": [
          0,
          1
         ],
         "matches": "y",
         "range": [
          -351.1111111111111,
          6811.111111111111
         ],
         "showticklabels": false,
         "type": "linear"
        }
       }
      },
      "image/png": "[encoded data removed]",
      "text/html": [
       "<div>                            <div id=\"3f1886ef-9166-4499-83e7-6e41208ecbcd\" class=\"plotly-graph-div\" style=\"height:525px; width:100%;\"></div>            <script type=\"text/javascript\">                require([\"plotly\"], function(Plotly) {                    window.PLOTLYENV=window.PLOTLYENV || {};                                    if (document.getElementById(\"3f1886ef-9166-4499-83e7-6e41208ecbcd\")) {                    Plotly.newPlot(                        \"3f1886ef-9166-4499-83e7-6e41208ecbcd\",                        [{\"hovertemplate\":\"tipo_delito=Homicidio<br>A\\u00f1o=2016<br>mes_nombre=%{x}<br>Cantidad de delitos=%{y}<extra></extra>\",\"legendgroup\":\"Homicidio\",\"line\":{\"color\":\"#636efa\",\"dash\":\"solid\"},\"mode\":\"lines\",\"name\":\"Homicidio\",\"orientation\":\"v\",\"showlegend\":true,\"type\":\"scatter\",\"x\":[\"January\",\"February\",\"March\",\"April\",\"May\",\"June\",\"July\",\"August\",\"September\",\"October\",\"November\",\"December\"],\"xaxis\":\"x\",\"y\":[25,25,29,20,11,20,18,17,17,21,26,39],\"yaxis\":\"y\"},{\"hovertemplate\":\"tipo_delito=Homicidio<br>A\\u00f1o=2017<br>mes_nombre=%{x}<br>Cantidad de delitos=%{y}<extra></extra>\",\"legendgroup\":\"Homicidio\",\"line\":{\"color\":\"#636efa\",\"dash\":\"solid\"},\"mode\":\"lines\",\"name\":\"Homicidio\",\"orientation\":\"v\",\"showlegend\":false,\"type\":\"scatter\",\"x\":[\"January\",\"February\",\"March\",\"April\",\"May\",\"June\",\"July\",\"August\",\"September\",\"October\",\"November\",\"December\"],\"xaxis\":\"x2\",\"y\":[21,22,21,15,28,19,28,17,20,23,20,29],\"yaxis\":\"y2\"},{\"hovertemplate\":\"tipo_delito=Homicidio<br>A\\u00f1o=2018<br>mes_nombre=%{x}<br>Cantidad de delitos=%{y}<extra></extra>\",\"legendgroup\":\"Homicidio\",\"line\":{\"color\":\"#636efa\",\"dash\":\"solid\"},\"mode\":\"lines\",\"name\":\"Homicidio\",\"orientation\":\"v\",\"showlegend\":false,\"type\":\"scatter\",\"x\":[\"January\",\"February\",\"March\",\"April\",\"May\",\"June\",\"July\",\"August\",\"September\",\"October\",\"November\",\"December\"],\"xaxis\":\"x3\",\"y\":[27,17,20,22,19,23,22,21,17,25,30,23],\"yaxis\":\"y3\"},{\"hovertemplate\":\"tipo_delito=Homicidio<br>A\\u00f1o=2019<br>mes_nombre=%{x}<br>Cantidad de delitos=%{y}<extra></extra>\",\"legendgroup\":\"Homicidio\",\"line\":{\"color\":\"#636efa\",\"dash\":\"solid\"},\"mode\":\"lines\",\"name\":\"Homicidio\",\"orientation\":\"v\",\"showlegend\":false,\"type\":\"scatter\",\"x\":[\"January\",\"February\",\"March\",\"April\",\"May\",\"June\",\"July\",\"August\",\"September\",\"October\",\"November\",\"December\"],\"xaxis\":\"x4\",\"y\":[15,17,20,13,15,19,11,23,19,15,18,13],\"yaxis\":\"y4\"},{\"hovertemplate\":\"tipo_delito=Homicidio<br>A\\u00f1o=2020<br>mes_nombre=%{x}<br>Cantidad de delitos=%{y}<extra></extra>\",\"legendgroup\":\"Homicidio\",\"line\":{\"color\":\"#636efa\",\"dash\":\"solid\"},\"mode\":\"lines\",\"name\":\"Homicidio\",\"orientation\":\"v\",\"showlegend\":false,\"type\":\"scatter\",\"x\":[\"January\",\"February\",\"March\",\"April\",\"May\",\"June\",\"July\",\"August\",\"September\",\"October\",\"November\",\"December\"],\"xaxis\":\"x5\",\"y\":[13,16,11,7,15,9,14,23,16,13,20,33],\"yaxis\":\"y5\"},{\"hovertemplate\":\"tipo_delito=Hurto (sin violencia)<br>A\\u00f1o=2016<br>mes_nombre=%{x}<br>Cantidad de delitos=%{y}<extra></extra>\",\"legendgroup\":\"Hurto (sin violencia)\",\"line\":{\"color\":\"#EF553B\",\"dash\":\"solid\"},\"mode\":\"lines\",\"name\":\"Hurto (sin violencia)\",\"orientation\":\"v\",\"showlegend\":true,\"type\":\"scatter\",\"x\":[\"January\",\"February\",\"March\",\"April\",\"May\",\"June\",\"July\",\"August\",\"September\",\"October\",\"November\",\"December\"],\"xaxis\":\"x\",\"y\":[3574,3396,3866,3870,3860,3798,4000,3994,3959,3954,4019,3780],\"yaxis\":\"y\"},{\"hovertemplate\":\"tipo_delito=Hurto (sin violencia)<br>A\\u00f1o=2017<br>mes_nombre=%{x}<br>Cantidad de delitos=%{y}<extra></extra>\",\"legendgroup\":\"Hurto (sin violencia)\",\"line\":{\"color\":\"#EF553B\",\"dash\":\"solid\"},\"mode\":\"lines\",\"name\":\"Hurto (sin violencia)\",\"orientation\":\"v\",\"showlegend\":false,\"type\":\"scatter\",\"x\":[\"January\",\"February\",\"March\",\"April\",\"May\",\"June\",\"July\",\"August\",\"September\",\"October\",\"November\",\"December\"],\"xaxis\":\"x2\",\"y\":[3701,3106,3855,3478,3527,3342,3328,3288,3264,3527,4034,3600],\"yaxis\":\"y2\"},{\"hovertemplate\":\"tipo_delito=Hurto (sin violencia)<br>A\\u00f1o=2018<br>mes_nombre=%{x}<br>Cantidad de delitos=%{y}<extra></extra>\",\"legendgroup\":\"Hurto (sin violencia)\",\"line\":{\"color\":\"#EF553B\",\"dash\":\"solid\"},\"mode\":\"lines\",\"name\":\"Hurto (sin violencia)\",\"orientation\":\"v\",\"showlegend\":false,\"type\":\"scatter\",\"x\":[\"January\",\"February\",\"March\",\"April\",\"May\",\"June\",\"July\",\"August\",\"September\",\"October\",\"November\",\"December\"],\"xaxis\":\"x3\",\"y\":[3225,3013,3783,3378,3611,3166,3363,3361,3287,3542,3429,3783],\"yaxis\":\"y3\"},{\"hovertemplate\":\"tipo_delito=Hurto (sin violencia)<br>A\\u00f1o=2019<br>mes_nombre=%{x}<br>Cantidad de delitos=%{y}<extra></extra>\",\"legendgroup\":\"Hurto (sin violencia)\",\"line\":{\"color\":\"#EF553B\",\"dash\":\"solid\"},\"mode\":\"lines\",\"name\":\"Hurto (sin violencia)\",\"orientation\":\"v\",\"showlegend\":false,\"type\":\"scatter\",\"x\":[\"January\",\"February\",\"March\",\"April\",\"May\",\"June\",\"July\",\"August\",\"September\",\"October\",\"November\",\"December\"],\"xaxis\":\"x4\",\"y\":[3928,3882,4272,3927,3996,3797,4031,4189,4197,4277,4474,4299],\"yaxis\":\"y4\"},{\"hovertemplate\":\"tipo_delito=Hurto (sin violencia)<br>A\\u00f1o=2020<br>mes_nombre=%{x}<br>Cantidad de delitos=%{y}<extra></extra>\",\"legendgroup\":\"Hurto (sin violencia)\",\"line\":{\"color\":\"#EF553B\",\"dash\":\"solid\"},\"mode\":\"lines\",\"name\":\"Hurto (sin violencia)\",\"orientation\":\"v\",\"showlegend\":false,\"type\":\"scatter\",\"x\":[\"January\",\"February\",\"March\",\"April\",\"May\",\"June\",\"July\",\"August\",\"September\",\"October\",\"November\",\"December\"],\"xaxis\":\"x5\",\"y\":[4022,3936,2455,620,1043,1344,1437,1692,1922,2170,2457,2518],\"yaxis\":\"y5\"},{\"hovertemplate\":\"tipo_delito=Lesiones<br>A\\u00f1o=2016<br>mes_nombre=%{x}<br>Cantidad de delitos=%{y}<extra></extra>\",\"legendgroup\":\"Lesiones\",\"line\":{\"color\":\"#00cc96\",\"dash\":\"solid\"},\"mode\":\"lines\",\"name\":\"Lesiones\",\"orientation\":\"v\",\"showlegend\":true,\"type\":\"scatter\",\"x\":[\"January\",\"February\",\"March\",\"April\",\"May\",\"June\",\"July\",\"August\",\"September\",\"October\",\"November\",\"December\"],\"xaxis\":\"x\",\"y\":[588,614,773,690,866,802,674,759,699,745,746,700],\"yaxis\":\"y\"},{\"hovertemplate\":\"tipo_delito=Lesiones<br>A\\u00f1o=2017<br>mes_nombre=%{x}<br>Cantidad de delitos=%{y}<extra></extra>\",\"legendgroup\":\"Lesiones\",\"line\":{\"color\":\"#00cc96\",\"dash\":\"solid\"},\"mode\":\"lines\",\"name\":\"Lesiones\",\"orientation\":\"v\",\"showlegend\":false,\"type\":\"scatter\",\"x\":[\"January\",\"February\",\"March\",\"April\",\"May\",\"June\",\"July\",\"August\",\"September\",\"October\",\"November\",\"December\"],\"xaxis\":\"x2\",\"y\":[796,753,856,813,932,827,805,744,776,867,861,779],\"yaxis\":\"y2\"},{\"hovertemplate\":\"tipo_delito=Lesiones<br>A\\u00f1o=2018<br>mes_nombre=%{x}<br>Cantidad de delitos=%{y}<extra></extra>\",\"legendgroup\":\"Lesiones\",\"line\":{\"color\":\"#00cc96\",\"dash\":\"solid\"},\"mode\":\"lines\",\"name\":\"Lesiones\",\"orientation\":\"v\",\"showlegend\":false,\"type\":\"scatter\",\"x\":[\"January\",\"February\",\"March\",\"April\",\"May\",\"June\",\"July\",\"August\",\"September\",\"October\",\"November\",\"December\"],\"xaxis\":\"x3\",\"y\":[696,662,808,451,553,621,305,666,642,796,868,879],\"yaxis\":\"y3\"},{\"hovertemplate\":\"tipo_delito=Lesiones<br>A\\u00f1o=2019<br>mes_nombre=%{x}<br>Cantidad de delitos=%{y}<extra></extra>\",\"legendgroup\":\"Lesiones\",\"line\":{\"color\":\"#00cc96\",\"dash\":\"solid\"},\"mode\":\"lines\",\"name\":\"Lesiones\",\"orientation\":\"v\",\"showlegend\":false,\"type\":\"scatter\",\"x\":[\"January\",\"February\",\"March\",\"April\",\"May\",\"June\",\"July\",\"August\",\"September\",\"October\",\"November\",\"December\"],\"xaxis\":\"x4\",\"y\":[702,737,904,910,1017,827,907,879,848,854,501,505],\"yaxis\":\"y4\"},{\"hovertemplate\":\"tipo_delito=Lesiones<br>A\\u00f1o=2020<br>mes_nombre=%{x}<br>Cantidad de delitos=%{y}<extra></extra>\",\"legendgroup\":\"Lesiones\",\"line\":{\"color\":\"#00cc96\",\"dash\":\"solid\"},\"mode\":\"lines\",\"name\":\"Lesiones\",\"orientation\":\"v\",\"showlegend\":false,\"type\":\"scatter\",\"x\":[\"January\",\"February\",\"March\",\"April\",\"May\",\"June\",\"July\",\"August\",\"September\",\"October\",\"November\",\"December\"],\"xaxis\":\"x5\",\"y\":[730,768,515,200,312,317,377,444,484,579,700,668],\"yaxis\":\"y5\"},{\"hovertemplate\":\"tipo_delito=Robo (con violencia)<br>A\\u00f1o=2016<br>mes_nombre=%{x}<br>Cantidad de delitos=%{y}<extra></extra>\",\"legendgroup\":\"Robo (con violencia)\",\"line\":{\"color\":\"#ab63fa\",\"dash\":\"solid\"},\"mode\":\"lines\",\"name\":\"Robo (con violencia)\",\"orientation\":\"v\",\"showlegend\":true,\"type\":\"scatter\",\"x\":[\"January\",\"February\",\"March\",\"April\",\"May\",\"June\",\"July\",\"August\",\"September\",\"October\",\"November\",\"December\"],\"xaxis\":\"x\",\"y\":[5600,5624,6118,5956,6076,5462,5949,6137,5686,6060,6453,5842],\"yaxis\":\"y\"},{\"hovertemplate\":\"tipo_delito=Robo (con violencia)<br>A\\u00f1o=2017<br>mes_nombre=%{x}<br>Cantidad de delitos=%{y}<extra></extra>\",\"legendgroup\":\"Robo (con violencia)\",\"line\":{\"color\":\"#ab63fa\",\"dash\":\"solid\"},\"mode\":\"lines\",\"name\":\"Robo (con violencia)\",\"orientation\":\"v\",\"showlegend\":false,\"type\":\"scatter\",\"x\":[\"January\",\"February\",\"March\",\"April\",\"May\",\"June\",\"July\",\"August\",\"September\",\"October\",\"November\",\"December\"],\"xaxis\":\"x2\",\"y\":[5337,5052,6416,5644,5529,5220,4972,5535,5269,5831,6159,5637],\"yaxis\":\"y2\"},{\"hovertemplate\":\"tipo_delito=Robo (con violencia)<br>A\\u00f1o=2018<br>mes_nombre=%{x}<br>Cantidad de delitos=%{y}<extra></extra>\",\"legendgroup\":\"Robo (con violencia)\",\"line\":{\"color\":\"#ab63fa\",\"dash\":\"solid\"},\"mode\":\"lines\",\"name\":\"Robo (con violencia)\",\"orientation\":\"v\",\"showlegend\":false,\"type\":\"scatter\",\"x\":[\"January\",\"February\",\"March\",\"April\",\"May\",\"June\",\"July\",\"August\",\"September\",\"October\",\"November\",\"December\"],\"xaxis\":\"x3\",\"y\":[5587,5352,5826,5319,5897,5157,5471,6131,6060,5940,6212,6327],\"yaxis\":\"y3\"},{\"hovertemplate\":\"tipo_delito=Robo (con violencia)<br>A\\u00f1o=2019<br>mes_nombre=%{x}<br>Cantidad de delitos=%{y}<extra></extra>\",\"legendgroup\":\"Robo (con violencia)\",\"line\":{\"color\":\"#ab63fa\",\"dash\":\"solid\"},\"mode\":\"lines\",\"name\":\"Robo (con violencia)\",\"orientation\":\"v\",\"showlegend\":false,\"type\":\"scatter\",\"x\":[\"January\",\"February\",\"March\",\"April\",\"May\",\"June\",\"July\",\"August\",\"September\",\"October\",\"November\",\"December\"],\"xaxis\":\"x4\",\"y\":[5818,5442,5978,5321,5357,4912,4937,5012,4824,5073,5097,4963],\"yaxis\":\"y4\"},{\"hovertemplate\":\"tipo_delito=Robo (con violencia)<br>A\\u00f1o=2020<br>mes_nombre=%{x}<br>Cantidad de delitos=%{y}<extra></extra>\",\"legendgroup\":\"Robo (con violencia)\",\"line\":{\"color\":\"#ab63fa\",\"dash\":\"solid\"},\"mode\":\"lines\",\"name\":\"Robo (con violencia)\",\"orientation\":\"v\",\"showlegend\":false,\"type\":\"scatter\",\"x\":[\"January\",\"February\",\"March\",\"April\",\"May\",\"June\",\"July\",\"August\",\"September\",\"October\",\"November\",\"December\"],\"xaxis\":\"x5\",\"y\":[5052,4633,3025,1073,1718,2031,2252,2456,2530,2945,3298,3390],\"yaxis\":\"y5\"}],                        {\"annotations\":[{\"font\":{},\"showarrow\":false,\"text\":\"A\\u00f1o=2016\",\"x\":0.09200000000000001,\"xanchor\":\"center\",\"xref\":\"paper\",\"y\":1.0,\"yanchor\":\"bottom\",\"yref\":\"paper\"},{\"font\":{},\"showarrow\":false,\"text\":\"A\\u00f1o=2017\",\"x\":0.29600000000000004,\"xanchor\":\"center\",\"xref\":\"paper\",\"y\":1.0,\"yanchor\":\"bottom\",\"yref\":\"paper\"},{\"font\":{},\"showarrow\":false,\"text\":\"A\\u00f1o=2018\",\"x\":0.5,\"xanchor\":\"center\",\"xref\":\"paper\",\"y\":1.0,\"yanchor\":\"bottom\",\"yref\":\"paper\"},{\"font\":{},\"showarrow\":false,\"text\":\"A\\u00f1o=2019\",\"x\":0.7040000000000002,\"xanchor\":\"center\",\"xref\":\"paper\",\"y\":1.0,\"yanchor\":\"bottom\",\"yref\":\"paper\"},{\"font\":{},\"showarrow\":false,\"text\":\"A\\u00f1o=2020\",\"x\":0.908,\"xanchor\":\"center\",\"xref\":\"paper\",\"y\":1.0,\"yanchor\":\"bottom\",\"yref\":\"paper\"}],\"legend\":{\"title\":{\"text\":\"tipo_delito\"},\"tracegroupgap\":0},\"margin\":{\"t\":60},\"template\":{\"data\":{\"bar\":[{\"error_x\":{\"color\":\"#2a3f5f\"},\"error_y\":{\"color\":\"#2a3f5f\"},\"marker\":{\"line\":{\"color\":\"#E5ECF6\",\"width\":0.5},\"pattern\":{\"fillmode\":\"overlay\",\"size\":10,\"solidity\":0.2}},\"type\":\"bar\"}],\"barpolar\":[{\"marker\":{\"line\":{\"color\":\"#E5ECF6\",\"width\":0.5},\"pattern\":{\"fillmode\":\"overlay\",\"size\":10,\"solidity\":0.2}},\"type\":\"barpolar\"}],\"carpet\":[{\"aaxis\":{\"endlinecolor\":\"#2a3f5f\",\"gridcolor\":\"white\",\"linecolor\":\"white\",\"minorgridcolor\":\"white\",\"startlinecolor\":\"#2a3f5f\"},\"baxis\":{\"endlinecolor\":\"#2a3f5f\",\"gridcolor\":\"white\",\"linecolor\":\"white\",\"minorgridcolor\":\"white\",\"startlinecolor\":\"#2a3f5f\"},\"type\":\"carpet\"}],\"choropleth\":[{\"colorbar\":{\"outlinewidth\":0,\"ticks\":\"\"},\"type\":\"choropleth\"}],\"contour\":[{\"colorbar\":{\"outlinewidth\":0,\"ticks\":\"\"},\"colorscale\":[[0.0,\"#0d0887\"],[0.1111111111111111,\"#46039f\"],[0.2222222222222222,\"#7201a8\"],[0.3333333333333333,\"#9c179e\"],[0.4444444444444444,\"#bd3786\"],[0.5555555555555556,\"#d8576b\"],[0.6666666666666666,\"#ed7953\"],[0.7777777777777778,\"#fb9f3a\"],[0.8888888888888888,\"#fdca26\"],[1.0,\"#f0f921\"]],\"type\":\"contour\"}],\"contourcarpet\":[{\"colorbar\":{\"outlinewidth\":0,\"ticks\":\"\"},\"type\":\"contourcarpet\"}],\"heatmap\":[{\"colorbar\":{\"outlinewidth\":0,\"ticks\":\"\"},\"colorscale\":[[0.0,\"#0d0887\"],[0.1111111111111111,\"#46039f\"],[0.2222222222222222,\"#7201a8\"],[0.3333333333333333,\"#9c179e\"],[0.4444444444444444,\"#bd3786\"],[0.5555555555555556,\"#d8576b\"],[0.6666666666666666,\"#ed7953\"],[0.7777777777777778,\"#fb9f3a\"],[0.8888888888888888,\"#fdca26\"],[1.0,\"#f0f921\"]],\"type\":\"heatmap\"}],\"heatmapgl\":[{\"colorbar\":{\"outlinewidth\":0,\"ticks\":\"\"},\"colorscale\":[[0.0,\"#0d0887\"],[0.1111111111111111,\"#46039f\"],[0.2222222222222222,\"#7201a8\"],[0.3333333333333333,\"#9c179e\"],[0.4444444444444444,\"#bd3786\"],[0.5555555555555556,\"#d8576b\"],[0.6666666666666666,\"#ed7953\"],[0.7777777777777778,\"#fb9f3a\"],[0.8888888888888888,\"#fdca26\"],[1.0,\"#f0f921\"]],\"type\":\"heatmapgl\"}],\"histogram\":[{\"marker\":{\"pattern\":{\"fillmode\":\"overlay\",\"size\":10,\"solidity\":0.2}},\"type\":\"histogram\"}],\"histogram2d\":[{\"colorbar\":{\"outlinewidth\":0,\"ticks\":\"\"},\"colorscale\":[[0.0,\"#0d0887\"],[0.1111111111111111,\"#46039f\"],[0.2222222222222222,\"#7201a8\"],[0.3333333333333333,\"#9c179e\"],[0.4444444444444444,\"#bd3786\"],[0.5555555555555556,\"#d8576b\"],[0.6666666666666666,\"#ed7953\"],[0.7777777777777778,\"#fb9f3a\"],[0.8888888888888888,\"#fdca26\"],[1.0,\"#f0f921\"]],\"type\":\"histogram2d\"}],\"histogram2dcontour\":[{\"colorbar\":{\"outlinewidth\":0,\"ticks\":\"\"},\"colorscale\":[[0.0,\"#0d0887\"],[0.1111111111111111,\"#46039f\"],[0.2222222222222222,\"#7201a8\"],[0.3333333333333333,\"#9c179e\"],[0.4444444444444444,\"#bd3786\"],[0.5555555555555556,\"#d8576b\"],[0.6666666666666666,\"#ed7953\"],[0.7777777777777778,\"#fb9f3a\"],[0.8888888888888888,\"#fdca26\"],[1.0,\"#f0f921\"]],\"type\":\"histogram2dcontour\"}],\"mesh3d\":[{\"colorbar\":{\"outlinewidth\":0,\"ticks\":\"\"},\"type\":\"mesh3d\"}],\"parcoords\":[{\"line\":{\"colorbar\":{\"outlinewidth\":0,\"ticks\":\"\"}},\"type\":\"parcoords\"}],\"pie\":[{\"automargin\":true,\"type\":\"pie\"}],\"scatter\":[{\"marker\":{\"colorbar\":{\"outlinewidth\":0,\"ticks\":\"\"}},\"type\":\"scatter\"}],\"scatter3d\":[{\"line\":{\"colorbar\":{\"outlinewidth\":0,\"ticks\":\"\"}},\"marker\":{\"colorbar\":{\"outlinewidth\":0,\"ticks\":\"\"}},\"type\":\"scatter3d\"}],\"scattercarpet\":[{\"marker\":{\"colorbar\":{\"outlinewidth\":0,\"ticks\":\"\"}},\"type\":\"scattercarpet\"}],\"scattergeo\":[{\"marker\":{\"colorbar\":{\"outlinewidth\":0,\"ticks\":\"\"}},\"type\":\"scattergeo\"}],\"scattergl\":[{\"marker\":{\"colorbar\":{\"outlinewidth\":0,\"ticks\":\"\"}},\"type\":\"scattergl\"}],\"scattermapbox\":[{\"marker\":{\"colorbar\":{\"outlinewidth\":0,\"ticks\":\"\"}},\"type\":\"scattermapbox\"}],\"scatterpolar\":[{\"marker\":{\"colorbar\":{\"outlinewidth\":0,\"ticks\":\"\"}},\"type\":\"scatterpolar\"}],\"scatterpolargl\":[{\"marker\":{\"colorbar\":{\"outlinewidth\":0,\"ticks\":\"\"}},\"type\":\"scatterpolargl\"}],\"scatterternary\":[{\"marker\":{\"colorbar\":{\"outlinewidth\":0,\"ticks\":\"\"}},\"type\":\"scatterternary\"}],\"surface\":[{\"colorbar\":{\"outlinewidth\":0,\"ticks\":\"\"},\"colorscale\":[[0.0,\"#0d0887\"],[0.1111111111111111,\"#46039f\"],[0.2222222222222222,\"#7201a8\"],[0.3333333333333333,\"#9c179e\"],[0.4444444444444444,\"#bd3786\"],[0.5555555555555556,\"#d8576b\"],[0.6666666666666666,\"#ed7953\"],[0.7777777777777778,\"#fb9f3a\"],[0.8888888888888888,\"#fdca26\"],[1.0,\"#f0f921\"]],\"type\":\"surface\"}],\"table\":[{\"cells\":{\"fill\":{\"color\":\"#EBF0F8\"},\"line\":{\"color\":\"white\"}},\"header\":{\"fill\":{\"color\":\"#C8D4E3\"},\"line\":{\"color\":\"white\"}},\"type\":\"table\"}]},\"layout\":{\"annotationdefaults\":{\"arrowcolor\":\"#2a3f5f\",\"arrowhead\":0,\"arrowwidth\":1},\"autotypenumbers\":\"strict\",\"coloraxis\":{\"colorbar\":{\"outlinewidth\":0,\"ticks\":\"\"}},\"colorscale\":{\"diverging\":[[0,\"#8e0152\"],[0.1,\"#c51b7d\"],[0.2,\"#de77ae\"],[0.3,\"#f1b6da\"],[0.4,\"#fde0ef\"],[0.5,\"#f7f7f7\"],[0.6,\"#e6f5d0\"],[0.7,\"#b8e186\"],[0.8,\"#7fbc41\"],[0.9,\"#4d9221\"],[1,\"#276419\"]],\"sequential\":[[0.0,\"#0d0887\"],[0.1111111111111111,\"#46039f\"],[0.2222222222222222,\"#7201a8\"],[0.3333333333333333,\"#9c179e\"],[0.4444444444444444,\"#bd3786\"],[0.5555555555555556,\"#d8576b\"],[0.6666666666666666,\"#ed7953\"],[0.7777777777777778,\"#fb9f3a\"],[0.8888888888888888,\"#fdca26\"],[1.0,\"#f0f921\"]],\"sequentialminus\":[[0.0,\"#0d0887\"],[0.1111111111111111,\"#46039f\"],[0.2222222222222222,\"#7201a8\"],[0.3333333333333333,\"#9c179e\"],[0.4444444444444444,\"#bd3786\"],[0.5555555555555556,\"#d8576b\"],[0.6666666666666666,\"#ed7953\"],[0.7777777777777778,\"#fb9f3a\"],[0.8888888888888888,\"#fdca26\"],[1.0,\"#f0f921\"]]},\"colorway\":[\"#636efa\",\"#EF553B\",\"#00cc96\",\"#ab63fa\",\"#FFA15A\",\"#19d3f3\",\"#FF6692\",\"#B6E880\",\"#FF97FF\",\"#FECB52\"],\"font\":{\"color\":\"#2a3f5f\"},\"geo\":{\"bgcolor\":\"white\",\"lakecolor\":\"white\",\"landcolor\":\"#E5ECF6\",\"showlakes\":true,\"showland\":true,\"subunitcolor\":\"white\"},\"hoverlabel\":{\"align\":\"left\"},\"hovermode\":\"closest\",\"mapbox\":{\"style\":\"light\"},\"paper_bgcolor\":\"white\",\"plot_bgcolor\":\"#E5ECF6\",\"polar\":{\"angularaxis\":{\"gridcolor\":\"white\",\"linecolor\":\"white\",\"ticks\":\"\"},\"bgcolor\":\"#E5ECF6\",\"radialaxis\":{\"gridcolor\":\"white\",\"linecolor\":\"white\",\"ticks\":\"\"}},\"scene\":{\"xaxis\":{\"backgroundcolor\":\"#E5ECF6\",\"gridcolor\":\"white\",\"gridwidth\":2,\"linecolor\":\"white\",\"showbackground\":true,\"ticks\":\"\",\"zerolinecolor\":\"white\"},\"yaxis\":{\"backgroundcolor\":\"#E5ECF6\",\"gridcolor\":\"white\",\"gridwidth\":2,\"linecolor\":\"white\",\"showbackground\":true,\"ticks\":\"\",\"zerolinecolor\":\"white\"},\"zaxis\":{\"backgroundcolor\":\"#E5ECF6\",\"gridcolor\":\"white\",\"gridwidth\":2,\"linecolor\":\"white\",\"showbackground\":true,\"ticks\":\"\",\"zerolinecolor\":\"white\"}},\"shapedefaults\":{\"line\":{\"color\":\"#2a3f5f\"}},\"ternary\":{\"aaxis\":{\"gridcolor\":\"white\",\"linecolor\":\"white\",\"ticks\":\"\"},\"baxis\":{\"gridcolor\":\"white\",\"linecolor\":\"white\",\"ticks\":\"\"},\"bgcolor\":\"#E5ECF6\",\"caxis\":{\"gridcolor\":\"white\",\"linecolor\":\"white\",\"ticks\":\"\"}},\"title\":{\"x\":0.05},\"xaxis\":{\"automargin\":true,\"gridcolor\":\"white\",\"linecolor\":\"white\",\"ticks\":\"\",\"title\":{\"standoff\":15},\"zerolinecolor\":\"white\",\"zerolinewidth\":2},\"yaxis\":{\"automargin\":true,\"gridcolor\":\"white\",\"linecolor\":\"white\",\"ticks\":\"\",\"title\":{\"standoff\":15},\"zerolinecolor\":\"white\",\"zerolinewidth\":2}}},\"xaxis\":{\"anchor\":\"y\",\"domain\":[0.0,0.18400000000000002],\"title\":{\"text\":\"mes_nombre\"}},\"xaxis2\":{\"anchor\":\"y2\",\"domain\":[0.20400000000000001,0.388],\"matches\":\"x\",\"title\":{\"text\":\"mes_nombre\"}},\"xaxis3\":{\"anchor\":\"y3\",\"domain\":[0.40800000000000003,0.5920000000000001],\"matches\":\"x\",\"title\":{\"text\":\"mes_nombre\"}},\"xaxis4\":{\"anchor\":\"y4\",\"domain\":[0.6120000000000001,0.7960000000000002],\"matches\":\"x\",\"title\":{\"text\":\"mes_nombre\"}},\"xaxis5\":{\"anchor\":\"y5\",\"domain\":[0.8160000000000001,1.0],\"matches\":\"x\",\"title\":{\"text\":\"mes_nombre\"}},\"yaxis\":{\"anchor\":\"x\",\"domain\":[0.0,1.0],\"title\":{\"text\":\"Cantidad de delitos\"}},\"yaxis2\":{\"anchor\":\"x2\",\"domain\":[0.0,1.0],\"matches\":\"y\",\"showticklabels\":false},\"yaxis3\":{\"anchor\":\"x3\",\"domain\":[0.0,1.0],\"matches\":\"y\",\"showticklabels\":false},\"yaxis4\":{\"anchor\":\"x4\",\"domain\":[0.0,1.0],\"matches\":\"y\",\"showticklabels\":false},\"yaxis5\":{\"anchor\":\"x5\",\"domain\":[0.0,1.0],\"matches\":\"y\",\"showticklabels\":false}},                        {\"responsive\": true}                    ).then(function(){\n",
       "                            \n",
       "var gd = document.getElementById('3f1886ef-9166-4499-83e7-6e41208ecbcd');\n",
       "var x = new MutationObserver(function (mutations, observer) {{\n",
       "        var display = window.getComputedStyle(gd).display;\n",
       "        if (!display || display === 'none') {{\n",
       "            console.log([gd, 'removed!']);\n",
       "            Plotly.purge(gd);\n",
       "            observer.disconnect();\n",
       "        }}\n",
       "}});\n",
       "\n",
       "// Listen for the removal of the full notebook cells\n",
       "var notebookContainer = gd.closest('#notebook-container');\n",
       "if (notebookContainer) {{\n",
       "    x.observe(notebookContainer, {childList: true});\n",
       "}}\n",
       "\n",
       "// Listen for the clearing of the current output cell\n",
       "var outputEl = gd.closest('.output');\n",
       "if (outputEl) {{\n",
       "    x.observe(outputEl, {childList: true});\n",
       "}}\n",
       "\n",
       "                        })                };                });            </script>        </div>"
      ]
     },
     "metadata": {},
     "output_type": "display_data"
    }
   ],
   "source": [
    "fig = px.line(df_mes_tipo, x = 'mes_nombre', y = 'count',\n",
    "             color = 'tipo_delito',\n",
    "             facet_col = 'anio',\n",
    "             labels = {'count' : 'Cantidad de delitos', 'mes': 'Meses', 'anio':'Año'})\n",
    "fig.show()"
   ]
  },
  {
   "cell_type": "code",
   "execution_count": 19,
   "id": "b4a53fed-17be-4aad-9cec-f0b9b8378709",
   "metadata": {},
   "outputs": [
    {
     "data": {
      "text/html": [
       "<div>\n",
       "<style scoped>\n",
       "    .dataframe tbody tr th:only-of-type {\n",
       "        vertical-align: middle;\n",
       "    }\n",
       "\n",
       "    .dataframe tbody tr th {\n",
       "        vertical-align: top;\n",
       "    }\n",
       "\n",
       "    .dataframe thead th {\n",
       "        text-align: right;\n",
       "    }\n",
       "</style>\n",
       "<table border=\"1\" class=\"dataframe\">\n",
       "  <thead>\n",
       "    <tr style=\"text-align: right;\">\n",
       "      <th></th>\n",
       "      <th>id</th>\n",
       "      <th>fecha</th>\n",
       "      <th>franja_horaria</th>\n",
       "      <th>tipo_delito</th>\n",
       "      <th>subtipo_delito</th>\n",
       "      <th>uso_armas</th>\n",
       "      <th>barrio</th>\n",
       "      <th>comuna</th>\n",
       "      <th>lat</th>\n",
       "      <th>long</th>\n",
       "      <th>victimas</th>\n",
       "      <th>cantidad_registrada</th>\n",
       "      <th>mes</th>\n",
       "      <th>mes_nombre</th>\n",
       "      <th>anio</th>\n",
       "      <th>dia</th>\n",
       "    </tr>\n",
       "  </thead>\n",
       "  <tbody>\n",
       "    <tr>\n",
       "      <th>0</th>\n",
       "      <td>HC-2020-0007157</td>\n",
       "      <td>2020-01-04</td>\n",
       "      <td>10</td>\n",
       "      <td>Homicidio</td>\n",
       "      <td>Siniestro Vial</td>\n",
       "      <td>NaN</td>\n",
       "      <td>Villa Crespo</td>\n",
       "      <td>15.0</td>\n",
       "      <td>-34.592133</td>\n",
       "      <td>-58.439106</td>\n",
       "      <td>1.0</td>\n",
       "      <td>NaN</td>\n",
       "      <td>1</td>\n",
       "      <td>January</td>\n",
       "      <td>2020</td>\n",
       "      <td>Saturday</td>\n",
       "    </tr>\n",
       "    <tr>\n",
       "      <th>1</th>\n",
       "      <td>HC-2020-0009055</td>\n",
       "      <td>2020-01-05</td>\n",
       "      <td>20</td>\n",
       "      <td>Homicidio</td>\n",
       "      <td>Siniestro Vial</td>\n",
       "      <td>NaN</td>\n",
       "      <td>Flores</td>\n",
       "      <td>7.0</td>\n",
       "      <td>-34.646459</td>\n",
       "      <td>-58.450195</td>\n",
       "      <td>1.0</td>\n",
       "      <td>NaN</td>\n",
       "      <td>1</td>\n",
       "      <td>January</td>\n",
       "      <td>2020</td>\n",
       "      <td>Sunday</td>\n",
       "    </tr>\n",
       "    <tr>\n",
       "      <th>2</th>\n",
       "      <td>HC-2020-0022499</td>\n",
       "      <td>2020-01-11</td>\n",
       "      <td>6</td>\n",
       "      <td>Homicidio</td>\n",
       "      <td>Siniestro Vial</td>\n",
       "      <td>NaN</td>\n",
       "      <td>Balvanera</td>\n",
       "      <td>3.0</td>\n",
       "      <td>-34.609272</td>\n",
       "      <td>-58.393379</td>\n",
       "      <td>1.0</td>\n",
       "      <td>NaN</td>\n",
       "      <td>1</td>\n",
       "      <td>January</td>\n",
       "      <td>2020</td>\n",
       "      <td>Saturday</td>\n",
       "    </tr>\n",
       "    <tr>\n",
       "      <th>3</th>\n",
       "      <td>HC-2020-0028163</td>\n",
       "      <td>2020-01-14</td>\n",
       "      <td>6</td>\n",
       "      <td>Homicidio</td>\n",
       "      <td>Siniestro Vial</td>\n",
       "      <td>NaN</td>\n",
       "      <td>San Cristóbal</td>\n",
       "      <td>3.0</td>\n",
       "      <td>-34.624766</td>\n",
       "      <td>-58.410372</td>\n",
       "      <td>1.0</td>\n",
       "      <td>NaN</td>\n",
       "      <td>1</td>\n",
       "      <td>January</td>\n",
       "      <td>2020</td>\n",
       "      <td>Tuesday</td>\n",
       "    </tr>\n",
       "    <tr>\n",
       "      <th>4</th>\n",
       "      <td>HC-2020-0029931</td>\n",
       "      <td>2020-01-14</td>\n",
       "      <td>21</td>\n",
       "      <td>Homicidio</td>\n",
       "      <td>Siniestro Vial</td>\n",
       "      <td>NaN</td>\n",
       "      <td>Monserrat</td>\n",
       "      <td>1.0</td>\n",
       "      <td>-34.609303</td>\n",
       "      <td>-58.390526</td>\n",
       "      <td>1.0</td>\n",
       "      <td>NaN</td>\n",
       "      <td>1</td>\n",
       "      <td>January</td>\n",
       "      <td>2020</td>\n",
       "      <td>Tuesday</td>\n",
       "    </tr>\n",
       "  </tbody>\n",
       "</table>\n",
       "</div>"
      ],
      "text/plain": [
       "                id      fecha franja_horaria tipo_delito  subtipo_delito  \\\n",
       "0  HC-2020-0007157 2020-01-04             10   Homicidio  Siniestro Vial   \n",
       "1  HC-2020-0009055 2020-01-05             20   Homicidio  Siniestro Vial   \n",
       "2  HC-2020-0022499 2020-01-11              6   Homicidio  Siniestro Vial   \n",
       "3  HC-2020-0028163 2020-01-14              6   Homicidio  Siniestro Vial   \n",
       "4  HC-2020-0029931 2020-01-14             21   Homicidio  Siniestro Vial   \n",
       "\n",
       "  uso_armas         barrio  comuna        lat       long  victimas  \\\n",
       "0       NaN   Villa Crespo    15.0 -34.592133 -58.439106       1.0   \n",
       "1       NaN         Flores     7.0 -34.646459 -58.450195       1.0   \n",
       "2       NaN      Balvanera     3.0 -34.609272 -58.393379       1.0   \n",
       "3       NaN  San Cristóbal     3.0 -34.624766 -58.410372       1.0   \n",
       "4       NaN      Monserrat     1.0 -34.609303 -58.390526       1.0   \n",
       "\n",
       "   cantidad_registrada  mes mes_nombre  anio       dia  \n",
       "0                  NaN    1    January  2020  Saturday  \n",
       "1                  NaN    1    January  2020    Sunday  \n",
       "2                  NaN    1    January  2020  Saturday  \n",
       "3                  NaN    1    January  2020   Tuesday  \n",
       "4                  NaN    1    January  2020   Tuesday  "
      ]
     },
     "execution_count": 19,
     "metadata": {},
     "output_type": "execute_result"
    }
   ],
   "source": [
    "df.head()"
   ]
  },
  {
   "cell_type": "code",
   "execution_count": 20,
   "id": "54949b35-308e-4918-a4d0-1f721864a2bf",
   "metadata": {},
   "outputs": [],
   "source": [
    "df_dia = df.groupby(['anio','dia'])['tipo_delito'].count().reset_index(name = 'count')"
   ]
  },
  {
   "cell_type": "code",
   "execution_count": 26,
   "id": "27835659-dd89-4357-8d8e-a993426b40ae",
   "metadata": {},
   "outputs": [
    {
     "data": {
      "application/vnd.plotly.v1+json": {
       "config": {
        "plotlyServerURL": "https://plot.ly"
       },
       "data": [
        {
         "hovertemplate": "<b>%{hovertext}</b><br><br>Año=2016<br>Dias=%{x}<br>Cantidad de delitos=%{y}<extra></extra>",
         "hovertext": [
          "Friday",
          "Monday",
          "Saturday",
          "Sunday",
          "Thursday",
          "Tuesday",
          "Wednesday"
         ],
         "legendgroup": "2016",
         "line": {
          "color": "#1F77B4",
          "dash": "solid"
         },
         "mode": "lines",
         "name": "2016",
         "orientation": "v",
         "showlegend": true,
         "type": "scatter",
         "x": [
          "Friday",
          "Monday",
          "Saturday",
          "Sunday",
          "Thursday",
          "Tuesday",
          "Wednesday"
         ],
         "xaxis": "x",
         "y": [
          19454,
          17962,
          17525,
          14783,
          18844,
          18731,
          18658
         ],
         "yaxis": "y"
        },
        {
         "hovertemplate": "<b>%{hovertext}</b><br><br>Año=2017<br>Dias=%{x}<br>Cantidad de delitos=%{y}<extra></extra>",
         "hovertext": [
          "Friday",
          "Monday",
          "Saturday",
          "Sunday",
          "Thursday",
          "Tuesday",
          "Wednesday"
         ],
         "legendgroup": "2017",
         "line": {
          "color": "#FF7F0E",
          "dash": "solid"
         },
         "mode": "lines",
         "name": "2017",
         "orientation": "v",
         "showlegend": true,
         "type": "scatter",
         "x": [
          "Friday",
          "Monday",
          "Saturday",
          "Sunday",
          "Thursday",
          "Tuesday",
          "Wednesday"
         ],
         "xaxis": "x",
         "y": [
          17845,
          18806,
          15430,
          10446,
          18459,
          18598,
          19139
         ],
         "yaxis": "y"
        },
        {
         "hovertemplate": "<b>%{hovertext}</b><br><br>Año=2018<br>Dias=%{x}<br>Cantidad de delitos=%{y}<extra></extra>",
         "hovertext": [
          "Friday",
          "Monday",
          "Saturday",
          "Sunday",
          "Thursday",
          "Tuesday",
          "Wednesday"
         ],
         "legendgroup": "2018",
         "line": {
          "color": "#2CA02C",
          "dash": "solid"
         },
         "mode": "lines",
         "name": "2018",
         "orientation": "v",
         "showlegend": true,
         "type": "scatter",
         "x": [
          "Friday",
          "Monday",
          "Saturday",
          "Sunday",
          "Thursday",
          "Tuesday",
          "Wednesday"
         ],
         "xaxis": "x",
         "y": [
          18767,
          17266,
          15887,
          13772,
          17736,
          17203,
          17802
         ],
         "yaxis": "y"
        },
        {
         "hovertemplate": "<b>%{hovertext}</b><br><br>Año=2019<br>Dias=%{x}<br>Cantidad de delitos=%{y}<extra></extra>",
         "hovertext": [
          "Friday",
          "Monday",
          "Saturday",
          "Sunday",
          "Thursday",
          "Tuesday",
          "Wednesday"
         ],
         "legendgroup": "2019",
         "line": {
          "color": "#D62728",
          "dash": "solid"
         },
         "mode": "lines",
         "name": "2019",
         "orientation": "v",
         "showlegend": true,
         "type": "scatter",
         "x": [
          "Friday",
          "Monday",
          "Saturday",
          "Sunday",
          "Thursday",
          "Tuesday",
          "Wednesday"
         ],
         "xaxis": "x",
         "y": [
          19238,
          18393,
          15970,
          14303,
          17891,
          17892,
          18105
         ],
         "yaxis": "y"
        },
        {
         "hovertemplate": "<b>%{hovertext}</b><br><br>Año=2020<br>Dias=%{x}<br>Cantidad de delitos=%{y}<extra></extra>",
         "hovertext": [
          "Friday",
          "Monday",
          "Saturday",
          "Sunday",
          "Thursday",
          "Tuesday",
          "Wednesday"
         ],
         "legendgroup": "2020",
         "line": {
          "color": "#9467BD",
          "dash": "solid"
         },
         "mode": "lines",
         "name": "2020",
         "orientation": "v",
         "showlegend": true,
         "type": "scatter",
         "x": [
          "Friday",
          "Monday",
          "Saturday",
          "Sunday",
          "Thursday",
          "Tuesday",
          "Wednesday"
         ],
         "xaxis": "x",
         "y": [
          9948,
          9913,
          8717,
          7476,
          10283,
          9630,
          10336
         ],
         "yaxis": "y"
        }
       ],
       "layout": {
        "autosize": true,
        "legend": {
         "title": {
          "text": "Año"
         },
         "tracegroupgap": 0
        },
        "template": {
         "data": {
          "bar": [
           {
            "error_x": {
             "color": "rgb(36,36,36)"
            },
            "error_y": {
             "color": "rgb(36,36,36)"
            },
            "marker": {
             "line": {
              "color": "white",
              "width": 0.5
             },
             "pattern": {
              "fillmode": "overlay",
              "size": 10,
              "solidity": 0.2
             }
            },
            "type": "bar"
           }
          ],
          "barpolar": [
           {
            "marker": {
             "line": {
              "color": "white",
              "width": 0.5
             },
             "pattern": {
              "fillmode": "overlay",
              "size": 10,
              "solidity": 0.2
             }
            },
            "type": "barpolar"
           }
          ],
          "carpet": [
           {
            "aaxis": {
             "endlinecolor": "rgb(36,36,36)",
             "gridcolor": "white",
             "linecolor": "white",
             "minorgridcolor": "white",
             "startlinecolor": "rgb(36,36,36)"
            },
            "baxis": {
             "endlinecolor": "rgb(36,36,36)",
             "gridcolor": "white",
             "linecolor": "white",
             "minorgridcolor": "white",
             "startlinecolor": "rgb(36,36,36)"
            },
            "type": "carpet"
           }
          ],
          "choropleth": [
           {
            "colorbar": {
             "outlinewidth": 1,
             "tickcolor": "rgb(36,36,36)",
             "ticks": "outside"
            },
            "type": "choropleth"
           }
          ],
          "contour": [
           {
            "colorbar": {
             "outlinewidth": 1,
             "tickcolor": "rgb(36,36,36)",
             "ticks": "outside"
            },
            "colorscale": [
             [
              0,
              "#440154"
             ],
             [
              0.1111111111111111,
              "#482878"
             ],
             [
              0.2222222222222222,
              "#3e4989"
             ],
             [
              0.3333333333333333,
              "#31688e"
             ],
             [
              0.4444444444444444,
              "#26828e"
             ],
             [
              0.5555555555555556,
              "#1f9e89"
             ],
             [
              0.6666666666666666,
              "#35b779"
             ],
             [
              0.7777777777777778,
              "#6ece58"
             ],
             [
              0.8888888888888888,
              "#b5de2b"
             ],
             [
              1,
              "#fde725"
             ]
            ],
            "type": "contour"
           }
          ],
          "contourcarpet": [
           {
            "colorbar": {
             "outlinewidth": 1,
             "tickcolor": "rgb(36,36,36)",
             "ticks": "outside"
            },
            "type": "contourcarpet"
           }
          ],
          "heatmap": [
           {
            "colorbar": {
             "outlinewidth": 1,
             "tickcolor": "rgb(36,36,36)",
             "ticks": "outside"
            },
            "colorscale": [
             [
              0,
              "#440154"
             ],
             [
              0.1111111111111111,
              "#482878"
             ],
             [
              0.2222222222222222,
              "#3e4989"
             ],
             [
              0.3333333333333333,
              "#31688e"
             ],
             [
              0.4444444444444444,
              "#26828e"
             ],
             [
              0.5555555555555556,
              "#1f9e89"
             ],
             [
              0.6666666666666666,
              "#35b779"
             ],
             [
              0.7777777777777778,
              "#6ece58"
             ],
             [
              0.8888888888888888,
              "#b5de2b"
             ],
             [
              1,
              "#fde725"
             ]
            ],
            "type": "heatmap"
           }
          ],
          "heatmapgl": [
           {
            "colorbar": {
             "outlinewidth": 1,
             "tickcolor": "rgb(36,36,36)",
             "ticks": "outside"
            },
            "colorscale": [
             [
              0,
              "#440154"
             ],
             [
              0.1111111111111111,
              "#482878"
             ],
             [
              0.2222222222222222,
              "#3e4989"
             ],
             [
              0.3333333333333333,
              "#31688e"
             ],
             [
              0.4444444444444444,
              "#26828e"
             ],
             [
              0.5555555555555556,
              "#1f9e89"
             ],
             [
              0.6666666666666666,
              "#35b779"
             ],
             [
              0.7777777777777778,
              "#6ece58"
             ],
             [
              0.8888888888888888,
              "#b5de2b"
             ],
             [
              1,
              "#fde725"
             ]
            ],
            "type": "heatmapgl"
           }
          ],
          "histogram": [
           {
            "marker": {
             "line": {
              "color": "white",
              "width": 0.6
             }
            },
            "type": "histogram"
           }
          ],
          "histogram2d": [
           {
            "colorbar": {
             "outlinewidth": 1,
             "tickcolor": "rgb(36,36,36)",
             "ticks": "outside"
            },
            "colorscale": [
             [
              0,
              "#440154"
             ],
             [
              0.1111111111111111,
              "#482878"
             ],
             [
              0.2222222222222222,
              "#3e4989"
             ],
             [
              0.3333333333333333,
              "#31688e"
             ],
             [
              0.4444444444444444,
              "#26828e"
             ],
             [
              0.5555555555555556,
              "#1f9e89"
             ],
             [
              0.6666666666666666,
              "#35b779"
             ],
             [
              0.7777777777777778,
              "#6ece58"
             ],
             [
              0.8888888888888888,
              "#b5de2b"
             ],
             [
              1,
              "#fde725"
             ]
            ],
            "type": "histogram2d"
           }
          ],
          "histogram2dcontour": [
           {
            "colorbar": {
             "outlinewidth": 1,
             "tickcolor": "rgb(36,36,36)",
             "ticks": "outside"
            },
            "colorscale": [
             [
              0,
              "#440154"
             ],
             [
              0.1111111111111111,
              "#482878"
             ],
             [
              0.2222222222222222,
              "#3e4989"
             ],
             [
              0.3333333333333333,
              "#31688e"
             ],
             [
              0.4444444444444444,
              "#26828e"
             ],
             [
              0.5555555555555556,
              "#1f9e89"
             ],
             [
              0.6666666666666666,
              "#35b779"
             ],
             [
              0.7777777777777778,
              "#6ece58"
             ],
             [
              0.8888888888888888,
              "#b5de2b"
             ],
             [
              1,
              "#fde725"
             ]
            ],
            "type": "histogram2dcontour"
           }
          ],
          "mesh3d": [
           {
            "colorbar": {
             "outlinewidth": 1,
             "tickcolor": "rgb(36,36,36)",
             "ticks": "outside"
            },
            "type": "mesh3d"
           }
          ],
          "parcoords": [
           {
            "line": {
             "colorbar": {
              "outlinewidth": 1,
              "tickcolor": "rgb(36,36,36)",
              "ticks": "outside"
             }
            },
            "type": "parcoords"
           }
          ],
          "pie": [
           {
            "automargin": true,
            "type": "pie"
           }
          ],
          "scatter": [
           {
            "marker": {
             "colorbar": {
              "outlinewidth": 1,
              "tickcolor": "rgb(36,36,36)",
              "ticks": "outside"
             }
            },
            "type": "scatter"
           }
          ],
          "scatter3d": [
           {
            "line": {
             "colorbar": {
              "outlinewidth": 1,
              "tickcolor": "rgb(36,36,36)",
              "ticks": "outside"
             }
            },
            "marker": {
             "colorbar": {
              "outlinewidth": 1,
              "tickcolor": "rgb(36,36,36)",
              "ticks": "outside"
             }
            },
            "type": "scatter3d"
           }
          ],
          "scattercarpet": [
           {
            "marker": {
             "colorbar": {
              "outlinewidth": 1,
              "tickcolor": "rgb(36,36,36)",
              "ticks": "outside"
             }
            },
            "type": "scattercarpet"
           }
          ],
          "scattergeo": [
           {
            "marker": {
             "colorbar": {
              "outlinewidth": 1,
              "tickcolor": "rgb(36,36,36)",
              "ticks": "outside"
             }
            },
            "type": "scattergeo"
           }
          ],
          "scattergl": [
           {
            "marker": {
             "colorbar": {
              "outlinewidth": 1,
              "tickcolor": "rgb(36,36,36)",
              "ticks": "outside"
             }
            },
            "type": "scattergl"
           }
          ],
          "scattermapbox": [
           {
            "marker": {
             "colorbar": {
              "outlinewidth": 1,
              "tickcolor": "rgb(36,36,36)",
              "ticks": "outside"
             }
            },
            "type": "scattermapbox"
           }
          ],
          "scatterpolar": [
           {
            "marker": {
             "colorbar": {
              "outlinewidth": 1,
              "tickcolor": "rgb(36,36,36)",
              "ticks": "outside"
             }
            },
            "type": "scatterpolar"
           }
          ],
          "scatterpolargl": [
           {
            "marker": {
             "colorbar": {
              "outlinewidth": 1,
              "tickcolor": "rgb(36,36,36)",
              "ticks": "outside"
             }
            },
            "type": "scatterpolargl"
           }
          ],
          "scatterternary": [
           {
            "marker": {
             "colorbar": {
              "outlinewidth": 1,
              "tickcolor": "rgb(36,36,36)",
              "ticks": "outside"
             }
            },
            "type": "scatterternary"
           }
          ],
          "surface": [
           {
            "colorbar": {
             "outlinewidth": 1,
             "tickcolor": "rgb(36,36,36)",
             "ticks": "outside"
            },
            "colorscale": [
             [
              0,
              "#440154"
             ],
             [
              0.1111111111111111,
              "#482878"
             ],
             [
              0.2222222222222222,
              "#3e4989"
             ],
             [
              0.3333333333333333,
              "#31688e"
             ],
             [
              0.4444444444444444,
              "#26828e"
             ],
             [
              0.5555555555555556,
              "#1f9e89"
             ],
             [
              0.6666666666666666,
              "#35b779"
             ],
             [
              0.7777777777777778,
              "#6ece58"
             ],
             [
              0.8888888888888888,
              "#b5de2b"
             ],
             [
              1,
              "#fde725"
             ]
            ],
            "type": "surface"
           }
          ],
          "table": [
           {
            "cells": {
             "fill": {
              "color": "rgb(237,237,237)"
             },
             "line": {
              "color": "white"
             }
            },
            "header": {
             "fill": {
              "color": "rgb(217,217,217)"
             },
             "line": {
              "color": "white"
             }
            },
            "type": "table"
           }
          ]
         },
         "layout": {
          "annotationdefaults": {
           "arrowhead": 0,
           "arrowwidth": 1
          },
          "autotypenumbers": "strict",
          "coloraxis": {
           "colorbar": {
            "outlinewidth": 1,
            "tickcolor": "rgb(36,36,36)",
            "ticks": "outside"
           }
          },
          "colorscale": {
           "diverging": [
            [
             0,
             "rgb(103,0,31)"
            ],
            [
             0.1,
             "rgb(178,24,43)"
            ],
            [
             0.2,
             "rgb(214,96,77)"
            ],
            [
             0.3,
             "rgb(244,165,130)"
            ],
            [
             0.4,
             "rgb(253,219,199)"
            ],
            [
             0.5,
             "rgb(247,247,247)"
            ],
            [
             0.6,
             "rgb(209,229,240)"
            ],
            [
             0.7,
             "rgb(146,197,222)"
            ],
            [
             0.8,
             "rgb(67,147,195)"
            ],
            [
             0.9,
             "rgb(33,102,172)"
            ],
            [
             1,
             "rgb(5,48,97)"
            ]
           ],
           "sequential": [
            [
             0,
             "#440154"
            ],
            [
             0.1111111111111111,
             "#482878"
            ],
            [
             0.2222222222222222,
             "#3e4989"
            ],
            [
             0.3333333333333333,
             "#31688e"
            ],
            [
             0.4444444444444444,
             "#26828e"
            ],
            [
             0.5555555555555556,
             "#1f9e89"
            ],
            [
             0.6666666666666666,
             "#35b779"
            ],
            [
             0.7777777777777778,
             "#6ece58"
            ],
            [
             0.8888888888888888,
             "#b5de2b"
            ],
            [
             1,
             "#fde725"
            ]
           ],
           "sequentialminus": [
            [
             0,
             "#440154"
            ],
            [
             0.1111111111111111,
             "#482878"
            ],
            [
             0.2222222222222222,
             "#3e4989"
            ],
            [
             0.3333333333333333,
             "#31688e"
            ],
            [
             0.4444444444444444,
             "#26828e"
            ],
            [
             0.5555555555555556,
             "#1f9e89"
            ],
            [
             0.6666666666666666,
             "#35b779"
            ],
            [
             0.7777777777777778,
             "#6ece58"
            ],
            [
             0.8888888888888888,
             "#b5de2b"
            ],
            [
             1,
             "#fde725"
            ]
           ]
          },
          "colorway": [
           "#1F77B4",
           "#FF7F0E",
           "#2CA02C",
           "#D62728",
           "#9467BD",
           "#8C564B",
           "#E377C2",
           "#7F7F7F",
           "#BCBD22",
           "#17BECF"
          ],
          "font": {
           "color": "rgb(36,36,36)"
          },
          "geo": {
           "bgcolor": "white",
           "lakecolor": "white",
           "landcolor": "white",
           "showlakes": true,
           "showland": true,
           "subunitcolor": "white"
          },
          "hoverlabel": {
           "align": "left"
          },
          "hovermode": "closest",
          "mapbox": {
           "style": "light"
          },
          "paper_bgcolor": "white",
          "plot_bgcolor": "white",
          "polar": {
           "angularaxis": {
            "gridcolor": "rgb(232,232,232)",
            "linecolor": "rgb(36,36,36)",
            "showgrid": false,
            "showline": true,
            "ticks": "outside"
           },
           "bgcolor": "white",
           "radialaxis": {
            "gridcolor": "rgb(232,232,232)",
            "linecolor": "rgb(36,36,36)",
            "showgrid": false,
            "showline": true,
            "ticks": "outside"
           }
          },
          "scene": {
           "xaxis": {
            "backgroundcolor": "white",
            "gridcolor": "rgb(232,232,232)",
            "gridwidth": 2,
            "linecolor": "rgb(36,36,36)",
            "showbackground": true,
            "showgrid": false,
            "showline": true,
            "ticks": "outside",
            "zeroline": false,
            "zerolinecolor": "rgb(36,36,36)"
           },
           "yaxis": {
            "backgroundcolor": "white",
            "gridcolor": "rgb(232,232,232)",
            "gridwidth": 2,
            "linecolor": "rgb(36,36,36)",
            "showbackground": true,
            "showgrid": false,
            "showline": true,
            "ticks": "outside",
            "zeroline": false,
            "zerolinecolor": "rgb(36,36,36)"
           },
           "zaxis": {
            "backgroundcolor": "white",
            "gridcolor": "rgb(232,232,232)",
            "gridwidth": 2,
            "linecolor": "rgb(36,36,36)",
            "showbackground": true,
            "showgrid": false,
            "showline": true,
            "ticks": "outside",
            "zeroline": false,
            "zerolinecolor": "rgb(36,36,36)"
           }
          },
          "shapedefaults": {
           "fillcolor": "black",
           "line": {
            "width": 0
           },
           "opacity": 0.3
          },
          "ternary": {
           "aaxis": {
            "gridcolor": "rgb(232,232,232)",
            "linecolor": "rgb(36,36,36)",
            "showgrid": false,
            "showline": true,
            "ticks": "outside"
           },
           "baxis": {
            "gridcolor": "rgb(232,232,232)",
            "linecolor": "rgb(36,36,36)",
            "showgrid": false,
            "showline": true,
            "ticks": "outside"
           },
           "bgcolor": "white",
           "caxis": {
            "gridcolor": "rgb(232,232,232)",
            "linecolor": "rgb(36,36,36)",
            "showgrid": false,
            "showline": true,
            "ticks": "outside"
           }
          },
          "title": {
           "x": 0.05
          },
          "xaxis": {
           "automargin": true,
           "gridcolor": "rgb(232,232,232)",
           "linecolor": "rgb(36,36,36)",
           "showgrid": false,
           "showline": true,
           "ticks": "outside",
           "title": {
            "standoff": 15
           },
           "zeroline": false,
           "zerolinecolor": "rgb(36,36,36)"
          },
          "yaxis": {
           "automargin": true,
           "gridcolor": "rgb(232,232,232)",
           "linecolor": "rgb(36,36,36)",
           "showgrid": false,
           "showline": true,
           "ticks": "outside",
           "title": {
            "standoff": 15
           },
           "zeroline": false,
           "zerolinecolor": "rgb(36,36,36)"
          }
         }
        },
        "title": {
         "text": "Delitos por dia CABA"
        },
        "xaxis": {
         "anchor": "y",
         "autorange": true,
         "domain": [
          0,
          1
         ],
         "range": [
          0,
          6
         ],
         "title": {
          "text": "Dias"
         },
         "type": "category"
        },
        "yaxis": {
         "anchor": "x",
         "autorange": true,
         "domain": [
          0,
          1
         ],
         "range": [
          3.8505948694383125,
          4.312083334807945
         ],
         "title": {
          "text": "Cantidad de delitos"
         },
         "type": "log"
        }
       }
      },
      "image/png": "[encoded data removed]",
      "text/html": [
       "<div>                            <div id=\"13fc5c09-0b82-4fc5-94b7-d61539bef523\" class=\"plotly-graph-div\" style=\"height:500px; width:100%;\"></div>            <script type=\"text/javascript\">                require([\"plotly\"], function(Plotly) {                    window.PLOTLYENV=window.PLOTLYENV || {};                                    if (document.getElementById(\"13fc5c09-0b82-4fc5-94b7-d61539bef523\")) {                    Plotly.newPlot(                        \"13fc5c09-0b82-4fc5-94b7-d61539bef523\",                        [{\"hovertemplate\":\"<b>%{hovertext}</b><br><br>A\\u00f1o=2016<br>Dias=%{x}<br>Cantidad de delitos=%{y}<extra></extra>\",\"hovertext\":[\"Friday\",\"Monday\",\"Saturday\",\"Sunday\",\"Thursday\",\"Tuesday\",\"Wednesday\"],\"legendgroup\":\"2016\",\"line\":{\"color\":\"#1F77B4\",\"dash\":\"solid\"},\"mode\":\"lines\",\"name\":\"2016\",\"orientation\":\"v\",\"showlegend\":true,\"type\":\"scatter\",\"x\":[\"Friday\",\"Monday\",\"Saturday\",\"Sunday\",\"Thursday\",\"Tuesday\",\"Wednesday\"],\"xaxis\":\"x\",\"y\":[19454,17962,17525,14783,18844,18731,18658],\"yaxis\":\"y\"},{\"hovertemplate\":\"<b>%{hovertext}</b><br><br>A\\u00f1o=2017<br>Dias=%{x}<br>Cantidad de delitos=%{y}<extra></extra>\",\"hovertext\":[\"Friday\",\"Monday\",\"Saturday\",\"Sunday\",\"Thursday\",\"Tuesday\",\"Wednesday\"],\"legendgroup\":\"2017\",\"line\":{\"color\":\"#FF7F0E\",\"dash\":\"solid\"},\"mode\":\"lines\",\"name\":\"2017\",\"orientation\":\"v\",\"showlegend\":true,\"type\":\"scatter\",\"x\":[\"Friday\",\"Monday\",\"Saturday\",\"Sunday\",\"Thursday\",\"Tuesday\",\"Wednesday\"],\"xaxis\":\"x\",\"y\":[17845,18806,15430,10446,18459,18598,19139],\"yaxis\":\"y\"},{\"hovertemplate\":\"<b>%{hovertext}</b><br><br>A\\u00f1o=2018<br>Dias=%{x}<br>Cantidad de delitos=%{y}<extra></extra>\",\"hovertext\":[\"Friday\",\"Monday\",\"Saturday\",\"Sunday\",\"Thursday\",\"Tuesday\",\"Wednesday\"],\"legendgroup\":\"2018\",\"line\":{\"color\":\"#2CA02C\",\"dash\":\"solid\"},\"mode\":\"lines\",\"name\":\"2018\",\"orientation\":\"v\",\"showlegend\":true,\"type\":\"scatter\",\"x\":[\"Friday\",\"Monday\",\"Saturday\",\"Sunday\",\"Thursday\",\"Tuesday\",\"Wednesday\"],\"xaxis\":\"x\",\"y\":[18767,17266,15887,13772,17736,17203,17802],\"yaxis\":\"y\"},{\"hovertemplate\":\"<b>%{hovertext}</b><br><br>A\\u00f1o=2019<br>Dias=%{x}<br>Cantidad de delitos=%{y}<extra></extra>\",\"hovertext\":[\"Friday\",\"Monday\",\"Saturday\",\"Sunday\",\"Thursday\",\"Tuesday\",\"Wednesday\"],\"legendgroup\":\"2019\",\"line\":{\"color\":\"#D62728\",\"dash\":\"solid\"},\"mode\":\"lines\",\"name\":\"2019\",\"orientation\":\"v\",\"showlegend\":true,\"type\":\"scatter\",\"x\":[\"Friday\",\"Monday\",\"Saturday\",\"Sunday\",\"Thursday\",\"Tuesday\",\"Wednesday\"],\"xaxis\":\"x\",\"y\":[19238,18393,15970,14303,17891,17892,18105],\"yaxis\":\"y\"},{\"hovertemplate\":\"<b>%{hovertext}</b><br><br>A\\u00f1o=2020<br>Dias=%{x}<br>Cantidad de delitos=%{y}<extra></extra>\",\"hovertext\":[\"Friday\",\"Monday\",\"Saturday\",\"Sunday\",\"Thursday\",\"Tuesday\",\"Wednesday\"],\"legendgroup\":\"2020\",\"line\":{\"color\":\"#9467BD\",\"dash\":\"solid\"},\"mode\":\"lines\",\"name\":\"2020\",\"orientation\":\"v\",\"showlegend\":true,\"type\":\"scatter\",\"x\":[\"Friday\",\"Monday\",\"Saturday\",\"Sunday\",\"Thursday\",\"Tuesday\",\"Wednesday\"],\"xaxis\":\"x\",\"y\":[9948,9913,8717,7476,10283,9630,10336],\"yaxis\":\"y\"}],                        {\"height\":500,\"legend\":{\"title\":{\"text\":\"A\\u00f1o\"},\"tracegroupgap\":0},\"template\":{\"data\":{\"bar\":[{\"error_x\":{\"color\":\"rgb(36,36,36)\"},\"error_y\":{\"color\":\"rgb(36,36,36)\"},\"marker\":{\"line\":{\"color\":\"white\",\"width\":0.5},\"pattern\":{\"fillmode\":\"overlay\",\"size\":10,\"solidity\":0.2}},\"type\":\"bar\"}],\"barpolar\":[{\"marker\":{\"line\":{\"color\":\"white\",\"width\":0.5},\"pattern\":{\"fillmode\":\"overlay\",\"size\":10,\"solidity\":0.2}},\"type\":\"barpolar\"}],\"carpet\":[{\"aaxis\":{\"endlinecolor\":\"rgb(36,36,36)\",\"gridcolor\":\"white\",\"linecolor\":\"white\",\"minorgridcolor\":\"white\",\"startlinecolor\":\"rgb(36,36,36)\"},\"baxis\":{\"endlinecolor\":\"rgb(36,36,36)\",\"gridcolor\":\"white\",\"linecolor\":\"white\",\"minorgridcolor\":\"white\",\"startlinecolor\":\"rgb(36,36,36)\"},\"type\":\"carpet\"}],\"choropleth\":[{\"colorbar\":{\"outlinewidth\":1,\"tickcolor\":\"rgb(36,36,36)\",\"ticks\":\"outside\"},\"type\":\"choropleth\"}],\"contour\":[{\"colorbar\":{\"outlinewidth\":1,\"tickcolor\":\"rgb(36,36,36)\",\"ticks\":\"outside\"},\"colorscale\":[[0.0,\"#440154\"],[0.1111111111111111,\"#482878\"],[0.2222222222222222,\"#3e4989\"],[0.3333333333333333,\"#31688e\"],[0.4444444444444444,\"#26828e\"],[0.5555555555555556,\"#1f9e89\"],[0.6666666666666666,\"#35b779\"],[0.7777777777777778,\"#6ece58\"],[0.8888888888888888,\"#b5de2b\"],[1.0,\"#fde725\"]],\"type\":\"contour\"}],\"contourcarpet\":[{\"colorbar\":{\"outlinewidth\":1,\"tickcolor\":\"rgb(36,36,36)\",\"ticks\":\"outside\"},\"type\":\"contourcarpet\"}],\"heatmap\":[{\"colorbar\":{\"outlinewidth\":1,\"tickcolor\":\"rgb(36,36,36)\",\"ticks\":\"outside\"},\"colorscale\":[[0.0,\"#440154\"],[0.1111111111111111,\"#482878\"],[0.2222222222222222,\"#3e4989\"],[0.3333333333333333,\"#31688e\"],[0.4444444444444444,\"#26828e\"],[0.5555555555555556,\"#1f9e89\"],[0.6666666666666666,\"#35b779\"],[0.7777777777777778,\"#6ece58\"],[0.8888888888888888,\"#b5de2b\"],[1.0,\"#fde725\"]],\"type\":\"heatmap\"}],\"heatmapgl\":[{\"colorbar\":{\"outlinewidth\":1,\"tickcolor\":\"rgb(36,36,36)\",\"ticks\":\"outside\"},\"colorscale\":[[0.0,\"#440154\"],[0.1111111111111111,\"#482878\"],[0.2222222222222222,\"#3e4989\"],[0.3333333333333333,\"#31688e\"],[0.4444444444444444,\"#26828e\"],[0.5555555555555556,\"#1f9e89\"],[0.6666666666666666,\"#35b779\"],[0.7777777777777778,\"#6ece58\"],[0.8888888888888888,\"#b5de2b\"],[1.0,\"#fde725\"]],\"type\":\"heatmapgl\"}],\"histogram\":[{\"marker\":{\"line\":{\"color\":\"white\",\"width\":0.6}},\"type\":\"histogram\"}],\"histogram2d\":[{\"colorbar\":{\"outlinewidth\":1,\"tickcolor\":\"rgb(36,36,36)\",\"ticks\":\"outside\"},\"colorscale\":[[0.0,\"#440154\"],[0.1111111111111111,\"#482878\"],[0.2222222222222222,\"#3e4989\"],[0.3333333333333333,\"#31688e\"],[0.4444444444444444,\"#26828e\"],[0.5555555555555556,\"#1f9e89\"],[0.6666666666666666,\"#35b779\"],[0.7777777777777778,\"#6ece58\"],[0.8888888888888888,\"#b5de2b\"],[1.0,\"#fde725\"]],\"type\":\"histogram2d\"}],\"histogram2dcontour\":[{\"colorbar\":{\"outlinewidth\":1,\"tickcolor\":\"rgb(36,36,36)\",\"ticks\":\"outside\"},\"colorscale\":[[0.0,\"#440154\"],[0.1111111111111111,\"#482878\"],[0.2222222222222222,\"#3e4989\"],[0.3333333333333333,\"#31688e\"],[0.4444444444444444,\"#26828e\"],[0.5555555555555556,\"#1f9e89\"],[0.6666666666666666,\"#35b779\"],[0.7777777777777778,\"#6ece58\"],[0.8888888888888888,\"#b5de2b\"],[1.0,\"#fde725\"]],\"type\":\"histogram2dcontour\"}],\"mesh3d\":[{\"colorbar\":{\"outlinewidth\":1,\"tickcolor\":\"rgb(36,36,36)\",\"ticks\":\"outside\"},\"type\":\"mesh3d\"}],\"parcoords\":[{\"line\":{\"colorbar\":{\"outlinewidth\":1,\"tickcolor\":\"rgb(36,36,36)\",\"ticks\":\"outside\"}},\"type\":\"parcoords\"}],\"pie\":[{\"automargin\":true,\"type\":\"pie\"}],\"scatter\":[{\"marker\":{\"colorbar\":{\"outlinewidth\":1,\"tickcolor\":\"rgb(36,36,36)\",\"ticks\":\"outside\"}},\"type\":\"scatter\"}],\"scatter3d\":[{\"line\":{\"colorbar\":{\"outlinewidth\":1,\"tickcolor\":\"rgb(36,36,36)\",\"ticks\":\"outside\"}},\"marker\":{\"colorbar\":{\"outlinewidth\":1,\"tickcolor\":\"rgb(36,36,36)\",\"ticks\":\"outside\"}},\"type\":\"scatter3d\"}],\"scattercarpet\":[{\"marker\":{\"colorbar\":{\"outlinewidth\":1,\"tickcolor\":\"rgb(36,36,36)\",\"ticks\":\"outside\"}},\"type\":\"scattercarpet\"}],\"scattergeo\":[{\"marker\":{\"colorbar\":{\"outlinewidth\":1,\"tickcolor\":\"rgb(36,36,36)\",\"ticks\":\"outside\"}},\"type\":\"scattergeo\"}],\"scattergl\":[{\"marker\":{\"colorbar\":{\"outlinewidth\":1,\"tickcolor\":\"rgb(36,36,36)\",\"ticks\":\"outside\"}},\"type\":\"scattergl\"}],\"scattermapbox\":[{\"marker\":{\"colorbar\":{\"outlinewidth\":1,\"tickcolor\":\"rgb(36,36,36)\",\"ticks\":\"outside\"}},\"type\":\"scattermapbox\"}],\"scatterpolar\":[{\"marker\":{\"colorbar\":{\"outlinewidth\":1,\"tickcolor\":\"rgb(36,36,36)\",\"ticks\":\"outside\"}},\"type\":\"scatterpolar\"}],\"scatterpolargl\":[{\"marker\":{\"colorbar\":{\"outlinewidth\":1,\"tickcolor\":\"rgb(36,36,36)\",\"ticks\":\"outside\"}},\"type\":\"scatterpolargl\"}],\"scatterternary\":[{\"marker\":{\"colorbar\":{\"outlinewidth\":1,\"tickcolor\":\"rgb(36,36,36)\",\"ticks\":\"outside\"}},\"type\":\"scatterternary\"}],\"surface\":[{\"colorbar\":{\"outlinewidth\":1,\"tickcolor\":\"rgb(36,36,36)\",\"ticks\":\"outside\"},\"colorscale\":[[0.0,\"#440154\"],[0.1111111111111111,\"#482878\"],[0.2222222222222222,\"#3e4989\"],[0.3333333333333333,\"#31688e\"],[0.4444444444444444,\"#26828e\"],[0.5555555555555556,\"#1f9e89\"],[0.6666666666666666,\"#35b779\"],[0.7777777777777778,\"#6ece58\"],[0.8888888888888888,\"#b5de2b\"],[1.0,\"#fde725\"]],\"type\":\"surface\"}],\"table\":[{\"cells\":{\"fill\":{\"color\":\"rgb(237,237,237)\"},\"line\":{\"color\":\"white\"}},\"header\":{\"fill\":{\"color\":\"rgb(217,217,217)\"},\"line\":{\"color\":\"white\"}},\"type\":\"table\"}]},\"layout\":{\"annotationdefaults\":{\"arrowhead\":0,\"arrowwidth\":1},\"autotypenumbers\":\"strict\",\"coloraxis\":{\"colorbar\":{\"outlinewidth\":1,\"tickcolor\":\"rgb(36,36,36)\",\"ticks\":\"outside\"}},\"colorscale\":{\"diverging\":[[0.0,\"rgb(103,0,31)\"],[0.1,\"rgb(178,24,43)\"],[0.2,\"rgb(214,96,77)\"],[0.3,\"rgb(244,165,130)\"],[0.4,\"rgb(253,219,199)\"],[0.5,\"rgb(247,247,247)\"],[0.6,\"rgb(209,229,240)\"],[0.7,\"rgb(146,197,222)\"],[0.8,\"rgb(67,147,195)\"],[0.9,\"rgb(33,102,172)\"],[1.0,\"rgb(5,48,97)\"]],\"sequential\":[[0.0,\"#440154\"],[0.1111111111111111,\"#482878\"],[0.2222222222222222,\"#3e4989\"],[0.3333333333333333,\"#31688e\"],[0.4444444444444444,\"#26828e\"],[0.5555555555555556,\"#1f9e89\"],[0.6666666666666666,\"#35b779\"],[0.7777777777777778,\"#6ece58\"],[0.8888888888888888,\"#b5de2b\"],[1.0,\"#fde725\"]],\"sequentialminus\":[[0.0,\"#440154\"],[0.1111111111111111,\"#482878\"],[0.2222222222222222,\"#3e4989\"],[0.3333333333333333,\"#31688e\"],[0.4444444444444444,\"#26828e\"],[0.5555555555555556,\"#1f9e89\"],[0.6666666666666666,\"#35b779\"],[0.7777777777777778,\"#6ece58\"],[0.8888888888888888,\"#b5de2b\"],[1.0,\"#fde725\"]]},\"colorway\":[\"#1F77B4\",\"#FF7F0E\",\"#2CA02C\",\"#D62728\",\"#9467BD\",\"#8C564B\",\"#E377C2\",\"#7F7F7F\",\"#BCBD22\",\"#17BECF\"],\"font\":{\"color\":\"rgb(36,36,36)\"},\"geo\":{\"bgcolor\":\"white\",\"lakecolor\":\"white\",\"landcolor\":\"white\",\"showlakes\":true,\"showland\":true,\"subunitcolor\":\"white\"},\"hoverlabel\":{\"align\":\"left\"},\"hovermode\":\"closest\",\"mapbox\":{\"style\":\"light\"},\"paper_bgcolor\":\"white\",\"plot_bgcolor\":\"white\",\"polar\":{\"angularaxis\":{\"gridcolor\":\"rgb(232,232,232)\",\"linecolor\":\"rgb(36,36,36)\",\"showgrid\":false,\"showline\":true,\"ticks\":\"outside\"},\"bgcolor\":\"white\",\"radialaxis\":{\"gridcolor\":\"rgb(232,232,232)\",\"linecolor\":\"rgb(36,36,36)\",\"showgrid\":false,\"showline\":true,\"ticks\":\"outside\"}},\"scene\":{\"xaxis\":{\"backgroundcolor\":\"white\",\"gridcolor\":\"rgb(232,232,232)\",\"gridwidth\":2,\"linecolor\":\"rgb(36,36,36)\",\"showbackground\":true,\"showgrid\":false,\"showline\":true,\"ticks\":\"outside\",\"zeroline\":false,\"zerolinecolor\":\"rgb(36,36,36)\"},\"yaxis\":{\"backgroundcolor\":\"white\",\"gridcolor\":\"rgb(232,232,232)\",\"gridwidth\":2,\"linecolor\":\"rgb(36,36,36)\",\"showbackground\":true,\"showgrid\":false,\"showline\":true,\"ticks\":\"outside\",\"zeroline\":false,\"zerolinecolor\":\"rgb(36,36,36)\"},\"zaxis\":{\"backgroundcolor\":\"white\",\"gridcolor\":\"rgb(232,232,232)\",\"gridwidth\":2,\"linecolor\":\"rgb(36,36,36)\",\"showbackground\":true,\"showgrid\":false,\"showline\":true,\"ticks\":\"outside\",\"zeroline\":false,\"zerolinecolor\":\"rgb(36,36,36)\"}},\"shapedefaults\":{\"fillcolor\":\"black\",\"line\":{\"width\":0},\"opacity\":0.3},\"ternary\":{\"aaxis\":{\"gridcolor\":\"rgb(232,232,232)\",\"linecolor\":\"rgb(36,36,36)\",\"showgrid\":false,\"showline\":true,\"ticks\":\"outside\"},\"baxis\":{\"gridcolor\":\"rgb(232,232,232)\",\"linecolor\":\"rgb(36,36,36)\",\"showgrid\":false,\"showline\":true,\"ticks\":\"outside\"},\"bgcolor\":\"white\",\"caxis\":{\"gridcolor\":\"rgb(232,232,232)\",\"linecolor\":\"rgb(36,36,36)\",\"showgrid\":false,\"showline\":true,\"ticks\":\"outside\"}},\"title\":{\"x\":0.05},\"xaxis\":{\"automargin\":true,\"gridcolor\":\"rgb(232,232,232)\",\"linecolor\":\"rgb(36,36,36)\",\"showgrid\":false,\"showline\":true,\"ticks\":\"outside\",\"title\":{\"standoff\":15},\"zeroline\":false,\"zerolinecolor\":\"rgb(36,36,36)\"},\"yaxis\":{\"automargin\":true,\"gridcolor\":\"rgb(232,232,232)\",\"linecolor\":\"rgb(36,36,36)\",\"showgrid\":false,\"showline\":true,\"ticks\":\"outside\",\"title\":{\"standoff\":15},\"zeroline\":false,\"zerolinecolor\":\"rgb(36,36,36)\"}}},\"title\":{\"text\":\"Delitos por dia CABA\"},\"xaxis\":{\"anchor\":\"y\",\"domain\":[0.0,1.0],\"title\":{\"text\":\"Dias\"}},\"yaxis\":{\"anchor\":\"x\",\"domain\":[0.0,1.0],\"title\":{\"text\":\"Cantidad de delitos\"},\"type\":\"log\"}},                        {\"responsive\": true}                    ).then(function(){\n",
       "                            \n",
       "var gd = document.getElementById('13fc5c09-0b82-4fc5-94b7-d61539bef523');\n",
       "var x = new MutationObserver(function (mutations, observer) {{\n",
       "        var display = window.getComputedStyle(gd).display;\n",
       "        if (!display || display === 'none') {{\n",
       "            console.log([gd, 'removed!']);\n",
       "            Plotly.purge(gd);\n",
       "            observer.disconnect();\n",
       "        }}\n",
       "}});\n",
       "\n",
       "// Listen for the removal of the full notebook cells\n",
       "var notebookContainer = gd.closest('#notebook-container');\n",
       "if (notebookContainer) {{\n",
       "    x.observe(notebookContainer, {childList: true});\n",
       "}}\n",
       "\n",
       "// Listen for the clearing of the current output cell\n",
       "var outputEl = gd.closest('.output');\n",
       "if (outputEl) {{\n",
       "    x.observe(outputEl, {childList: true});\n",
       "}}\n",
       "\n",
       "                        })                };                });            </script>        </div>"
      ]
     },
     "metadata": {},
     "output_type": "display_data"
    }
   ],
   "source": [
    "fig = px.line(df_dia, x = 'dia', y = 'count',\n",
    "            color = 'anio',\n",
    "            template = 'simple_white',\n",
    "            labels = {'count' : 'Cantidad de delitos', 'dia': 'Dias', 'anio':'Año'},\n",
    "            title = 'Delitos por dia CABA',\n",
    "            hover_name = 'dia',\n",
    "            height = 500, \n",
    "            log_y = True\n",
    "            )\n",
    "fig.show()"
   ]
  },
  {
   "cell_type": "code",
   "execution_count": 22,
   "id": "bb484a69-e7f8-476e-9030-5d2377fffc38",
   "metadata": {},
   "outputs": [],
   "source": [
    "df_dia_tipo = df.groupby(['anio','dia', 'tipo_delito'])['tipo_delito'].count().reset_index(name = 'count')"
   ]
  },
  {
   "cell_type": "code",
   "execution_count": 27,
   "id": "00f1d6a3-cb6e-4502-8210-620145aff425",
   "metadata": {},
   "outputs": [
    {
     "data": {
      "application/vnd.plotly.v1+json": {
       "config": {
        "plotlyServerURL": "https://plot.ly"
       },
       "data": [
        {
         "hovertemplate": "tipo_delito=Homicidio<br>Año=2016<br>Dias=%{x}<br>Cantidad de delitos=%{y}<extra></extra>",
         "legendgroup": "Homicidio",
         "line": {
          "color": "#636efa",
          "dash": "solid"
         },
         "mode": "lines",
         "name": "Homicidio",
         "orientation": "v",
         "showlegend": true,
         "type": "scatter",
         "x": [
          "Friday",
          "Monday",
          "Saturday",
          "Sunday",
          "Thursday",
          "Tuesday",
          "Wednesday"
         ],
         "xaxis": "x",
         "y": [
          31,
          39,
          44,
          52,
          28,
          31,
          43
         ],
         "yaxis": "y"
        },
        {
         "hovertemplate": "tipo_delito=Homicidio<br>Año=2017<br>Dias=%{x}<br>Cantidad de delitos=%{y}<extra></extra>",
         "legendgroup": "Homicidio",
         "line": {
          "color": "#636efa",
          "dash": "solid"
         },
         "mode": "lines",
         "name": "Homicidio",
         "orientation": "v",
         "showlegend": false,
         "type": "scatter",
         "x": [
          "Friday",
          "Monday",
          "Saturday",
          "Sunday",
          "Thursday",
          "Tuesday",
          "Wednesday"
         ],
         "xaxis": "x2",
         "y": [
          38,
          48,
          31,
          42,
          35,
          41,
          28
         ],
         "yaxis": "y2"
        },
        {
         "hovertemplate": "tipo_delito=Homicidio<br>Año=2018<br>Dias=%{x}<br>Cantidad de delitos=%{y}<extra></extra>",
         "legendgroup": "Homicidio",
         "line": {
          "color": "#636efa",
          "dash": "solid"
         },
         "mode": "lines",
         "name": "Homicidio",
         "orientation": "v",
         "showlegend": false,
         "type": "scatter",
         "x": [
          "Friday",
          "Monday",
          "Saturday",
          "Sunday",
          "Thursday",
          "Tuesday",
          "Wednesday"
         ],
         "xaxis": "x3",
         "y": [
          51,
          33,
          41,
          41,
          28,
          27,
          45
         ],
         "yaxis": "y3"
        },
        {
         "hovertemplate": "tipo_delito=Homicidio<br>Año=2019<br>Dias=%{x}<br>Cantidad de delitos=%{y}<extra></extra>",
         "legendgroup": "Homicidio",
         "line": {
          "color": "#636efa",
          "dash": "solid"
         },
         "mode": "lines",
         "name": "Homicidio",
         "orientation": "v",
         "showlegend": false,
         "type": "scatter",
         "x": [
          "Friday",
          "Monday",
          "Saturday",
          "Sunday",
          "Thursday",
          "Tuesday",
          "Wednesday"
         ],
         "xaxis": "x4",
         "y": [
          23,
          15,
          38,
          29,
          28,
          32,
          33
         ],
         "yaxis": "y4"
        },
        {
         "hovertemplate": "tipo_delito=Homicidio<br>Año=2020<br>Dias=%{x}<br>Cantidad de delitos=%{y}<extra></extra>",
         "legendgroup": "Homicidio",
         "line": {
          "color": "#636efa",
          "dash": "solid"
         },
         "mode": "lines",
         "name": "Homicidio",
         "orientation": "v",
         "showlegend": false,
         "type": "scatter",
         "x": [
          "Friday",
          "Monday",
          "Saturday",
          "Sunday",
          "Thursday",
          "Tuesday",
          "Wednesday"
         ],
         "xaxis": "x5",
         "y": [
          21,
          35,
          32,
          18,
          27,
          32,
          25
         ],
         "yaxis": "y5"
        },
        {
         "hovertemplate": "tipo_delito=Hurto (sin violencia)<br>Año=2016<br>Dias=%{x}<br>Cantidad de delitos=%{y}<extra></extra>",
         "legendgroup": "Hurto (sin violencia)",
         "line": {
          "color": "#EF553B",
          "dash": "solid"
         },
         "mode": "lines",
         "name": "Hurto (sin violencia)",
         "orientation": "v",
         "showlegend": true,
         "type": "scatter",
         "x": [
          "Friday",
          "Monday",
          "Saturday",
          "Sunday",
          "Thursday",
          "Tuesday",
          "Wednesday"
         ],
         "xaxis": "x",
         "y": [
          7128,
          6321,
          6495,
          5404,
          7006,
          6864,
          6852
         ],
         "yaxis": "y"
        },
        {
         "hovertemplate": "tipo_delito=Hurto (sin violencia)<br>Año=2017<br>Dias=%{x}<br>Cantidad de delitos=%{y}<extra></extra>",
         "legendgroup": "Hurto (sin violencia)",
         "line": {
          "color": "#EF553B",
          "dash": "solid"
         },
         "mode": "lines",
         "name": "Hurto (sin violencia)",
         "orientation": "v",
         "showlegend": false,
         "type": "scatter",
         "x": [
          "Friday",
          "Monday",
          "Saturday",
          "Sunday",
          "Thursday",
          "Tuesday",
          "Wednesday"
         ],
         "xaxis": "x2",
         "y": [
          6292,
          6590,
          5401,
          3559,
          6676,
          6597,
          6935
         ],
         "yaxis": "y2"
        },
        {
         "hovertemplate": "tipo_delito=Hurto (sin violencia)<br>Año=2018<br>Dias=%{x}<br>Cantidad de delitos=%{y}<extra></extra>",
         "legendgroup": "Hurto (sin violencia)",
         "line": {
          "color": "#EF553B",
          "dash": "solid"
         },
         "mode": "lines",
         "name": "Hurto (sin violencia)",
         "orientation": "v",
         "showlegend": false,
         "type": "scatter",
         "x": [
          "Friday",
          "Monday",
          "Saturday",
          "Sunday",
          "Thursday",
          "Tuesday",
          "Wednesday"
         ],
         "xaxis": "x3",
         "y": [
          6667,
          5686,
          5597,
          4727,
          6164,
          5966,
          6134
         ],
         "yaxis": "y3"
        },
        {
         "hovertemplate": "tipo_delito=Hurto (sin violencia)<br>Año=2019<br>Dias=%{x}<br>Cantidad de delitos=%{y}<extra></extra>",
         "legendgroup": "Hurto (sin violencia)",
         "line": {
          "color": "#EF553B",
          "dash": "solid"
         },
         "mode": "lines",
         "name": "Hurto (sin violencia)",
         "orientation": "v",
         "showlegend": false,
         "type": "scatter",
         "x": [
          "Friday",
          "Monday",
          "Saturday",
          "Sunday",
          "Thursday",
          "Tuesday",
          "Wednesday"
         ],
         "xaxis": "x4",
         "y": [
          8064,
          7278,
          6508,
          5368,
          7448,
          7276,
          7327
         ],
         "yaxis": "y4"
        },
        {
         "hovertemplate": "tipo_delito=Hurto (sin violencia)<br>Año=2020<br>Dias=%{x}<br>Cantidad de delitos=%{y}<extra></extra>",
         "legendgroup": "Hurto (sin violencia)",
         "line": {
          "color": "#EF553B",
          "dash": "solid"
         },
         "mode": "lines",
         "name": "Hurto (sin violencia)",
         "orientation": "v",
         "showlegend": false,
         "type": "scatter",
         "x": [
          "Friday",
          "Monday",
          "Saturday",
          "Sunday",
          "Thursday",
          "Tuesday",
          "Wednesday"
         ],
         "xaxis": "x5",
         "y": [
          3925,
          3777,
          3342,
          2699,
          4037,
          3714,
          4122
         ],
         "yaxis": "y5"
        },
        {
         "hovertemplate": "tipo_delito=Lesiones<br>Año=2016<br>Dias=%{x}<br>Cantidad de delitos=%{y}<extra></extra>",
         "legendgroup": "Lesiones",
         "line": {
          "color": "#00cc96",
          "dash": "solid"
         },
         "mode": "lines",
         "name": "Lesiones",
         "orientation": "v",
         "showlegend": true,
         "type": "scatter",
         "x": [
          "Friday",
          "Monday",
          "Saturday",
          "Sunday",
          "Thursday",
          "Tuesday",
          "Wednesday"
         ],
         "xaxis": "x",
         "y": [
          1470,
          1285,
          1062,
          825,
          1368,
          1326,
          1320
         ],
         "yaxis": "y"
        },
        {
         "hovertemplate": "tipo_delito=Lesiones<br>Año=2017<br>Dias=%{x}<br>Cantidad de delitos=%{y}<extra></extra>",
         "legendgroup": "Lesiones",
         "line": {
          "color": "#00cc96",
          "dash": "solid"
         },
         "mode": "lines",
         "name": "Lesiones",
         "orientation": "v",
         "showlegend": false,
         "type": "scatter",
         "x": [
          "Friday",
          "Monday",
          "Saturday",
          "Sunday",
          "Thursday",
          "Tuesday",
          "Wednesday"
         ],
         "xaxis": "x2",
         "y": [
          1578,
          1443,
          1197,
          910,
          1499,
          1541,
          1641
         ],
         "yaxis": "y2"
        },
        {
         "hovertemplate": "tipo_delito=Lesiones<br>Año=2018<br>Dias=%{x}<br>Cantidad de delitos=%{y}<extra></extra>",
         "legendgroup": "Lesiones",
         "line": {
          "color": "#00cc96",
          "dash": "solid"
         },
         "mode": "lines",
         "name": "Lesiones",
         "orientation": "v",
         "showlegend": false,
         "type": "scatter",
         "x": [
          "Friday",
          "Monday",
          "Saturday",
          "Sunday",
          "Thursday",
          "Tuesday",
          "Wednesday"
         ],
         "xaxis": "x3",
         "y": [
          1336,
          1138,
          952,
          753,
          1301,
          1162,
          1305
         ],
         "yaxis": "y3"
        },
        {
         "hovertemplate": "tipo_delito=Lesiones<br>Año=2019<br>Dias=%{x}<br>Cantidad de delitos=%{y}<extra></extra>",
         "legendgroup": "Lesiones",
         "line": {
          "color": "#00cc96",
          "dash": "solid"
         },
         "mode": "lines",
         "name": "Lesiones",
         "orientation": "v",
         "showlegend": false,
         "type": "scatter",
         "x": [
          "Friday",
          "Monday",
          "Saturday",
          "Sunday",
          "Thursday",
          "Tuesday",
          "Wednesday"
         ],
         "xaxis": "x4",
         "y": [
          1634,
          1439,
          1065,
          854,
          1525,
          1508,
          1566
         ],
         "yaxis": "y4"
        },
        {
         "hovertemplate": "tipo_delito=Lesiones<br>Año=2020<br>Dias=%{x}<br>Cantidad de delitos=%{y}<extra></extra>",
         "legendgroup": "Lesiones",
         "line": {
          "color": "#00cc96",
          "dash": "solid"
         },
         "mode": "lines",
         "name": "Lesiones",
         "orientation": "v",
         "showlegend": false,
         "type": "scatter",
         "x": [
          "Friday",
          "Monday",
          "Saturday",
          "Sunday",
          "Thursday",
          "Tuesday",
          "Wednesday"
         ],
         "xaxis": "x5",
         "y": [
          967,
          914,
          716,
          517,
          1096,
          904,
          980
         ],
         "yaxis": "y5"
        },
        {
         "hovertemplate": "tipo_delito=Robo (con violencia)<br>Año=2016<br>Dias=%{x}<br>Cantidad de delitos=%{y}<extra></extra>",
         "legendgroup": "Robo (con violencia)",
         "line": {
          "color": "#ab63fa",
          "dash": "solid"
         },
         "mode": "lines",
         "name": "Robo (con violencia)",
         "orientation": "v",
         "showlegend": true,
         "type": "scatter",
         "x": [
          "Friday",
          "Monday",
          "Saturday",
          "Sunday",
          "Thursday",
          "Tuesday",
          "Wednesday"
         ],
         "xaxis": "x",
         "y": [
          10825,
          10317,
          9924,
          8502,
          10442,
          10510,
          10443
         ],
         "yaxis": "y"
        },
        {
         "hovertemplate": "tipo_delito=Robo (con violencia)<br>Año=2017<br>Dias=%{x}<br>Cantidad de delitos=%{y}<extra></extra>",
         "legendgroup": "Robo (con violencia)",
         "line": {
          "color": "#ab63fa",
          "dash": "solid"
         },
         "mode": "lines",
         "name": "Robo (con violencia)",
         "orientation": "v",
         "showlegend": false,
         "type": "scatter",
         "x": [
          "Friday",
          "Monday",
          "Saturday",
          "Sunday",
          "Thursday",
          "Tuesday",
          "Wednesday"
         ],
         "xaxis": "x2",
         "y": [
          9937,
          10725,
          8801,
          5935,
          10249,
          10419,
          10535
         ],
         "yaxis": "y2"
        },
        {
         "hovertemplate": "tipo_delito=Robo (con violencia)<br>Año=2018<br>Dias=%{x}<br>Cantidad de delitos=%{y}<extra></extra>",
         "legendgroup": "Robo (con violencia)",
         "line": {
          "color": "#ab63fa",
          "dash": "solid"
         },
         "mode": "lines",
         "name": "Robo (con violencia)",
         "orientation": "v",
         "showlegend": false,
         "type": "scatter",
         "x": [
          "Friday",
          "Monday",
          "Saturday",
          "Sunday",
          "Thursday",
          "Tuesday",
          "Wednesday"
         ],
         "xaxis": "x3",
         "y": [
          10713,
          10409,
          9297,
          8251,
          10243,
          10048,
          10318
         ],
         "yaxis": "y3"
        },
        {
         "hovertemplate": "tipo_delito=Robo (con violencia)<br>Año=2019<br>Dias=%{x}<br>Cantidad de delitos=%{y}<extra></extra>",
         "legendgroup": "Robo (con violencia)",
         "line": {
          "color": "#ab63fa",
          "dash": "solid"
         },
         "mode": "lines",
         "name": "Robo (con violencia)",
         "orientation": "v",
         "showlegend": false,
         "type": "scatter",
         "x": [
          "Friday",
          "Monday",
          "Saturday",
          "Sunday",
          "Thursday",
          "Tuesday",
          "Wednesday"
         ],
         "xaxis": "x4",
         "y": [
          9517,
          9661,
          8359,
          8052,
          8890,
          9076,
          9179
         ],
         "yaxis": "y4"
        },
        {
         "hovertemplate": "tipo_delito=Robo (con violencia)<br>Año=2020<br>Dias=%{x}<br>Cantidad de delitos=%{y}<extra></extra>",
         "legendgroup": "Robo (con violencia)",
         "line": {
          "color": "#ab63fa",
          "dash": "solid"
         },
         "mode": "lines",
         "name": "Robo (con violencia)",
         "orientation": "v",
         "showlegend": false,
         "type": "scatter",
         "x": [
          "Friday",
          "Monday",
          "Saturday",
          "Sunday",
          "Thursday",
          "Tuesday",
          "Wednesday"
         ],
         "xaxis": "x5",
         "y": [
          5035,
          5187,
          4627,
          4242,
          5123,
          4980,
          5209
         ],
         "yaxis": "y5"
        }
       ],
       "layout": {
        "annotations": [
         {
          "font": {},
          "showarrow": false,
          "text": "Año=2016",
          "x": 0.09200000000000001,
          "xanchor": "center",
          "xref": "paper",
          "y": 1,
          "yanchor": "bottom",
          "yref": "paper"
         },
         {
          "font": {},
          "showarrow": false,
          "text": "Año=2017",
          "x": 0.29600000000000004,
          "xanchor": "center",
          "xref": "paper",
          "y": 1,
          "yanchor": "bottom",
          "yref": "paper"
         },
         {
          "font": {},
          "showarrow": false,
          "text": "Año=2018",
          "x": 0.5,
          "xanchor": "center",
          "xref": "paper",
          "y": 1,
          "yanchor": "bottom",
          "yref": "paper"
         },
         {
          "font": {},
          "showarrow": false,
          "text": "Año=2019",
          "x": 0.7040000000000002,
          "xanchor": "center",
          "xref": "paper",
          "y": 1,
          "yanchor": "bottom",
          "yref": "paper"
         },
         {
          "font": {},
          "showarrow": false,
          "text": "Año=2020",
          "x": 0.908,
          "xanchor": "center",
          "xref": "paper",
          "y": 1,
          "yanchor": "bottom",
          "yref": "paper"
         }
        ],
        "autosize": true,
        "legend": {
         "title": {
          "text": "tipo_delito"
         },
         "tracegroupgap": 0
        },
        "margin": {
         "t": 60
        },
        "template": {
         "data": {
          "bar": [
           {
            "error_x": {
             "color": "#2a3f5f"
            },
            "error_y": {
             "color": "#2a3f5f"
            },
            "marker": {
             "line": {
              "color": "#E5ECF6",
              "width": 0.5
             },
             "pattern": {
              "fillmode": "overlay",
              "size": 10,
              "solidity": 0.2
             }
            },
            "type": "bar"
           }
          ],
          "barpolar": [
           {
            "marker": {
             "line": {
              "color": "#E5ECF6",
              "width": 0.5
             },
             "pattern": {
              "fillmode": "overlay",
              "size": 10,
              "solidity": 0.2
             }
            },
            "type": "barpolar"
           }
          ],
          "carpet": [
           {
            "aaxis": {
             "endlinecolor": "#2a3f5f",
             "gridcolor": "white",
             "linecolor": "white",
             "minorgridcolor": "white",
             "startlinecolor": "#2a3f5f"
            },
            "baxis": {
             "endlinecolor": "#2a3f5f",
             "gridcolor": "white",
             "linecolor": "white",
             "minorgridcolor": "white",
             "startlinecolor": "#2a3f5f"
            },
            "type": "carpet"
           }
          ],
          "choropleth": [
           {
            "colorbar": {
             "outlinewidth": 0,
             "ticks": ""
            },
            "type": "choropleth"
           }
          ],
          "contour": [
           {
            "colorbar": {
             "outlinewidth": 0,
             "ticks": ""
            },
            "colorscale": [
             [
              0,
              "#0d0887"
             ],
             [
              0.1111111111111111,
              "#46039f"
             ],
             [
              0.2222222222222222,
              "#7201a8"
             ],
             [
              0.3333333333333333,
              "#9c179e"
             ],
             [
              0.4444444444444444,
              "#bd3786"
             ],
             [
              0.5555555555555556,
              "#d8576b"
             ],
             [
              0.6666666666666666,
              "#ed7953"
             ],
             [
              0.7777777777777778,
              "#fb9f3a"
             ],
             [
              0.8888888888888888,
              "#fdca26"
             ],
             [
              1,
              "#f0f921"
             ]
            ],
            "type": "contour"
           }
          ],
          "contourcarpet": [
           {
            "colorbar": {
             "outlinewidth": 0,
             "ticks": ""
            },
            "type": "contourcarpet"
           }
          ],
          "heatmap": [
           {
            "colorbar": {
             "outlinewidth": 0,
             "ticks": ""
            },
            "colorscale": [
             [
              0,
              "#0d0887"
             ],
             [
              0.1111111111111111,
              "#46039f"
             ],
             [
              0.2222222222222222,
              "#7201a8"
             ],
             [
              0.3333333333333333,
              "#9c179e"
             ],
             [
              0.4444444444444444,
              "#bd3786"
             ],
             [
              0.5555555555555556,
              "#d8576b"
             ],
             [
              0.6666666666666666,
              "#ed7953"
             ],
             [
              0.7777777777777778,
              "#fb9f3a"
             ],
             [
              0.8888888888888888,
              "#fdca26"
             ],
             [
              1,
              "#f0f921"
             ]
            ],
            "type": "heatmap"
           }
          ],
          "heatmapgl": [
           {
            "colorbar": {
             "outlinewidth": 0,
             "ticks": ""
            },
            "colorscale": [
             [
              0,
              "#0d0887"
             ],
             [
              0.1111111111111111,
              "#46039f"
             ],
             [
              0.2222222222222222,
              "#7201a8"
             ],
             [
              0.3333333333333333,
              "#9c179e"
             ],
             [
              0.4444444444444444,
              "#bd3786"
             ],
             [
              0.5555555555555556,
              "#d8576b"
             ],
             [
              0.6666666666666666,
              "#ed7953"
             ],
             [
              0.7777777777777778,
              "#fb9f3a"
             ],
             [
              0.8888888888888888,
              "#fdca26"
             ],
             [
              1,
              "#f0f921"
             ]
            ],
            "type": "heatmapgl"
           }
          ],
          "histogram": [
           {
            "marker": {
             "pattern": {
              "fillmode": "overlay",
              "size": 10,
              "solidity": 0.2
             }
            },
            "type": "histogram"
           }
          ],
          "histogram2d": [
           {
            "colorbar": {
             "outlinewidth": 0,
             "ticks": ""
            },
            "colorscale": [
             [
              0,
              "#0d0887"
             ],
             [
              0.1111111111111111,
              "#46039f"
             ],
             [
              0.2222222222222222,
              "#7201a8"
             ],
             [
              0.3333333333333333,
              "#9c179e"
             ],
             [
              0.4444444444444444,
              "#bd3786"
             ],
             [
              0.5555555555555556,
              "#d8576b"
             ],
             [
              0.6666666666666666,
              "#ed7953"
             ],
             [
              0.7777777777777778,
              "#fb9f3a"
             ],
             [
              0.8888888888888888,
              "#fdca26"
             ],
             [
              1,
              "#f0f921"
             ]
            ],
            "type": "histogram2d"
           }
          ],
          "histogram2dcontour": [
           {
            "colorbar": {
             "outlinewidth": 0,
             "ticks": ""
            },
            "colorscale": [
             [
              0,
              "#0d0887"
             ],
             [
              0.1111111111111111,
              "#46039f"
             ],
             [
              0.2222222222222222,
              "#7201a8"
             ],
             [
              0.3333333333333333,
              "#9c179e"
             ],
             [
              0.4444444444444444,
              "#bd3786"
             ],
             [
              0.5555555555555556,
              "#d8576b"
             ],
             [
              0.6666666666666666,
              "#ed7953"
             ],
             [
              0.7777777777777778,
              "#fb9f3a"
             ],
             [
              0.8888888888888888,
              "#fdca26"
             ],
             [
              1,
              "#f0f921"
             ]
            ],
            "type": "histogram2dcontour"
           }
          ],
          "mesh3d": [
           {
            "colorbar": {
             "outlinewidth": 0,
             "ticks": ""
            },
            "type": "mesh3d"
           }
          ],
          "parcoords": [
           {
            "line": {
             "colorbar": {
              "outlinewidth": 0,
              "ticks": ""
             }
            },
            "type": "parcoords"
           }
          ],
          "pie": [
           {
            "automargin": true,
            "type": "pie"
           }
          ],
          "scatter": [
           {
            "marker": {
             "colorbar": {
              "outlinewidth": 0,
              "ticks": ""
             }
            },
            "type": "scatter"
           }
          ],
          "scatter3d": [
           {
            "line": {
             "colorbar": {
              "outlinewidth": 0,
              "ticks": ""
             }
            },
            "marker": {
             "colorbar": {
              "outlinewidth": 0,
              "ticks": ""
             }
            },
            "type": "scatter3d"
           }
          ],
          "scattercarpet": [
           {
            "marker": {
             "colorbar": {
              "outlinewidth": 0,
              "ticks": ""
             }
            },
            "type": "scattercarpet"
           }
          ],
          "scattergeo": [
           {
            "marker": {
             "colorbar": {
              "outlinewidth": 0,
              "ticks": ""
             }
            },
            "type": "scattergeo"
           }
          ],
          "scattergl": [
           {
            "marker": {
             "colorbar": {
              "outlinewidth": 0,
              "ticks": ""
             }
            },
            "type": "scattergl"
           }
          ],
          "scattermapbox": [
           {
            "marker": {
             "colorbar": {
              "outlinewidth": 0,
              "ticks": ""
             }
            },
            "type": "scattermapbox"
           }
          ],
          "scatterpolar": [
           {
            "marker": {
             "colorbar": {
              "outlinewidth": 0,
              "ticks": ""
             }
            },
            "type": "scatterpolar"
           }
          ],
          "scatterpolargl": [
           {
            "marker": {
             "colorbar": {
              "outlinewidth": 0,
              "ticks": ""
             }
            },
            "type": "scatterpolargl"
           }
          ],
          "scatterternary": [
           {
            "marker": {
             "colorbar": {
              "outlinewidth": 0,
              "ticks": ""
             }
            },
            "type": "scatterternary"
           }
          ],
          "surface": [
           {
            "colorbar": {
             "outlinewidth": 0,
             "ticks": ""
            },
            "colorscale": [
             [
              0,
              "#0d0887"
             ],
             [
              0.1111111111111111,
              "#46039f"
             ],
             [
              0.2222222222222222,
              "#7201a8"
             ],
             [
              0.3333333333333333,
              "#9c179e"
             ],
             [
              0.4444444444444444,
              "#bd3786"
             ],
             [
              0.5555555555555556,
              "#d8576b"
             ],
             [
              0.6666666666666666,
              "#ed7953"
             ],
             [
              0.7777777777777778,
              "#fb9f3a"
             ],
             [
              0.8888888888888888,
              "#fdca26"
             ],
             [
              1,
              "#f0f921"
             ]
            ],
            "type": "surface"
           }
          ],
          "table": [
           {
            "cells": {
             "fill": {
              "color": "#EBF0F8"
             },
             "line": {
              "color": "white"
             }
            },
            "header": {
             "fill": {
              "color": "#C8D4E3"
             },
             "line": {
              "color": "white"
             }
            },
            "type": "table"
           }
          ]
         },
         "layout": {
          "annotationdefaults": {
           "arrowcolor": "#2a3f5f",
           "arrowhead": 0,
           "arrowwidth": 1
          },
          "autotypenumbers": "strict",
          "coloraxis": {
           "colorbar": {
            "outlinewidth": 0,
            "ticks": ""
           }
          },
          "colorscale": {
           "diverging": [
            [
             0,
             "#8e0152"
            ],
            [
             0.1,
             "#c51b7d"
            ],
            [
             0.2,
             "#de77ae"
            ],
            [
             0.3,
             "#f1b6da"
            ],
            [
             0.4,
             "#fde0ef"
            ],
            [
             0.5,
             "#f7f7f7"
            ],
            [
             0.6,
             "#e6f5d0"
            ],
            [
             0.7,
             "#b8e186"
            ],
            [
             0.8,
             "#7fbc41"
            ],
            [
             0.9,
             "#4d9221"
            ],
            [
             1,
             "#276419"
            ]
           ],
           "sequential": [
            [
             0,
             "#0d0887"
            ],
            [
             0.1111111111111111,
             "#46039f"
            ],
            [
             0.2222222222222222,
             "#7201a8"
            ],
            [
             0.3333333333333333,
             "#9c179e"
            ],
            [
             0.4444444444444444,
             "#bd3786"
            ],
            [
             0.5555555555555556,
             "#d8576b"
            ],
            [
             0.6666666666666666,
             "#ed7953"
            ],
            [
             0.7777777777777778,
             "#fb9f3a"
            ],
            [
             0.8888888888888888,
             "#fdca26"
            ],
            [
             1,
             "#f0f921"
            ]
           ],
           "sequentialminus": [
            [
             0,
             "#0d0887"
            ],
            [
             0.1111111111111111,
             "#46039f"
            ],
            [
             0.2222222222222222,
             "#7201a8"
            ],
            [
             0.3333333333333333,
             "#9c179e"
            ],
            [
             0.4444444444444444,
             "#bd3786"
            ],
            [
             0.5555555555555556,
             "#d8576b"
            ],
            [
             0.6666666666666666,
             "#ed7953"
            ],
            [
             0.7777777777777778,
             "#fb9f3a"
            ],
            [
             0.8888888888888888,
             "#fdca26"
            ],
            [
             1,
             "#f0f921"
            ]
           ]
          },
          "colorway": [
           "#636efa",
           "#EF553B",
           "#00cc96",
           "#ab63fa",
           "#FFA15A",
           "#19d3f3",
           "#FF6692",
           "#B6E880",
           "#FF97FF",
           "#FECB52"
          ],
          "font": {
           "color": "#2a3f5f"
          },
          "geo": {
           "bgcolor": "white",
           "lakecolor": "white",
           "landcolor": "#E5ECF6",
           "showlakes": true,
           "showland": true,
           "subunitcolor": "white"
          },
          "hoverlabel": {
           "align": "left"
          },
          "hovermode": "closest",
          "mapbox": {
           "style": "light"
          },
          "paper_bgcolor": "white",
          "plot_bgcolor": "#E5ECF6",
          "polar": {
           "angularaxis": {
            "gridcolor": "white",
            "linecolor": "white",
            "ticks": ""
           },
           "bgcolor": "#E5ECF6",
           "radialaxis": {
            "gridcolor": "white",
            "linecolor": "white",
            "ticks": ""
           }
          },
          "scene": {
           "xaxis": {
            "backgroundcolor": "#E5ECF6",
            "gridcolor": "white",
            "gridwidth": 2,
            "linecolor": "white",
            "showbackground": true,
            "ticks": "",
            "zerolinecolor": "white"
           },
           "yaxis": {
            "backgroundcolor": "#E5ECF6",
            "gridcolor": "white",
            "gridwidth": 2,
            "linecolor": "white",
            "showbackground": true,
            "ticks": "",
            "zerolinecolor": "white"
           },
           "zaxis": {
            "backgroundcolor": "#E5ECF6",
            "gridcolor": "white",
            "gridwidth": 2,
            "linecolor": "white",
            "showbackground": true,
            "ticks": "",
            "zerolinecolor": "white"
           }
          },
          "shapedefaults": {
           "line": {
            "color": "#2a3f5f"
           }
          },
          "ternary": {
           "aaxis": {
            "gridcolor": "white",
            "linecolor": "white",
            "ticks": ""
           },
           "baxis": {
            "gridcolor": "white",
            "linecolor": "white",
            "ticks": ""
           },
           "bgcolor": "#E5ECF6",
           "caxis": {
            "gridcolor": "white",
            "linecolor": "white",
            "ticks": ""
           }
          },
          "title": {
           "x": 0.05
          },
          "xaxis": {
           "automargin": true,
           "gridcolor": "white",
           "linecolor": "white",
           "ticks": "",
           "title": {
            "standoff": 15
           },
           "zerolinecolor": "white",
           "zerolinewidth": 2
          },
          "yaxis": {
           "automargin": true,
           "gridcolor": "white",
           "linecolor": "white",
           "ticks": "",
           "title": {
            "standoff": 15
           },
           "zerolinecolor": "white",
           "zerolinewidth": 2
          }
         }
        },
        "xaxis": {
         "anchor": "y",
         "autorange": true,
         "domain": [
          0,
          0.18400000000000002
         ],
         "range": [
          0,
          6
         ],
         "title": {
          "text": "Dias"
         },
         "type": "category"
        },
        "xaxis2": {
         "anchor": "y2",
         "autorange": true,
         "domain": [
          0.20400000000000001,
          0.388
         ],
         "matches": "x",
         "range": [
          0,
          6
         ],
         "title": {
          "text": "Dias"
         },
         "type": "category"
        },
        "xaxis3": {
         "anchor": "y3",
         "autorange": true,
         "domain": [
          0.40800000000000003,
          0.5920000000000001
         ],
         "matches": "x",
         "range": [
          0,
          6
         ],
         "title": {
          "text": "Dias"
         },
         "type": "category"
        },
        "xaxis4": {
         "anchor": "y4",
         "autorange": true,
         "domain": [
          0.6120000000000001,
          0.7960000000000002
         ],
         "matches": "x",
         "range": [
          0,
          6
         ],
         "title": {
          "text": "Dias"
         },
         "type": "category"
        },
        "xaxis5": {
         "anchor": "y5",
         "autorange": true,
         "domain": [
          0.8160000000000001,
          1
         ],
         "matches": "x",
         "range": [
          0,
          6
         ],
         "title": {
          "text": "Dias"
         },
         "type": "category"
        },
        "yaxis": {
         "anchor": "x",
         "autorange": true,
         "domain": [
          0,
          1
         ],
         "range": [
          -585.5555555555555,
          11425.555555555555
         ],
         "title": {
          "text": "Cantidad de delitos"
         },
         "type": "linear"
        },
        "yaxis2": {
         "anchor": "x2",
         "autorange": true,
         "domain": [
          0,
          1
         ],
         "matches": "y",
         "range": [
          -585.5555555555555,
          11425.555555555555
         ],
         "showticklabels": false,
         "type": "linear"
        },
        "yaxis3": {
         "anchor": "x3",
         "autorange": true,
         "domain": [
          0,
          1
         ],
         "matches": "y",
         "range": [
          -585.5555555555555,
          11425.555555555555
         ],
         "showticklabels": false,
         "type": "linear"
        },
        "yaxis4": {
         "anchor": "x4",
         "autorange": true,
         "domain": [
          0,
          1
         ],
         "matches": "y",
         "range": [
          -585.5555555555555,
          11425.555555555555
         ],
         "showticklabels": false,
         "type": "linear"
        },
        "yaxis5": {
         "anchor": "x5",
         "autorange": true,
         "domain": [
          0,
          1
         ],
         "matches": "y",
         "range": [
          -585.5555555555555,
          11425.555555555555
         ],
         "showticklabels": false,
         "type": "linear"
        }
       }
      },
      "image/png": "[encoded data removed]",
      "text/html": [
       "<div>                            <div id=\"ddd49fb2-a507-439d-8678-9d8ddcac498c\" class=\"plotly-graph-div\" style=\"height:525px; width:100%;\"></div>            <script type=\"text/javascript\">                require([\"plotly\"], function(Plotly) {                    window.PLOTLYENV=window.PLOTLYENV || {};                                    if (document.getElementById(\"ddd49fb2-a507-439d-8678-9d8ddcac498c\")) {                    Plotly.newPlot(                        \"ddd49fb2-a507-439d-8678-9d8ddcac498c\",                        [{\"hovertemplate\":\"tipo_delito=Homicidio<br>A\\u00f1o=2016<br>Dias=%{x}<br>Cantidad de delitos=%{y}<extra></extra>\",\"legendgroup\":\"Homicidio\",\"line\":{\"color\":\"#636efa\",\"dash\":\"solid\"},\"mode\":\"lines\",\"name\":\"Homicidio\",\"orientation\":\"v\",\"showlegend\":true,\"type\":\"scatter\",\"x\":[\"Friday\",\"Monday\",\"Saturday\",\"Sunday\",\"Thursday\",\"Tuesday\",\"Wednesday\"],\"xaxis\":\"x\",\"y\":[31,39,44,52,28,31,43],\"yaxis\":\"y\"},{\"hovertemplate\":\"tipo_delito=Homicidio<br>A\\u00f1o=2017<br>Dias=%{x}<br>Cantidad de delitos=%{y}<extra></extra>\",\"legendgroup\":\"Homicidio\",\"line\":{\"color\":\"#636efa\",\"dash\":\"solid\"},\"mode\":\"lines\",\"name\":\"Homicidio\",\"orientation\":\"v\",\"showlegend\":false,\"type\":\"scatter\",\"x\":[\"Friday\",\"Monday\",\"Saturday\",\"Sunday\",\"Thursday\",\"Tuesday\",\"Wednesday\"],\"xaxis\":\"x2\",\"y\":[38,48,31,42,35,41,28],\"yaxis\":\"y2\"},{\"hovertemplate\":\"tipo_delito=Homicidio<br>A\\u00f1o=2018<br>Dias=%{x}<br>Cantidad de delitos=%{y}<extra></extra>\",\"legendgroup\":\"Homicidio\",\"line\":{\"color\":\"#636efa\",\"dash\":\"solid\"},\"mode\":\"lines\",\"name\":\"Homicidio\",\"orientation\":\"v\",\"showlegend\":false,\"type\":\"scatter\",\"x\":[\"Friday\",\"Monday\",\"Saturday\",\"Sunday\",\"Thursday\",\"Tuesday\",\"Wednesday\"],\"xaxis\":\"x3\",\"y\":[51,33,41,41,28,27,45],\"yaxis\":\"y3\"},{\"hovertemplate\":\"tipo_delito=Homicidio<br>A\\u00f1o=2019<br>Dias=%{x}<br>Cantidad de delitos=%{y}<extra></extra>\",\"legendgroup\":\"Homicidio\",\"line\":{\"color\":\"#636efa\",\"dash\":\"solid\"},\"mode\":\"lines\",\"name\":\"Homicidio\",\"orientation\":\"v\",\"showlegend\":false,\"type\":\"scatter\",\"x\":[\"Friday\",\"Monday\",\"Saturday\",\"Sunday\",\"Thursday\",\"Tuesday\",\"Wednesday\"],\"xaxis\":\"x4\",\"y\":[23,15,38,29,28,32,33],\"yaxis\":\"y4\"},{\"hovertemplate\":\"tipo_delito=Homicidio<br>A\\u00f1o=2020<br>Dias=%{x}<br>Cantidad de delitos=%{y}<extra></extra>\",\"legendgroup\":\"Homicidio\",\"line\":{\"color\":\"#636efa\",\"dash\":\"solid\"},\"mode\":\"lines\",\"name\":\"Homicidio\",\"orientation\":\"v\",\"showlegend\":false,\"type\":\"scatter\",\"x\":[\"Friday\",\"Monday\",\"Saturday\",\"Sunday\",\"Thursday\",\"Tuesday\",\"Wednesday\"],\"xaxis\":\"x5\",\"y\":[21,35,32,18,27,32,25],\"yaxis\":\"y5\"},{\"hovertemplate\":\"tipo_delito=Hurto (sin violencia)<br>A\\u00f1o=2016<br>Dias=%{x}<br>Cantidad de delitos=%{y}<extra></extra>\",\"legendgroup\":\"Hurto (sin violencia)\",\"line\":{\"color\":\"#EF553B\",\"dash\":\"solid\"},\"mode\":\"lines\",\"name\":\"Hurto (sin violencia)\",\"orientation\":\"v\",\"showlegend\":true,\"type\":\"scatter\",\"x\":[\"Friday\",\"Monday\",\"Saturday\",\"Sunday\",\"Thursday\",\"Tuesday\",\"Wednesday\"],\"xaxis\":\"x\",\"y\":[7128,6321,6495,5404,7006,6864,6852],\"yaxis\":\"y\"},{\"hovertemplate\":\"tipo_delito=Hurto (sin violencia)<br>A\\u00f1o=2017<br>Dias=%{x}<br>Cantidad de delitos=%{y}<extra></extra>\",\"legendgroup\":\"Hurto (sin violencia)\",\"line\":{\"color\":\"#EF553B\",\"dash\":\"solid\"},\"mode\":\"lines\",\"name\":\"Hurto (sin violencia)\",\"orientation\":\"v\",\"showlegend\":false,\"type\":\"scatter\",\"x\":[\"Friday\",\"Monday\",\"Saturday\",\"Sunday\",\"Thursday\",\"Tuesday\",\"Wednesday\"],\"xaxis\":\"x2\",\"y\":[6292,6590,5401,3559,6676,6597,6935],\"yaxis\":\"y2\"},{\"hovertemplate\":\"tipo_delito=Hurto (sin violencia)<br>A\\u00f1o=2018<br>Dias=%{x}<br>Cantidad de delitos=%{y}<extra></extra>\",\"legendgroup\":\"Hurto (sin violencia)\",\"line\":{\"color\":\"#EF553B\",\"dash\":\"solid\"},\"mode\":\"lines\",\"name\":\"Hurto (sin violencia)\",\"orientation\":\"v\",\"showlegend\":false,\"type\":\"scatter\",\"x\":[\"Friday\",\"Monday\",\"Saturday\",\"Sunday\",\"Thursday\",\"Tuesday\",\"Wednesday\"],\"xaxis\":\"x3\",\"y\":[6667,5686,5597,4727,6164,5966,6134],\"yaxis\":\"y3\"},{\"hovertemplate\":\"tipo_delito=Hurto (sin violencia)<br>A\\u00f1o=2019<br>Dias=%{x}<br>Cantidad de delitos=%{y}<extra></extra>\",\"legendgroup\":\"Hurto (sin violencia)\",\"line\":{\"color\":\"#EF553B\",\"dash\":\"solid\"},\"mode\":\"lines\",\"name\":\"Hurto (sin violencia)\",\"orientation\":\"v\",\"showlegend\":false,\"type\":\"scatter\",\"x\":[\"Friday\",\"Monday\",\"Saturday\",\"Sunday\",\"Thursday\",\"Tuesday\",\"Wednesday\"],\"xaxis\":\"x4\",\"y\":[8064,7278,6508,5368,7448,7276,7327],\"yaxis\":\"y4\"},{\"hovertemplate\":\"tipo_delito=Hurto (sin violencia)<br>A\\u00f1o=2020<br>Dias=%{x}<br>Cantidad de delitos=%{y}<extra></extra>\",\"legendgroup\":\"Hurto (sin violencia)\",\"line\":{\"color\":\"#EF553B\",\"dash\":\"solid\"},\"mode\":\"lines\",\"name\":\"Hurto (sin violencia)\",\"orientation\":\"v\",\"showlegend\":false,\"type\":\"scatter\",\"x\":[\"Friday\",\"Monday\",\"Saturday\",\"Sunday\",\"Thursday\",\"Tuesday\",\"Wednesday\"],\"xaxis\":\"x5\",\"y\":[3925,3777,3342,2699,4037,3714,4122],\"yaxis\":\"y5\"},{\"hovertemplate\":\"tipo_delito=Lesiones<br>A\\u00f1o=2016<br>Dias=%{x}<br>Cantidad de delitos=%{y}<extra></extra>\",\"legendgroup\":\"Lesiones\",\"line\":{\"color\":\"#00cc96\",\"dash\":\"solid\"},\"mode\":\"lines\",\"name\":\"Lesiones\",\"orientation\":\"v\",\"showlegend\":true,\"type\":\"scatter\",\"x\":[\"Friday\",\"Monday\",\"Saturday\",\"Sunday\",\"Thursday\",\"Tuesday\",\"Wednesday\"],\"xaxis\":\"x\",\"y\":[1470,1285,1062,825,1368,1326,1320],\"yaxis\":\"y\"},{\"hovertemplate\":\"tipo_delito=Lesiones<br>A\\u00f1o=2017<br>Dias=%{x}<br>Cantidad de delitos=%{y}<extra></extra>\",\"legendgroup\":\"Lesiones\",\"line\":{\"color\":\"#00cc96\",\"dash\":\"solid\"},\"mode\":\"lines\",\"name\":\"Lesiones\",\"orientation\":\"v\",\"showlegend\":false,\"type\":\"scatter\",\"x\":[\"Friday\",\"Monday\",\"Saturday\",\"Sunday\",\"Thursday\",\"Tuesday\",\"Wednesday\"],\"xaxis\":\"x2\",\"y\":[1578,1443,1197,910,1499,1541,1641],\"yaxis\":\"y2\"},{\"hovertemplate\":\"tipo_delito=Lesiones<br>A\\u00f1o=2018<br>Dias=%{x}<br>Cantidad de delitos=%{y}<extra></extra>\",\"legendgroup\":\"Lesiones\",\"line\":{\"color\":\"#00cc96\",\"dash\":\"solid\"},\"mode\":\"lines\",\"name\":\"Lesiones\",\"orientation\":\"v\",\"showlegend\":false,\"type\":\"scatter\",\"x\":[\"Friday\",\"Monday\",\"Saturday\",\"Sunday\",\"Thursday\",\"Tuesday\",\"Wednesday\"],\"xaxis\":\"x3\",\"y\":[1336,1138,952,753,1301,1162,1305],\"yaxis\":\"y3\"},{\"hovertemplate\":\"tipo_delito=Lesiones<br>A\\u00f1o=2019<br>Dias=%{x}<br>Cantidad de delitos=%{y}<extra></extra>\",\"legendgroup\":\"Lesiones\",\"line\":{\"color\":\"#00cc96\",\"dash\":\"solid\"},\"mode\":\"lines\",\"name\":\"Lesiones\",\"orientation\":\"v\",\"showlegend\":false,\"type\":\"scatter\",\"x\":[\"Friday\",\"Monday\",\"Saturday\",\"Sunday\",\"Thursday\",\"Tuesday\",\"Wednesday\"],\"xaxis\":\"x4\",\"y\":[1634,1439,1065,854,1525,1508,1566],\"yaxis\":\"y4\"},{\"hovertemplate\":\"tipo_delito=Lesiones<br>A\\u00f1o=2020<br>Dias=%{x}<br>Cantidad de delitos=%{y}<extra></extra>\",\"legendgroup\":\"Lesiones\",\"line\":{\"color\":\"#00cc96\",\"dash\":\"solid\"},\"mode\":\"lines\",\"name\":\"Lesiones\",\"orientation\":\"v\",\"showlegend\":false,\"type\":\"scatter\",\"x\":[\"Friday\",\"Monday\",\"Saturday\",\"Sunday\",\"Thursday\",\"Tuesday\",\"Wednesday\"],\"xaxis\":\"x5\",\"y\":[967,914,716,517,1096,904,980],\"yaxis\":\"y5\"},{\"hovertemplate\":\"tipo_delito=Robo (con violencia)<br>A\\u00f1o=2016<br>Dias=%{x}<br>Cantidad de delitos=%{y}<extra></extra>\",\"legendgroup\":\"Robo (con violencia)\",\"line\":{\"color\":\"#ab63fa\",\"dash\":\"solid\"},\"mode\":\"lines\",\"name\":\"Robo (con violencia)\",\"orientation\":\"v\",\"showlegend\":true,\"type\":\"scatter\",\"x\":[\"Friday\",\"Monday\",\"Saturday\",\"Sunday\",\"Thursday\",\"Tuesday\",\"Wednesday\"],\"xaxis\":\"x\",\"y\":[10825,10317,9924,8502,10442,10510,10443],\"yaxis\":\"y\"},{\"hovertemplate\":\"tipo_delito=Robo (con violencia)<br>A\\u00f1o=2017<br>Dias=%{x}<br>Cantidad de delitos=%{y}<extra></extra>\",\"legendgroup\":\"Robo (con violencia)\",\"line\":{\"color\":\"#ab63fa\",\"dash\":\"solid\"},\"mode\":\"lines\",\"name\":\"Robo (con violencia)\",\"orientation\":\"v\",\"showlegend\":false,\"type\":\"scatter\",\"x\":[\"Friday\",\"Monday\",\"Saturday\",\"Sunday\",\"Thursday\",\"Tuesday\",\"Wednesday\"],\"xaxis\":\"x2\",\"y\":[9937,10725,8801,5935,10249,10419,10535],\"yaxis\":\"y2\"},{\"hovertemplate\":\"tipo_delito=Robo (con violencia)<br>A\\u00f1o=2018<br>Dias=%{x}<br>Cantidad de delitos=%{y}<extra></extra>\",\"legendgroup\":\"Robo (con violencia)\",\"line\":{\"color\":\"#ab63fa\",\"dash\":\"solid\"},\"mode\":\"lines\",\"name\":\"Robo (con violencia)\",\"orientation\":\"v\",\"showlegend\":false,\"type\":\"scatter\",\"x\":[\"Friday\",\"Monday\",\"Saturday\",\"Sunday\",\"Thursday\",\"Tuesday\",\"Wednesday\"],\"xaxis\":\"x3\",\"y\":[10713,10409,9297,8251,10243,10048,10318],\"yaxis\":\"y3\"},{\"hovertemplate\":\"tipo_delito=Robo (con violencia)<br>A\\u00f1o=2019<br>Dias=%{x}<br>Cantidad de delitos=%{y}<extra></extra>\",\"legendgroup\":\"Robo (con violencia)\",\"line\":{\"color\":\"#ab63fa\",\"dash\":\"solid\"},\"mode\":\"lines\",\"name\":\"Robo (con violencia)\",\"orientation\":\"v\",\"showlegend\":false,\"type\":\"scatter\",\"x\":[\"Friday\",\"Monday\",\"Saturday\",\"Sunday\",\"Thursday\",\"Tuesday\",\"Wednesday\"],\"xaxis\":\"x4\",\"y\":[9517,9661,8359,8052,8890,9076,9179],\"yaxis\":\"y4\"},{\"hovertemplate\":\"tipo_delito=Robo (con violencia)<br>A\\u00f1o=2020<br>Dias=%{x}<br>Cantidad de delitos=%{y}<extra></extra>\",\"legendgroup\":\"Robo (con violencia)\",\"line\":{\"color\":\"#ab63fa\",\"dash\":\"solid\"},\"mode\":\"lines\",\"name\":\"Robo (con violencia)\",\"orientation\":\"v\",\"showlegend\":false,\"type\":\"scatter\",\"x\":[\"Friday\",\"Monday\",\"Saturday\",\"Sunday\",\"Thursday\",\"Tuesday\",\"Wednesday\"],\"xaxis\":\"x5\",\"y\":[5035,5187,4627,4242,5123,4980,5209],\"yaxis\":\"y5\"}],                        {\"annotations\":[{\"font\":{},\"showarrow\":false,\"text\":\"A\\u00f1o=2016\",\"x\":0.09200000000000001,\"xanchor\":\"center\",\"xref\":\"paper\",\"y\":1.0,\"yanchor\":\"bottom\",\"yref\":\"paper\"},{\"font\":{},\"showarrow\":false,\"text\":\"A\\u00f1o=2017\",\"x\":0.29600000000000004,\"xanchor\":\"center\",\"xref\":\"paper\",\"y\":1.0,\"yanchor\":\"bottom\",\"yref\":\"paper\"},{\"font\":{},\"showarrow\":false,\"text\":\"A\\u00f1o=2018\",\"x\":0.5,\"xanchor\":\"center\",\"xref\":\"paper\",\"y\":1.0,\"yanchor\":\"bottom\",\"yref\":\"paper\"},{\"font\":{},\"showarrow\":false,\"text\":\"A\\u00f1o=2019\",\"x\":0.7040000000000002,\"xanchor\":\"center\",\"xref\":\"paper\",\"y\":1.0,\"yanchor\":\"bottom\",\"yref\":\"paper\"},{\"font\":{},\"showarrow\":false,\"text\":\"A\\u00f1o=2020\",\"x\":0.908,\"xanchor\":\"center\",\"xref\":\"paper\",\"y\":1.0,\"yanchor\":\"bottom\",\"yref\":\"paper\"}],\"legend\":{\"title\":{\"text\":\"tipo_delito\"},\"tracegroupgap\":0},\"margin\":{\"t\":60},\"template\":{\"data\":{\"bar\":[{\"error_x\":{\"color\":\"#2a3f5f\"},\"error_y\":{\"color\":\"#2a3f5f\"},\"marker\":{\"line\":{\"color\":\"#E5ECF6\",\"width\":0.5},\"pattern\":{\"fillmode\":\"overlay\",\"size\":10,\"solidity\":0.2}},\"type\":\"bar\"}],\"barpolar\":[{\"marker\":{\"line\":{\"color\":\"#E5ECF6\",\"width\":0.5},\"pattern\":{\"fillmode\":\"overlay\",\"size\":10,\"solidity\":0.2}},\"type\":\"barpolar\"}],\"carpet\":[{\"aaxis\":{\"endlinecolor\":\"#2a3f5f\",\"gridcolor\":\"white\",\"linecolor\":\"white\",\"minorgridcolor\":\"white\",\"startlinecolor\":\"#2a3f5f\"},\"baxis\":{\"endlinecolor\":\"#2a3f5f\",\"gridcolor\":\"white\",\"linecolor\":\"white\",\"minorgridcolor\":\"white\",\"startlinecolor\":\"#2a3f5f\"},\"type\":\"carpet\"}],\"choropleth\":[{\"colorbar\":{\"outlinewidth\":0,\"ticks\":\"\"},\"type\":\"choropleth\"}],\"contour\":[{\"colorbar\":{\"outlinewidth\":0,\"ticks\":\"\"},\"colorscale\":[[0.0,\"#0d0887\"],[0.1111111111111111,\"#46039f\"],[0.2222222222222222,\"#7201a8\"],[0.3333333333333333,\"#9c179e\"],[0.4444444444444444,\"#bd3786\"],[0.5555555555555556,\"#d8576b\"],[0.6666666666666666,\"#ed7953\"],[0.7777777777777778,\"#fb9f3a\"],[0.8888888888888888,\"#fdca26\"],[1.0,\"#f0f921\"]],\"type\":\"contour\"}],\"contourcarpet\":[{\"colorbar\":{\"outlinewidth\":0,\"ticks\":\"\"},\"type\":\"contourcarpet\"}],\"heatmap\":[{\"colorbar\":{\"outlinewidth\":0,\"ticks\":\"\"},\"colorscale\":[[0.0,\"#0d0887\"],[0.1111111111111111,\"#46039f\"],[0.2222222222222222,\"#7201a8\"],[0.3333333333333333,\"#9c179e\"],[0.4444444444444444,\"#bd3786\"],[0.5555555555555556,\"#d8576b\"],[0.6666666666666666,\"#ed7953\"],[0.7777777777777778,\"#fb9f3a\"],[0.8888888888888888,\"#fdca26\"],[1.0,\"#f0f921\"]],\"type\":\"heatmap\"}],\"heatmapgl\":[{\"colorbar\":{\"outlinewidth\":0,\"ticks\":\"\"},\"colorscale\":[[0.0,\"#0d0887\"],[0.1111111111111111,\"#46039f\"],[0.2222222222222222,\"#7201a8\"],[0.3333333333333333,\"#9c179e\"],[0.4444444444444444,\"#bd3786\"],[0.5555555555555556,\"#d8576b\"],[0.6666666666666666,\"#ed7953\"],[0.7777777777777778,\"#fb9f3a\"],[0.8888888888888888,\"#fdca26\"],[1.0,\"#f0f921\"]],\"type\":\"heatmapgl\"}],\"histogram\":[{\"marker\":{\"pattern\":{\"fillmode\":\"overlay\",\"size\":10,\"solidity\":0.2}},\"type\":\"histogram\"}],\"histogram2d\":[{\"colorbar\":{\"outlinewidth\":0,\"ticks\":\"\"},\"colorscale\":[[0.0,\"#0d0887\"],[0.1111111111111111,\"#46039f\"],[0.2222222222222222,\"#7201a8\"],[0.3333333333333333,\"#9c179e\"],[0.4444444444444444,\"#bd3786\"],[0.5555555555555556,\"#d8576b\"],[0.6666666666666666,\"#ed7953\"],[0.7777777777777778,\"#fb9f3a\"],[0.8888888888888888,\"#fdca26\"],[1.0,\"#f0f921\"]],\"type\":\"histogram2d\"}],\"histogram2dcontour\":[{\"colorbar\":{\"outlinewidth\":0,\"ticks\":\"\"},\"colorscale\":[[0.0,\"#0d0887\"],[0.1111111111111111,\"#46039f\"],[0.2222222222222222,\"#7201a8\"],[0.3333333333333333,\"#9c179e\"],[0.4444444444444444,\"#bd3786\"],[0.5555555555555556,\"#d8576b\"],[0.6666666666666666,\"#ed7953\"],[0.7777777777777778,\"#fb9f3a\"],[0.8888888888888888,\"#fdca26\"],[1.0,\"#f0f921\"]],\"type\":\"histogram2dcontour\"}],\"mesh3d\":[{\"colorbar\":{\"outlinewidth\":0,\"ticks\":\"\"},\"type\":\"mesh3d\"}],\"parcoords\":[{\"line\":{\"colorbar\":{\"outlinewidth\":0,\"ticks\":\"\"}},\"type\":\"parcoords\"}],\"pie\":[{\"automargin\":true,\"type\":\"pie\"}],\"scatter\":[{\"marker\":{\"colorbar\":{\"outlinewidth\":0,\"ticks\":\"\"}},\"type\":\"scatter\"}],\"scatter3d\":[{\"line\":{\"colorbar\":{\"outlinewidth\":0,\"ticks\":\"\"}},\"marker\":{\"colorbar\":{\"outlinewidth\":0,\"ticks\":\"\"}},\"type\":\"scatter3d\"}],\"scattercarpet\":[{\"marker\":{\"colorbar\":{\"outlinewidth\":0,\"ticks\":\"\"}},\"type\":\"scattercarpet\"}],\"scattergeo\":[{\"marker\":{\"colorbar\":{\"outlinewidth\":0,\"ticks\":\"\"}},\"type\":\"scattergeo\"}],\"scattergl\":[{\"marker\":{\"colorbar\":{\"outlinewidth\":0,\"ticks\":\"\"}},\"type\":\"scattergl\"}],\"scattermapbox\":[{\"marker\":{\"colorbar\":{\"outlinewidth\":0,\"ticks\":\"\"}},\"type\":\"scattermapbox\"}],\"scatterpolar\":[{\"marker\":{\"colorbar\":{\"outlinewidth\":0,\"ticks\":\"\"}},\"type\":\"scatterpolar\"}],\"scatterpolargl\":[{\"marker\":{\"colorbar\":{\"outlinewidth\":0,\"ticks\":\"\"}},\"type\":\"scatterpolargl\"}],\"scatterternary\":[{\"marker\":{\"colorbar\":{\"outlinewidth\":0,\"ticks\":\"\"}},\"type\":\"scatterternary\"}],\"surface\":[{\"colorbar\":{\"outlinewidth\":0,\"ticks\":\"\"},\"colorscale\":[[0.0,\"#0d0887\"],[0.1111111111111111,\"#46039f\"],[0.2222222222222222,\"#7201a8\"],[0.3333333333333333,\"#9c179e\"],[0.4444444444444444,\"#bd3786\"],[0.5555555555555556,\"#d8576b\"],[0.6666666666666666,\"#ed7953\"],[0.7777777777777778,\"#fb9f3a\"],[0.8888888888888888,\"#fdca26\"],[1.0,\"#f0f921\"]],\"type\":\"surface\"}],\"table\":[{\"cells\":{\"fill\":{\"color\":\"#EBF0F8\"},\"line\":{\"color\":\"white\"}},\"header\":{\"fill\":{\"color\":\"#C8D4E3\"},\"line\":{\"color\":\"white\"}},\"type\":\"table\"}]},\"layout\":{\"annotationdefaults\":{\"arrowcolor\":\"#2a3f5f\",\"arrowhead\":0,\"arrowwidth\":1},\"autotypenumbers\":\"strict\",\"coloraxis\":{\"colorbar\":{\"outlinewidth\":0,\"ticks\":\"\"}},\"colorscale\":{\"diverging\":[[0,\"#8e0152\"],[0.1,\"#c51b7d\"],[0.2,\"#de77ae\"],[0.3,\"#f1b6da\"],[0.4,\"#fde0ef\"],[0.5,\"#f7f7f7\"],[0.6,\"#e6f5d0\"],[0.7,\"#b8e186\"],[0.8,\"#7fbc41\"],[0.9,\"#4d9221\"],[1,\"#276419\"]],\"sequential\":[[0.0,\"#0d0887\"],[0.1111111111111111,\"#46039f\"],[0.2222222222222222,\"#7201a8\"],[0.3333333333333333,\"#9c179e\"],[0.4444444444444444,\"#bd3786\"],[0.5555555555555556,\"#d8576b\"],[0.6666666666666666,\"#ed7953\"],[0.7777777777777778,\"#fb9f3a\"],[0.8888888888888888,\"#fdca26\"],[1.0,\"#f0f921\"]],\"sequentialminus\":[[0.0,\"#0d0887\"],[0.1111111111111111,\"#46039f\"],[0.2222222222222222,\"#7201a8\"],[0.3333333333333333,\"#9c179e\"],[0.4444444444444444,\"#bd3786\"],[0.5555555555555556,\"#d8576b\"],[0.6666666666666666,\"#ed7953\"],[0.7777777777777778,\"#fb9f3a\"],[0.8888888888888888,\"#fdca26\"],[1.0,\"#f0f921\"]]},\"colorway\":[\"#636efa\",\"#EF553B\",\"#00cc96\",\"#ab63fa\",\"#FFA15A\",\"#19d3f3\",\"#FF6692\",\"#B6E880\",\"#FF97FF\",\"#FECB52\"],\"font\":{\"color\":\"#2a3f5f\"},\"geo\":{\"bgcolor\":\"white\",\"lakecolor\":\"white\",\"landcolor\":\"#E5ECF6\",\"showlakes\":true,\"showland\":true,\"subunitcolor\":\"white\"},\"hoverlabel\":{\"align\":\"left\"},\"hovermode\":\"closest\",\"mapbox\":{\"style\":\"light\"},\"paper_bgcolor\":\"white\",\"plot_bgcolor\":\"#E5ECF6\",\"polar\":{\"angularaxis\":{\"gridcolor\":\"white\",\"linecolor\":\"white\",\"ticks\":\"\"},\"bgcolor\":\"#E5ECF6\",\"radialaxis\":{\"gridcolor\":\"white\",\"linecolor\":\"white\",\"ticks\":\"\"}},\"scene\":{\"xaxis\":{\"backgroundcolor\":\"#E5ECF6\",\"gridcolor\":\"white\",\"gridwidth\":2,\"linecolor\":\"white\",\"showbackground\":true,\"ticks\":\"\",\"zerolinecolor\":\"white\"},\"yaxis\":{\"backgroundcolor\":\"#E5ECF6\",\"gridcolor\":\"white\",\"gridwidth\":2,\"linecolor\":\"white\",\"showbackground\":true,\"ticks\":\"\",\"zerolinecolor\":\"white\"},\"zaxis\":{\"backgroundcolor\":\"#E5ECF6\",\"gridcolor\":\"white\",\"gridwidth\":2,\"linecolor\":\"white\",\"showbackground\":true,\"ticks\":\"\",\"zerolinecolor\":\"white\"}},\"shapedefaults\":{\"line\":{\"color\":\"#2a3f5f\"}},\"ternary\":{\"aaxis\":{\"gridcolor\":\"white\",\"linecolor\":\"white\",\"ticks\":\"\"},\"baxis\":{\"gridcolor\":\"white\",\"linecolor\":\"white\",\"ticks\":\"\"},\"bgcolor\":\"#E5ECF6\",\"caxis\":{\"gridcolor\":\"white\",\"linecolor\":\"white\",\"ticks\":\"\"}},\"title\":{\"x\":0.05},\"xaxis\":{\"automargin\":true,\"gridcolor\":\"white\",\"linecolor\":\"white\",\"ticks\":\"\",\"title\":{\"standoff\":15},\"zerolinecolor\":\"white\",\"zerolinewidth\":2},\"yaxis\":{\"automargin\":true,\"gridcolor\":\"white\",\"linecolor\":\"white\",\"ticks\":\"\",\"title\":{\"standoff\":15},\"zerolinecolor\":\"white\",\"zerolinewidth\":2}}},\"xaxis\":{\"anchor\":\"y\",\"domain\":[0.0,0.18400000000000002],\"title\":{\"text\":\"Dias\"}},\"xaxis2\":{\"anchor\":\"y2\",\"domain\":[0.20400000000000001,0.388],\"matches\":\"x\",\"title\":{\"text\":\"Dias\"}},\"xaxis3\":{\"anchor\":\"y3\",\"domain\":[0.40800000000000003,0.5920000000000001],\"matches\":\"x\",\"title\":{\"text\":\"Dias\"}},\"xaxis4\":{\"anchor\":\"y4\",\"domain\":[0.6120000000000001,0.7960000000000002],\"matches\":\"x\",\"title\":{\"text\":\"Dias\"}},\"xaxis5\":{\"anchor\":\"y5\",\"domain\":[0.8160000000000001,1.0],\"matches\":\"x\",\"title\":{\"text\":\"Dias\"}},\"yaxis\":{\"anchor\":\"x\",\"domain\":[0.0,1.0],\"title\":{\"text\":\"Cantidad de delitos\"}},\"yaxis2\":{\"anchor\":\"x2\",\"domain\":[0.0,1.0],\"matches\":\"y\",\"showticklabels\":false},\"yaxis3\":{\"anchor\":\"x3\",\"domain\":[0.0,1.0],\"matches\":\"y\",\"showticklabels\":false},\"yaxis4\":{\"anchor\":\"x4\",\"domain\":[0.0,1.0],\"matches\":\"y\",\"showticklabels\":false},\"yaxis5\":{\"anchor\":\"x5\",\"domain\":[0.0,1.0],\"matches\":\"y\",\"showticklabels\":false}},                        {\"responsive\": true}                    ).then(function(){\n",
       "                            \n",
       "var gd = document.getElementById('ddd49fb2-a507-439d-8678-9d8ddcac498c');\n",
       "var x = new MutationObserver(function (mutations, observer) {{\n",
       "        var display = window.getComputedStyle(gd).display;\n",
       "        if (!display || display === 'none') {{\n",
       "            console.log([gd, 'removed!']);\n",
       "            Plotly.purge(gd);\n",
       "            observer.disconnect();\n",
       "        }}\n",
       "}});\n",
       "\n",
       "// Listen for the removal of the full notebook cells\n",
       "var notebookContainer = gd.closest('#notebook-container');\n",
       "if (notebookContainer) {{\n",
       "    x.observe(notebookContainer, {childList: true});\n",
       "}}\n",
       "\n",
       "// Listen for the clearing of the current output cell\n",
       "var outputEl = gd.closest('.output');\n",
       "if (outputEl) {{\n",
       "    x.observe(outputEl, {childList: true});\n",
       "}}\n",
       "\n",
       "                        })                };                });            </script>        </div>"
      ]
     },
     "metadata": {},
     "output_type": "display_data"
    }
   ],
   "source": [
    "fig = px.line(df_dia_tipo, x = 'dia', y = 'count',\n",
    "             color = 'tipo_delito',\n",
    "             facet_col = 'anio',\n",
    "             labels = {'count' : 'Cantidad de delitos', 'dia': 'Dias', 'anio':'Año'},)\n",
    "fig.show()"
   ]
  },
  {
   "cell_type": "code",
   "execution_count": 38,
   "id": "624123a4-c501-4796-9adc-f32a1c7201e3",
   "metadata": {},
   "outputs": [],
   "source": [
    "df_men  = df.loc[df['fecha'] > '2020/12/25']"
   ]
  },
  {
   "cell_type": "code",
   "execution_count": 39,
   "id": "96258161-7baa-47a5-ab14-052202d3edbd",
   "metadata": {},
   "outputs": [
    {
     "data": {
      "text/html": [
       "<div>\n",
       "<style scoped>\n",
       "    .dataframe tbody tr th:only-of-type {\n",
       "        vertical-align: middle;\n",
       "    }\n",
       "\n",
       "    .dataframe tbody tr th {\n",
       "        vertical-align: top;\n",
       "    }\n",
       "\n",
       "    .dataframe thead th {\n",
       "        text-align: right;\n",
       "    }\n",
       "</style>\n",
       "<table border=\"1\" class=\"dataframe\">\n",
       "  <thead>\n",
       "    <tr style=\"text-align: right;\">\n",
       "      <th></th>\n",
       "      <th>id</th>\n",
       "      <th>fecha</th>\n",
       "      <th>franja_horaria</th>\n",
       "      <th>tipo_delito</th>\n",
       "      <th>subtipo_delito</th>\n",
       "      <th>uso_armas</th>\n",
       "      <th>barrio</th>\n",
       "      <th>comuna</th>\n",
       "      <th>lat</th>\n",
       "      <th>long</th>\n",
       "      <th>victimas</th>\n",
       "      <th>cantidad_registrada</th>\n",
       "      <th>mes</th>\n",
       "      <th>mes_nombre</th>\n",
       "      <th>anio</th>\n",
       "      <th>dia</th>\n",
       "    </tr>\n",
       "  </thead>\n",
       "  <tbody>\n",
       "    <tr>\n",
       "      <th>69</th>\n",
       "      <td>HC-2020-0676996</td>\n",
       "      <td>2020-12-27</td>\n",
       "      <td>4</td>\n",
       "      <td>Homicidio</td>\n",
       "      <td>Siniestro Vial</td>\n",
       "      <td>NaN</td>\n",
       "      <td>Saavedra</td>\n",
       "      <td>12.0</td>\n",
       "      <td>-34.548367</td>\n",
       "      <td>-58.493326</td>\n",
       "      <td>1.0</td>\n",
       "      <td>NaN</td>\n",
       "      <td>12</td>\n",
       "      <td>December</td>\n",
       "      <td>2020</td>\n",
       "      <td>Sunday</td>\n",
       "    </tr>\n",
       "    <tr>\n",
       "      <th>187</th>\n",
       "      <td>HD-2020-0677951</td>\n",
       "      <td>2020-12-28</td>\n",
       "      <td>5</td>\n",
       "      <td>Homicidio</td>\n",
       "      <td>Doloso</td>\n",
       "      <td>NaN</td>\n",
       "      <td>Retiro</td>\n",
       "      <td>1.0</td>\n",
       "      <td>-34.580131</td>\n",
       "      <td>-58.382000</td>\n",
       "      <td>1.0</td>\n",
       "      <td>NaN</td>\n",
       "      <td>12</td>\n",
       "      <td>December</td>\n",
       "      <td>2020</td>\n",
       "      <td>Monday</td>\n",
       "    </tr>\n",
       "    <tr>\n",
       "      <th>188</th>\n",
       "      <td>HD-2020-0684514</td>\n",
       "      <td>2020-12-31</td>\n",
       "      <td>13</td>\n",
       "      <td>Homicidio</td>\n",
       "      <td>Doloso</td>\n",
       "      <td>NaN</td>\n",
       "      <td>Constitución</td>\n",
       "      <td>1.0</td>\n",
       "      <td>-34.624757</td>\n",
       "      <td>-58.385788</td>\n",
       "      <td>1.0</td>\n",
       "      <td>NaN</td>\n",
       "      <td>12</td>\n",
       "      <td>December</td>\n",
       "      <td>2020</td>\n",
       "      <td>Thursday</td>\n",
       "    </tr>\n",
       "    <tr>\n",
       "      <th>190</th>\n",
       "      <td>LC-2020-0000055</td>\n",
       "      <td>2020-12-31</td>\n",
       "      <td>22</td>\n",
       "      <td>Lesiones</td>\n",
       "      <td>Siniestro Vial</td>\n",
       "      <td>NaN</td>\n",
       "      <td>Palermo</td>\n",
       "      <td>14.0</td>\n",
       "      <td>-34.597302</td>\n",
       "      <td>-58.421756</td>\n",
       "      <td>NaN</td>\n",
       "      <td>NaN</td>\n",
       "      <td>12</td>\n",
       "      <td>December</td>\n",
       "      <td>2020</td>\n",
       "      <td>Thursday</td>\n",
       "    </tr>\n",
       "    <tr>\n",
       "      <th>191</th>\n",
       "      <td>LC-2020-0000065</td>\n",
       "      <td>2020-12-31</td>\n",
       "      <td>22</td>\n",
       "      <td>Lesiones</td>\n",
       "      <td>Siniestro Vial</td>\n",
       "      <td>NaN</td>\n",
       "      <td>Nueva Pompeya</td>\n",
       "      <td>4.0</td>\n",
       "      <td>-34.654090</td>\n",
       "      <td>-58.416597</td>\n",
       "      <td>NaN</td>\n",
       "      <td>NaN</td>\n",
       "      <td>12</td>\n",
       "      <td>December</td>\n",
       "      <td>2020</td>\n",
       "      <td>Thursday</td>\n",
       "    </tr>\n",
       "    <tr>\n",
       "      <th>...</th>\n",
       "      <td>...</td>\n",
       "      <td>...</td>\n",
       "      <td>...</td>\n",
       "      <td>...</td>\n",
       "      <td>...</td>\n",
       "      <td>...</td>\n",
       "      <td>...</td>\n",
       "      <td>...</td>\n",
       "      <td>...</td>\n",
       "      <td>...</td>\n",
       "      <td>...</td>\n",
       "      <td>...</td>\n",
       "      <td>...</td>\n",
       "      <td>...</td>\n",
       "      <td>...</td>\n",
       "      <td>...</td>\n",
       "    </tr>\n",
       "    <tr>\n",
       "      <th>66707</th>\n",
       "      <td>RH-2021-0005667</td>\n",
       "      <td>2020-12-29</td>\n",
       "      <td>23</td>\n",
       "      <td>Robo (con violencia)</td>\n",
       "      <td>NaN</td>\n",
       "      <td>NaN</td>\n",
       "      <td>Balvanera</td>\n",
       "      <td>3.0</td>\n",
       "      <td>-34.601985</td>\n",
       "      <td>-58.392599</td>\n",
       "      <td>NaN</td>\n",
       "      <td>NaN</td>\n",
       "      <td>12</td>\n",
       "      <td>December</td>\n",
       "      <td>2020</td>\n",
       "      <td>Tuesday</td>\n",
       "    </tr>\n",
       "    <tr>\n",
       "      <th>66708</th>\n",
       "      <td>RH-2021-0005730</td>\n",
       "      <td>2020-12-30</td>\n",
       "      <td>23</td>\n",
       "      <td>Hurto (sin violencia)</td>\n",
       "      <td>NaN</td>\n",
       "      <td>NaN</td>\n",
       "      <td>Nuñez</td>\n",
       "      <td>13.0</td>\n",
       "      <td>-34.546946</td>\n",
       "      <td>-58.461656</td>\n",
       "      <td>NaN</td>\n",
       "      <td>NaN</td>\n",
       "      <td>12</td>\n",
       "      <td>December</td>\n",
       "      <td>2020</td>\n",
       "      <td>Wednesday</td>\n",
       "    </tr>\n",
       "    <tr>\n",
       "      <th>66711</th>\n",
       "      <td>RH-2021-0006016</td>\n",
       "      <td>2020-12-30</td>\n",
       "      <td>1</td>\n",
       "      <td>Hurto (sin violencia)</td>\n",
       "      <td>NaN</td>\n",
       "      <td>NaN</td>\n",
       "      <td>Balvanera</td>\n",
       "      <td>3.0</td>\n",
       "      <td>-34.607985</td>\n",
       "      <td>-58.392040</td>\n",
       "      <td>NaN</td>\n",
       "      <td>NaN</td>\n",
       "      <td>12</td>\n",
       "      <td>December</td>\n",
       "      <td>2020</td>\n",
       "      <td>Wednesday</td>\n",
       "    </tr>\n",
       "    <tr>\n",
       "      <th>66712</th>\n",
       "      <td>RH-2021-0006309</td>\n",
       "      <td>2020-12-31</td>\n",
       "      <td>21</td>\n",
       "      <td>Hurto (sin violencia)</td>\n",
       "      <td>NaN</td>\n",
       "      <td>NaN</td>\n",
       "      <td>Villa Pueyrredón</td>\n",
       "      <td>12.0</td>\n",
       "      <td>-34.589516</td>\n",
       "      <td>-58.505280</td>\n",
       "      <td>NaN</td>\n",
       "      <td>NaN</td>\n",
       "      <td>12</td>\n",
       "      <td>December</td>\n",
       "      <td>2020</td>\n",
       "      <td>Thursday</td>\n",
       "    </tr>\n",
       "    <tr>\n",
       "      <th>66713</th>\n",
       "      <td>RH-2021-0006423</td>\n",
       "      <td>2020-12-31</td>\n",
       "      <td>23</td>\n",
       "      <td>Robo (con violencia)</td>\n",
       "      <td>NaN</td>\n",
       "      <td>NaN</td>\n",
       "      <td>Retiro</td>\n",
       "      <td>1.0</td>\n",
       "      <td>-34.596366</td>\n",
       "      <td>-58.378446</td>\n",
       "      <td>NaN</td>\n",
       "      <td>NaN</td>\n",
       "      <td>12</td>\n",
       "      <td>December</td>\n",
       "      <td>2020</td>\n",
       "      <td>Thursday</td>\n",
       "    </tr>\n",
       "  </tbody>\n",
       "</table>\n",
       "<p>1187 rows × 16 columns</p>\n",
       "</div>"
      ],
      "text/plain": [
       "                    id      fecha franja_horaria            tipo_delito  \\\n",
       "69     HC-2020-0676996 2020-12-27              4              Homicidio   \n",
       "187    HD-2020-0677951 2020-12-28              5              Homicidio   \n",
       "188    HD-2020-0684514 2020-12-31             13              Homicidio   \n",
       "190    LC-2020-0000055 2020-12-31             22               Lesiones   \n",
       "191    LC-2020-0000065 2020-12-31             22               Lesiones   \n",
       "...                ...        ...            ...                    ...   \n",
       "66707  RH-2021-0005667 2020-12-29             23   Robo (con violencia)   \n",
       "66708  RH-2021-0005730 2020-12-30             23  Hurto (sin violencia)   \n",
       "66711  RH-2021-0006016 2020-12-30              1  Hurto (sin violencia)   \n",
       "66712  RH-2021-0006309 2020-12-31             21  Hurto (sin violencia)   \n",
       "66713  RH-2021-0006423 2020-12-31             23   Robo (con violencia)   \n",
       "\n",
       "       subtipo_delito uso_armas            barrio  comuna        lat  \\\n",
       "69     Siniestro Vial       NaN          Saavedra    12.0 -34.548367   \n",
       "187            Doloso       NaN            Retiro     1.0 -34.580131   \n",
       "188            Doloso       NaN      Constitución     1.0 -34.624757   \n",
       "190    Siniestro Vial       NaN           Palermo    14.0 -34.597302   \n",
       "191    Siniestro Vial       NaN     Nueva Pompeya     4.0 -34.654090   \n",
       "...               ...       ...               ...     ...        ...   \n",
       "66707             NaN       NaN         Balvanera     3.0 -34.601985   \n",
       "66708             NaN       NaN             Nuñez    13.0 -34.546946   \n",
       "66711             NaN       NaN         Balvanera     3.0 -34.607985   \n",
       "66712             NaN       NaN  Villa Pueyrredón    12.0 -34.589516   \n",
       "66713             NaN       NaN            Retiro     1.0 -34.596366   \n",
       "\n",
       "            long  victimas  cantidad_registrada  mes mes_nombre  anio  \\\n",
       "69    -58.493326       1.0                  NaN   12   December  2020   \n",
       "187   -58.382000       1.0                  NaN   12   December  2020   \n",
       "188   -58.385788       1.0                  NaN   12   December  2020   \n",
       "190   -58.421756       NaN                  NaN   12   December  2020   \n",
       "191   -58.416597       NaN                  NaN   12   December  2020   \n",
       "...          ...       ...                  ...  ...        ...   ...   \n",
       "66707 -58.392599       NaN                  NaN   12   December  2020   \n",
       "66708 -58.461656       NaN                  NaN   12   December  2020   \n",
       "66711 -58.392040       NaN                  NaN   12   December  2020   \n",
       "66712 -58.505280       NaN                  NaN   12   December  2020   \n",
       "66713 -58.378446       NaN                  NaN   12   December  2020   \n",
       "\n",
       "             dia  \n",
       "69        Sunday  \n",
       "187       Monday  \n",
       "188     Thursday  \n",
       "190     Thursday  \n",
       "191     Thursday  \n",
       "...          ...  \n",
       "66707    Tuesday  \n",
       "66708  Wednesday  \n",
       "66711  Wednesday  \n",
       "66712   Thursday  \n",
       "66713   Thursday  \n",
       "\n",
       "[1187 rows x 16 columns]"
      ]
     },
     "execution_count": 39,
     "metadata": {},
     "output_type": "execute_result"
    }
   ],
   "source": [
    "df_men"
   ]
  },
  {
   "cell_type": "code",
   "execution_count": 40,
   "id": "e8bddd1e-1f2a-4e18-b83f-46311c1b9b05",
   "metadata": {},
   "outputs": [],
   "source": [
    " df_lat_long = df_men.groupby(['anio', 'barrio', 'long', 'lat'])['tipo_delito'].count().reset_index()"
   ]
  },
  {
   "cell_type": "code",
   "execution_count": 52,
   "id": "3ac2e4b6-ed08-47aa-857c-8a8d8fe666d5",
   "metadata": {},
   "outputs": [
    {
     "data": {
      "application/vnd.plotly.v1+json": {
       "config": {
        "plotlyServerURL": "https://plot.ly"
       },
       "data": [
        {
         "hoverinfo": "text",
         "hovertext": [
          "<b>Barrio<b>: Agronomía<b><b>Cantidad de delitos<b>1<b>",
          "<b>Barrio<b>: Agronomía<b><b>Cantidad de delitos<b>1<b>",
          "<b>Barrio<b>: Agronomía<b><b>Cantidad de delitos<b>1<b>",
          "<b>Barrio<b>: Agronomía<b><b>Cantidad de delitos<b>1<b>",
          "<b>Barrio<b>: Almagro<b><b>Cantidad de delitos<b>1<b>",
          "<b>Barrio<b>: Almagro<b><b>Cantidad de delitos<b>1<b>",
          "<b>Barrio<b>: Almagro<b><b>Cantidad de delitos<b>1<b>",
          "<b>Barrio<b>: Almagro<b><b>Cantidad de delitos<b>1<b>",
          "<b>Barrio<b>: Almagro<b><b>Cantidad de delitos<b>1<b>",
          "<b>Barrio<b>: Almagro<b><b>Cantidad de delitos<b>1<b>",
          "<b>Barrio<b>: Almagro<b><b>Cantidad de delitos<b>1<b>",
          "<b>Barrio<b>: Almagro<b><b>Cantidad de delitos<b>1<b>",
          "<b>Barrio<b>: Almagro<b><b>Cantidad de delitos<b>1<b>",
          "<b>Barrio<b>: Almagro<b><b>Cantidad de delitos<b>1<b>",
          "<b>Barrio<b>: Almagro<b><b>Cantidad de delitos<b>1<b>",
          "<b>Barrio<b>: Almagro<b><b>Cantidad de delitos<b>1<b>",
          "<b>Barrio<b>: Almagro<b><b>Cantidad de delitos<b>1<b>",
          "<b>Barrio<b>: Almagro<b><b>Cantidad de delitos<b>1<b>",
          "<b>Barrio<b>: Almagro<b><b>Cantidad de delitos<b>1<b>",
          "<b>Barrio<b>: Almagro<b><b>Cantidad de delitos<b>1<b>",
          "<b>Barrio<b>: Almagro<b><b>Cantidad de delitos<b>1<b>",
          "<b>Barrio<b>: Almagro<b><b>Cantidad de delitos<b>1<b>",
          "<b>Barrio<b>: Almagro<b><b>Cantidad de delitos<b>1<b>",
          "<b>Barrio<b>: Almagro<b><b>Cantidad de delitos<b>1<b>",
          "<b>Barrio<b>: Almagro<b><b>Cantidad de delitos<b>1<b>",
          "<b>Barrio<b>: Almagro<b><b>Cantidad de delitos<b>1<b>",
          "<b>Barrio<b>: Almagro<b><b>Cantidad de delitos<b>1<b>",
          "<b>Barrio<b>: Almagro<b><b>Cantidad de delitos<b>1<b>",
          "<b>Barrio<b>: Almagro<b><b>Cantidad de delitos<b>1<b>",
          "<b>Barrio<b>: Almagro<b><b>Cantidad de delitos<b>1<b>",
          "<b>Barrio<b>: Almagro<b><b>Cantidad de delitos<b>1<b>",
          "<b>Barrio<b>: Almagro<b><b>Cantidad de delitos<b>2<b>",
          "<b>Barrio<b>: Almagro<b><b>Cantidad de delitos<b>1<b>",
          "<b>Barrio<b>: Almagro<b><b>Cantidad de delitos<b>1<b>",
          "<b>Barrio<b>: Almagro<b><b>Cantidad de delitos<b>1<b>",
          "<b>Barrio<b>: Almagro<b><b>Cantidad de delitos<b>1<b>",
          "<b>Barrio<b>: Almagro<b><b>Cantidad de delitos<b>1<b>",
          "<b>Barrio<b>: Almagro<b><b>Cantidad de delitos<b>1<b>",
          "<b>Barrio<b>: Almagro<b><b>Cantidad de delitos<b>1<b>",
          "<b>Barrio<b>: Almagro<b><b>Cantidad de delitos<b>1<b>",
          "<b>Barrio<b>: Almagro<b><b>Cantidad de delitos<b>1<b>",
          "<b>Barrio<b>: Almagro<b><b>Cantidad de delitos<b>1<b>",
          "<b>Barrio<b>: Almagro<b><b>Cantidad de delitos<b>1<b>",
          "<b>Barrio<b>: Almagro<b><b>Cantidad de delitos<b>1<b>",
          "<b>Barrio<b>: Almagro<b><b>Cantidad de delitos<b>1<b>",
          "<b>Barrio<b>: Almagro<b><b>Cantidad de delitos<b>1<b>",
          "<b>Barrio<b>: Almagro<b><b>Cantidad de delitos<b>1<b>",
          "<b>Barrio<b>: Almagro<b><b>Cantidad de delitos<b>1<b>",
          "<b>Barrio<b>: Almagro<b><b>Cantidad de delitos<b>1<b>",
          "<b>Barrio<b>: Almagro<b><b>Cantidad de delitos<b>1<b>",
          "<b>Barrio<b>: Almagro<b><b>Cantidad de delitos<b>2<b>",
          "<b>Barrio<b>: Almagro<b><b>Cantidad de delitos<b>1<b>",
          "<b>Barrio<b>: Balvanera<b><b>Cantidad de delitos<b>1<b>",
          "<b>Barrio<b>: Balvanera<b><b>Cantidad de delitos<b>1<b>",
          "<b>Barrio<b>: Balvanera<b><b>Cantidad de delitos<b>1<b>",
          "<b>Barrio<b>: Balvanera<b><b>Cantidad de delitos<b>2<b>",
          "<b>Barrio<b>: Balvanera<b><b>Cantidad de delitos<b>1<b>",
          "<b>Barrio<b>: Balvanera<b><b>Cantidad de delitos<b>1<b>",
          "<b>Barrio<b>: Balvanera<b><b>Cantidad de delitos<b>1<b>",
          "<b>Barrio<b>: Balvanera<b><b>Cantidad de delitos<b>1<b>",
          "<b>Barrio<b>: Balvanera<b><b>Cantidad de delitos<b>1<b>",
          "<b>Barrio<b>: Balvanera<b><b>Cantidad de delitos<b>1<b>",
          "<b>Barrio<b>: Balvanera<b><b>Cantidad de delitos<b>1<b>",
          "<b>Barrio<b>: Balvanera<b><b>Cantidad de delitos<b>1<b>",
          "<b>Barrio<b>: Balvanera<b><b>Cantidad de delitos<b>2<b>",
          "<b>Barrio<b>: Balvanera<b><b>Cantidad de delitos<b>1<b>",
          "<b>Barrio<b>: Balvanera<b><b>Cantidad de delitos<b>1<b>",
          "<b>Barrio<b>: Balvanera<b><b>Cantidad de delitos<b>1<b>",
          "<b>Barrio<b>: Balvanera<b><b>Cantidad de delitos<b>1<b>",
          "<b>Barrio<b>: Balvanera<b><b>Cantidad de delitos<b>1<b>",
          "<b>Barrio<b>: Balvanera<b><b>Cantidad de delitos<b>1<b>",
          "<b>Barrio<b>: Balvanera<b><b>Cantidad de delitos<b>1<b>",
          "<b>Barrio<b>: Balvanera<b><b>Cantidad de delitos<b>1<b>",
          "<b>Barrio<b>: Balvanera<b><b>Cantidad de delitos<b>1<b>",
          "<b>Barrio<b>: Balvanera<b><b>Cantidad de delitos<b>1<b>",
          "<b>Barrio<b>: Balvanera<b><b>Cantidad de delitos<b>1<b>",
          "<b>Barrio<b>: Balvanera<b><b>Cantidad de delitos<b>1<b>",
          "<b>Barrio<b>: Balvanera<b><b>Cantidad de delitos<b>1<b>",
          "<b>Barrio<b>: Balvanera<b><b>Cantidad de delitos<b>1<b>",
          "<b>Barrio<b>: Balvanera<b><b>Cantidad de delitos<b>1<b>",
          "<b>Barrio<b>: Balvanera<b><b>Cantidad de delitos<b>1<b>",
          "<b>Barrio<b>: Balvanera<b><b>Cantidad de delitos<b>1<b>",
          "<b>Barrio<b>: Balvanera<b><b>Cantidad de delitos<b>1<b>",
          "<b>Barrio<b>: Balvanera<b><b>Cantidad de delitos<b>1<b>",
          "<b>Barrio<b>: Balvanera<b><b>Cantidad de delitos<b>1<b>",
          "<b>Barrio<b>: Balvanera<b><b>Cantidad de delitos<b>1<b>",
          "<b>Barrio<b>: Balvanera<b><b>Cantidad de delitos<b>1<b>",
          "<b>Barrio<b>: Balvanera<b><b>Cantidad de delitos<b>1<b>",
          "<b>Barrio<b>: Balvanera<b><b>Cantidad de delitos<b>1<b>",
          "<b>Barrio<b>: Balvanera<b><b>Cantidad de delitos<b>1<b>",
          "<b>Barrio<b>: Balvanera<b><b>Cantidad de delitos<b>1<b>",
          "<b>Barrio<b>: Balvanera<b><b>Cantidad de delitos<b>1<b>",
          "<b>Barrio<b>: Balvanera<b><b>Cantidad de delitos<b>1<b>",
          "<b>Barrio<b>: Balvanera<b><b>Cantidad de delitos<b>1<b>",
          "<b>Barrio<b>: Balvanera<b><b>Cantidad de delitos<b>1<b>",
          "<b>Barrio<b>: Balvanera<b><b>Cantidad de delitos<b>1<b>",
          "<b>Barrio<b>: Balvanera<b><b>Cantidad de delitos<b>1<b>",
          "<b>Barrio<b>: Balvanera<b><b>Cantidad de delitos<b>1<b>",
          "<b>Barrio<b>: Balvanera<b><b>Cantidad de delitos<b>1<b>",
          "<b>Barrio<b>: Balvanera<b><b>Cantidad de delitos<b>1<b>",
          "<b>Barrio<b>: Balvanera<b><b>Cantidad de delitos<b>1<b>",
          "<b>Barrio<b>: Balvanera<b><b>Cantidad de delitos<b>1<b>",
          "<b>Barrio<b>: Balvanera<b><b>Cantidad de delitos<b>1<b>",
          "<b>Barrio<b>: Balvanera<b><b>Cantidad de delitos<b>1<b>",
          "<b>Barrio<b>: Balvanera<b><b>Cantidad de delitos<b>1<b>",
          "<b>Barrio<b>: Balvanera<b><b>Cantidad de delitos<b>1<b>",
          "<b>Barrio<b>: Balvanera<b><b>Cantidad de delitos<b>1<b>",
          "<b>Barrio<b>: Balvanera<b><b>Cantidad de delitos<b>1<b>",
          "<b>Barrio<b>: Balvanera<b><b>Cantidad de delitos<b>1<b>",
          "<b>Barrio<b>: Balvanera<b><b>Cantidad de delitos<b>1<b>",
          "<b>Barrio<b>: Balvanera<b><b>Cantidad de delitos<b>1<b>",
          "<b>Barrio<b>: Balvanera<b><b>Cantidad de delitos<b>1<b>",
          "<b>Barrio<b>: Balvanera<b><b>Cantidad de delitos<b>1<b>",
          "<b>Barrio<b>: Balvanera<b><b>Cantidad de delitos<b>2<b>",
          "<b>Barrio<b>: Balvanera<b><b>Cantidad de delitos<b>1<b>",
          "<b>Barrio<b>: Balvanera<b><b>Cantidad de delitos<b>1<b>",
          "<b>Barrio<b>: Balvanera<b><b>Cantidad de delitos<b>1<b>",
          "<b>Barrio<b>: Balvanera<b><b>Cantidad de delitos<b>5<b>",
          "<b>Barrio<b>: Balvanera<b><b>Cantidad de delitos<b>3<b>",
          "<b>Barrio<b>: Balvanera<b><b>Cantidad de delitos<b>2<b>",
          "<b>Barrio<b>: Barracas<b><b>Cantidad de delitos<b>1<b>",
          "<b>Barrio<b>: Barracas<b><b>Cantidad de delitos<b>2<b>",
          "<b>Barrio<b>: Barracas<b><b>Cantidad de delitos<b>1<b>",
          "<b>Barrio<b>: Barracas<b><b>Cantidad de delitos<b>1<b>",
          "<b>Barrio<b>: Barracas<b><b>Cantidad de delitos<b>1<b>",
          "<b>Barrio<b>: Barracas<b><b>Cantidad de delitos<b>1<b>",
          "<b>Barrio<b>: Barracas<b><b>Cantidad de delitos<b>1<b>",
          "<b>Barrio<b>: Barracas<b><b>Cantidad de delitos<b>1<b>",
          "<b>Barrio<b>: Barracas<b><b>Cantidad de delitos<b>1<b>",
          "<b>Barrio<b>: Barracas<b><b>Cantidad de delitos<b>1<b>",
          "<b>Barrio<b>: Barracas<b><b>Cantidad de delitos<b>1<b>",
          "<b>Barrio<b>: Barracas<b><b>Cantidad de delitos<b>1<b>",
          "<b>Barrio<b>: Barracas<b><b>Cantidad de delitos<b>1<b>",
          "<b>Barrio<b>: Barracas<b><b>Cantidad de delitos<b>1<b>",
          "<b>Barrio<b>: Barracas<b><b>Cantidad de delitos<b>1<b>",
          "<b>Barrio<b>: Barracas<b><b>Cantidad de delitos<b>1<b>",
          "<b>Barrio<b>: Barracas<b><b>Cantidad de delitos<b>1<b>",
          "<b>Barrio<b>: Barracas<b><b>Cantidad de delitos<b>1<b>",
          "<b>Barrio<b>: Barracas<b><b>Cantidad de delitos<b>1<b>",
          "<b>Barrio<b>: Barracas<b><b>Cantidad de delitos<b>1<b>",
          "<b>Barrio<b>: Barracas<b><b>Cantidad de delitos<b>1<b>",
          "<b>Barrio<b>: Barracas<b><b>Cantidad de delitos<b>1<b>",
          "<b>Barrio<b>: Barracas<b><b>Cantidad de delitos<b>1<b>",
          "<b>Barrio<b>: Barracas<b><b>Cantidad de delitos<b>1<b>",
          "<b>Barrio<b>: Barracas<b><b>Cantidad de delitos<b>1<b>",
          "<b>Barrio<b>: Barracas<b><b>Cantidad de delitos<b>1<b>",
          "<b>Barrio<b>: Barracas<b><b>Cantidad de delitos<b>1<b>",
          "<b>Barrio<b>: Barracas<b><b>Cantidad de delitos<b>1<b>",
          "<b>Barrio<b>: Barracas<b><b>Cantidad de delitos<b>1<b>",
          "<b>Barrio<b>: Barracas<b><b>Cantidad de delitos<b>1<b>",
          "<b>Barrio<b>: Barracas<b><b>Cantidad de delitos<b>1<b>",
          "<b>Barrio<b>: Barracas<b><b>Cantidad de delitos<b>1<b>",
          "<b>Barrio<b>: Barracas<b><b>Cantidad de delitos<b>1<b>",
          "<b>Barrio<b>: Barracas<b><b>Cantidad de delitos<b>1<b>",
          "<b>Barrio<b>: Barracas<b><b>Cantidad de delitos<b>1<b>",
          "<b>Barrio<b>: Barracas<b><b>Cantidad de delitos<b>1<b>",
          "<b>Barrio<b>: Barracas<b><b>Cantidad de delitos<b>1<b>",
          "<b>Barrio<b>: Barracas<b><b>Cantidad de delitos<b>1<b>",
          "<b>Barrio<b>: Belgrano<b><b>Cantidad de delitos<b>1<b>",
          "<b>Barrio<b>: Belgrano<b><b>Cantidad de delitos<b>1<b>",
          "<b>Barrio<b>: Belgrano<b><b>Cantidad de delitos<b>1<b>",
          "<b>Barrio<b>: Belgrano<b><b>Cantidad de delitos<b>1<b>",
          "<b>Barrio<b>: Belgrano<b><b>Cantidad de delitos<b>1<b>",
          "<b>Barrio<b>: Belgrano<b><b>Cantidad de delitos<b>1<b>",
          "<b>Barrio<b>: Belgrano<b><b>Cantidad de delitos<b>1<b>",
          "<b>Barrio<b>: Belgrano<b><b>Cantidad de delitos<b>1<b>",
          "<b>Barrio<b>: Belgrano<b><b>Cantidad de delitos<b>1<b>",
          "<b>Barrio<b>: Belgrano<b><b>Cantidad de delitos<b>1<b>",
          "<b>Barrio<b>: Belgrano<b><b>Cantidad de delitos<b>1<b>",
          "<b>Barrio<b>: Belgrano<b><b>Cantidad de delitos<b>1<b>",
          "<b>Barrio<b>: Belgrano<b><b>Cantidad de delitos<b>1<b>",
          "<b>Barrio<b>: Belgrano<b><b>Cantidad de delitos<b>1<b>",
          "<b>Barrio<b>: Belgrano<b><b>Cantidad de delitos<b>1<b>",
          "<b>Barrio<b>: Belgrano<b><b>Cantidad de delitos<b>1<b>",
          "<b>Barrio<b>: Belgrano<b><b>Cantidad de delitos<b>1<b>",
          "<b>Barrio<b>: Belgrano<b><b>Cantidad de delitos<b>1<b>",
          "<b>Barrio<b>: Belgrano<b><b>Cantidad de delitos<b>1<b>",
          "<b>Barrio<b>: Belgrano<b><b>Cantidad de delitos<b>1<b>",
          "<b>Barrio<b>: Belgrano<b><b>Cantidad de delitos<b>1<b>",
          "<b>Barrio<b>: Belgrano<b><b>Cantidad de delitos<b>1<b>",
          "<b>Barrio<b>: Belgrano<b><b>Cantidad de delitos<b>1<b>",
          "<b>Barrio<b>: Belgrano<b><b>Cantidad de delitos<b>1<b>",
          "<b>Barrio<b>: Belgrano<b><b>Cantidad de delitos<b>1<b>",
          "<b>Barrio<b>: Belgrano<b><b>Cantidad de delitos<b>1<b>",
          "<b>Barrio<b>: Belgrano<b><b>Cantidad de delitos<b>1<b>",
          "<b>Barrio<b>: Belgrano<b><b>Cantidad de delitos<b>1<b>",
          "<b>Barrio<b>: Belgrano<b><b>Cantidad de delitos<b>1<b>",
          "<b>Barrio<b>: Belgrano<b><b>Cantidad de delitos<b>1<b>",
          "<b>Barrio<b>: Belgrano<b><b>Cantidad de delitos<b>1<b>",
          "<b>Barrio<b>: Belgrano<b><b>Cantidad de delitos<b>1<b>",
          "<b>Barrio<b>: Belgrano<b><b>Cantidad de delitos<b>1<b>",
          "<b>Barrio<b>: Belgrano<b><b>Cantidad de delitos<b>1<b>",
          "<b>Barrio<b>: Belgrano<b><b>Cantidad de delitos<b>1<b>",
          "<b>Barrio<b>: Belgrano<b><b>Cantidad de delitos<b>1<b>",
          "<b>Barrio<b>: Belgrano<b><b>Cantidad de delitos<b>1<b>",
          "<b>Barrio<b>: Belgrano<b><b>Cantidad de delitos<b>1<b>",
          "<b>Barrio<b>: Belgrano<b><b>Cantidad de delitos<b>1<b>",
          "<b>Barrio<b>: Belgrano<b><b>Cantidad de delitos<b>1<b>",
          "<b>Barrio<b>: Belgrano<b><b>Cantidad de delitos<b>1<b>",
          "<b>Barrio<b>: Belgrano<b><b>Cantidad de delitos<b>2<b>",
          "<b>Barrio<b>: Belgrano<b><b>Cantidad de delitos<b>1<b>",
          "<b>Barrio<b>: Belgrano<b><b>Cantidad de delitos<b>1<b>",
          "<b>Barrio<b>: Belgrano<b><b>Cantidad de delitos<b>1<b>",
          "<b>Barrio<b>: Boca<b><b>Cantidad de delitos<b>1<b>",
          "<b>Barrio<b>: Boca<b><b>Cantidad de delitos<b>1<b>",
          "<b>Barrio<b>: Boca<b><b>Cantidad de delitos<b>1<b>",
          "<b>Barrio<b>: Boca<b><b>Cantidad de delitos<b>1<b>",
          "<b>Barrio<b>: Boca<b><b>Cantidad de delitos<b>1<b>",
          "<b>Barrio<b>: Boca<b><b>Cantidad de delitos<b>1<b>",
          "<b>Barrio<b>: Boca<b><b>Cantidad de delitos<b>1<b>",
          "<b>Barrio<b>: Boca<b><b>Cantidad de delitos<b>1<b>",
          "<b>Barrio<b>: Boca<b><b>Cantidad de delitos<b>1<b>",
          "<b>Barrio<b>: Boca<b><b>Cantidad de delitos<b>1<b>",
          "<b>Barrio<b>: Boca<b><b>Cantidad de delitos<b>1<b>",
          "<b>Barrio<b>: Boca<b><b>Cantidad de delitos<b>1<b>",
          "<b>Barrio<b>: Boca<b><b>Cantidad de delitos<b>1<b>",
          "<b>Barrio<b>: Boedo<b><b>Cantidad de delitos<b>1<b>",
          "<b>Barrio<b>: Boedo<b><b>Cantidad de delitos<b>1<b>",
          "<b>Barrio<b>: Boedo<b><b>Cantidad de delitos<b>1<b>",
          "<b>Barrio<b>: Boedo<b><b>Cantidad de delitos<b>1<b>",
          "<b>Barrio<b>: Boedo<b><b>Cantidad de delitos<b>1<b>",
          "<b>Barrio<b>: Boedo<b><b>Cantidad de delitos<b>1<b>",
          "<b>Barrio<b>: Boedo<b><b>Cantidad de delitos<b>1<b>",
          "<b>Barrio<b>: Boedo<b><b>Cantidad de delitos<b>1<b>",
          "<b>Barrio<b>: Boedo<b><b>Cantidad de delitos<b>1<b>",
          "<b>Barrio<b>: Boedo<b><b>Cantidad de delitos<b>2<b>",
          "<b>Barrio<b>: Boedo<b><b>Cantidad de delitos<b>1<b>",
          "<b>Barrio<b>: Boedo<b><b>Cantidad de delitos<b>1<b>",
          "<b>Barrio<b>: Boedo<b><b>Cantidad de delitos<b>1<b>",
          "<b>Barrio<b>: Boedo<b><b>Cantidad de delitos<b>1<b>",
          "<b>Barrio<b>: Boedo<b><b>Cantidad de delitos<b>1<b>",
          "<b>Barrio<b>: Boedo<b><b>Cantidad de delitos<b>1<b>",
          "<b>Barrio<b>: Boedo<b><b>Cantidad de delitos<b>1<b>",
          "<b>Barrio<b>: Boedo<b><b>Cantidad de delitos<b>1<b>",
          "<b>Barrio<b>: Boedo<b><b>Cantidad de delitos<b>1<b>",
          "<b>Barrio<b>: Boedo<b><b>Cantidad de delitos<b>1<b>",
          "<b>Barrio<b>: Boedo<b><b>Cantidad de delitos<b>1<b>",
          "<b>Barrio<b>: Boedo<b><b>Cantidad de delitos<b>1<b>",
          "<b>Barrio<b>: Caballito<b><b>Cantidad de delitos<b>1<b>",
          "<b>Barrio<b>: Caballito<b><b>Cantidad de delitos<b>1<b>",
          "<b>Barrio<b>: Caballito<b><b>Cantidad de delitos<b>1<b>",
          "<b>Barrio<b>: Caballito<b><b>Cantidad de delitos<b>1<b>",
          "<b>Barrio<b>: Caballito<b><b>Cantidad de delitos<b>1<b>",
          "<b>Barrio<b>: Caballito<b><b>Cantidad de delitos<b>1<b>",
          "<b>Barrio<b>: Caballito<b><b>Cantidad de delitos<b>1<b>",
          "<b>Barrio<b>: Caballito<b><b>Cantidad de delitos<b>1<b>",
          "<b>Barrio<b>: Caballito<b><b>Cantidad de delitos<b>1<b>",
          "<b>Barrio<b>: Caballito<b><b>Cantidad de delitos<b>1<b>",
          "<b>Barrio<b>: Caballito<b><b>Cantidad de delitos<b>1<b>",
          "<b>Barrio<b>: Caballito<b><b>Cantidad de delitos<b>1<b>",
          "<b>Barrio<b>: Caballito<b><b>Cantidad de delitos<b>1<b>",
          "<b>Barrio<b>: Caballito<b><b>Cantidad de delitos<b>1<b>",
          "<b>Barrio<b>: Caballito<b><b>Cantidad de delitos<b>1<b>",
          "<b>Barrio<b>: Caballito<b><b>Cantidad de delitos<b>1<b>",
          "<b>Barrio<b>: Caballito<b><b>Cantidad de delitos<b>1<b>",
          "<b>Barrio<b>: Caballito<b><b>Cantidad de delitos<b>1<b>",
          "<b>Barrio<b>: Caballito<b><b>Cantidad de delitos<b>1<b>",
          "<b>Barrio<b>: Caballito<b><b>Cantidad de delitos<b>1<b>",
          "<b>Barrio<b>: Caballito<b><b>Cantidad de delitos<b>1<b>",
          "<b>Barrio<b>: Caballito<b><b>Cantidad de delitos<b>1<b>",
          "<b>Barrio<b>: Caballito<b><b>Cantidad de delitos<b>1<b>",
          "<b>Barrio<b>: Caballito<b><b>Cantidad de delitos<b>1<b>",
          "<b>Barrio<b>: Caballito<b><b>Cantidad de delitos<b>1<b>",
          "<b>Barrio<b>: Caballito<b><b>Cantidad de delitos<b>1<b>",
          "<b>Barrio<b>: Caballito<b><b>Cantidad de delitos<b>1<b>",
          "<b>Barrio<b>: Caballito<b><b>Cantidad de delitos<b>1<b>",
          "<b>Barrio<b>: Caballito<b><b>Cantidad de delitos<b>1<b>",
          "<b>Barrio<b>: Caballito<b><b>Cantidad de delitos<b>1<b>",
          "<b>Barrio<b>: Caballito<b><b>Cantidad de delitos<b>1<b>",
          "<b>Barrio<b>: Caballito<b><b>Cantidad de delitos<b>1<b>",
          "<b>Barrio<b>: Caballito<b><b>Cantidad de delitos<b>1<b>",
          "<b>Barrio<b>: Caballito<b><b>Cantidad de delitos<b>1<b>",
          "<b>Barrio<b>: Caballito<b><b>Cantidad de delitos<b>1<b>",
          "<b>Barrio<b>: Caballito<b><b>Cantidad de delitos<b>1<b>",
          "<b>Barrio<b>: Caballito<b><b>Cantidad de delitos<b>1<b>",
          "<b>Barrio<b>: Caballito<b><b>Cantidad de delitos<b>1<b>",
          "<b>Barrio<b>: Caballito<b><b>Cantidad de delitos<b>1<b>",
          "<b>Barrio<b>: Caballito<b><b>Cantidad de delitos<b>1<b>",
          "<b>Barrio<b>: Caballito<b><b>Cantidad de delitos<b>1<b>",
          "<b>Barrio<b>: Caballito<b><b>Cantidad de delitos<b>1<b>",
          "<b>Barrio<b>: Caballito<b><b>Cantidad de delitos<b>1<b>",
          "<b>Barrio<b>: Caballito<b><b>Cantidad de delitos<b>1<b>",
          "<b>Barrio<b>: Caballito<b><b>Cantidad de delitos<b>1<b>",
          "<b>Barrio<b>: Caballito<b><b>Cantidad de delitos<b>1<b>",
          "<b>Barrio<b>: Caballito<b><b>Cantidad de delitos<b>1<b>",
          "<b>Barrio<b>: Caballito<b><b>Cantidad de delitos<b>1<b>",
          "<b>Barrio<b>: Chacarita<b><b>Cantidad de delitos<b>1<b>",
          "<b>Barrio<b>: Chacarita<b><b>Cantidad de delitos<b>1<b>",
          "<b>Barrio<b>: Chacarita<b><b>Cantidad de delitos<b>1<b>",
          "<b>Barrio<b>: Chacarita<b><b>Cantidad de delitos<b>1<b>",
          "<b>Barrio<b>: Chacarita<b><b>Cantidad de delitos<b>1<b>",
          "<b>Barrio<b>: Chacarita<b><b>Cantidad de delitos<b>1<b>",
          "<b>Barrio<b>: Chacarita<b><b>Cantidad de delitos<b>1<b>",
          "<b>Barrio<b>: Chacarita<b><b>Cantidad de delitos<b>1<b>",
          "<b>Barrio<b>: Chacarita<b><b>Cantidad de delitos<b>1<b>",
          "<b>Barrio<b>: Chacarita<b><b>Cantidad de delitos<b>1<b>",
          "<b>Barrio<b>: Chacarita<b><b>Cantidad de delitos<b>1<b>",
          "<b>Barrio<b>: Chacarita<b><b>Cantidad de delitos<b>1<b>",
          "<b>Barrio<b>: Chacarita<b><b>Cantidad de delitos<b>1<b>",
          "<b>Barrio<b>: Chacarita<b><b>Cantidad de delitos<b>2<b>",
          "<b>Barrio<b>: Chacarita<b><b>Cantidad de delitos<b>1<b>",
          "<b>Barrio<b>: Chacarita<b><b>Cantidad de delitos<b>2<b>",
          "<b>Barrio<b>: Coghlan<b><b>Cantidad de delitos<b>1<b>",
          "<b>Barrio<b>: Coghlan<b><b>Cantidad de delitos<b>1<b>",
          "<b>Barrio<b>: Coghlan<b><b>Cantidad de delitos<b>1<b>",
          "<b>Barrio<b>: Coghlan<b><b>Cantidad de delitos<b>1<b>",
          "<b>Barrio<b>: Coghlan<b><b>Cantidad de delitos<b>1<b>",
          "<b>Barrio<b>: Colegiales<b><b>Cantidad de delitos<b>1<b>",
          "<b>Barrio<b>: Colegiales<b><b>Cantidad de delitos<b>1<b>",
          "<b>Barrio<b>: Colegiales<b><b>Cantidad de delitos<b>1<b>",
          "<b>Barrio<b>: Colegiales<b><b>Cantidad de delitos<b>1<b>",
          "<b>Barrio<b>: Colegiales<b><b>Cantidad de delitos<b>1<b>",
          "<b>Barrio<b>: Colegiales<b><b>Cantidad de delitos<b>1<b>",
          "<b>Barrio<b>: Colegiales<b><b>Cantidad de delitos<b>1<b>",
          "<b>Barrio<b>: Colegiales<b><b>Cantidad de delitos<b>1<b>",
          "<b>Barrio<b>: Colegiales<b><b>Cantidad de delitos<b>1<b>",
          "<b>Barrio<b>: Colegiales<b><b>Cantidad de delitos<b>1<b>",
          "<b>Barrio<b>: Colegiales<b><b>Cantidad de delitos<b>1<b>",
          "<b>Barrio<b>: Constitución<b><b>Cantidad de delitos<b>1<b>",
          "<b>Barrio<b>: Constitución<b><b>Cantidad de delitos<b>1<b>",
          "<b>Barrio<b>: Constitución<b><b>Cantidad de delitos<b>1<b>",
          "<b>Barrio<b>: Constitución<b><b>Cantidad de delitos<b>1<b>",
          "<b>Barrio<b>: Constitución<b><b>Cantidad de delitos<b>1<b>",
          "<b>Barrio<b>: Constitución<b><b>Cantidad de delitos<b>1<b>",
          "<b>Barrio<b>: Constitución<b><b>Cantidad de delitos<b>1<b>",
          "<b>Barrio<b>: Constitución<b><b>Cantidad de delitos<b>1<b>",
          "<b>Barrio<b>: Constitución<b><b>Cantidad de delitos<b>1<b>",
          "<b>Barrio<b>: Constitución<b><b>Cantidad de delitos<b>1<b>",
          "<b>Barrio<b>: Constitución<b><b>Cantidad de delitos<b>1<b>",
          "<b>Barrio<b>: Constitución<b><b>Cantidad de delitos<b>1<b>",
          "<b>Barrio<b>: Constitución<b><b>Cantidad de delitos<b>1<b>",
          "<b>Barrio<b>: Constitución<b><b>Cantidad de delitos<b>1<b>",
          "<b>Barrio<b>: Constitución<b><b>Cantidad de delitos<b>1<b>",
          "<b>Barrio<b>: Constitución<b><b>Cantidad de delitos<b>1<b>",
          "<b>Barrio<b>: Constitución<b><b>Cantidad de delitos<b>1<b>",
          "<b>Barrio<b>: Constitución<b><b>Cantidad de delitos<b>1<b>",
          "<b>Barrio<b>: Constitución<b><b>Cantidad de delitos<b>1<b>",
          "<b>Barrio<b>: Constitución<b><b>Cantidad de delitos<b>1<b>",
          "<b>Barrio<b>: Constitución<b><b>Cantidad de delitos<b>1<b>",
          "<b>Barrio<b>: Constitución<b><b>Cantidad de delitos<b>1<b>",
          "<b>Barrio<b>: Constitución<b><b>Cantidad de delitos<b>1<b>",
          "<b>Barrio<b>: Constitución<b><b>Cantidad de delitos<b>1<b>",
          "<b>Barrio<b>: Constitución<b><b>Cantidad de delitos<b>3<b>",
          "<b>Barrio<b>: Constitución<b><b>Cantidad de delitos<b>1<b>",
          "<b>Barrio<b>: Constitución<b><b>Cantidad de delitos<b>1<b>",
          "<b>Barrio<b>: Constitución<b><b>Cantidad de delitos<b>1<b>",
          "<b>Barrio<b>: Constitución<b><b>Cantidad de delitos<b>1<b>",
          "<b>Barrio<b>: Constitución<b><b>Cantidad de delitos<b>1<b>",
          "<b>Barrio<b>: Flores<b><b>Cantidad de delitos<b>1<b>",
          "<b>Barrio<b>: Flores<b><b>Cantidad de delitos<b>1<b>",
          "<b>Barrio<b>: Flores<b><b>Cantidad de delitos<b>1<b>",
          "<b>Barrio<b>: Flores<b><b>Cantidad de delitos<b>1<b>",
          "<b>Barrio<b>: Flores<b><b>Cantidad de delitos<b>1<b>",
          "<b>Barrio<b>: Flores<b><b>Cantidad de delitos<b>1<b>",
          "<b>Barrio<b>: Flores<b><b>Cantidad de delitos<b>1<b>",
          "<b>Barrio<b>: Flores<b><b>Cantidad de delitos<b>1<b>",
          "<b>Barrio<b>: Flores<b><b>Cantidad de delitos<b>1<b>",
          "<b>Barrio<b>: Flores<b><b>Cantidad de delitos<b>2<b>",
          "<b>Barrio<b>: Flores<b><b>Cantidad de delitos<b>1<b>",
          "<b>Barrio<b>: Flores<b><b>Cantidad de delitos<b>1<b>",
          "<b>Barrio<b>: Flores<b><b>Cantidad de delitos<b>1<b>",
          "<b>Barrio<b>: Flores<b><b>Cantidad de delitos<b>1<b>",
          "<b>Barrio<b>: Flores<b><b>Cantidad de delitos<b>1<b>",
          "<b>Barrio<b>: Flores<b><b>Cantidad de delitos<b>1<b>",
          "<b>Barrio<b>: Flores<b><b>Cantidad de delitos<b>1<b>",
          "<b>Barrio<b>: Flores<b><b>Cantidad de delitos<b>1<b>",
          "<b>Barrio<b>: Flores<b><b>Cantidad de delitos<b>1<b>",
          "<b>Barrio<b>: Flores<b><b>Cantidad de delitos<b>1<b>",
          "<b>Barrio<b>: Flores<b><b>Cantidad de delitos<b>1<b>",
          "<b>Barrio<b>: Flores<b><b>Cantidad de delitos<b>1<b>",
          "<b>Barrio<b>: Flores<b><b>Cantidad de delitos<b>1<b>",
          "<b>Barrio<b>: Flores<b><b>Cantidad de delitos<b>1<b>",
          "<b>Barrio<b>: Flores<b><b>Cantidad de delitos<b>1<b>",
          "<b>Barrio<b>: Flores<b><b>Cantidad de delitos<b>1<b>",
          "<b>Barrio<b>: Flores<b><b>Cantidad de delitos<b>1<b>",
          "<b>Barrio<b>: Flores<b><b>Cantidad de delitos<b>1<b>",
          "<b>Barrio<b>: Flores<b><b>Cantidad de delitos<b>1<b>",
          "<b>Barrio<b>: Flores<b><b>Cantidad de delitos<b>1<b>",
          "<b>Barrio<b>: Flores<b><b>Cantidad de delitos<b>1<b>",
          "<b>Barrio<b>: Flores<b><b>Cantidad de delitos<b>1<b>",
          "<b>Barrio<b>: Flores<b><b>Cantidad de delitos<b>1<b>",
          "<b>Barrio<b>: Flores<b><b>Cantidad de delitos<b>1<b>",
          "<b>Barrio<b>: Flores<b><b>Cantidad de delitos<b>2<b>",
          "<b>Barrio<b>: Flores<b><b>Cantidad de delitos<b>1<b>",
          "<b>Barrio<b>: Flores<b><b>Cantidad de delitos<b>1<b>",
          "<b>Barrio<b>: Flores<b><b>Cantidad de delitos<b>1<b>",
          "<b>Barrio<b>: Flores<b><b>Cantidad de delitos<b>1<b>",
          "<b>Barrio<b>: Flores<b><b>Cantidad de delitos<b>1<b>",
          "<b>Barrio<b>: Flores<b><b>Cantidad de delitos<b>1<b>",
          "<b>Barrio<b>: Flores<b><b>Cantidad de delitos<b>1<b>",
          "<b>Barrio<b>: Flores<b><b>Cantidad de delitos<b>1<b>",
          "<b>Barrio<b>: Flores<b><b>Cantidad de delitos<b>1<b>",
          "<b>Barrio<b>: Flores<b><b>Cantidad de delitos<b>1<b>",
          "<b>Barrio<b>: Flores<b><b>Cantidad de delitos<b>1<b>",
          "<b>Barrio<b>: Flores<b><b>Cantidad de delitos<b>1<b>",
          "<b>Barrio<b>: Flores<b><b>Cantidad de delitos<b>1<b>",
          "<b>Barrio<b>: Flores<b><b>Cantidad de delitos<b>1<b>",
          "<b>Barrio<b>: Flores<b><b>Cantidad de delitos<b>3<b>",
          "<b>Barrio<b>: Flores<b><b>Cantidad de delitos<b>1<b>",
          "<b>Barrio<b>: Flores<b><b>Cantidad de delitos<b>1<b>",
          "<b>Barrio<b>: Floresta<b><b>Cantidad de delitos<b>1<b>",
          "<b>Barrio<b>: Floresta<b><b>Cantidad de delitos<b>1<b>",
          "<b>Barrio<b>: Floresta<b><b>Cantidad de delitos<b>1<b>",
          "<b>Barrio<b>: Floresta<b><b>Cantidad de delitos<b>1<b>",
          "<b>Barrio<b>: Floresta<b><b>Cantidad de delitos<b>1<b>",
          "<b>Barrio<b>: Floresta<b><b>Cantidad de delitos<b>1<b>",
          "<b>Barrio<b>: Floresta<b><b>Cantidad de delitos<b>1<b>",
          "<b>Barrio<b>: Floresta<b><b>Cantidad de delitos<b>1<b>",
          "<b>Barrio<b>: Liniers<b><b>Cantidad de delitos<b>1<b>",
          "<b>Barrio<b>: Liniers<b><b>Cantidad de delitos<b>1<b>",
          "<b>Barrio<b>: Liniers<b><b>Cantidad de delitos<b>2<b>",
          "<b>Barrio<b>: Liniers<b><b>Cantidad de delitos<b>1<b>",
          "<b>Barrio<b>: Liniers<b><b>Cantidad de delitos<b>1<b>",
          "<b>Barrio<b>: Liniers<b><b>Cantidad de delitos<b>1<b>",
          "<b>Barrio<b>: Liniers<b><b>Cantidad de delitos<b>1<b>",
          "<b>Barrio<b>: Liniers<b><b>Cantidad de delitos<b>1<b>",
          "<b>Barrio<b>: Liniers<b><b>Cantidad de delitos<b>1<b>",
          "<b>Barrio<b>: Liniers<b><b>Cantidad de delitos<b>1<b>",
          "<b>Barrio<b>: Liniers<b><b>Cantidad de delitos<b>1<b>",
          "<b>Barrio<b>: Liniers<b><b>Cantidad de delitos<b>1<b>",
          "<b>Barrio<b>: Liniers<b><b>Cantidad de delitos<b>1<b>",
          "<b>Barrio<b>: Liniers<b><b>Cantidad de delitos<b>1<b>",
          "<b>Barrio<b>: Liniers<b><b>Cantidad de delitos<b>1<b>",
          "<b>Barrio<b>: Mataderos<b><b>Cantidad de delitos<b>1<b>",
          "<b>Barrio<b>: Mataderos<b><b>Cantidad de delitos<b>1<b>",
          "<b>Barrio<b>: Mataderos<b><b>Cantidad de delitos<b>1<b>",
          "<b>Barrio<b>: Mataderos<b><b>Cantidad de delitos<b>1<b>",
          "<b>Barrio<b>: Mataderos<b><b>Cantidad de delitos<b>1<b>",
          "<b>Barrio<b>: Mataderos<b><b>Cantidad de delitos<b>1<b>",
          "<b>Barrio<b>: Mataderos<b><b>Cantidad de delitos<b>1<b>",
          "<b>Barrio<b>: Mataderos<b><b>Cantidad de delitos<b>1<b>",
          "<b>Barrio<b>: Mataderos<b><b>Cantidad de delitos<b>1<b>",
          "<b>Barrio<b>: Mataderos<b><b>Cantidad de delitos<b>1<b>",
          "<b>Barrio<b>: Mataderos<b><b>Cantidad de delitos<b>1<b>",
          "<b>Barrio<b>: Mataderos<b><b>Cantidad de delitos<b>1<b>",
          "<b>Barrio<b>: Mataderos<b><b>Cantidad de delitos<b>1<b>",
          "<b>Barrio<b>: Mataderos<b><b>Cantidad de delitos<b>1<b>",
          "<b>Barrio<b>: Mataderos<b><b>Cantidad de delitos<b>1<b>",
          "<b>Barrio<b>: Mataderos<b><b>Cantidad de delitos<b>1<b>",
          "<b>Barrio<b>: Mataderos<b><b>Cantidad de delitos<b>1<b>",
          "<b>Barrio<b>: Mataderos<b><b>Cantidad de delitos<b>1<b>",
          "<b>Barrio<b>: Mataderos<b><b>Cantidad de delitos<b>1<b>",
          "<b>Barrio<b>: Mataderos<b><b>Cantidad de delitos<b>1<b>",
          "<b>Barrio<b>: Mataderos<b><b>Cantidad de delitos<b>1<b>",
          "<b>Barrio<b>: Mataderos<b><b>Cantidad de delitos<b>1<b>",
          "<b>Barrio<b>: Mataderos<b><b>Cantidad de delitos<b>1<b>",
          "<b>Barrio<b>: Monserrat<b><b>Cantidad de delitos<b>1<b>",
          "<b>Barrio<b>: Monserrat<b><b>Cantidad de delitos<b>1<b>",
          "<b>Barrio<b>: Monserrat<b><b>Cantidad de delitos<b>1<b>",
          "<b>Barrio<b>: Monserrat<b><b>Cantidad de delitos<b>1<b>",
          "<b>Barrio<b>: Monserrat<b><b>Cantidad de delitos<b>1<b>",
          "<b>Barrio<b>: Monserrat<b><b>Cantidad de delitos<b>1<b>",
          "<b>Barrio<b>: Monserrat<b><b>Cantidad de delitos<b>1<b>",
          "<b>Barrio<b>: Monserrat<b><b>Cantidad de delitos<b>1<b>",
          "<b>Barrio<b>: Monserrat<b><b>Cantidad de delitos<b>1<b>",
          "<b>Barrio<b>: Monserrat<b><b>Cantidad de delitos<b>1<b>",
          "<b>Barrio<b>: Monserrat<b><b>Cantidad de delitos<b>1<b>",
          "<b>Barrio<b>: Monserrat<b><b>Cantidad de delitos<b>1<b>",
          "<b>Barrio<b>: Monserrat<b><b>Cantidad de delitos<b>1<b>",
          "<b>Barrio<b>: Monserrat<b><b>Cantidad de delitos<b>1<b>",
          "<b>Barrio<b>: Monserrat<b><b>Cantidad de delitos<b>1<b>",
          "<b>Barrio<b>: Monserrat<b><b>Cantidad de delitos<b>1<b>",
          "<b>Barrio<b>: Monserrat<b><b>Cantidad de delitos<b>1<b>",
          "<b>Barrio<b>: Monserrat<b><b>Cantidad de delitos<b>1<b>",
          "<b>Barrio<b>: Monserrat<b><b>Cantidad de delitos<b>1<b>",
          "<b>Barrio<b>: Monserrat<b><b>Cantidad de delitos<b>1<b>",
          "<b>Barrio<b>: Monserrat<b><b>Cantidad de delitos<b>1<b>",
          "<b>Barrio<b>: Monserrat<b><b>Cantidad de delitos<b>1<b>",
          "<b>Barrio<b>: Monte Castro<b><b>Cantidad de delitos<b>1<b>",
          "<b>Barrio<b>: Monte Castro<b><b>Cantidad de delitos<b>1<b>",
          "<b>Barrio<b>: Monte Castro<b><b>Cantidad de delitos<b>1<b>",
          "<b>Barrio<b>: Monte Castro<b><b>Cantidad de delitos<b>1<b>",
          "<b>Barrio<b>: Monte Castro<b><b>Cantidad de delitos<b>1<b>",
          "<b>Barrio<b>: Monte Castro<b><b>Cantidad de delitos<b>1<b>",
          "<b>Barrio<b>: Monte Castro<b><b>Cantidad de delitos<b>1<b>",
          "<b>Barrio<b>: Monte Castro<b><b>Cantidad de delitos<b>1<b>",
          "<b>Barrio<b>: Monte Castro<b><b>Cantidad de delitos<b>1<b>",
          "<b>Barrio<b>: Monte Castro<b><b>Cantidad de delitos<b>1<b>",
          "<b>Barrio<b>: Monte Castro<b><b>Cantidad de delitos<b>1<b>",
          "<b>Barrio<b>: Monte Castro<b><b>Cantidad de delitos<b>1<b>",
          "<b>Barrio<b>: Nueva Pompeya<b><b>Cantidad de delitos<b>1<b>",
          "<b>Barrio<b>: Nueva Pompeya<b><b>Cantidad de delitos<b>1<b>",
          "<b>Barrio<b>: Nueva Pompeya<b><b>Cantidad de delitos<b>1<b>",
          "<b>Barrio<b>: Nueva Pompeya<b><b>Cantidad de delitos<b>1<b>",
          "<b>Barrio<b>: Nueva Pompeya<b><b>Cantidad de delitos<b>1<b>",
          "<b>Barrio<b>: Nueva Pompeya<b><b>Cantidad de delitos<b>1<b>",
          "<b>Barrio<b>: Nueva Pompeya<b><b>Cantidad de delitos<b>1<b>",
          "<b>Barrio<b>: Nueva Pompeya<b><b>Cantidad de delitos<b>1<b>",
          "<b>Barrio<b>: Nueva Pompeya<b><b>Cantidad de delitos<b>1<b>",
          "<b>Barrio<b>: Nueva Pompeya<b><b>Cantidad de delitos<b>1<b>",
          "<b>Barrio<b>: Nueva Pompeya<b><b>Cantidad de delitos<b>1<b>",
          "<b>Barrio<b>: Nueva Pompeya<b><b>Cantidad de delitos<b>1<b>",
          "<b>Barrio<b>: Nueva Pompeya<b><b>Cantidad de delitos<b>1<b>",
          "<b>Barrio<b>: Nueva Pompeya<b><b>Cantidad de delitos<b>1<b>",
          "<b>Barrio<b>: Nueva Pompeya<b><b>Cantidad de delitos<b>1<b>",
          "<b>Barrio<b>: Nueva Pompeya<b><b>Cantidad de delitos<b>1<b>",
          "<b>Barrio<b>: Nueva Pompeya<b><b>Cantidad de delitos<b>1<b>",
          "<b>Barrio<b>: Nueva Pompeya<b><b>Cantidad de delitos<b>1<b>",
          "<b>Barrio<b>: Nueva Pompeya<b><b>Cantidad de delitos<b>1<b>",
          "<b>Barrio<b>: Nueva Pompeya<b><b>Cantidad de delitos<b>1<b>",
          "<b>Barrio<b>: Nueva Pompeya<b><b>Cantidad de delitos<b>1<b>",
          "<b>Barrio<b>: Nueva Pompeya<b><b>Cantidad de delitos<b>1<b>",
          "<b>Barrio<b>: Nueva Pompeya<b><b>Cantidad de delitos<b>1<b>",
          "<b>Barrio<b>: Nueva Pompeya<b><b>Cantidad de delitos<b>1<b>",
          "<b>Barrio<b>: Nueva Pompeya<b><b>Cantidad de delitos<b>1<b>",
          "<b>Barrio<b>: Nueva Pompeya<b><b>Cantidad de delitos<b>1<b>",
          "<b>Barrio<b>: Nueva Pompeya<b><b>Cantidad de delitos<b>1<b>",
          "<b>Barrio<b>: Nueva Pompeya<b><b>Cantidad de delitos<b>1<b>",
          "<b>Barrio<b>: Nueva Pompeya<b><b>Cantidad de delitos<b>1<b>",
          "<b>Barrio<b>: Nueva Pompeya<b><b>Cantidad de delitos<b>1<b>",
          "<b>Barrio<b>: Nueva Pompeya<b><b>Cantidad de delitos<b>1<b>",
          "<b>Barrio<b>: Nueva Pompeya<b><b>Cantidad de delitos<b>1<b>",
          "<b>Barrio<b>: Nueva Pompeya<b><b>Cantidad de delitos<b>1<b>",
          "<b>Barrio<b>: Nueva Pompeya<b><b>Cantidad de delitos<b>1<b>",
          "<b>Barrio<b>: Nueva Pompeya<b><b>Cantidad de delitos<b>1<b>",
          "<b>Barrio<b>: Nueva Pompeya<b><b>Cantidad de delitos<b>1<b>",
          "<b>Barrio<b>: Nueva Pompeya<b><b>Cantidad de delitos<b>1<b>",
          "<b>Barrio<b>: Nueva Pompeya<b><b>Cantidad de delitos<b>1<b>",
          "<b>Barrio<b>: Nuñez<b><b>Cantidad de delitos<b>1<b>",
          "<b>Barrio<b>: Nuñez<b><b>Cantidad de delitos<b>1<b>",
          "<b>Barrio<b>: Nuñez<b><b>Cantidad de delitos<b>1<b>",
          "<b>Barrio<b>: Nuñez<b><b>Cantidad de delitos<b>1<b>",
          "<b>Barrio<b>: Nuñez<b><b>Cantidad de delitos<b>1<b>",
          "<b>Barrio<b>: Nuñez<b><b>Cantidad de delitos<b>1<b>",
          "<b>Barrio<b>: Nuñez<b><b>Cantidad de delitos<b>1<b>",
          "<b>Barrio<b>: Nuñez<b><b>Cantidad de delitos<b>1<b>",
          "<b>Barrio<b>: Nuñez<b><b>Cantidad de delitos<b>1<b>",
          "<b>Barrio<b>: Nuñez<b><b>Cantidad de delitos<b>1<b>",
          "<b>Barrio<b>: Nuñez<b><b>Cantidad de delitos<b>1<b>",
          "<b>Barrio<b>: Nuñez<b><b>Cantidad de delitos<b>1<b>",
          "<b>Barrio<b>: Nuñez<b><b>Cantidad de delitos<b>1<b>",
          "<b>Barrio<b>: Nuñez<b><b>Cantidad de delitos<b>1<b>",
          "<b>Barrio<b>: Nuñez<b><b>Cantidad de delitos<b>1<b>",
          "<b>Barrio<b>: Nuñez<b><b>Cantidad de delitos<b>1<b>",
          "<b>Barrio<b>: Nuñez<b><b>Cantidad de delitos<b>1<b>",
          "<b>Barrio<b>: Nuñez<b><b>Cantidad de delitos<b>1<b>",
          "<b>Barrio<b>: Nuñez<b><b>Cantidad de delitos<b>1<b>",
          "<b>Barrio<b>: Nuñez<b><b>Cantidad de delitos<b>1<b>",
          "<b>Barrio<b>: Nuñez<b><b>Cantidad de delitos<b>1<b>",
          "<b>Barrio<b>: Palermo<b><b>Cantidad de delitos<b>1<b>",
          "<b>Barrio<b>: Palermo<b><b>Cantidad de delitos<b>1<b>",
          "<b>Barrio<b>: Palermo<b><b>Cantidad de delitos<b>1<b>",
          "<b>Barrio<b>: Palermo<b><b>Cantidad de delitos<b>1<b>",
          "<b>Barrio<b>: Palermo<b><b>Cantidad de delitos<b>1<b>",
          "<b>Barrio<b>: Palermo<b><b>Cantidad de delitos<b>1<b>",
          "<b>Barrio<b>: Palermo<b><b>Cantidad de delitos<b>1<b>",
          "<b>Barrio<b>: Palermo<b><b>Cantidad de delitos<b>1<b>",
          "<b>Barrio<b>: Palermo<b><b>Cantidad de delitos<b>1<b>",
          "<b>Barrio<b>: Palermo<b><b>Cantidad de delitos<b>1<b>",
          "<b>Barrio<b>: Palermo<b><b>Cantidad de delitos<b>1<b>",
          "<b>Barrio<b>: Palermo<b><b>Cantidad de delitos<b>1<b>",
          "<b>Barrio<b>: Palermo<b><b>Cantidad de delitos<b>1<b>",
          "<b>Barrio<b>: Palermo<b><b>Cantidad de delitos<b>1<b>",
          "<b>Barrio<b>: Palermo<b><b>Cantidad de delitos<b>1<b>",
          "<b>Barrio<b>: Palermo<b><b>Cantidad de delitos<b>1<b>",
          "<b>Barrio<b>: Palermo<b><b>Cantidad de delitos<b>1<b>",
          "<b>Barrio<b>: Palermo<b><b>Cantidad de delitos<b>1<b>",
          "<b>Barrio<b>: Palermo<b><b>Cantidad de delitos<b>1<b>",
          "<b>Barrio<b>: Palermo<b><b>Cantidad de delitos<b>1<b>",
          "<b>Barrio<b>: Palermo<b><b>Cantidad de delitos<b>1<b>",
          "<b>Barrio<b>: Palermo<b><b>Cantidad de delitos<b>1<b>",
          "<b>Barrio<b>: Palermo<b><b>Cantidad de delitos<b>1<b>",
          "<b>Barrio<b>: Palermo<b><b>Cantidad de delitos<b>1<b>",
          "<b>Barrio<b>: Palermo<b><b>Cantidad de delitos<b>1<b>",
          "<b>Barrio<b>: Palermo<b><b>Cantidad de delitos<b>1<b>",
          "<b>Barrio<b>: Palermo<b><b>Cantidad de delitos<b>1<b>",
          "<b>Barrio<b>: Palermo<b><b>Cantidad de delitos<b>1<b>",
          "<b>Barrio<b>: Palermo<b><b>Cantidad de delitos<b>1<b>",
          "<b>Barrio<b>: Palermo<b><b>Cantidad de delitos<b>1<b>",
          "<b>Barrio<b>: Palermo<b><b>Cantidad de delitos<b>1<b>",
          "<b>Barrio<b>: Palermo<b><b>Cantidad de delitos<b>1<b>",
          "<b>Barrio<b>: Palermo<b><b>Cantidad de delitos<b>1<b>",
          "<b>Barrio<b>: Palermo<b><b>Cantidad de delitos<b>1<b>",
          "<b>Barrio<b>: Palermo<b><b>Cantidad de delitos<b>1<b>",
          "<b>Barrio<b>: Palermo<b><b>Cantidad de delitos<b>1<b>",
          "<b>Barrio<b>: Palermo<b><b>Cantidad de delitos<b>1<b>",
          "<b>Barrio<b>: Palermo<b><b>Cantidad de delitos<b>1<b>",
          "<b>Barrio<b>: Palermo<b><b>Cantidad de delitos<b>1<b>",
          "<b>Barrio<b>: Palermo<b><b>Cantidad de delitos<b>1<b>",
          "<b>Barrio<b>: Palermo<b><b>Cantidad de delitos<b>1<b>",
          "<b>Barrio<b>: Palermo<b><b>Cantidad de delitos<b>1<b>",
          "<b>Barrio<b>: Palermo<b><b>Cantidad de delitos<b>1<b>",
          "<b>Barrio<b>: Palermo<b><b>Cantidad de delitos<b>1<b>",
          "<b>Barrio<b>: Palermo<b><b>Cantidad de delitos<b>1<b>",
          "<b>Barrio<b>: Palermo<b><b>Cantidad de delitos<b>1<b>",
          "<b>Barrio<b>: Palermo<b><b>Cantidad de delitos<b>2<b>",
          "<b>Barrio<b>: Palermo<b><b>Cantidad de delitos<b>1<b>",
          "<b>Barrio<b>: Palermo<b><b>Cantidad de delitos<b>1<b>",
          "<b>Barrio<b>: Palermo<b><b>Cantidad de delitos<b>1<b>",
          "<b>Barrio<b>: Palermo<b><b>Cantidad de delitos<b>2<b>",
          "<b>Barrio<b>: Palermo<b><b>Cantidad de delitos<b>1<b>",
          "<b>Barrio<b>: Palermo<b><b>Cantidad de delitos<b>1<b>",
          "<b>Barrio<b>: Palermo<b><b>Cantidad de delitos<b>1<b>",
          "<b>Barrio<b>: Palermo<b><b>Cantidad de delitos<b>1<b>",
          "<b>Barrio<b>: Palermo<b><b>Cantidad de delitos<b>1<b>",
          "<b>Barrio<b>: Palermo<b><b>Cantidad de delitos<b>1<b>",
          "<b>Barrio<b>: Palermo<b><b>Cantidad de delitos<b>1<b>",
          "<b>Barrio<b>: Palermo<b><b>Cantidad de delitos<b>1<b>",
          "<b>Barrio<b>: Palermo<b><b>Cantidad de delitos<b>1<b>",
          "<b>Barrio<b>: Palermo<b><b>Cantidad de delitos<b>1<b>",
          "<b>Barrio<b>: Palermo<b><b>Cantidad de delitos<b>1<b>",
          "<b>Barrio<b>: Palermo<b><b>Cantidad de delitos<b>1<b>",
          "<b>Barrio<b>: Palermo<b><b>Cantidad de delitos<b>1<b>",
          "<b>Barrio<b>: Palermo<b><b>Cantidad de delitos<b>1<b>",
          "<b>Barrio<b>: Palermo<b><b>Cantidad de delitos<b>1<b>",
          "<b>Barrio<b>: Palermo<b><b>Cantidad de delitos<b>1<b>",
          "<b>Barrio<b>: Palermo<b><b>Cantidad de delitos<b>1<b>",
          "<b>Barrio<b>: Palermo<b><b>Cantidad de delitos<b>1<b>",
          "<b>Barrio<b>: Palermo<b><b>Cantidad de delitos<b>1<b>",
          "<b>Barrio<b>: Palermo<b><b>Cantidad de delitos<b>1<b>",
          "<b>Barrio<b>: Palermo<b><b>Cantidad de delitos<b>1<b>",
          "<b>Barrio<b>: Palermo<b><b>Cantidad de delitos<b>1<b>",
          "<b>Barrio<b>: Palermo<b><b>Cantidad de delitos<b>1<b>",
          "<b>Barrio<b>: Palermo<b><b>Cantidad de delitos<b>1<b>",
          "<b>Barrio<b>: Palermo<b><b>Cantidad de delitos<b>1<b>",
          "<b>Barrio<b>: Palermo<b><b>Cantidad de delitos<b>1<b>",
          "<b>Barrio<b>: Palermo<b><b>Cantidad de delitos<b>1<b>",
          "<b>Barrio<b>: Palermo<b><b>Cantidad de delitos<b>1<b>",
          "<b>Barrio<b>: Palermo<b><b>Cantidad de delitos<b>1<b>",
          "<b>Barrio<b>: Palermo<b><b>Cantidad de delitos<b>1<b>",
          "<b>Barrio<b>: Palermo<b><b>Cantidad de delitos<b>2<b>",
          "<b>Barrio<b>: Palermo<b><b>Cantidad de delitos<b>1<b>",
          "<b>Barrio<b>: Palermo<b><b>Cantidad de delitos<b>1<b>",
          "<b>Barrio<b>: Palermo<b><b>Cantidad de delitos<b>1<b>",
          "<b>Barrio<b>: Palermo<b><b>Cantidad de delitos<b>1<b>",
          "<b>Barrio<b>: Palermo<b><b>Cantidad de delitos<b>1<b>",
          "<b>Barrio<b>: Palermo<b><b>Cantidad de delitos<b>1<b>",
          "<b>Barrio<b>: Palermo<b><b>Cantidad de delitos<b>1<b>",
          "<b>Barrio<b>: Palermo<b><b>Cantidad de delitos<b>1<b>",
          "<b>Barrio<b>: Palermo<b><b>Cantidad de delitos<b>1<b>",
          "<b>Barrio<b>: Palermo<b><b>Cantidad de delitos<b>1<b>",
          "<b>Barrio<b>: Palermo<b><b>Cantidad de delitos<b>2<b>",
          "<b>Barrio<b>: Palermo<b><b>Cantidad de delitos<b>1<b>",
          "<b>Barrio<b>: Palermo<b><b>Cantidad de delitos<b>3<b>",
          "<b>Barrio<b>: Palermo<b><b>Cantidad de delitos<b>1<b>",
          "<b>Barrio<b>: Palermo<b><b>Cantidad de delitos<b>1<b>",
          "<b>Barrio<b>: Palermo<b><b>Cantidad de delitos<b>1<b>",
          "<b>Barrio<b>: Palermo<b><b>Cantidad de delitos<b>1<b>",
          "<b>Barrio<b>: Palermo<b><b>Cantidad de delitos<b>1<b>",
          "<b>Barrio<b>: Palermo<b><b>Cantidad de delitos<b>1<b>",
          "<b>Barrio<b>: Palermo<b><b>Cantidad de delitos<b>1<b>",
          "<b>Barrio<b>: Palermo<b><b>Cantidad de delitos<b>1<b>",
          "<b>Barrio<b>: Palermo<b><b>Cantidad de delitos<b>1<b>",
          "<b>Barrio<b>: Palermo<b><b>Cantidad de delitos<b>1<b>",
          "<b>Barrio<b>: Parque Avellaneda<b><b>Cantidad de delitos<b>1<b>",
          "<b>Barrio<b>: Parque Avellaneda<b><b>Cantidad de delitos<b>1<b>",
          "<b>Barrio<b>: Parque Avellaneda<b><b>Cantidad de delitos<b>1<b>",
          "<b>Barrio<b>: Parque Avellaneda<b><b>Cantidad de delitos<b>1<b>",
          "<b>Barrio<b>: Parque Avellaneda<b><b>Cantidad de delitos<b>1<b>",
          "<b>Barrio<b>: Parque Avellaneda<b><b>Cantidad de delitos<b>1<b>",
          "<b>Barrio<b>: Parque Avellaneda<b><b>Cantidad de delitos<b>1<b>",
          "<b>Barrio<b>: Parque Avellaneda<b><b>Cantidad de delitos<b>1<b>",
          "<b>Barrio<b>: Parque Avellaneda<b><b>Cantidad de delitos<b>1<b>",
          "<b>Barrio<b>: Parque Avellaneda<b><b>Cantidad de delitos<b>1<b>",
          "<b>Barrio<b>: Parque Avellaneda<b><b>Cantidad de delitos<b>1<b>",
          "<b>Barrio<b>: Parque Avellaneda<b><b>Cantidad de delitos<b>1<b>",
          "<b>Barrio<b>: Parque Avellaneda<b><b>Cantidad de delitos<b>1<b>",
          "<b>Barrio<b>: Parque Avellaneda<b><b>Cantidad de delitos<b>1<b>",
          "<b>Barrio<b>: Parque Avellaneda<b><b>Cantidad de delitos<b>1<b>",
          "<b>Barrio<b>: Parque Avellaneda<b><b>Cantidad de delitos<b>1<b>",
          "<b>Barrio<b>: Parque Avellaneda<b><b>Cantidad de delitos<b>1<b>",
          "<b>Barrio<b>: Parque Avellaneda<b><b>Cantidad de delitos<b>1<b>",
          "<b>Barrio<b>: Parque Avellaneda<b><b>Cantidad de delitos<b>1<b>",
          "<b>Barrio<b>: Parque Avellaneda<b><b>Cantidad de delitos<b>1<b>",
          "<b>Barrio<b>: Parque Avellaneda<b><b>Cantidad de delitos<b>1<b>",
          "<b>Barrio<b>: Parque Avellaneda<b><b>Cantidad de delitos<b>2<b>",
          "<b>Barrio<b>: Parque Avellaneda<b><b>Cantidad de delitos<b>1<b>",
          "<b>Barrio<b>: Parque Avellaneda<b><b>Cantidad de delitos<b>1<b>",
          "<b>Barrio<b>: Parque Avellaneda<b><b>Cantidad de delitos<b>1<b>",
          "<b>Barrio<b>: Parque Avellaneda<b><b>Cantidad de delitos<b>1<b>",
          "<b>Barrio<b>: Parque Avellaneda<b><b>Cantidad de delitos<b>1<b>",
          "<b>Barrio<b>: Parque Avellaneda<b><b>Cantidad de delitos<b>1<b>",
          "<b>Barrio<b>: Parque Avellaneda<b><b>Cantidad de delitos<b>1<b>",
          "<b>Barrio<b>: Parque Avellaneda<b><b>Cantidad de delitos<b>1<b>",
          "<b>Barrio<b>: Parque Chacabuco<b><b>Cantidad de delitos<b>1<b>",
          "<b>Barrio<b>: Parque Chacabuco<b><b>Cantidad de delitos<b>1<b>",
          "<b>Barrio<b>: Parque Chacabuco<b><b>Cantidad de delitos<b>1<b>",
          "<b>Barrio<b>: Parque Chacabuco<b><b>Cantidad de delitos<b>1<b>",
          "<b>Barrio<b>: Parque Chacabuco<b><b>Cantidad de delitos<b>1<b>",
          "<b>Barrio<b>: Parque Chacabuco<b><b>Cantidad de delitos<b>1<b>",
          "<b>Barrio<b>: Parque Chacabuco<b><b>Cantidad de delitos<b>1<b>",
          "<b>Barrio<b>: Parque Chacabuco<b><b>Cantidad de delitos<b>1<b>",
          "<b>Barrio<b>: Parque Chacabuco<b><b>Cantidad de delitos<b>1<b>",
          "<b>Barrio<b>: Parque Chacabuco<b><b>Cantidad de delitos<b>1<b>",
          "<b>Barrio<b>: Parque Chacabuco<b><b>Cantidad de delitos<b>1<b>",
          "<b>Barrio<b>: Parque Chacabuco<b><b>Cantidad de delitos<b>1<b>",
          "<b>Barrio<b>: Parque Chacabuco<b><b>Cantidad de delitos<b>1<b>",
          "<b>Barrio<b>: Parque Chacabuco<b><b>Cantidad de delitos<b>1<b>",
          "<b>Barrio<b>: Parque Chacabuco<b><b>Cantidad de delitos<b>1<b>",
          "<b>Barrio<b>: Parque Chacabuco<b><b>Cantidad de delitos<b>1<b>",
          "<b>Barrio<b>: Parque Chacabuco<b><b>Cantidad de delitos<b>1<b>",
          "<b>Barrio<b>: Parque Chacabuco<b><b>Cantidad de delitos<b>1<b>",
          "<b>Barrio<b>: Parque Chacabuco<b><b>Cantidad de delitos<b>1<b>",
          "<b>Barrio<b>: Parque Chacabuco<b><b>Cantidad de delitos<b>1<b>",
          "<b>Barrio<b>: Parque Chacabuco<b><b>Cantidad de delitos<b>1<b>",
          "<b>Barrio<b>: Parque Chacabuco<b><b>Cantidad de delitos<b>1<b>",
          "<b>Barrio<b>: Parque Chacabuco<b><b>Cantidad de delitos<b>1<b>",
          "<b>Barrio<b>: Parque Chas<b><b>Cantidad de delitos<b>1<b>",
          "<b>Barrio<b>: Parque Chas<b><b>Cantidad de delitos<b>1<b>",
          "<b>Barrio<b>: Parque Chas<b><b>Cantidad de delitos<b>1<b>",
          "<b>Barrio<b>: Parque Chas<b><b>Cantidad de delitos<b>1<b>",
          "<b>Barrio<b>: Parque Chas<b><b>Cantidad de delitos<b>1<b>",
          "<b>Barrio<b>: Parque Chas<b><b>Cantidad de delitos<b>1<b>",
          "<b>Barrio<b>: Parque Chas<b><b>Cantidad de delitos<b>1<b>",
          "<b>Barrio<b>: Parque Chas<b><b>Cantidad de delitos<b>1<b>",
          "<b>Barrio<b>: Parque Chas<b><b>Cantidad de delitos<b>1<b>",
          "<b>Barrio<b>: Parque Patricios<b><b>Cantidad de delitos<b>1<b>",
          "<b>Barrio<b>: Parque Patricios<b><b>Cantidad de delitos<b>1<b>",
          "<b>Barrio<b>: Parque Patricios<b><b>Cantidad de delitos<b>1<b>",
          "<b>Barrio<b>: Parque Patricios<b><b>Cantidad de delitos<b>1<b>",
          "<b>Barrio<b>: Parque Patricios<b><b>Cantidad de delitos<b>1<b>",
          "<b>Barrio<b>: Parque Patricios<b><b>Cantidad de delitos<b>1<b>",
          "<b>Barrio<b>: Parque Patricios<b><b>Cantidad de delitos<b>1<b>",
          "<b>Barrio<b>: Parque Patricios<b><b>Cantidad de delitos<b>1<b>",
          "<b>Barrio<b>: Parque Patricios<b><b>Cantidad de delitos<b>1<b>",
          "<b>Barrio<b>: Parque Patricios<b><b>Cantidad de delitos<b>1<b>",
          "<b>Barrio<b>: Parque Patricios<b><b>Cantidad de delitos<b>1<b>",
          "<b>Barrio<b>: Parque Patricios<b><b>Cantidad de delitos<b>1<b>",
          "<b>Barrio<b>: Parque Patricios<b><b>Cantidad de delitos<b>2<b>",
          "<b>Barrio<b>: Parque Patricios<b><b>Cantidad de delitos<b>1<b>",
          "<b>Barrio<b>: Parque Patricios<b><b>Cantidad de delitos<b>2<b>",
          "<b>Barrio<b>: Parque Patricios<b><b>Cantidad de delitos<b>1<b>",
          "<b>Barrio<b>: Parque Patricios<b><b>Cantidad de delitos<b>1<b>",
          "<b>Barrio<b>: Parque Patricios<b><b>Cantidad de delitos<b>1<b>",
          "<b>Barrio<b>: Parque Patricios<b><b>Cantidad de delitos<b>1<b>",
          "<b>Barrio<b>: Parque Patricios<b><b>Cantidad de delitos<b>1<b>",
          "<b>Barrio<b>: Parque Patricios<b><b>Cantidad de delitos<b>1<b>",
          "<b>Barrio<b>: Paternal<b><b>Cantidad de delitos<b>1<b>",
          "<b>Barrio<b>: Paternal<b><b>Cantidad de delitos<b>1<b>",
          "<b>Barrio<b>: Paternal<b><b>Cantidad de delitos<b>1<b>",
          "<b>Barrio<b>: Paternal<b><b>Cantidad de delitos<b>1<b>",
          "<b>Barrio<b>: Paternal<b><b>Cantidad de delitos<b>1<b>",
          "<b>Barrio<b>: Paternal<b><b>Cantidad de delitos<b>1<b>",
          "<b>Barrio<b>: Paternal<b><b>Cantidad de delitos<b>1<b>",
          "<b>Barrio<b>: Recoleta<b><b>Cantidad de delitos<b>1<b>",
          "<b>Barrio<b>: Recoleta<b><b>Cantidad de delitos<b>1<b>",
          "<b>Barrio<b>: Recoleta<b><b>Cantidad de delitos<b>1<b>",
          "<b>Barrio<b>: Recoleta<b><b>Cantidad de delitos<b>1<b>",
          "<b>Barrio<b>: Recoleta<b><b>Cantidad de delitos<b>1<b>",
          "<b>Barrio<b>: Recoleta<b><b>Cantidad de delitos<b>1<b>",
          "<b>Barrio<b>: Recoleta<b><b>Cantidad de delitos<b>1<b>",
          "<b>Barrio<b>: Recoleta<b><b>Cantidad de delitos<b>1<b>",
          "<b>Barrio<b>: Recoleta<b><b>Cantidad de delitos<b>1<b>",
          "<b>Barrio<b>: Recoleta<b><b>Cantidad de delitos<b>1<b>",
          "<b>Barrio<b>: Recoleta<b><b>Cantidad de delitos<b>1<b>",
          "<b>Barrio<b>: Recoleta<b><b>Cantidad de delitos<b>1<b>",
          "<b>Barrio<b>: Recoleta<b><b>Cantidad de delitos<b>1<b>",
          "<b>Barrio<b>: Recoleta<b><b>Cantidad de delitos<b>1<b>",
          "<b>Barrio<b>: Recoleta<b><b>Cantidad de delitos<b>1<b>",
          "<b>Barrio<b>: Recoleta<b><b>Cantidad de delitos<b>2<b>",
          "<b>Barrio<b>: Recoleta<b><b>Cantidad de delitos<b>1<b>",
          "<b>Barrio<b>: Recoleta<b><b>Cantidad de delitos<b>1<b>",
          "<b>Barrio<b>: Recoleta<b><b>Cantidad de delitos<b>1<b>",
          "<b>Barrio<b>: Recoleta<b><b>Cantidad de delitos<b>1<b>",
          "<b>Barrio<b>: Recoleta<b><b>Cantidad de delitos<b>1<b>",
          "<b>Barrio<b>: Recoleta<b><b>Cantidad de delitos<b>1<b>",
          "<b>Barrio<b>: Recoleta<b><b>Cantidad de delitos<b>1<b>",
          "<b>Barrio<b>: Recoleta<b><b>Cantidad de delitos<b>1<b>",
          "<b>Barrio<b>: Recoleta<b><b>Cantidad de delitos<b>1<b>",
          "<b>Barrio<b>: Recoleta<b><b>Cantidad de delitos<b>1<b>",
          "<b>Barrio<b>: Recoleta<b><b>Cantidad de delitos<b>1<b>",
          "<b>Barrio<b>: Recoleta<b><b>Cantidad de delitos<b>1<b>",
          "<b>Barrio<b>: Recoleta<b><b>Cantidad de delitos<b>1<b>",
          "<b>Barrio<b>: Recoleta<b><b>Cantidad de delitos<b>1<b>",
          "<b>Barrio<b>: Recoleta<b><b>Cantidad de delitos<b>1<b>",
          "<b>Barrio<b>: Recoleta<b><b>Cantidad de delitos<b>1<b>",
          "<b>Barrio<b>: Recoleta<b><b>Cantidad de delitos<b>1<b>",
          "<b>Barrio<b>: Recoleta<b><b>Cantidad de delitos<b>1<b>",
          "<b>Barrio<b>: Recoleta<b><b>Cantidad de delitos<b>1<b>",
          "<b>Barrio<b>: Recoleta<b><b>Cantidad de delitos<b>1<b>",
          "<b>Barrio<b>: Recoleta<b><b>Cantidad de delitos<b>1<b>",
          "<b>Barrio<b>: Recoleta<b><b>Cantidad de delitos<b>1<b>",
          "<b>Barrio<b>: Recoleta<b><b>Cantidad de delitos<b>1<b>",
          "<b>Barrio<b>: Recoleta<b><b>Cantidad de delitos<b>1<b>",
          "<b>Barrio<b>: Recoleta<b><b>Cantidad de delitos<b>1<b>",
          "<b>Barrio<b>: Recoleta<b><b>Cantidad de delitos<b>1<b>",
          "<b>Barrio<b>: Recoleta<b><b>Cantidad de delitos<b>1<b>",
          "<b>Barrio<b>: Recoleta<b><b>Cantidad de delitos<b>1<b>",
          "<b>Barrio<b>: Recoleta<b><b>Cantidad de delitos<b>1<b>",
          "<b>Barrio<b>: Recoleta<b><b>Cantidad de delitos<b>1<b>",
          "<b>Barrio<b>: Recoleta<b><b>Cantidad de delitos<b>1<b>",
          "<b>Barrio<b>: Recoleta<b><b>Cantidad de delitos<b>1<b>",
          "<b>Barrio<b>: Recoleta<b><b>Cantidad de delitos<b>1<b>",
          "<b>Barrio<b>: Recoleta<b><b>Cantidad de delitos<b>1<b>",
          "<b>Barrio<b>: Recoleta<b><b>Cantidad de delitos<b>1<b>",
          "<b>Barrio<b>: Recoleta<b><b>Cantidad de delitos<b>1<b>",
          "<b>Barrio<b>: Recoleta<b><b>Cantidad de delitos<b>1<b>",
          "<b>Barrio<b>: Recoleta<b><b>Cantidad de delitos<b>1<b>",
          "<b>Barrio<b>: Recoleta<b><b>Cantidad de delitos<b>1<b>",
          "<b>Barrio<b>: Recoleta<b><b>Cantidad de delitos<b>1<b>",
          "<b>Barrio<b>: Recoleta<b><b>Cantidad de delitos<b>1<b>",
          "<b>Barrio<b>: Recoleta<b><b>Cantidad de delitos<b>1<b>",
          "<b>Barrio<b>: Recoleta<b><b>Cantidad de delitos<b>1<b>",
          "<b>Barrio<b>: Recoleta<b><b>Cantidad de delitos<b>1<b>",
          "<b>Barrio<b>: Recoleta<b><b>Cantidad de delitos<b>1<b>",
          "<b>Barrio<b>: Recoleta<b><b>Cantidad de delitos<b>1<b>",
          "<b>Barrio<b>: Recoleta<b><b>Cantidad de delitos<b>1<b>",
          "<b>Barrio<b>: Recoleta<b><b>Cantidad de delitos<b>1<b>",
          "<b>Barrio<b>: Recoleta<b><b>Cantidad de delitos<b>1<b>",
          "<b>Barrio<b>: Recoleta<b><b>Cantidad de delitos<b>1<b>",
          "<b>Barrio<b>: Recoleta<b><b>Cantidad de delitos<b>1<b>",
          "<b>Barrio<b>: Recoleta<b><b>Cantidad de delitos<b>1<b>",
          "<b>Barrio<b>: Recoleta<b><b>Cantidad de delitos<b>1<b>",
          "<b>Barrio<b>: Recoleta<b><b>Cantidad de delitos<b>1<b>",
          "<b>Barrio<b>: Recoleta<b><b>Cantidad de delitos<b>1<b>",
          "<b>Barrio<b>: Recoleta<b><b>Cantidad de delitos<b>1<b>",
          "<b>Barrio<b>: Recoleta<b><b>Cantidad de delitos<b>1<b>",
          "<b>Barrio<b>: Retiro<b><b>Cantidad de delitos<b>1<b>",
          "<b>Barrio<b>: Retiro<b><b>Cantidad de delitos<b>1<b>",
          "<b>Barrio<b>: Retiro<b><b>Cantidad de delitos<b>1<b>",
          "<b>Barrio<b>: Retiro<b><b>Cantidad de delitos<b>1<b>",
          "<b>Barrio<b>: Retiro<b><b>Cantidad de delitos<b>1<b>",
          "<b>Barrio<b>: Retiro<b><b>Cantidad de delitos<b>1<b>",
          "<b>Barrio<b>: Retiro<b><b>Cantidad de delitos<b>1<b>",
          "<b>Barrio<b>: Retiro<b><b>Cantidad de delitos<b>1<b>",
          "<b>Barrio<b>: Retiro<b><b>Cantidad de delitos<b>1<b>",
          "<b>Barrio<b>: Retiro<b><b>Cantidad de delitos<b>1<b>",
          "<b>Barrio<b>: Retiro<b><b>Cantidad de delitos<b>1<b>",
          "<b>Barrio<b>: Retiro<b><b>Cantidad de delitos<b>1<b>",
          "<b>Barrio<b>: Retiro<b><b>Cantidad de delitos<b>1<b>",
          "<b>Barrio<b>: Retiro<b><b>Cantidad de delitos<b>1<b>",
          "<b>Barrio<b>: Retiro<b><b>Cantidad de delitos<b>1<b>",
          "<b>Barrio<b>: Retiro<b><b>Cantidad de delitos<b>1<b>",
          "<b>Barrio<b>: Retiro<b><b>Cantidad de delitos<b>1<b>",
          "<b>Barrio<b>: Retiro<b><b>Cantidad de delitos<b>1<b>",
          "<b>Barrio<b>: Saavedra<b><b>Cantidad de delitos<b>1<b>",
          "<b>Barrio<b>: Saavedra<b><b>Cantidad de delitos<b>1<b>",
          "<b>Barrio<b>: Saavedra<b><b>Cantidad de delitos<b>1<b>",
          "<b>Barrio<b>: Saavedra<b><b>Cantidad de delitos<b>1<b>",
          "<b>Barrio<b>: Saavedra<b><b>Cantidad de delitos<b>1<b>",
          "<b>Barrio<b>: Saavedra<b><b>Cantidad de delitos<b>1<b>",
          "<b>Barrio<b>: Saavedra<b><b>Cantidad de delitos<b>1<b>",
          "<b>Barrio<b>: Saavedra<b><b>Cantidad de delitos<b>1<b>",
          "<b>Barrio<b>: Saavedra<b><b>Cantidad de delitos<b>1<b>",
          "<b>Barrio<b>: Saavedra<b><b>Cantidad de delitos<b>1<b>",
          "<b>Barrio<b>: Saavedra<b><b>Cantidad de delitos<b>1<b>",
          "<b>Barrio<b>: Saavedra<b><b>Cantidad de delitos<b>1<b>",
          "<b>Barrio<b>: Saavedra<b><b>Cantidad de delitos<b>1<b>",
          "<b>Barrio<b>: Saavedra<b><b>Cantidad de delitos<b>1<b>",
          "<b>Barrio<b>: Saavedra<b><b>Cantidad de delitos<b>1<b>",
          "<b>Barrio<b>: Saavedra<b><b>Cantidad de delitos<b>1<b>",
          "<b>Barrio<b>: Saavedra<b><b>Cantidad de delitos<b>1<b>",
          "<b>Barrio<b>: Saavedra<b><b>Cantidad de delitos<b>1<b>",
          "<b>Barrio<b>: Saavedra<b><b>Cantidad de delitos<b>1<b>",
          "<b>Barrio<b>: Saavedra<b><b>Cantidad de delitos<b>2<b>",
          "<b>Barrio<b>: Saavedra<b><b>Cantidad de delitos<b>1<b>",
          "<b>Barrio<b>: Saavedra<b><b>Cantidad de delitos<b>1<b>",
          "<b>Barrio<b>: Saavedra<b><b>Cantidad de delitos<b>1<b>",
          "<b>Barrio<b>: San Cristóbal<b><b>Cantidad de delitos<b>1<b>",
          "<b>Barrio<b>: San Cristóbal<b><b>Cantidad de delitos<b>1<b>",
          "<b>Barrio<b>: San Cristóbal<b><b>Cantidad de delitos<b>1<b>",
          "<b>Barrio<b>: San Cristóbal<b><b>Cantidad de delitos<b>1<b>",
          "<b>Barrio<b>: San Cristóbal<b><b>Cantidad de delitos<b>1<b>",
          "<b>Barrio<b>: San Cristóbal<b><b>Cantidad de delitos<b>1<b>",
          "<b>Barrio<b>: San Cristóbal<b><b>Cantidad de delitos<b>1<b>",
          "<b>Barrio<b>: San Cristóbal<b><b>Cantidad de delitos<b>1<b>",
          "<b>Barrio<b>: San Cristóbal<b><b>Cantidad de delitos<b>1<b>",
          "<b>Barrio<b>: San Cristóbal<b><b>Cantidad de delitos<b>1<b>",
          "<b>Barrio<b>: San Cristóbal<b><b>Cantidad de delitos<b>1<b>",
          "<b>Barrio<b>: San Cristóbal<b><b>Cantidad de delitos<b>1<b>",
          "<b>Barrio<b>: San Cristóbal<b><b>Cantidad de delitos<b>1<b>",
          "<b>Barrio<b>: San Cristóbal<b><b>Cantidad de delitos<b>1<b>",
          "<b>Barrio<b>: San Cristóbal<b><b>Cantidad de delitos<b>1<b>",
          "<b>Barrio<b>: San Cristóbal<b><b>Cantidad de delitos<b>1<b>",
          "<b>Barrio<b>: San Cristóbal<b><b>Cantidad de delitos<b>1<b>",
          "<b>Barrio<b>: San Cristóbal<b><b>Cantidad de delitos<b>1<b>",
          "<b>Barrio<b>: San Cristóbal<b><b>Cantidad de delitos<b>1<b>",
          "<b>Barrio<b>: San Cristóbal<b><b>Cantidad de delitos<b>1<b>",
          "<b>Barrio<b>: San Cristóbal<b><b>Cantidad de delitos<b>1<b>",
          "<b>Barrio<b>: San Cristóbal<b><b>Cantidad de delitos<b>1<b>",
          "<b>Barrio<b>: San Cristóbal<b><b>Cantidad de delitos<b>1<b>",
          "<b>Barrio<b>: San Cristóbal<b><b>Cantidad de delitos<b>1<b>",
          "<b>Barrio<b>: San Cristóbal<b><b>Cantidad de delitos<b>1<b>",
          "<b>Barrio<b>: San Cristóbal<b><b>Cantidad de delitos<b>1<b>",
          "<b>Barrio<b>: San Cristóbal<b><b>Cantidad de delitos<b>1<b>",
          "<b>Barrio<b>: San Cristóbal<b><b>Cantidad de delitos<b>1<b>",
          "<b>Barrio<b>: San Nicolás<b><b>Cantidad de delitos<b>1<b>",
          "<b>Barrio<b>: San Nicolás<b><b>Cantidad de delitos<b>2<b>",
          "<b>Barrio<b>: San Nicolás<b><b>Cantidad de delitos<b>1<b>",
          "<b>Barrio<b>: San Nicolás<b><b>Cantidad de delitos<b>1<b>",
          "<b>Barrio<b>: San Nicolás<b><b>Cantidad de delitos<b>1<b>",
          "<b>Barrio<b>: San Nicolás<b><b>Cantidad de delitos<b>2<b>",
          "<b>Barrio<b>: San Nicolás<b><b>Cantidad de delitos<b>1<b>",
          "<b>Barrio<b>: San Nicolás<b><b>Cantidad de delitos<b>1<b>",
          "<b>Barrio<b>: San Nicolás<b><b>Cantidad de delitos<b>1<b>",
          "<b>Barrio<b>: San Nicolás<b><b>Cantidad de delitos<b>1<b>",
          "<b>Barrio<b>: San Nicolás<b><b>Cantidad de delitos<b>1<b>",
          "<b>Barrio<b>: San Nicolás<b><b>Cantidad de delitos<b>1<b>",
          "<b>Barrio<b>: San Nicolás<b><b>Cantidad de delitos<b>1<b>",
          "<b>Barrio<b>: San Nicolás<b><b>Cantidad de delitos<b>1<b>",
          "<b>Barrio<b>: San Nicolás<b><b>Cantidad de delitos<b>1<b>",
          "<b>Barrio<b>: San Nicolás<b><b>Cantidad de delitos<b>1<b>",
          "<b>Barrio<b>: San Nicolás<b><b>Cantidad de delitos<b>1<b>",
          "<b>Barrio<b>: San Nicolás<b><b>Cantidad de delitos<b>1<b>",
          "<b>Barrio<b>: San Nicolás<b><b>Cantidad de delitos<b>1<b>",
          "<b>Barrio<b>: San Nicolás<b><b>Cantidad de delitos<b>1<b>",
          "<b>Barrio<b>: San Nicolás<b><b>Cantidad de delitos<b>1<b>",
          "<b>Barrio<b>: San Nicolás<b><b>Cantidad de delitos<b>1<b>",
          "<b>Barrio<b>: San Nicolás<b><b>Cantidad de delitos<b>1<b>",
          "<b>Barrio<b>: San Nicolás<b><b>Cantidad de delitos<b>1<b>",
          "<b>Barrio<b>: San Nicolás<b><b>Cantidad de delitos<b>1<b>",
          "<b>Barrio<b>: San Telmo<b><b>Cantidad de delitos<b>1<b>",
          "<b>Barrio<b>: San Telmo<b><b>Cantidad de delitos<b>1<b>",
          "<b>Barrio<b>: San Telmo<b><b>Cantidad de delitos<b>1<b>",
          "<b>Barrio<b>: San Telmo<b><b>Cantidad de delitos<b>1<b>",
          "<b>Barrio<b>: San Telmo<b><b>Cantidad de delitos<b>1<b>",
          "<b>Barrio<b>: San Telmo<b><b>Cantidad de delitos<b>1<b>",
          "<b>Barrio<b>: San Telmo<b><b>Cantidad de delitos<b>1<b>",
          "<b>Barrio<b>: San Telmo<b><b>Cantidad de delitos<b>1<b>",
          "<b>Barrio<b>: Versalles<b><b>Cantidad de delitos<b>2<b>",
          "<b>Barrio<b>: Versalles<b><b>Cantidad de delitos<b>1<b>",
          "<b>Barrio<b>: Versalles<b><b>Cantidad de delitos<b>1<b>",
          "<b>Barrio<b>: Villa Crespo<b><b>Cantidad de delitos<b>1<b>",
          "<b>Barrio<b>: Villa Crespo<b><b>Cantidad de delitos<b>1<b>",
          "<b>Barrio<b>: Villa Crespo<b><b>Cantidad de delitos<b>1<b>",
          "<b>Barrio<b>: Villa Crespo<b><b>Cantidad de delitos<b>1<b>",
          "<b>Barrio<b>: Villa Crespo<b><b>Cantidad de delitos<b>1<b>",
          "<b>Barrio<b>: Villa Crespo<b><b>Cantidad de delitos<b>1<b>",
          "<b>Barrio<b>: Villa Crespo<b><b>Cantidad de delitos<b>1<b>",
          "<b>Barrio<b>: Villa Crespo<b><b>Cantidad de delitos<b>1<b>",
          "<b>Barrio<b>: Villa Crespo<b><b>Cantidad de delitos<b>1<b>",
          "<b>Barrio<b>: Villa Crespo<b><b>Cantidad de delitos<b>1<b>",
          "<b>Barrio<b>: Villa Crespo<b><b>Cantidad de delitos<b>1<b>",
          "<b>Barrio<b>: Villa Crespo<b><b>Cantidad de delitos<b>1<b>",
          "<b>Barrio<b>: Villa Crespo<b><b>Cantidad de delitos<b>1<b>",
          "<b>Barrio<b>: Villa Crespo<b><b>Cantidad de delitos<b>1<b>",
          "<b>Barrio<b>: Villa Crespo<b><b>Cantidad de delitos<b>1<b>",
          "<b>Barrio<b>: Villa Crespo<b><b>Cantidad de delitos<b>1<b>",
          "<b>Barrio<b>: Villa Crespo<b><b>Cantidad de delitos<b>1<b>",
          "<b>Barrio<b>: Villa Crespo<b><b>Cantidad de delitos<b>1<b>",
          "<b>Barrio<b>: Villa Crespo<b><b>Cantidad de delitos<b>1<b>",
          "<b>Barrio<b>: Villa Crespo<b><b>Cantidad de delitos<b>1<b>",
          "<b>Barrio<b>: Villa Crespo<b><b>Cantidad de delitos<b>1<b>",
          "<b>Barrio<b>: Villa Crespo<b><b>Cantidad de delitos<b>1<b>",
          "<b>Barrio<b>: Villa Del Parque<b><b>Cantidad de delitos<b>1<b>",
          "<b>Barrio<b>: Villa Del Parque<b><b>Cantidad de delitos<b>1<b>",
          "<b>Barrio<b>: Villa Del Parque<b><b>Cantidad de delitos<b>1<b>",
          "<b>Barrio<b>: Villa Del Parque<b><b>Cantidad de delitos<b>1<b>",
          "<b>Barrio<b>: Villa Del Parque<b><b>Cantidad de delitos<b>1<b>",
          "<b>Barrio<b>: Villa Del Parque<b><b>Cantidad de delitos<b>1<b>",
          "<b>Barrio<b>: Villa Del Parque<b><b>Cantidad de delitos<b>1<b>",
          "<b>Barrio<b>: Villa Del Parque<b><b>Cantidad de delitos<b>1<b>",
          "<b>Barrio<b>: Villa Del Parque<b><b>Cantidad de delitos<b>1<b>",
          "<b>Barrio<b>: Villa Del Parque<b><b>Cantidad de delitos<b>1<b>",
          "<b>Barrio<b>: Villa Del Parque<b><b>Cantidad de delitos<b>2<b>",
          "<b>Barrio<b>: Villa Del Parque<b><b>Cantidad de delitos<b>1<b>",
          "<b>Barrio<b>: Villa Del Parque<b><b>Cantidad de delitos<b>1<b>",
          "<b>Barrio<b>: Villa Devoto<b><b>Cantidad de delitos<b>1<b>",
          "<b>Barrio<b>: Villa Devoto<b><b>Cantidad de delitos<b>1<b>",
          "<b>Barrio<b>: Villa Devoto<b><b>Cantidad de delitos<b>1<b>",
          "<b>Barrio<b>: Villa Devoto<b><b>Cantidad de delitos<b>1<b>",
          "<b>Barrio<b>: Villa Devoto<b><b>Cantidad de delitos<b>1<b>",
          "<b>Barrio<b>: Villa Devoto<b><b>Cantidad de delitos<b>1<b>",
          "<b>Barrio<b>: Villa Devoto<b><b>Cantidad de delitos<b>1<b>",
          "<b>Barrio<b>: Villa Devoto<b><b>Cantidad de delitos<b>1<b>",
          "<b>Barrio<b>: Villa Devoto<b><b>Cantidad de delitos<b>1<b>",
          "<b>Barrio<b>: Villa Devoto<b><b>Cantidad de delitos<b>1<b>",
          "<b>Barrio<b>: Villa Devoto<b><b>Cantidad de delitos<b>1<b>",
          "<b>Barrio<b>: Villa Devoto<b><b>Cantidad de delitos<b>1<b>",
          "<b>Barrio<b>: Villa Devoto<b><b>Cantidad de delitos<b>1<b>",
          "<b>Barrio<b>: Villa Devoto<b><b>Cantidad de delitos<b>1<b>",
          "<b>Barrio<b>: Villa Devoto<b><b>Cantidad de delitos<b>1<b>",
          "<b>Barrio<b>: Villa Devoto<b><b>Cantidad de delitos<b>1<b>",
          "<b>Barrio<b>: Villa Devoto<b><b>Cantidad de delitos<b>1<b>",
          "<b>Barrio<b>: Villa Devoto<b><b>Cantidad de delitos<b>1<b>",
          "<b>Barrio<b>: Villa Devoto<b><b>Cantidad de delitos<b>1<b>",
          "<b>Barrio<b>: Villa Gral. Mitre<b><b>Cantidad de delitos<b>2<b>",
          "<b>Barrio<b>: Villa Gral. Mitre<b><b>Cantidad de delitos<b>1<b>",
          "<b>Barrio<b>: Villa Gral. Mitre<b><b>Cantidad de delitos<b>1<b>",
          "<b>Barrio<b>: Villa Gral. Mitre<b><b>Cantidad de delitos<b>1<b>",
          "<b>Barrio<b>: Villa Gral. Mitre<b><b>Cantidad de delitos<b>1<b>",
          "<b>Barrio<b>: Villa Gral. Mitre<b><b>Cantidad de delitos<b>1<b>",
          "<b>Barrio<b>: Villa Gral. Mitre<b><b>Cantidad de delitos<b>1<b>",
          "<b>Barrio<b>: Villa Gral. Mitre<b><b>Cantidad de delitos<b>1<b>",
          "<b>Barrio<b>: Villa Gral. Mitre<b><b>Cantidad de delitos<b>1<b>",
          "<b>Barrio<b>: Villa Lugano<b><b>Cantidad de delitos<b>1<b>",
          "<b>Barrio<b>: Villa Lugano<b><b>Cantidad de delitos<b>1<b>",
          "<b>Barrio<b>: Villa Lugano<b><b>Cantidad de delitos<b>1<b>",
          "<b>Barrio<b>: Villa Lugano<b><b>Cantidad de delitos<b>1<b>",
          "<b>Barrio<b>: Villa Lugano<b><b>Cantidad de delitos<b>1<b>",
          "<b>Barrio<b>: Villa Lugano<b><b>Cantidad de delitos<b>2<b>",
          "<b>Barrio<b>: Villa Lugano<b><b>Cantidad de delitos<b>1<b>",
          "<b>Barrio<b>: Villa Lugano<b><b>Cantidad de delitos<b>1<b>",
          "<b>Barrio<b>: Villa Lugano<b><b>Cantidad de delitos<b>1<b>",
          "<b>Barrio<b>: Villa Lugano<b><b>Cantidad de delitos<b>1<b>",
          "<b>Barrio<b>: Villa Lugano<b><b>Cantidad de delitos<b>1<b>",
          "<b>Barrio<b>: Villa Lugano<b><b>Cantidad de delitos<b>1<b>",
          "<b>Barrio<b>: Villa Lugano<b><b>Cantidad de delitos<b>1<b>",
          "<b>Barrio<b>: Villa Lugano<b><b>Cantidad de delitos<b>1<b>",
          "<b>Barrio<b>: Villa Lugano<b><b>Cantidad de delitos<b>1<b>",
          "<b>Barrio<b>: Villa Lugano<b><b>Cantidad de delitos<b>1<b>",
          "<b>Barrio<b>: Villa Lugano<b><b>Cantidad de delitos<b>1<b>",
          "<b>Barrio<b>: Villa Lugano<b><b>Cantidad de delitos<b>1<b>",
          "<b>Barrio<b>: Villa Lugano<b><b>Cantidad de delitos<b>1<b>",
          "<b>Barrio<b>: Villa Lugano<b><b>Cantidad de delitos<b>1<b>",
          "<b>Barrio<b>: Villa Lugano<b><b>Cantidad de delitos<b>1<b>",
          "<b>Barrio<b>: Villa Lugano<b><b>Cantidad de delitos<b>1<b>",
          "<b>Barrio<b>: Villa Lugano<b><b>Cantidad de delitos<b>1<b>",
          "<b>Barrio<b>: Villa Lugano<b><b>Cantidad de delitos<b>1<b>",
          "<b>Barrio<b>: Villa Lugano<b><b>Cantidad de delitos<b>1<b>",
          "<b>Barrio<b>: Villa Lugano<b><b>Cantidad de delitos<b>1<b>",
          "<b>Barrio<b>: Villa Lugano<b><b>Cantidad de delitos<b>1<b>",
          "<b>Barrio<b>: Villa Lugano<b><b>Cantidad de delitos<b>1<b>",
          "<b>Barrio<b>: Villa Lugano<b><b>Cantidad de delitos<b>1<b>",
          "<b>Barrio<b>: Villa Lugano<b><b>Cantidad de delitos<b>1<b>",
          "<b>Barrio<b>: Villa Lugano<b><b>Cantidad de delitos<b>1<b>",
          "<b>Barrio<b>: Villa Lugano<b><b>Cantidad de delitos<b>1<b>",
          "<b>Barrio<b>: Villa Lugano<b><b>Cantidad de delitos<b>2<b>",
          "<b>Barrio<b>: Villa Lugano<b><b>Cantidad de delitos<b>1<b>",
          "<b>Barrio<b>: Villa Lugano<b><b>Cantidad de delitos<b>1<b>",
          "<b>Barrio<b>: Villa Lugano<b><b>Cantidad de delitos<b>1<b>",
          "<b>Barrio<b>: Villa Lugano<b><b>Cantidad de delitos<b>1<b>",
          "<b>Barrio<b>: Villa Lugano<b><b>Cantidad de delitos<b>2<b>",
          "<b>Barrio<b>: Villa Luro<b><b>Cantidad de delitos<b>1<b>",
          "<b>Barrio<b>: Villa Luro<b><b>Cantidad de delitos<b>1<b>",
          "<b>Barrio<b>: Villa Luro<b><b>Cantidad de delitos<b>1<b>",
          "<b>Barrio<b>: Villa Luro<b><b>Cantidad de delitos<b>1<b>",
          "<b>Barrio<b>: Villa Luro<b><b>Cantidad de delitos<b>1<b>",
          "<b>Barrio<b>: Villa Luro<b><b>Cantidad de delitos<b>1<b>",
          "<b>Barrio<b>: Villa Luro<b><b>Cantidad de delitos<b>1<b>",
          "<b>Barrio<b>: Villa Luro<b><b>Cantidad de delitos<b>1<b>",
          "<b>Barrio<b>: Villa Ortuzar<b><b>Cantidad de delitos<b>1<b>",
          "<b>Barrio<b>: Villa Ortuzar<b><b>Cantidad de delitos<b>1<b>",
          "<b>Barrio<b>: Villa Ortuzar<b><b>Cantidad de delitos<b>1<b>",
          "<b>Barrio<b>: Villa Pueyrredón<b><b>Cantidad de delitos<b>1<b>",
          "<b>Barrio<b>: Villa Pueyrredón<b><b>Cantidad de delitos<b>1<b>",
          "<b>Barrio<b>: Villa Pueyrredón<b><b>Cantidad de delitos<b>1<b>",
          "<b>Barrio<b>: Villa Pueyrredón<b><b>Cantidad de delitos<b>1<b>",
          "<b>Barrio<b>: Villa Pueyrredón<b><b>Cantidad de delitos<b>2<b>",
          "<b>Barrio<b>: Villa Pueyrredón<b><b>Cantidad de delitos<b>1<b>",
          "<b>Barrio<b>: Villa Pueyrredón<b><b>Cantidad de delitos<b>1<b>",
          "<b>Barrio<b>: Villa Pueyrredón<b><b>Cantidad de delitos<b>1<b>",
          "<b>Barrio<b>: Villa Pueyrredón<b><b>Cantidad de delitos<b>1<b>",
          "<b>Barrio<b>: Villa Pueyrredón<b><b>Cantidad de delitos<b>1<b>",
          "<b>Barrio<b>: Villa Pueyrredón<b><b>Cantidad de delitos<b>1<b>",
          "<b>Barrio<b>: Villa Pueyrredón<b><b>Cantidad de delitos<b>1<b>",
          "<b>Barrio<b>: Villa Pueyrredón<b><b>Cantidad de delitos<b>1<b>",
          "<b>Barrio<b>: Villa Pueyrredón<b><b>Cantidad de delitos<b>1<b>",
          "<b>Barrio<b>: Villa Real<b><b>Cantidad de delitos<b>1<b>",
          "<b>Barrio<b>: Villa Real<b><b>Cantidad de delitos<b>1<b>",
          "<b>Barrio<b>: Villa Real<b><b>Cantidad de delitos<b>1<b>",
          "<b>Barrio<b>: Villa Real<b><b>Cantidad de delitos<b>1<b>",
          "<b>Barrio<b>: Villa Real<b><b>Cantidad de delitos<b>1<b>",
          "<b>Barrio<b>: Villa Real<b><b>Cantidad de delitos<b>1<b>",
          "<b>Barrio<b>: Villa Real<b><b>Cantidad de delitos<b>1<b>",
          "<b>Barrio<b>: Villa Riachuelo<b><b>Cantidad de delitos<b>1<b>",
          "<b>Barrio<b>: Villa Riachuelo<b><b>Cantidad de delitos<b>1<b>",
          "<b>Barrio<b>: Villa Riachuelo<b><b>Cantidad de delitos<b>1<b>",
          "<b>Barrio<b>: Villa Riachuelo<b><b>Cantidad de delitos<b>1<b>",
          "<b>Barrio<b>: Villa Santa Rita<b><b>Cantidad de delitos<b>1<b>",
          "<b>Barrio<b>: Villa Santa Rita<b><b>Cantidad de delitos<b>1<b>",
          "<b>Barrio<b>: Villa Santa Rita<b><b>Cantidad de delitos<b>1<b>",
          "<b>Barrio<b>: Villa Santa Rita<b><b>Cantidad de delitos<b>1<b>",
          "<b>Barrio<b>: Villa Santa Rita<b><b>Cantidad de delitos<b>1<b>",
          "<b>Barrio<b>: Villa Santa Rita<b><b>Cantidad de delitos<b>1<b>",
          "<b>Barrio<b>: Villa Santa Rita<b><b>Cantidad de delitos<b>1<b>",
          "<b>Barrio<b>: Villa Santa Rita<b><b>Cantidad de delitos<b>1<b>",
          "<b>Barrio<b>: Villa Santa Rita<b><b>Cantidad de delitos<b>1<b>",
          "<b>Barrio<b>: Villa Santa Rita<b><b>Cantidad de delitos<b>1<b>",
          "<b>Barrio<b>: Villa Santa Rita<b><b>Cantidad de delitos<b>1<b>",
          "<b>Barrio<b>: Villa Soldati<b><b>Cantidad de delitos<b>1<b>",
          "<b>Barrio<b>: Villa Soldati<b><b>Cantidad de delitos<b>1<b>",
          "<b>Barrio<b>: Villa Soldati<b><b>Cantidad de delitos<b>2<b>",
          "<b>Barrio<b>: Villa Soldati<b><b>Cantidad de delitos<b>1<b>",
          "<b>Barrio<b>: Villa Soldati<b><b>Cantidad de delitos<b>1<b>",
          "<b>Barrio<b>: Villa Soldati<b><b>Cantidad de delitos<b>1<b>",
          "<b>Barrio<b>: Villa Soldati<b><b>Cantidad de delitos<b>1<b>",
          "<b>Barrio<b>: Villa Soldati<b><b>Cantidad de delitos<b>1<b>",
          "<b>Barrio<b>: Villa Soldati<b><b>Cantidad de delitos<b>1<b>",
          "<b>Barrio<b>: Villa Soldati<b><b>Cantidad de delitos<b>1<b>",
          "<b>Barrio<b>: Villa Soldati<b><b>Cantidad de delitos<b>1<b>",
          "<b>Barrio<b>: Villa Soldati<b><b>Cantidad de delitos<b>1<b>",
          "<b>Barrio<b>: Villa Soldati<b><b>Cantidad de delitos<b>1<b>",
          "<b>Barrio<b>: Villa Soldati<b><b>Cantidad de delitos<b>1<b>",
          "<b>Barrio<b>: Villa Soldati<b><b>Cantidad de delitos<b>1<b>",
          "<b>Barrio<b>: Villa Soldati<b><b>Cantidad de delitos<b>1<b>",
          "<b>Barrio<b>: Villa Soldati<b><b>Cantidad de delitos<b>2<b>",
          "<b>Barrio<b>: Villa Soldati<b><b>Cantidad de delitos<b>1<b>",
          "<b>Barrio<b>: Villa Soldati<b><b>Cantidad de delitos<b>1<b>",
          "<b>Barrio<b>: Villa Soldati<b><b>Cantidad de delitos<b>1<b>",
          "<b>Barrio<b>: Villa Soldati<b><b>Cantidad de delitos<b>1<b>",
          "<b>Barrio<b>: Villa Soldati<b><b>Cantidad de delitos<b>1<b>",
          "<b>Barrio<b>: Villa Soldati<b><b>Cantidad de delitos<b>1<b>",
          "<b>Barrio<b>: Villa Soldati<b><b>Cantidad de delitos<b>1<b>",
          "<b>Barrio<b>: Villa Soldati<b><b>Cantidad de delitos<b>1<b>",
          "<b>Barrio<b>: Villa Soldati<b><b>Cantidad de delitos<b>1<b>",
          "<b>Barrio<b>: Villa Soldati<b><b>Cantidad de delitos<b>1<b>",
          "<b>Barrio<b>: Villa Soldati<b><b>Cantidad de delitos<b>2<b>",
          "<b>Barrio<b>: Villa Soldati<b><b>Cantidad de delitos<b>1<b>",
          "<b>Barrio<b>: Villa Soldati<b><b>Cantidad de delitos<b>1<b>",
          "<b>Barrio<b>: Villa Soldati<b><b>Cantidad de delitos<b>1<b>",
          "<b>Barrio<b>: Villa Soldati<b><b>Cantidad de delitos<b>1<b>",
          "<b>Barrio<b>: Villa Soldati<b><b>Cantidad de delitos<b>1<b>",
          "<b>Barrio<b>: Villa Soldati<b><b>Cantidad de delitos<b>1<b>",
          "<b>Barrio<b>: Villa Soldati<b><b>Cantidad de delitos<b>1<b>",
          "<b>Barrio<b>: Villa Urquiza<b><b>Cantidad de delitos<b>1<b>",
          "<b>Barrio<b>: Villa Urquiza<b><b>Cantidad de delitos<b>1<b>",
          "<b>Barrio<b>: Villa Urquiza<b><b>Cantidad de delitos<b>1<b>",
          "<b>Barrio<b>: Villa Urquiza<b><b>Cantidad de delitos<b>1<b>",
          "<b>Barrio<b>: Villa Urquiza<b><b>Cantidad de delitos<b>1<b>",
          "<b>Barrio<b>: Villa Urquiza<b><b>Cantidad de delitos<b>1<b>",
          "<b>Barrio<b>: Villa Urquiza<b><b>Cantidad de delitos<b>1<b>",
          "<b>Barrio<b>: Villa Urquiza<b><b>Cantidad de delitos<b>1<b>",
          "<b>Barrio<b>: Villa Urquiza<b><b>Cantidad de delitos<b>1<b>",
          "<b>Barrio<b>: Villa Urquiza<b><b>Cantidad de delitos<b>1<b>",
          "<b>Barrio<b>: Villa Urquiza<b><b>Cantidad de delitos<b>1<b>",
          "<b>Barrio<b>: Villa Urquiza<b><b>Cantidad de delitos<b>1<b>",
          "<b>Barrio<b>: Villa Urquiza<b><b>Cantidad de delitos<b>1<b>",
          "<b>Barrio<b>: Villa Urquiza<b><b>Cantidad de delitos<b>1<b>",
          "<b>Barrio<b>: Villa Urquiza<b><b>Cantidad de delitos<b>1<b>",
          "<b>Barrio<b>: Villa Urquiza<b><b>Cantidad de delitos<b>1<b>",
          "<b>Barrio<b>: Villa Urquiza<b><b>Cantidad de delitos<b>1<b>",
          "<b>Barrio<b>: Villa Urquiza<b><b>Cantidad de delitos<b>1<b>",
          "<b>Barrio<b>: Villa Urquiza<b><b>Cantidad de delitos<b>1<b>",
          "<b>Barrio<b>: Villa Urquiza<b><b>Cantidad de delitos<b>1<b>",
          "<b>Barrio<b>: Villa Urquiza<b><b>Cantidad de delitos<b>1<b>",
          "<b>Barrio<b>: Villa Urquiza<b><b>Cantidad de delitos<b>1<b>",
          "<b>Barrio<b>: Villa Urquiza<b><b>Cantidad de delitos<b>1<b>",
          "<b>Barrio<b>: Villa Urquiza<b><b>Cantidad de delitos<b>1<b>",
          "<b>Barrio<b>: Villa Urquiza<b><b>Cantidad de delitos<b>1<b>",
          "<b>Barrio<b>: Villa Urquiza<b><b>Cantidad de delitos<b>1<b>",
          "<b>Barrio<b>: Villa Urquiza<b><b>Cantidad de delitos<b>1<b>",
          "<b>Barrio<b>: Villa Urquiza<b><b>Cantidad de delitos<b>1<b>",
          "<b>Barrio<b>: Villa Urquiza<b><b>Cantidad de delitos<b>1<b>",
          "<b>Barrio<b>: Villa Urquiza<b><b>Cantidad de delitos<b>1<b>",
          "<b>Barrio<b>: Villa Urquiza<b><b>Cantidad de delitos<b>1<b>",
          "<b>Barrio<b>: Villa Urquiza<b><b>Cantidad de delitos<b>1<b>",
          "<b>Barrio<b>: Villa Urquiza<b><b>Cantidad de delitos<b>1<b>",
          "<b>Barrio<b>: Villa Urquiza<b><b>Cantidad de delitos<b>1<b>",
          "<b>Barrio<b>: Villa Urquiza<b><b>Cantidad de delitos<b>1<b>",
          "<b>Barrio<b>: Villa Urquiza<b><b>Cantidad de delitos<b>1<b>",
          "<b>Barrio<b>: Villa Urquiza<b><b>Cantidad de delitos<b>1<b>",
          "<b>Barrio<b>: Villa Urquiza<b><b>Cantidad de delitos<b>1<b>",
          "<b>Barrio<b>: Villa Urquiza<b><b>Cantidad de delitos<b>1<b>",
          "<b>Barrio<b>: Vélez Sársfield<b><b>Cantidad de delitos<b>1<b>",
          "<b>Barrio<b>: Vélez Sársfield<b><b>Cantidad de delitos<b>1<b>",
          "<b>Barrio<b>: Vélez Sársfield<b><b>Cantidad de delitos<b>1<b>",
          "<b>Barrio<b>: Vélez Sársfield<b><b>Cantidad de delitos<b>1<b>",
          "<b>Barrio<b>: Vélez Sársfield<b><b>Cantidad de delitos<b>1<b>",
          "<b>Barrio<b>: Vélez Sársfield<b><b>Cantidad de delitos<b>1<b>"
         ],
         "lat": [
          -34.595715,
          -34.594778,
          -34.594775,
          -34.588351,
          -34.601001,
          -34.606034,
          -34.602445,
          -34.613265,
          -34.621236,
          -34.612281,
          -34.610245,
          -34.619162,
          -34.610955,
          -34.600539,
          -34.612029,
          -34.599433,
          -34.601775,
          -34.609544,
          -34.60622,
          -34.598546,
          -34.605048,
          -34.620103,
          -34.614613,
          -34.610487,
          -34.610689,
          -34.604359,
          -34.603319,
          -34.603441,
          -34.607285,
          -34.610757,
          -34.604598,
          -34.599901,
          -34.600958,
          -34.600042,
          -34.610041,
          -34.610941,
          -34.614282,
          -34.613767,
          -34.618826,
          -34.61855,
          -34.59795,
          -34.601838,
          -34.605856,
          -34.606465,
          -34.619693,
          -34.609375,
          -34.604014,
          -34.617148,
          -34.605103,
          -34.606115,
          -34.605004,
          -34.605118,
          -34.605241,
          -34.604082,
          -34.60403,
          -34.603955,
          -34.610593,
          -34.61035,
          -34.606716,
          -34.606746,
          -34.605241,
          -34.610334,
          -34.609112,
          -34.601915,
          -34.604732,
          -34.618011,
          -34.60063,
          -34.618699,
          -34.606528,
          -34.606519,
          -34.608839,
          -34.609298,
          -34.606545,
          -34.609095,
          -34.604688,
          -34.61242,
          -34.613422,
          -34.60336,
          -34.61883,
          -34.607162,
          -34.606296,
          -34.615564,
          -34.601956,
          -34.601574,
          -34.618838,
          -34.601314,
          -34.599556,
          -34.606258,
          -34.599585,
          -34.606152,
          -34.606838,
          -34.612081,
          -34.605103,
          -34.602181,
          -34.606138,
          -34.606019,
          -34.607202,
          -34.600518,
          -34.607881,
          -34.613001,
          -34.603345,
          -34.604611,
          -34.609482,
          -34.604597,
          -34.609536,
          -34.604495,
          -34.607309,
          -34.615014,
          -34.60682,
          -34.601985,
          -34.603154,
          -34.604434,
          -34.608601,
          -34.605645,
          -34.607878,
          -34.607008,
          -34.606787,
          -34.607985,
          -34.609233,
          -34.610339,
          -34.651069,
          -34.651048,
          -34.65617,
          -34.65143,
          -34.65003,
          -34.64847,
          -34.652617,
          -34.655133,
          -34.648826,
          -34.648177,
          -34.648171,
          -34.642873,
          -34.646074,
          -34.633829,
          -34.632661,
          -34.635553,
          -34.64779,
          -34.633705,
          -34.642953,
          -34.653596,
          -34.635064,
          -34.650543,
          -34.647997,
          -34.647316,
          -34.647845,
          -34.637239,
          -34.635764,
          -34.642903,
          -34.635967,
          -34.637743,
          -34.64048,
          -34.633118,
          -34.648171,
          -34.639402,
          -34.642158,
          -34.650986,
          -34.635561,
          -34.644873,
          -34.566778,
          -34.557888,
          -34.564905,
          -34.557163,
          -34.560585,
          -34.571789,
          -34.560104,
          -34.560435,
          -34.564198,
          -34.55981,
          -34.566777,
          -34.558783,
          -34.562126,
          -34.557451,
          -34.563687,
          -34.561409,
          -34.561646,
          -34.5559,
          -34.562653,
          -34.562827,
          -34.558527,
          -34.56264,
          -34.562764,
          -34.564673,
          -34.564708,
          -34.55283,
          -34.566296,
          -34.562428,
          -34.557305,
          -34.556931,
          -34.56151,
          -34.558442,
          -34.555316,
          -34.540487,
          -34.559963,
          -34.560401,
          -34.551561,
          -34.553195,
          -34.558926,
          -34.553141,
          -34.548396,
          -34.554909,
          -34.553275,
          -34.542998,
          -34.553595,
          -34.635435,
          -34.627181,
          -34.631262,
          -34.638773,
          -34.626657,
          -34.637304,
          -34.628641,
          -34.636337,
          -34.644029,
          -34.635099,
          -34.627914,
          -34.634491,
          -34.619152,
          -34.624829,
          -34.624956,
          -34.627346,
          -34.629342,
          -34.632107,
          -34.626185,
          -34.63663,
          -34.639739,
          -34.622184,
          -34.626041,
          -34.636316,
          -34.634414,
          -34.633104,
          -34.63721,
          -34.63105,
          -34.633669,
          -34.631733,
          -34.631004,
          -34.626889,
          -34.625186,
          -34.638156,
          -34.632965,
          -34.611341,
          -34.612812,
          -34.625753,
          -34.626679,
          -34.616765,
          -34.623153,
          -34.626933,
          -34.624305,
          -34.628143,
          -34.622664,
          -34.626242,
          -34.610345,
          -34.628954,
          -34.623527,
          -34.624721,
          -34.610285,
          -34.617571,
          -34.624041,
          -34.616707,
          -34.614036,
          -34.622498,
          -34.629158,
          -34.615896,
          -34.616391,
          -34.61522,
          -34.618677,
          -34.608715,
          -34.60862,
          -34.619431,
          -34.607788,
          -34.621414,
          -34.619255,
          -34.625866,
          -34.604798,
          -34.625915,
          -34.614853,
          -34.624319,
          -34.605433,
          -34.612218,
          -34.627425,
          -34.627431,
          -34.61582,
          -34.625591,
          -34.618712,
          -34.627411,
          -34.619398,
          -34.627198,
          -34.625267,
          -34.581431,
          -34.580118,
          -34.582163,
          -34.581299,
          -34.590087,
          -34.585182,
          -34.583112,
          -34.584683,
          -34.580502,
          -34.593032,
          -34.585846,
          -34.593598,
          -34.583125,
          -34.583893,
          -34.585401,
          -34.588354,
          -34.556711,
          -34.557875,
          -34.562575,
          -34.559033,
          -34.563672,
          -34.575815,
          -34.572009,
          -34.568584,
          -34.568351,
          -34.577668,
          -34.579352,
          -34.575404,
          -34.578113,
          -34.581846,
          -34.582786,
          -34.571446,
          -34.633929,
          -34.626204,
          -34.620046,
          -34.624828,
          -34.624849,
          -34.624757,
          -34.627042,
          -34.622312,
          -34.624709,
          -34.620702,
          -34.620977,
          -34.619726,
          -34.619167,
          -34.622241,
          -34.627568,
          -34.625988,
          -34.627273,
          -34.624718,
          -34.627798,
          -34.619753,
          -34.625877,
          -34.627261,
          -34.624645,
          -34.618517,
          -34.626368,
          -34.627712,
          -34.62119,
          -34.618406,
          -34.627778,
          -34.629331,
          -34.627161,
          -34.627126,
          -34.629867,
          -34.622004,
          -34.631266,
          -34.627423,
          -34.636327,
          -34.633753,
          -34.630705,
          -34.62417,
          -34.639182,
          -34.634056,
          -34.637649,
          -34.636281,
          -34.633626,
          -34.63091,
          -34.615738,
          -34.617606,
          -34.628379,
          -34.61956,
          -34.615958,
          -34.630763,
          -34.619522,
          -34.627876,
          -34.619761,
          -34.633013,
          -34.627129,
          -34.623131,
          -34.650549,
          -34.648003,
          -34.644818,
          -34.64318,
          -34.635565,
          -34.639363,
          -34.621203,
          -34.6264,
          -34.65082,
          -34.631498,
          -34.642296,
          -34.625601,
          -34.628649,
          -34.650214,
          -34.639995,
          -34.642092,
          -34.641356,
          -34.641442,
          -34.630656,
          -34.647119,
          -34.647525,
          -34.648812,
          -34.64779,
          -34.650338,
          -34.6245,
          -34.621087,
          -34.626678,
          -34.625142,
          -34.632948,
          -34.63394,
          -34.631898,
          -34.630275,
          -34.638377,
          -34.640558,
          -34.635535,
          -34.641738,
          -34.64478,
          -34.63579,
          -34.639147,
          -34.640251,
          -34.639048,
          -34.63893,
          -34.641264,
          -34.649926,
          -34.633073,
          -34.646555,
          -34.649186,
          -34.659933,
          -34.657258,
          -34.663147,
          -34.664432,
          -34.667129,
          -34.669182,
          -34.663108,
          -34.672962,
          -34.649198,
          -34.673465,
          -34.645857,
          -34.644694,
          -34.64441,
          -34.654738,
          -34.647505,
          -34.653428,
          -34.652431,
          -34.651377,
          -34.664254,
          -34.663601,
          -34.653695,
          -34.661868,
          -34.660135,
          -34.611401,
          -34.609731,
          -34.611913,
          -34.618078,
          -34.609755,
          -34.617995,
          -34.613534,
          -34.617778,
          -34.612279,
          -34.612012,
          -34.609099,
          -34.612174,
          -34.611874,
          -34.609038,
          -34.617137,
          -34.608898,
          -34.615077,
          -34.609011,
          -34.608558,
          -34.609089,
          -34.615892,
          -34.613437,
          -34.623174,
          -34.627654,
          -34.622707,
          -34.620913,
          -34.617995,
          -34.62385,
          -34.626047,
          -34.624422,
          -34.615203,
          -34.621892,
          -34.611998,
          -34.618229,
          -34.645854,
          -34.653463,
          -34.64787,
          -34.65418,
          -34.650107,
          -34.657008,
          -34.651178,
          -34.65683,
          -34.642823,
          -34.65317,
          -34.65172,
          -34.65542,
          -34.644727,
          -34.65409,
          -34.649552,
          -34.648423,
          -34.652728,
          -34.650684,
          -34.641139,
          -34.643633,
          -34.652131,
          -34.64577,
          -34.648479,
          -34.650002,
          -34.651695,
          -34.652061,
          -34.650973,
          -34.648329,
          -34.651705,
          -34.654133,
          -34.654237,
          -34.649166,
          -34.650126,
          -34.650262,
          -34.65378,
          -34.648257,
          -34.648017,
          -34.655869,
          -34.552999,
          -34.543979,
          -34.553134,
          -34.556802,
          -34.536446,
          -34.551958,
          -34.549127,
          -34.536298,
          -34.547872,
          -34.548045,
          -34.546444,
          -34.535844,
          -34.546063,
          -34.551629,
          -34.541039,
          -34.544249,
          -34.548501,
          -34.551919,
          -34.546946,
          -34.548059,
          -34.548862,
          -34.569036,
          -34.58126,
          -34.568315,
          -34.572435,
          -34.570677,
          -34.565382,
          -34.57402,
          -34.566245,
          -34.58517,
          -34.57805,
          -34.564693,
          -34.585177,
          -34.579486,
          -34.573605,
          -34.578819,
          -34.575894,
          -34.588953,
          -34.574794,
          -34.583712,
          -34.574928,
          -34.569129,
          -34.575946,
          -34.588373,
          -34.588155,
          -34.590016,
          -34.587567,
          -34.57451,
          -34.58656,
          -34.589485,
          -34.58577,
          -34.581131,
          -34.592971,
          -34.589953,
          -34.592778,
          -34.559184,
          -34.559282,
          -34.582411,
          -34.588221,
          -34.581146,
          -34.590127,
          -34.588548,
          -34.59293,
          -34.588476,
          -34.589867,
          -34.578422,
          -34.589768,
          -34.574925,
          -34.556578,
          -34.579415,
          -34.578917,
          -34.570823,
          -34.579642,
          -34.581745,
          -34.571168,
          -34.58233,
          -34.58058,
          -34.580829,
          -34.597302,
          -34.571823,
          -34.586963,
          -34.58186,
          -34.590089,
          -34.582251,
          -34.588976,
          -34.589804,
          -34.593588,
          -34.586922,
          -34.587995,
          -34.591006,
          -34.588373,
          -34.592821,
          -34.588503,
          -34.583812,
          -34.597825,
          -34.584508,
          -34.584366,
          -34.585578,
          -34.586788,
          -34.57498,
          -34.583477,
          -34.581684,
          -34.591773,
          -34.593038,
          -34.584218,
          -34.592689,
          -34.593072,
          -34.587721,
          -34.582011,
          -34.587682,
          -34.586071,
          -34.584711,
          -34.588073,
          -34.588251,
          -34.588555,
          -34.589056,
          -34.579877,
          -34.588226,
          -34.558721,
          -34.575254,
          -34.574761,
          -34.580062,
          -34.583314,
          -34.564454,
          -34.57614,
          -34.569551,
          -34.645569,
          -34.641309,
          -34.645005,
          -34.644541,
          -34.639552,
          -34.654773,
          -34.650328,
          -34.654763,
          -34.640542,
          -34.653731,
          -34.659248,
          -34.656332,
          -34.643005,
          -34.645382,
          -34.645229,
          -34.650404,
          -34.658085,
          -34.650245,
          -34.661531,
          -34.662437,
          -34.658788,
          -34.646977,
          -34.645152,
          -34.658816,
          -34.653315,
          -34.640311,
          -34.645813,
          -34.643026,
          -34.652256,
          -34.647997,
          -34.630761,
          -34.634188,
          -34.634764,
          -34.637258,
          -34.629552,
          -34.631192,
          -34.643576,
          -34.636727,
          -34.635994,
          -34.637788,
          -34.647349,
          -34.629834,
          -34.63614,
          -34.636825,
          -34.643378,
          -34.633665,
          -34.634923,
          -34.643601,
          -34.644897,
          -34.635946,
          -34.633116,
          -34.63492,
          -34.638453,
          -34.583171,
          -34.58747,
          -34.589876,
          -34.584584,
          -34.58817,
          -34.586338,
          -34.580872,
          -34.588287,
          -34.588492,
          -34.642857,
          -34.645954,
          -34.635217,
          -34.636152,
          -34.633062,
          -34.633933,
          -34.634259,
          -34.637121,
          -34.631704,
          -34.638242,
          -34.639455,
          -34.642982,
          -34.645467,
          -34.644055,
          -34.635914,
          -34.630364,
          -34.63144,
          -34.641011,
          -34.636555,
          -34.64156,
          -34.636647,
          -34.592273,
          -34.592507,
          -34.603581,
          -34.592419,
          -34.599523,
          -34.596604,
          -34.600446,
          -34.592708,
          -34.594191,
          -34.598002,
          -34.592207,
          -34.59113,
          -34.59096,
          -34.591619,
          -34.589531,
          -34.587794,
          -34.590041,
          -34.596163,
          -34.590868,
          -34.594989,
          -34.593351,
          -34.585989,
          -34.595385,
          -34.590662,
          -34.585398,
          -34.591536,
          -34.597497,
          -34.593341,
          -34.584811,
          -34.58647,
          -34.59741,
          -34.592585,
          -34.59393,
          -34.588278,
          -34.591503,
          -34.596405,
          -34.595102,
          -34.589731,
          -34.594442,
          -34.596975,
          -34.593328,
          -34.589879,
          -34.598091,
          -34.591826,
          -34.596203,
          -34.585025,
          -34.589146,
          -34.583557,
          -34.591499,
          -34.588275,
          -34.595388,
          -34.589374,
          -34.586406,
          -34.592873,
          -34.590733,
          -34.597329,
          -34.583592,
          -34.59867,
          -34.584738,
          -34.58487,
          -34.589217,
          -34.593982,
          -34.58677,
          -34.58236,
          -34.587716,
          -34.584185,
          -34.583333,
          -34.598477,
          -34.587445,
          -34.592869,
          -34.591981,
          -34.583703,
          -34.58913,
          -34.588829,
          -34.585441,
          -34.591416,
          -34.585902,
          -34.577698,
          -34.58812,
          -34.586588,
          -34.5802,
          -34.596552,
          -34.599226,
          -34.598079,
          -34.594433,
          -34.580131,
          -34.581731,
          -34.593836,
          -34.588974,
          -34.589982,
          -34.596366,
          -34.597658,
          -34.598908,
          -34.585167,
          -34.583262,
          -34.592967,
          -34.587591,
          -34.586002,
          -34.554334,
          -34.549834,
          -34.552423,
          -34.555206,
          -34.552721,
          -34.554829,
          -34.548367,
          -34.554158,
          -34.548927,
          -34.545749,
          -34.551779,
          -34.550124,
          -34.552657,
          -34.544774,
          -34.545954,
          -34.556233,
          -34.542852,
          -34.541281,
          -34.540239,
          -34.53937,
          -34.554177,
          -34.54422,
          -34.545281,
          -34.620651,
          -34.622598,
          -34.620566,
          -34.627063,
          -34.62043,
          -34.620157,
          -34.625924,
          -34.6225,
          -34.624095,
          -34.624006,
          -34.623778,
          -34.625199,
          -34.627453,
          -34.619732,
          -34.627166,
          -34.623232,
          -34.620791,
          -34.625744,
          -34.626627,
          -34.619561,
          -34.621745,
          -34.626785,
          -34.625734,
          -34.619527,
          -34.623997,
          -34.626453,
          -34.622731,
          -34.627041,
          -34.608002,
          -34.600755,
          -34.602764,
          -34.609117,
          -34.607909,
          -34.609192,
          -34.602111,
          -34.60335,
          -34.603651,
          -34.600326,
          -34.602773,
          -34.603997,
          -34.600509,
          -34.60391,
          -34.605099,
          -34.601398,
          -34.599006,
          -34.600131,
          -34.604743,
          -34.599954,
          -34.599872,
          -34.599401,
          -34.603276,
          -34.605496,
          -34.602989,
          -34.620671,
          -34.619381,
          -34.618461,
          -34.617787,
          -34.627161,
          -34.624069,
          -34.619307,
          -34.619242,
          -34.634681,
          -34.624489,
          -34.625123,
          -34.597695,
          -34.603709,
          -34.596053,
          -34.595693,
          -34.606407,
          -34.596825,
          -34.597196,
          -34.595957,
          -34.601479,
          -34.600192,
          -34.605803,
          -34.602996,
          -34.595448,
          -34.605605,
          -34.599648,
          -34.591008,
          -34.596076,
          -34.599933,
          -34.597285,
          -34.593829,
          -34.594302,
          -34.597061,
          -34.612149,
          -34.607401,
          -34.605925,
          -34.597763,
          -34.597847,
          -34.599855,
          -34.609848,
          -34.606512,
          -34.60323,
          -34.603947,
          -34.600115,
          -34.603188,
          -34.604607,
          -34.612697,
          -34.604973,
          -34.603786,
          -34.59539,
          -34.615208,
          -34.615407,
          -34.595441,
          -34.58909,
          -34.606562,
          -34.608075,
          -34.59741,
          -34.592319,
          -34.602354,
          -34.60289,
          -34.589607,
          -34.595315,
          -34.596857,
          -34.593454,
          -34.608617,
          -34.613823,
          -34.608655,
          -34.603895,
          -34.617796,
          -34.605393,
          -34.611303,
          -34.614413,
          -34.61219,
          -34.607372,
          -34.671286,
          -34.680255,
          -34.666658,
          -34.681173,
          -34.677538,
          -34.682081,
          -34.671152,
          -34.666853,
          -34.676484,
          -34.678413,
          -34.684697,
          -34.670013,
          -34.67047,
          -34.66805,
          -34.667463,
          -34.679175,
          -34.677987,
          -34.68631,
          -34.678653,
          -34.661867,
          -34.658606,
          -34.672907,
          -34.667953,
          -34.678989,
          -34.666106,
          -34.675993,
          -34.665273,
          -34.674964,
          -34.67326,
          -34.678831,
          -34.677556,
          -34.662353,
          -34.674789,
          -34.677288,
          -34.677856,
          -34.68098,
          -34.684468,
          -34.685208,
          -34.628449,
          -34.629829,
          -34.644592,
          -34.644537,
          -34.635162,
          -34.638699,
          -34.640987,
          -34.643297,
          -34.583215,
          -34.585554,
          -34.578314,
          -34.570709,
          -34.574913,
          -34.58148,
          -34.58219,
          -34.572136,
          -34.587021,
          -34.589516,
          -34.580946,
          -34.588102,
          -34.575005,
          -34.576693,
          -34.582578,
          -34.577673,
          -34.584514,
          -34.614689,
          -34.623214,
          -34.622783,
          -34.624791,
          -34.619822,
          -34.616489,
          -34.617306,
          -34.686463,
          -34.691662,
          -34.691286,
          -34.703796,
          -34.616326,
          -34.617184,
          -34.611169,
          -34.613868,
          -34.620671,
          -34.615079,
          -34.616396,
          -34.611589,
          -34.623186,
          -34.613768,
          -34.620805,
          -34.664142,
          -34.664989,
          -34.67315,
          -34.65953,
          -34.659263,
          -34.656703,
          -34.660381,
          -34.662246,
          -34.663154,
          -34.67615,
          -34.664925,
          -34.662247,
          -34.653853,
          -34.663275,
          -34.665419,
          -34.662416,
          -34.668424,
          -34.663894,
          -34.66636,
          -34.684771,
          -34.661795,
          -34.660789,
          -34.662455,
          -34.6645,
          -34.660714,
          -34.654991,
          -34.660456,
          -34.654715,
          -34.661829,
          -34.661668,
          -34.665092,
          -34.656116,
          -34.656304,
          -34.664326,
          -34.658702,
          -34.57176,
          -34.571639,
          -34.572587,
          -34.572855,
          -34.572989,
          -34.577361,
          -34.568097,
          -34.573706,
          -34.5666,
          -34.569417,
          -34.57758,
          -34.579707,
          -34.58279,
          -34.573328,
          -34.571149,
          -34.583924,
          -34.57394,
          -34.573656,
          -34.577058,
          -34.571141,
          -34.570102,
          -34.570206,
          -34.579483,
          -34.575008,
          -34.570262,
          -34.568695,
          -34.566257,
          -34.574319,
          -34.57797,
          -34.562185,
          -34.567362,
          -34.577515,
          -34.57654,
          -34.572784,
          -34.576648,
          -34.567426,
          -34.566943,
          -34.566704,
          -34.567637,
          -34.624313,
          -34.634284,
          -34.623778,
          -34.626514,
          -34.635676,
          -34.630512
         ],
         "lon": [
          -58.497791,
          -58.496584,
          -58.49573,
          -58.490805,
          -58.429953,
          -58.429151,
          -58.429136,
          -58.428152,
          -58.42732,
          -58.426048,
          -58.425891,
          -58.424926,
          -58.422245,
          -58.422216,
          -58.422118,
          -58.42196,
          -58.421733,
          -58.421291,
          -58.421215,
          -58.421017,
          -58.420412,
          -58.420369,
          -58.420339,
          -58.419762,
          -58.419736,
          -58.419648,
          -58.419515,
          -58.419118,
          -58.418669,
          -58.418592,
          -58.418118,
          -58.417918,
          -58.417799,
          -58.417626,
          -58.41742,
          -58.417344,
          -58.417256,
          -58.417249,
          -58.416791,
          -58.416736,
          -58.415566,
          -58.415234,
          -58.41495,
          -58.414912,
          -58.414839,
          -58.414588,
          -58.414519,
          -58.414207,
          -58.414079,
          -58.41365,
          -58.413449,
          -58.413417,
          -58.41268,
          -58.411747,
          -58.410864,
          -58.410672,
          -58.410216,
          -58.410205,
          -58.40998,
          -58.409807,
          -58.408894,
          -58.408887,
          -58.40884,
          -58.408704,
          -58.407944,
          -58.407072,
          -58.406509,
          -58.406475,
          -58.40629,
          -58.406154,
          -58.406035,
          -58.406012,
          -58.40595,
          -58.405899,
          -58.405688,
          -58.405573,
          -58.405282,
          -58.405225,
          -58.405062,
          -58.404772,
          -58.40411,
          -58.403604,
          -58.403595,
          -58.403582,
          -58.403518,
          -58.403448,
          -58.40206,
          -58.402049,
          -58.40093,
          -58.400728,
          -58.400629,
          -58.400323,
          -58.39952,
          -58.399472,
          -58.399226,
          -58.399121,
          -58.398858,
          -58.398716,
          -58.397739,
          -58.397216,
          -58.396924,
          -58.39667,
          -58.396293,
          -58.396104,
          -58.395382,
          -58.395295,
          -58.394979,
          -58.393477,
          -58.392882,
          -58.392599,
          -58.392394,
          -58.392293,
          -58.392216,
          -58.392201,
          -58.392175,
          -58.392135,
          -58.392119,
          -58.39204,
          -58.391962,
          -58.391882,
          -58.40057,
          -58.398799,
          -58.397515,
          -58.396622,
          -58.395543,
          -58.392461,
          -58.392145,
          -58.38699,
          -58.386857,
          -58.386711,
          -58.386593,
          -58.385364,
          -58.383928,
          -58.382902,
          -58.382642,
          -58.382148,
          -58.380957,
          -58.380119,
          -58.379417,
          -58.378887,
          -58.378709,
          -58.378632,
          -58.377937,
          -58.377879,
          -58.377568,
          -58.376438,
          -58.375238,
          -58.375096,
          -58.374902,
          -58.374149,
          -58.373809,
          -58.373458,
          -58.372831,
          -58.372211,
          -58.37133,
          -58.37007,
          -58.369959,
          -58.36866,
          -58.473103,
          -58.467182,
          -58.464605,
          -58.463692,
          -58.463673,
          -58.463157,
          -58.4626,
          -58.460947,
          -58.460348,
          -58.460083,
          -58.459687,
          -58.459324,
          -58.458736,
          -58.45862,
          -58.458154,
          -58.457071,
          -58.456275,
          -58.456015,
          -58.456003,
          -58.455853,
          -58.45567,
          -58.455176,
          -58.454608,
          -58.454585,
          -58.453871,
          -58.45284,
          -58.45272,
          -58.452449,
          -58.451225,
          -58.450996,
          -58.450896,
          -58.450587,
          -58.450004,
          -58.449274,
          -58.449159,
          -58.446695,
          -58.446261,
          -58.445795,
          -58.4442,
          -58.439235,
          -58.43911,
          -58.437466,
          -58.435307,
          -58.434739,
          -58.434657,
          -58.369315,
          -58.36699,
          -58.36654,
          -58.366348,
          -58.364166,
          -58.3639,
          -58.361617,
          -58.361306,
          -58.360997,
          -58.360876,
          -58.360876,
          -58.35938,
          -58.355489,
          -58.427137,
          -58.424526,
          -58.423909,
          -58.423852,
          -58.422868,
          -58.421801,
          -58.421567,
          -58.420922,
          -58.420573,
          -58.420252,
          -58.419554,
          -58.419298,
          -58.419246,
          -58.41762,
          -58.416026,
          -58.414465,
          -58.414435,
          -58.414066,
          -58.413364,
          -58.412125,
          -58.41163,
          -58.411482,
          -58.455261,
          -58.454015,
          -58.453728,
          -58.453438,
          -58.451439,
          -58.451206,
          -58.450974,
          -58.450665,
          -58.450397,
          -58.449833,
          -58.449434,
          -58.449353,
          -58.448809,
          -58.448649,
          -58.446533,
          -58.445963,
          -58.445524,
          -58.444915,
          -58.444244,
          -58.444167,
          -58.442135,
          -58.442117,
          -58.440888,
          -58.440285,
          -58.439297,
          -58.439275,
          -58.439123,
          -58.439093,
          -58.438806,
          -58.438603,
          -58.435956,
          -58.434864,
          -58.434309,
          -58.434278,
          -58.433895,
          -58.433732,
          -58.433552,
          -58.432635,
          -58.431119,
          -58.431037,
          -58.430914,
          -58.430872,
          -58.430843,
          -58.429974,
          -58.429637,
          -58.428813,
          -58.428163,
          -58.427719,
          -58.4593,
          -58.458453,
          -58.456708,
          -58.456155,
          -58.455509,
          -58.453967,
          -58.453676,
          -58.452324,
          -58.450955,
          -58.45057,
          -58.449782,
          -58.449738,
          -58.44613,
          -58.445996,
          -58.44348,
          -58.441392,
          -58.478575,
          -58.473756,
          -58.472522,
          -58.469164,
          -58.468613,
          -58.459796,
          -58.458802,
          -58.456577,
          -58.456082,
          -58.452469,
          -58.449111,
          -58.446548,
          -58.446285,
          -58.445438,
          -58.445178,
          -58.441947,
          -58.389522,
          -58.389095,
          -58.388137,
          -58.38747,
          -58.387194,
          -58.385788,
          -58.38522,
          -58.384398,
          -58.384386,
          -58.384308,
          -58.383579,
          -58.383173,
          -58.383127,
          -58.382968,
          -58.382885,
          -58.382884,
          -58.382838,
          -58.382626,
          -58.382335,
          -58.38145,
          -58.381305,
          -58.381106,
          -58.380897,
          -58.380649,
          -58.380189,
          -58.38003,
          -58.380017,
          -58.379796,
          -58.37962,
          -58.379052,
          -58.474347,
          -58.473893,
          -58.473578,
          -58.472973,
          -58.472088,
          -58.471104,
          -58.47021,
          -58.47001,
          -58.469639,
          -58.469502,
          -58.468989,
          -58.466682,
          -58.466441,
          -58.465729,
          -58.465154,
          -58.464963,
          -58.46414,
          -58.463879,
          -58.463723,
          -58.462906,
          -58.462697,
          -58.460085,
          -58.459954,
          -58.459437,
          -58.459165,
          -58.458886,
          -58.457839,
          -58.457536,
          -58.457396,
          -58.456932,
          -58.456348,
          -58.456308,
          -58.456308,
          -58.456151,
          -58.456077,
          -58.45579,
          -58.454637,
          -58.454379,
          -58.454193,
          -58.454184,
          -58.453828,
          -58.453767,
          -58.452608,
          -58.452486,
          -58.452038,
          -58.451986,
          -58.451925,
          -58.442878,
          -58.440834,
          -58.440701,
          -58.435064,
          -58.430986,
          -58.491344,
          -58.491296,
          -58.490533,
          -58.485923,
          -58.483488,
          -58.482379,
          -58.480503,
          -58.478973,
          -58.53004,
          -58.529939,
          -58.52922,
          -58.528951,
          -58.526769,
          -58.526755,
          -58.526418,
          -58.526347,
          -58.525096,
          -58.523725,
          -58.52107,
          -58.520796,
          -58.516844,
          -58.516634,
          -58.515627,
          -58.520131,
          -58.518772,
          -58.515986,
          -58.514294,
          -58.511546,
          -58.50812,
          -58.50389,
          -58.502901,
          -58.501261,
          -58.500678,
          -58.500649,
          -58.497203,
          -58.496832,
          -58.495562,
          -58.495348,
          -58.493994,
          -58.493894,
          -58.493557,
          -58.492194,
          -58.489328,
          -58.488885,
          -58.485035,
          -58.482332,
          -58.391707,
          -58.390612,
          -58.390415,
          -58.390333,
          -58.389904,
          -58.388971,
          -58.387521,
          -58.386401,
          -58.386163,
          -58.382707,
          -58.382236,
          -58.381233,
          -58.38121,
          -58.381153,
          -58.38024,
          -58.379195,
          -58.377492,
          -58.374759,
          -58.374272,
          -58.373509,
          -58.370573,
          -58.367831,
          -58.51833,
          -58.517409,
          -58.515783,
          -58.513625,
          -58.512255,
          -58.512206,
          -58.509359,
          -58.508549,
          -58.505122,
          -58.505049,
          -58.499542,
          -58.498685,
          -58.433141,
          -58.432141,
          -58.432128,
          -58.42718,
          -58.425297,
          -58.42426,
          -58.423156,
          -58.422831,
          -58.422818,
          -58.421211,
          -58.418865,
          -58.418082,
          -58.417202,
          -58.416597,
          -58.41651,
          -58.416287,
          -58.416195,
          -58.415742,
          -58.415271,
          -58.414706,
          -58.41414,
          -58.413812,
          -58.412875,
          -58.411722,
          -58.411076,
          -58.410295,
          -58.409578,
          -58.408894,
          -58.40741,
          -58.40737,
          -58.406554,
          -58.406332,
          -58.405448,
          -58.405232,
          -58.405142,
          -58.403787,
          -58.403486,
          -58.40275,
          -58.470374,
          -58.470304,
          -58.470166,
          -58.469671,
          -58.468711,
          -58.468705,
          -58.468223,
          -58.467561,
          -58.467438,
          -58.4673,
          -58.467254,
          -58.466808,
          -58.46665,
          -58.466036,
          -58.466007,
          -58.463636,
          -58.463572,
          -58.463238,
          -58.461656,
          -58.460943,
          -58.455549,
          -58.443805,
          -58.442775,
          -58.442499,
          -58.440901,
          -58.44087,
          -58.440329,
          -58.440211,
          -58.439591,
          -58.439514,
          -58.439273,
          -58.439189,
          -58.438769,
          -58.438744,
          -58.438615,
          -58.438065,
          -58.437055,
          -58.436312,
          -58.435844,
          -58.435729,
          -58.435351,
          -58.434835,
          -58.433486,
          -58.433365,
          -58.433133,
          -58.432173,
          -58.432051,
          -58.431585,
          -58.431253,
          -58.43116,
          -58.429629,
          -58.428799,
          -58.42806,
          -58.427986,
          -58.427605,
          -58.427487,
          -58.427393,
          -58.427185,
          -58.426846,
          -58.42662,
          -58.426074,
          -58.42605,
          -58.425998,
          -58.425941,
          -58.425781,
          -58.425714,
          -58.425433,
          -58.425342,
          -58.424491,
          -58.424325,
          -58.42411,
          -58.424079,
          -58.423408,
          -58.423331,
          -58.423249,
          -58.423106,
          -58.422607,
          -58.422399,
          -58.421756,
          -58.421746,
          -58.42124,
          -58.420756,
          -58.420371,
          -58.420351,
          -58.4203,
          -58.419906,
          -58.419423,
          -58.418788,
          -58.418664,
          -58.418631,
          -58.418445,
          -58.418291,
          -58.418264,
          -58.418175,
          -58.417268,
          -58.417173,
          -58.417117,
          -58.41682,
          -58.416736,
          -58.415406,
          -58.415259,
          -58.415231,
          -58.415158,
          -58.41504,
          -58.414604,
          -58.414091,
          -58.413528,
          -58.412636,
          -58.412116,
          -58.411972,
          -58.411937,
          -58.411563,
          -58.411548,
          -58.411505,
          -58.410666,
          -58.410086,
          -58.409838,
          -58.409503,
          -58.409501,
          -58.408221,
          -58.406183,
          -58.404911,
          -58.402953,
          -58.401787,
          -58.401504,
          -58.398924,
          -58.488704,
          -58.487629,
          -58.486026,
          -58.485452,
          -58.483906,
          -58.481617,
          -58.479768,
          -58.478842,
          -58.478525,
          -58.477529,
          -58.477042,
          -58.476895,
          -58.476475,
          -58.476293,
          -58.474961,
          -58.47373,
          -58.473659,
          -58.473618,
          -58.473502,
          -58.472991,
          -58.472766,
          -58.472753,
          -58.472743,
          -58.47273,
          -58.47273,
          -58.472294,
          -58.471936,
          -58.47178,
          -58.471326,
          -58.467672,
          -58.449216,
          -58.448593,
          -58.447298,
          -58.445316,
          -58.443746,
          -58.442423,
          -58.441477,
          -58.440554,
          -58.438966,
          -58.437944,
          -58.437425,
          -58.436882,
          -58.436797,
          -58.436404,
          -58.435897,
          -58.432861,
          -58.432555,
          -58.432219,
          -58.432189,
          -58.431597,
          -58.429551,
          -58.425446,
          -58.424058,
          -58.482688,
          -58.482405,
          -58.482352,
          -58.481002,
          -58.47884,
          -58.477402,
          -58.474793,
          -58.474034,
          -58.472118,
          -58.413072,
          -58.40811,
          -58.407973,
          -58.407633,
          -58.407592,
          -58.406523,
          -58.405945,
          -58.405611,
          -58.405473,
          -58.405338,
          -58.405101,
          -58.402345,
          -58.401844,
          -58.39917,
          -58.398911,
          -58.396264,
          -58.395964,
          -58.39536,
          -58.394866,
          -58.393809,
          -58.393174,
          -58.474246,
          -58.473823,
          -58.473544,
          -58.470255,
          -58.468008,
          -58.464874,
          -58.458524,
          -58.413122,
          -58.412073,
          -58.411924,
          -58.411618,
          -58.411604,
          -58.410353,
          -58.410058,
          -58.409509,
          -58.409076,
          -58.408903,
          -58.40846,
          -58.407944,
          -58.407875,
          -58.407792,
          -58.407743,
          -58.406687,
          -58.405745,
          -58.405733,
          -58.405469,
          -58.405373,
          -58.405112,
          -58.404783,
          -58.404397,
          -58.40437,
          -58.404192,
          -58.403758,
          -58.40374,
          -58.403729,
          -58.403126,
          -58.40268,
          -58.402556,
          -58.402354,
          -58.402023,
          -58.401852,
          -58.400891,
          -58.400764,
          -58.400493,
          -58.400129,
          -58.399937,
          -58.399842,
          -58.399814,
          -58.399647,
          -58.399018,
          -58.398528,
          -58.39825,
          -58.398107,
          -58.397473,
          -58.397336,
          -58.395578,
          -58.395357,
          -58.395213,
          -58.394326,
          -58.393278,
          -58.392997,
          -58.391748,
          -58.390992,
          -58.390794,
          -58.390784,
          -58.390569,
          -58.390556,
          -58.389726,
          -58.389671,
          -58.389632,
          -58.389545,
          -58.389521,
          -58.388982,
          -58.388784,
          -58.388595,
          -58.387745,
          -58.387448,
          -58.387302,
          -58.386101,
          -58.385853,
          -58.386633,
          -58.385748,
          -58.385479,
          -58.384101,
          -58.383964,
          -58.382,
          -58.381263,
          -58.3801,
          -58.379618,
          -58.379361,
          -58.378446,
          -58.37837,
          -58.378287,
          -58.377614,
          -58.377318,
          -58.375367,
          -58.371545,
          -58.370644,
          -58.496592,
          -58.496064,
          -58.495564,
          -58.494877,
          -58.494089,
          -58.493877,
          -58.493326,
          -58.490981,
          -58.488872,
          -58.486934,
          -58.484049,
          -58.482341,
          -58.481706,
          -58.480684,
          -58.479372,
          -58.479046,
          -58.476407,
          -58.476032,
          -58.475639,
          -58.475488,
          -58.475327,
          -58.473405,
          -58.471013,
          -58.412076,
          -58.409833,
          -58.409273,
          -58.408564,
          -58.407704,
          -58.407659,
          -58.406907,
          -58.404387,
          -58.404072,
          -58.403355,
          -58.402176,
          -58.401851,
          -58.401334,
          -58.40089,
          -58.398762,
          -58.397832,
          -58.397761,
          -58.397272,
          -58.397076,
          -58.395931,
          -58.395648,
          -58.395532,
          -58.39452,
          -58.394503,
          -58.392736,
          -58.392313,
          -58.391495,
          -58.391193,
          -58.391882,
          -58.391431,
          -58.391172,
          -58.390741,
          -58.390677,
          -58.39056,
          -58.389565,
          -58.389403,
          -58.389386,
          -58.388163,
          -58.386647,
          -58.386598,
          -58.38536,
          -58.38514,
          -58.383627,
          -58.382359,
          -58.379754,
          -58.379675,
          -58.378014,
          -58.376807,
          -58.375372,
          -58.374089,
          -58.372215,
          -58.371725,
          -58.369934,
          -58.371426,
          -58.37042,
          -58.370277,
          -58.370223,
          -58.369556,
          -58.368068,
          -58.367166,
          -58.366333,
          -58.526916,
          -58.522826,
          -58.521471,
          -58.455922,
          -58.453539,
          -58.449581,
          -58.447318,
          -58.446623,
          -58.446069,
          -58.445653,
          -58.445194,
          -58.444724,
          -58.443362,
          -58.442117,
          -58.441883,
          -58.44105,
          -58.439288,
          -58.439173,
          -58.437456,
          -58.437213,
          -58.434901,
          -58.433045,
          -58.430956,
          -58.430063,
          -58.424847,
          -58.497531,
          -58.494888,
          -58.494755,
          -58.493455,
          -58.493372,
          -58.492813,
          -58.492256,
          -58.484322,
          -58.482609,
          -58.480628,
          -58.480275,
          -58.4799,
          -58.479558,
          -58.526167,
          -58.519589,
          -58.51949,
          -58.519174,
          -58.51909,
          -58.517586,
          -58.517132,
          -58.515002,
          -58.51481,
          -58.513577,
          -58.512686,
          -58.512148,
          -58.511385,
          -58.510654,
          -58.509665,
          -58.509358,
          -58.509184,
          -58.508095,
          -58.502652,
          -58.472253,
          -58.470667,
          -58.469099,
          -58.469094,
          -58.468651,
          -58.467848,
          -58.465488,
          -58.465428,
          -58.462705,
          -58.494547,
          -58.49346,
          -58.49228,
          -58.491927,
          -58.491911,
          -58.490743,
          -58.490711,
          -58.490669,
          -58.489352,
          -58.488799,
          -58.48832,
          -58.48827,
          -58.487799,
          -58.487514,
          -58.48656,
          -58.486332,
          -58.484223,
          -58.48314,
          -58.481776,
          -58.480109,
          -58.479329,
          -58.476309,
          -58.475583,
          -58.474836,
          -58.474544,
          -58.472692,
          -58.47213,
          -58.471537,
          -58.470411,
          -58.469048,
          -58.468335,
          -58.467519,
          -58.466394,
          -58.465449,
          -58.464738,
          -58.46465,
          -58.464569,
          -58.459279,
          -58.516378,
          -58.506192,
          -58.502125,
          -58.501806,
          -58.499793,
          -58.499222,
          -58.49716,
          -58.492366,
          -58.471964,
          -58.469196,
          -58.468775,
          -58.507878,
          -58.507667,
          -58.506533,
          -58.505752,
          -58.50552,
          -58.50549,
          -58.50528,
          -58.505262,
          -58.50299,
          -58.501174,
          -58.500572,
          -58.498468,
          -58.497751,
          -58.491889,
          -58.531079,
          -58.52962,
          -58.529204,
          -58.528042,
          -58.527497,
          -58.526396,
          -58.52509,
          -58.478625,
          -58.473269,
          -58.472795,
          -58.460718,
          -58.490081,
          -58.489006,
          -58.488878,
          -58.487352,
          -58.486474,
          -58.485704,
          -58.485572,
          -58.483114,
          -58.479589,
          -58.47777,
          -58.47756,
          -58.470453,
          -58.469389,
          -58.458364,
          -58.456696,
          -58.454703,
          -58.453717,
          -58.453372,
          -58.453124,
          -58.452588,
          -58.451694,
          -58.449959,
          -58.448753,
          -58.448048,
          -58.447442,
          -58.446587,
          -58.446366,
          -58.445574,
          -58.444564,
          -58.444495,
          -58.44433,
          -58.443495,
          -58.442262,
          -58.436725,
          -58.436576,
          -58.436338,
          -58.434472,
          -58.434282,
          -58.433995,
          -58.43375,
          -58.433504,
          -58.432729,
          -58.431806,
          -58.431294,
          -58.430017,
          -58.428242,
          -58.504841,
          -58.502043,
          -58.499697,
          -58.499483,
          -58.498275,
          -58.498033,
          -58.498027,
          -58.497516,
          -58.497283,
          -58.492438,
          -58.491996,
          -58.491206,
          -58.490799,
          -58.490664,
          -58.490122,
          -58.489831,
          -58.489723,
          -58.488899,
          -58.488864,
          -58.488753,
          -58.488371,
          -58.488288,
          -58.487881,
          -58.487254,
          -58.487158,
          -58.486818,
          -58.486598,
          -58.486385,
          -58.486227,
          -58.48622,
          -58.485655,
          -58.481401,
          -58.480578,
          -58.479441,
          -58.478488,
          -58.477165,
          -58.476146,
          -58.473333,
          -58.472638,
          -58.501722,
          -58.495544,
          -58.495242,
          -58.4918,
          -58.487025,
          -58.486844
         ],
         "marker": {
          "color": [
           1,
           1,
           1,
           1,
           1,
           1,
           1,
           1,
           1,
           1,
           1,
           1,
           1,
           1,
           1,
           1,
           1,
           1,
           1,
           1,
           1,
           1,
           1,
           1,
           1,
           1,
           1,
           1,
           1,
           1,
           1,
           2,
           1,
           1,
           1,
           1,
           1,
           1,
           1,
           1,
           1,
           1,
           1,
           1,
           1,
           1,
           1,
           1,
           1,
           1,
           2,
           1,
           1,
           1,
           1,
           2,
           1,
           1,
           1,
           1,
           1,
           1,
           1,
           1,
           2,
           1,
           1,
           1,
           1,
           1,
           1,
           1,
           1,
           1,
           1,
           1,
           1,
           1,
           1,
           1,
           1,
           1,
           1,
           1,
           1,
           1,
           1,
           1,
           1,
           1,
           1,
           1,
           1,
           1,
           1,
           1,
           1,
           1,
           1,
           1,
           1,
           1,
           1,
           1,
           1,
           1,
           1,
           1,
           1,
           1,
           1,
           1,
           1,
           2,
           1,
           1,
           1,
           5,
           3,
           2,
           1,
           2,
           1,
           1,
           1,
           1,
           1,
           1,
           1,
           1,
           1,
           1,
           1,
           1,
           1,
           1,
           1,
           1,
           1,
           1,
           1,
           1,
           1,
           1,
           1,
           1,
           1,
           1,
           1,
           1,
           1,
           1,
           1,
           1,
           1,
           1,
           1,
           1,
           1,
           1,
           1,
           1,
           1,
           1,
           1,
           1,
           1,
           1,
           1,
           1,
           1,
           1,
           1,
           1,
           1,
           1,
           1,
           1,
           1,
           1,
           1,
           1,
           1,
           1,
           1,
           1,
           1,
           1,
           1,
           1,
           1,
           1,
           1,
           1,
           1,
           1,
           1,
           1,
           1,
           2,
           1,
           1,
           1,
           1,
           1,
           1,
           1,
           1,
           1,
           1,
           1,
           1,
           1,
           1,
           1,
           1,
           1,
           1,
           1,
           1,
           1,
           1,
           1,
           1,
           1,
           2,
           1,
           1,
           1,
           1,
           1,
           1,
           1,
           1,
           1,
           1,
           1,
           1,
           1,
           1,
           1,
           1,
           1,
           1,
           1,
           1,
           1,
           1,
           1,
           1,
           1,
           1,
           1,
           1,
           1,
           1,
           1,
           1,
           1,
           1,
           1,
           1,
           1,
           1,
           1,
           1,
           1,
           1,
           1,
           1,
           1,
           1,
           1,
           1,
           1,
           1,
           1,
           1,
           1,
           1,
           1,
           1,
           1,
           1,
           1,
           1,
           1,
           1,
           1,
           1,
           1,
           1,
           1,
           1,
           1,
           1,
           1,
           1,
           1,
           2,
           1,
           2,
           1,
           1,
           1,
           1,
           1,
           1,
           1,
           1,
           1,
           1,
           1,
           1,
           1,
           1,
           1,
           1,
           1,
           1,
           1,
           1,
           1,
           1,
           1,
           1,
           1,
           1,
           1,
           1,
           1,
           1,
           1,
           1,
           1,
           1,
           1,
           1,
           1,
           1,
           1,
           1,
           3,
           1,
           1,
           1,
           1,
           1,
           1,
           1,
           1,
           1,
           1,
           1,
           1,
           1,
           1,
           2,
           1,
           1,
           1,
           1,
           1,
           1,
           1,
           1,
           1,
           1,
           1,
           1,
           1,
           1,
           1,
           1,
           1,
           1,
           1,
           1,
           1,
           1,
           1,
           1,
           2,
           1,
           1,
           1,
           1,
           1,
           1,
           1,
           1,
           1,
           1,
           1,
           1,
           1,
           1,
           3,
           1,
           1,
           1,
           1,
           1,
           1,
           1,
           1,
           1,
           1,
           1,
           1,
           2,
           1,
           1,
           1,
           1,
           1,
           1,
           1,
           1,
           1,
           1,
           1,
           1,
           1,
           1,
           1,
           1,
           1,
           1,
           1,
           1,
           1,
           1,
           1,
           1,
           1,
           1,
           1,
           1,
           1,
           1,
           1,
           1,
           1,
           1,
           1,
           1,
           1,
           1,
           1,
           1,
           1,
           1,
           1,
           1,
           1,
           1,
           1,
           1,
           1,
           1,
           1,
           1,
           1,
           1,
           1,
           1,
           1,
           1,
           1,
           1,
           1,
           1,
           1,
           1,
           1,
           1,
           1,
           1,
           1,
           1,
           1,
           1,
           1,
           1,
           1,
           1,
           1,
           1,
           1,
           1,
           1,
           1,
           1,
           1,
           1,
           1,
           1,
           1,
           1,
           1,
           1,
           1,
           1,
           1,
           1,
           1,
           1,
           1,
           1,
           1,
           1,
           1,
           1,
           1,
           1,
           1,
           1,
           1,
           1,
           1,
           1,
           1,
           1,
           1,
           1,
           1,
           1,
           1,
           1,
           1,
           1,
           1,
           1,
           1,
           1,
           1,
           1,
           1,
           1,
           1,
           1,
           1,
           1,
           1,
           1,
           1,
           1,
           1,
           1,
           1,
           1,
           1,
           1,
           1,
           1,
           1,
           1,
           1,
           1,
           1,
           1,
           1,
           1,
           1,
           1,
           1,
           1,
           1,
           1,
           1,
           1,
           1,
           1,
           1,
           1,
           1,
           1,
           1,
           1,
           1,
           1,
           1,
           1,
           1,
           2,
           1,
           1,
           1,
           2,
           1,
           1,
           1,
           1,
           1,
           1,
           1,
           1,
           1,
           1,
           1,
           1,
           1,
           1,
           1,
           1,
           1,
           1,
           1,
           1,
           1,
           1,
           1,
           1,
           1,
           1,
           1,
           1,
           1,
           1,
           2,
           1,
           1,
           1,
           1,
           1,
           1,
           1,
           1,
           1,
           1,
           2,
           1,
           3,
           1,
           1,
           1,
           1,
           1,
           1,
           1,
           1,
           1,
           1,
           1,
           1,
           1,
           1,
           1,
           1,
           1,
           1,
           1,
           1,
           1,
           1,
           1,
           1,
           1,
           1,
           1,
           1,
           1,
           1,
           1,
           2,
           1,
           1,
           1,
           1,
           1,
           1,
           1,
           1,
           1,
           1,
           1,
           1,
           1,
           1,
           1,
           1,
           1,
           1,
           1,
           1,
           1,
           1,
           1,
           1,
           1,
           1,
           1,
           1,
           1,
           1,
           1,
           1,
           1,
           1,
           1,
           1,
           1,
           1,
           1,
           1,
           1,
           1,
           1,
           1,
           1,
           1,
           1,
           1,
           1,
           1,
           1,
           1,
           2,
           1,
           2,
           1,
           1,
           1,
           1,
           1,
           1,
           1,
           1,
           1,
           1,
           1,
           1,
           1,
           1,
           1,
           1,
           1,
           1,
           1,
           1,
           1,
           1,
           1,
           1,
           1,
           1,
           1,
           1,
           2,
           1,
           1,
           1,
           1,
           1,
           1,
           1,
           1,
           1,
           1,
           1,
           1,
           1,
           1,
           1,
           1,
           1,
           1,
           1,
           1,
           1,
           1,
           1,
           1,
           1,
           1,
           1,
           1,
           1,
           1,
           1,
           1,
           1,
           1,
           1,
           1,
           1,
           1,
           1,
           1,
           1,
           1,
           1,
           1,
           1,
           1,
           1,
           1,
           1,
           1,
           1,
           1,
           1,
           1,
           1,
           1,
           1,
           1,
           1,
           1,
           1,
           1,
           1,
           1,
           1,
           1,
           1,
           1,
           1,
           1,
           1,
           1,
           1,
           1,
           1,
           1,
           1,
           1,
           1,
           1,
           1,
           1,
           1,
           1,
           1,
           1,
           1,
           1,
           1,
           1,
           1,
           1,
           1,
           1,
           2,
           1,
           1,
           1,
           1,
           1,
           1,
           1,
           1,
           1,
           1,
           1,
           1,
           1,
           1,
           1,
           1,
           1,
           1,
           1,
           1,
           1,
           1,
           1,
           1,
           1,
           1,
           1,
           1,
           1,
           1,
           1,
           1,
           2,
           1,
           1,
           1,
           2,
           1,
           1,
           1,
           1,
           1,
           1,
           1,
           1,
           1,
           1,
           1,
           1,
           1,
           1,
           1,
           1,
           1,
           1,
           1,
           1,
           1,
           1,
           1,
           1,
           1,
           1,
           1,
           2,
           1,
           1,
           1,
           1,
           1,
           1,
           1,
           1,
           1,
           1,
           1,
           1,
           1,
           1,
           1,
           1,
           1,
           1,
           1,
           1,
           1,
           1,
           1,
           1,
           1,
           1,
           1,
           1,
           1,
           1,
           1,
           1,
           1,
           1,
           2,
           1,
           1,
           1,
           1,
           1,
           1,
           1,
           1,
           1,
           1,
           1,
           1,
           1,
           1,
           1,
           1,
           1,
           1,
           1,
           1,
           1,
           2,
           1,
           1,
           1,
           1,
           1,
           1,
           1,
           1,
           1,
           1,
           1,
           1,
           1,
           2,
           1,
           1,
           1,
           1,
           1,
           1,
           1,
           1,
           1,
           1,
           1,
           1,
           1,
           1,
           1,
           1,
           1,
           1,
           1,
           1,
           1,
           1,
           1,
           1,
           1,
           1,
           2,
           1,
           1,
           1,
           1,
           2,
           1,
           1,
           1,
           1,
           1,
           1,
           1,
           1,
           1,
           1,
           1,
           1,
           1,
           1,
           1,
           2,
           1,
           1,
           1,
           1,
           1,
           1,
           1,
           1,
           1,
           1,
           1,
           1,
           1,
           1,
           1,
           1,
           1,
           1,
           1,
           1,
           1,
           1,
           1,
           1,
           1,
           1,
           1,
           1,
           1,
           1,
           1,
           1,
           1,
           2,
           1,
           1,
           1,
           1,
           1,
           1,
           1,
           1,
           1,
           1,
           1,
           1,
           1,
           2,
           1,
           1,
           1,
           1,
           1,
           1,
           1,
           1,
           1,
           1,
           2,
           1,
           1,
           1,
           1,
           1,
           1,
           1,
           1,
           1,
           1,
           1,
           1,
           1,
           1,
           1,
           1,
           1,
           1,
           1,
           1,
           1,
           1,
           1,
           1,
           1,
           1,
           1,
           1,
           1,
           1,
           1,
           1,
           1,
           1,
           1,
           1,
           1,
           1,
           1,
           1,
           1,
           1,
           1,
           1,
           1,
           1,
           1,
           1,
           1,
           1,
           1,
           1
          ],
          "colorscale": [
           [
            0,
            "#313131"
           ],
           [
            0.0625,
            "#3d019d"
           ],
           [
            0.125,
            "#3810dc"
           ],
           [
            0.1875,
            "#2d47f9"
           ],
           [
            0.25,
            "#2593ff"
           ],
           [
            0.3125,
            "#2adef6"
           ],
           [
            0.375,
            "#60fdfa"
           ],
           [
            0.4375,
            "#aefdff"
           ],
           [
            0.5,
            "#f3f3f1"
           ],
           [
            0.5625,
            "#fffda9"
           ],
           [
            0.625,
            "#fafd5b"
           ],
           [
            0.6875,
            "#f7da29"
           ],
           [
            0.75,
            "#ff8e25"
           ],
           [
            0.8125,
            "#f8432d"
           ],
           [
            0.875,
            "#d90d39"
           ],
           [
            0.9375,
            "#97023d"
           ],
           [
            1,
            "#313131"
           ]
          ],
          "opacity": 0.8,
          "showscale": true,
          "size": [
           1,
           1,
           1,
           1,
           1,
           1,
           1,
           1,
           1,
           1,
           1,
           1,
           1,
           1,
           1,
           1,
           1,
           1,
           1,
           1,
           1,
           1,
           1,
           1,
           1,
           1,
           1,
           1,
           1,
           1,
           1,
           2,
           1,
           1,
           1,
           1,
           1,
           1,
           1,
           1,
           1,
           1,
           1,
           1,
           1,
           1,
           1,
           1,
           1,
           1,
           2,
           1,
           1,
           1,
           1,
           2,
           1,
           1,
           1,
           1,
           1,
           1,
           1,
           1,
           2,
           1,
           1,
           1,
           1,
           1,
           1,
           1,
           1,
           1,
           1,
           1,
           1,
           1,
           1,
           1,
           1,
           1,
           1,
           1,
           1,
           1,
           1,
           1,
           1,
           1,
           1,
           1,
           1,
           1,
           1,
           1,
           1,
           1,
           1,
           1,
           1,
           1,
           1,
           1,
           1,
           1,
           1,
           1,
           1,
           1,
           1,
           1,
           1,
           2,
           1,
           1,
           1,
           5,
           3,
           2,
           1,
           2,
           1,
           1,
           1,
           1,
           1,
           1,
           1,
           1,
           1,
           1,
           1,
           1,
           1,
           1,
           1,
           1,
           1,
           1,
           1,
           1,
           1,
           1,
           1,
           1,
           1,
           1,
           1,
           1,
           1,
           1,
           1,
           1,
           1,
           1,
           1,
           1,
           1,
           1,
           1,
           1,
           1,
           1,
           1,
           1,
           1,
           1,
           1,
           1,
           1,
           1,
           1,
           1,
           1,
           1,
           1,
           1,
           1,
           1,
           1,
           1,
           1,
           1,
           1,
           1,
           1,
           1,
           1,
           1,
           1,
           1,
           1,
           1,
           1,
           1,
           1,
           1,
           1,
           2,
           1,
           1,
           1,
           1,
           1,
           1,
           1,
           1,
           1,
           1,
           1,
           1,
           1,
           1,
           1,
           1,
           1,
           1,
           1,
           1,
           1,
           1,
           1,
           1,
           1,
           2,
           1,
           1,
           1,
           1,
           1,
           1,
           1,
           1,
           1,
           1,
           1,
           1,
           1,
           1,
           1,
           1,
           1,
           1,
           1,
           1,
           1,
           1,
           1,
           1,
           1,
           1,
           1,
           1,
           1,
           1,
           1,
           1,
           1,
           1,
           1,
           1,
           1,
           1,
           1,
           1,
           1,
           1,
           1,
           1,
           1,
           1,
           1,
           1,
           1,
           1,
           1,
           1,
           1,
           1,
           1,
           1,
           1,
           1,
           1,
           1,
           1,
           1,
           1,
           1,
           1,
           1,
           1,
           1,
           1,
           1,
           1,
           1,
           1,
           2,
           1,
           2,
           1,
           1,
           1,
           1,
           1,
           1,
           1,
           1,
           1,
           1,
           1,
           1,
           1,
           1,
           1,
           1,
           1,
           1,
           1,
           1,
           1,
           1,
           1,
           1,
           1,
           1,
           1,
           1,
           1,
           1,
           1,
           1,
           1,
           1,
           1,
           1,
           1,
           1,
           1,
           1,
           3,
           1,
           1,
           1,
           1,
           1,
           1,
           1,
           1,
           1,
           1,
           1,
           1,
           1,
           1,
           2,
           1,
           1,
           1,
           1,
           1,
           1,
           1,
           1,
           1,
           1,
           1,
           1,
           1,
           1,
           1,
           1,
           1,
           1,
           1,
           1,
           1,
           1,
           1,
           1,
           2,
           1,
           1,
           1,
           1,
           1,
           1,
           1,
           1,
           1,
           1,
           1,
           1,
           1,
           1,
           3,
           1,
           1,
           1,
           1,
           1,
           1,
           1,
           1,
           1,
           1,
           1,
           1,
           2,
           1,
           1,
           1,
           1,
           1,
           1,
           1,
           1,
           1,
           1,
           1,
           1,
           1,
           1,
           1,
           1,
           1,
           1,
           1,
           1,
           1,
           1,
           1,
           1,
           1,
           1,
           1,
           1,
           1,
           1,
           1,
           1,
           1,
           1,
           1,
           1,
           1,
           1,
           1,
           1,
           1,
           1,
           1,
           1,
           1,
           1,
           1,
           1,
           1,
           1,
           1,
           1,
           1,
           1,
           1,
           1,
           1,
           1,
           1,
           1,
           1,
           1,
           1,
           1,
           1,
           1,
           1,
           1,
           1,
           1,
           1,
           1,
           1,
           1,
           1,
           1,
           1,
           1,
           1,
           1,
           1,
           1,
           1,
           1,
           1,
           1,
           1,
           1,
           1,
           1,
           1,
           1,
           1,
           1,
           1,
           1,
           1,
           1,
           1,
           1,
           1,
           1,
           1,
           1,
           1,
           1,
           1,
           1,
           1,
           1,
           1,
           1,
           1,
           1,
           1,
           1,
           1,
           1,
           1,
           1,
           1,
           1,
           1,
           1,
           1,
           1,
           1,
           1,
           1,
           1,
           1,
           1,
           1,
           1,
           1,
           1,
           1,
           1,
           1,
           1,
           1,
           1,
           1,
           1,
           1,
           1,
           1,
           1,
           1,
           1,
           1,
           1,
           1,
           1,
           1,
           1,
           1,
           1,
           1,
           1,
           1,
           1,
           1,
           1,
           1,
           1,
           1,
           1,
           1,
           1,
           1,
           1,
           1,
           1,
           2,
           1,
           1,
           1,
           2,
           1,
           1,
           1,
           1,
           1,
           1,
           1,
           1,
           1,
           1,
           1,
           1,
           1,
           1,
           1,
           1,
           1,
           1,
           1,
           1,
           1,
           1,
           1,
           1,
           1,
           1,
           1,
           1,
           1,
           1,
           2,
           1,
           1,
           1,
           1,
           1,
           1,
           1,
           1,
           1,
           1,
           2,
           1,
           3,
           1,
           1,
           1,
           1,
           1,
           1,
           1,
           1,
           1,
           1,
           1,
           1,
           1,
           1,
           1,
           1,
           1,
           1,
           1,
           1,
           1,
           1,
           1,
           1,
           1,
           1,
           1,
           1,
           1,
           1,
           1,
           2,
           1,
           1,
           1,
           1,
           1,
           1,
           1,
           1,
           1,
           1,
           1,
           1,
           1,
           1,
           1,
           1,
           1,
           1,
           1,
           1,
           1,
           1,
           1,
           1,
           1,
           1,
           1,
           1,
           1,
           1,
           1,
           1,
           1,
           1,
           1,
           1,
           1,
           1,
           1,
           1,
           1,
           1,
           1,
           1,
           1,
           1,
           1,
           1,
           1,
           1,
           1,
           1,
           2,
           1,
           2,
           1,
           1,
           1,
           1,
           1,
           1,
           1,
           1,
           1,
           1,
           1,
           1,
           1,
           1,
           1,
           1,
           1,
           1,
           1,
           1,
           1,
           1,
           1,
           1,
           1,
           1,
           1,
           1,
           2,
           1,
           1,
           1,
           1,
           1,
           1,
           1,
           1,
           1,
           1,
           1,
           1,
           1,
           1,
           1,
           1,
           1,
           1,
           1,
           1,
           1,
           1,
           1,
           1,
           1,
           1,
           1,
           1,
           1,
           1,
           1,
           1,
           1,
           1,
           1,
           1,
           1,
           1,
           1,
           1,
           1,
           1,
           1,
           1,
           1,
           1,
           1,
           1,
           1,
           1,
           1,
           1,
           1,
           1,
           1,
           1,
           1,
           1,
           1,
           1,
           1,
           1,
           1,
           1,
           1,
           1,
           1,
           1,
           1,
           1,
           1,
           1,
           1,
           1,
           1,
           1,
           1,
           1,
           1,
           1,
           1,
           1,
           1,
           1,
           1,
           1,
           1,
           1,
           1,
           1,
           1,
           1,
           1,
           1,
           2,
           1,
           1,
           1,
           1,
           1,
           1,
           1,
           1,
           1,
           1,
           1,
           1,
           1,
           1,
           1,
           1,
           1,
           1,
           1,
           1,
           1,
           1,
           1,
           1,
           1,
           1,
           1,
           1,
           1,
           1,
           1,
           1,
           2,
           1,
           1,
           1,
           2,
           1,
           1,
           1,
           1,
           1,
           1,
           1,
           1,
           1,
           1,
           1,
           1,
           1,
           1,
           1,
           1,
           1,
           1,
           1,
           1,
           1,
           1,
           1,
           1,
           1,
           1,
           1,
           2,
           1,
           1,
           1,
           1,
           1,
           1,
           1,
           1,
           1,
           1,
           1,
           1,
           1,
           1,
           1,
           1,
           1,
           1,
           1,
           1,
           1,
           1,
           1,
           1,
           1,
           1,
           1,
           1,
           1,
           1,
           1,
           1,
           1,
           1,
           2,
           1,
           1,
           1,
           1,
           1,
           1,
           1,
           1,
           1,
           1,
           1,
           1,
           1,
           1,
           1,
           1,
           1,
           1,
           1,
           1,
           1,
           2,
           1,
           1,
           1,
           1,
           1,
           1,
           1,
           1,
           1,
           1,
           1,
           1,
           1,
           2,
           1,
           1,
           1,
           1,
           1,
           1,
           1,
           1,
           1,
           1,
           1,
           1,
           1,
           1,
           1,
           1,
           1,
           1,
           1,
           1,
           1,
           1,
           1,
           1,
           1,
           1,
           2,
           1,
           1,
           1,
           1,
           2,
           1,
           1,
           1,
           1,
           1,
           1,
           1,
           1,
           1,
           1,
           1,
           1,
           1,
           1,
           1,
           2,
           1,
           1,
           1,
           1,
           1,
           1,
           1,
           1,
           1,
           1,
           1,
           1,
           1,
           1,
           1,
           1,
           1,
           1,
           1,
           1,
           1,
           1,
           1,
           1,
           1,
           1,
           1,
           1,
           1,
           1,
           1,
           1,
           1,
           2,
           1,
           1,
           1,
           1,
           1,
           1,
           1,
           1,
           1,
           1,
           1,
           1,
           1,
           2,
           1,
           1,
           1,
           1,
           1,
           1,
           1,
           1,
           1,
           1,
           2,
           1,
           1,
           1,
           1,
           1,
           1,
           1,
           1,
           1,
           1,
           1,
           1,
           1,
           1,
           1,
           1,
           1,
           1,
           1,
           1,
           1,
           1,
           1,
           1,
           1,
           1,
           1,
           1,
           1,
           1,
           1,
           1,
           1,
           1,
           1,
           1,
           1,
           1,
           1,
           1,
           1,
           1,
           1,
           1,
           1,
           1,
           1,
           1,
           1,
           1,
           1,
           1
          ],
          "sizemode": "area"
         },
         "mode": "markers+text",
         "type": "scattermapbox"
        }
       ],
       "layout": {
        "autosize": true,
        "hovermode": "x",
        "mapbox": {},
        "margin": {
         "b": 0,
         "l": 0,
         "r": 0,
         "t": 0
        },
        "showlegend": true,
        "template": {
         "data": {
          "bar": [
           {
            "error_x": {
             "color": "#2a3f5f"
            },
            "error_y": {
             "color": "#2a3f5f"
            },
            "marker": {
             "line": {
              "color": "#E5ECF6",
              "width": 0.5
             },
             "pattern": {
              "fillmode": "overlay",
              "size": 10,
              "solidity": 0.2
             }
            },
            "type": "bar"
           }
          ],
          "barpolar": [
           {
            "marker": {
             "line": {
              "color": "#E5ECF6",
              "width": 0.5
             },
             "pattern": {
              "fillmode": "overlay",
              "size": 10,
              "solidity": 0.2
             }
            },
            "type": "barpolar"
           }
          ],
          "carpet": [
           {
            "aaxis": {
             "endlinecolor": "#2a3f5f",
             "gridcolor": "white",
             "linecolor": "white",
             "minorgridcolor": "white",
             "startlinecolor": "#2a3f5f"
            },
            "baxis": {
             "endlinecolor": "#2a3f5f",
             "gridcolor": "white",
             "linecolor": "white",
             "minorgridcolor": "white",
             "startlinecolor": "#2a3f5f"
            },
            "type": "carpet"
           }
          ],
          "choropleth": [
           {
            "colorbar": {
             "outlinewidth": 0,
             "ticks": ""
            },
            "type": "choropleth"
           }
          ],
          "contour": [
           {
            "colorbar": {
             "outlinewidth": 0,
             "ticks": ""
            },
            "colorscale": [
             [
              0,
              "#0d0887"
             ],
             [
              0.1111111111111111,
              "#46039f"
             ],
             [
              0.2222222222222222,
              "#7201a8"
             ],
             [
              0.3333333333333333,
              "#9c179e"
             ],
             [
              0.4444444444444444,
              "#bd3786"
             ],
             [
              0.5555555555555556,
              "#d8576b"
             ],
             [
              0.6666666666666666,
              "#ed7953"
             ],
             [
              0.7777777777777778,
              "#fb9f3a"
             ],
             [
              0.8888888888888888,
              "#fdca26"
             ],
             [
              1,
              "#f0f921"
             ]
            ],
            "type": "contour"
           }
          ],
          "contourcarpet": [
           {
            "colorbar": {
             "outlinewidth": 0,
             "ticks": ""
            },
            "type": "contourcarpet"
           }
          ],
          "heatmap": [
           {
            "colorbar": {
             "outlinewidth": 0,
             "ticks": ""
            },
            "colorscale": [
             [
              0,
              "#0d0887"
             ],
             [
              0.1111111111111111,
              "#46039f"
             ],
             [
              0.2222222222222222,
              "#7201a8"
             ],
             [
              0.3333333333333333,
              "#9c179e"
             ],
             [
              0.4444444444444444,
              "#bd3786"
             ],
             [
              0.5555555555555556,
              "#d8576b"
             ],
             [
              0.6666666666666666,
              "#ed7953"
             ],
             [
              0.7777777777777778,
              "#fb9f3a"
             ],
             [
              0.8888888888888888,
              "#fdca26"
             ],
             [
              1,
              "#f0f921"
             ]
            ],
            "type": "heatmap"
           }
          ],
          "heatmapgl": [
           {
            "colorbar": {
             "outlinewidth": 0,
             "ticks": ""
            },
            "colorscale": [
             [
              0,
              "#0d0887"
             ],
             [
              0.1111111111111111,
              "#46039f"
             ],
             [
              0.2222222222222222,
              "#7201a8"
             ],
             [
              0.3333333333333333,
              "#9c179e"
             ],
             [
              0.4444444444444444,
              "#bd3786"
             ],
             [
              0.5555555555555556,
              "#d8576b"
             ],
             [
              0.6666666666666666,
              "#ed7953"
             ],
             [
              0.7777777777777778,
              "#fb9f3a"
             ],
             [
              0.8888888888888888,
              "#fdca26"
             ],
             [
              1,
              "#f0f921"
             ]
            ],
            "type": "heatmapgl"
           }
          ],
          "histogram": [
           {
            "marker": {
             "pattern": {
              "fillmode": "overlay",
              "size": 10,
              "solidity": 0.2
             }
            },
            "type": "histogram"
           }
          ],
          "histogram2d": [
           {
            "colorbar": {
             "outlinewidth": 0,
             "ticks": ""
            },
            "colorscale": [
             [
              0,
              "#0d0887"
             ],
             [
              0.1111111111111111,
              "#46039f"
             ],
             [
              0.2222222222222222,
              "#7201a8"
             ],
             [
              0.3333333333333333,
              "#9c179e"
             ],
             [
              0.4444444444444444,
              "#bd3786"
             ],
             [
              0.5555555555555556,
              "#d8576b"
             ],
             [
              0.6666666666666666,
              "#ed7953"
             ],
             [
              0.7777777777777778,
              "#fb9f3a"
             ],
             [
              0.8888888888888888,
              "#fdca26"
             ],
             [
              1,
              "#f0f921"
             ]
            ],
            "type": "histogram2d"
           }
          ],
          "histogram2dcontour": [
           {
            "colorbar": {
             "outlinewidth": 0,
             "ticks": ""
            },
            "colorscale": [
             [
              0,
              "#0d0887"
             ],
             [
              0.1111111111111111,
              "#46039f"
             ],
             [
              0.2222222222222222,
              "#7201a8"
             ],
             [
              0.3333333333333333,
              "#9c179e"
             ],
             [
              0.4444444444444444,
              "#bd3786"
             ],
             [
              0.5555555555555556,
              "#d8576b"
             ],
             [
              0.6666666666666666,
              "#ed7953"
             ],
             [
              0.7777777777777778,
              "#fb9f3a"
             ],
             [
              0.8888888888888888,
              "#fdca26"
             ],
             [
              1,
              "#f0f921"
             ]
            ],
            "type": "histogram2dcontour"
           }
          ],
          "mesh3d": [
           {
            "colorbar": {
             "outlinewidth": 0,
             "ticks": ""
            },
            "type": "mesh3d"
           }
          ],
          "parcoords": [
           {
            "line": {
             "colorbar": {
              "outlinewidth": 0,
              "ticks": ""
             }
            },
            "type": "parcoords"
           }
          ],
          "pie": [
           {
            "automargin": true,
            "type": "pie"
           }
          ],
          "scatter": [
           {
            "marker": {
             "colorbar": {
              "outlinewidth": 0,
              "ticks": ""
             }
            },
            "type": "scatter"
           }
          ],
          "scatter3d": [
           {
            "line": {
             "colorbar": {
              "outlinewidth": 0,
              "ticks": ""
             }
            },
            "marker": {
             "colorbar": {
              "outlinewidth": 0,
              "ticks": ""
             }
            },
            "type": "scatter3d"
           }
          ],
          "scattercarpet": [
           {
            "marker": {
             "colorbar": {
              "outlinewidth": 0,
              "ticks": ""
             }
            },
            "type": "scattercarpet"
           }
          ],
          "scattergeo": [
           {
            "marker": {
             "colorbar": {
              "outlinewidth": 0,
              "ticks": ""
             }
            },
            "type": "scattergeo"
           }
          ],
          "scattergl": [
           {
            "marker": {
             "colorbar": {
              "outlinewidth": 0,
              "ticks": ""
             }
            },
            "type": "scattergl"
           }
          ],
          "scattermapbox": [
           {
            "marker": {
             "colorbar": {
              "outlinewidth": 0,
              "ticks": ""
             }
            },
            "type": "scattermapbox"
           }
          ],
          "scatterpolar": [
           {
            "marker": {
             "colorbar": {
              "outlinewidth": 0,
              "ticks": ""
             }
            },
            "type": "scatterpolar"
           }
          ],
          "scatterpolargl": [
           {
            "marker": {
             "colorbar": {
              "outlinewidth": 0,
              "ticks": ""
             }
            },
            "type": "scatterpolargl"
           }
          ],
          "scatterternary": [
           {
            "marker": {
             "colorbar": {
              "outlinewidth": 0,
              "ticks": ""
             }
            },
            "type": "scatterternary"
           }
          ],
          "surface": [
           {
            "colorbar": {
             "outlinewidth": 0,
             "ticks": ""
            },
            "colorscale": [
             [
              0,
              "#0d0887"
             ],
             [
              0.1111111111111111,
              "#46039f"
             ],
             [
              0.2222222222222222,
              "#7201a8"
             ],
             [
              0.3333333333333333,
              "#9c179e"
             ],
             [
              0.4444444444444444,
              "#bd3786"
             ],
             [
              0.5555555555555556,
              "#d8576b"
             ],
             [
              0.6666666666666666,
              "#ed7953"
             ],
             [
              0.7777777777777778,
              "#fb9f3a"
             ],
             [
              0.8888888888888888,
              "#fdca26"
             ],
             [
              1,
              "#f0f921"
             ]
            ],
            "type": "surface"
           }
          ],
          "table": [
           {
            "cells": {
             "fill": {
              "color": "#EBF0F8"
             },
             "line": {
              "color": "white"
             }
            },
            "header": {
             "fill": {
              "color": "#C8D4E3"
             },
             "line": {
              "color": "white"
             }
            },
            "type": "table"
           }
          ]
         },
         "layout": {
          "annotationdefaults": {
           "arrowcolor": "#2a3f5f",
           "arrowhead": 0,
           "arrowwidth": 1
          },
          "autotypenumbers": "strict",
          "coloraxis": {
           "colorbar": {
            "outlinewidth": 0,
            "ticks": ""
           }
          },
          "colorscale": {
           "diverging": [
            [
             0,
             "#8e0152"
            ],
            [
             0.1,
             "#c51b7d"
            ],
            [
             0.2,
             "#de77ae"
            ],
            [
             0.3,
             "#f1b6da"
            ],
            [
             0.4,
             "#fde0ef"
            ],
            [
             0.5,
             "#f7f7f7"
            ],
            [
             0.6,
             "#e6f5d0"
            ],
            [
             0.7,
             "#b8e186"
            ],
            [
             0.8,
             "#7fbc41"
            ],
            [
             0.9,
             "#4d9221"
            ],
            [
             1,
             "#276419"
            ]
           ],
           "sequential": [
            [
             0,
             "#0d0887"
            ],
            [
             0.1111111111111111,
             "#46039f"
            ],
            [
             0.2222222222222222,
             "#7201a8"
            ],
            [
             0.3333333333333333,
             "#9c179e"
            ],
            [
             0.4444444444444444,
             "#bd3786"
            ],
            [
             0.5555555555555556,
             "#d8576b"
            ],
            [
             0.6666666666666666,
             "#ed7953"
            ],
            [
             0.7777777777777778,
             "#fb9f3a"
            ],
            [
             0.8888888888888888,
             "#fdca26"
            ],
            [
             1,
             "#f0f921"
            ]
           ],
           "sequentialminus": [
            [
             0,
             "#0d0887"
            ],
            [
             0.1111111111111111,
             "#46039f"
            ],
            [
             0.2222222222222222,
             "#7201a8"
            ],
            [
             0.3333333333333333,
             "#9c179e"
            ],
            [
             0.4444444444444444,
             "#bd3786"
            ],
            [
             0.5555555555555556,
             "#d8576b"
            ],
            [
             0.6666666666666666,
             "#ed7953"
            ],
            [
             0.7777777777777778,
             "#fb9f3a"
            ],
            [
             0.8888888888888888,
             "#fdca26"
            ],
            [
             1,
             "#f0f921"
            ]
           ]
          },
          "colorway": [
           "#636efa",
           "#EF553B",
           "#00cc96",
           "#ab63fa",
           "#FFA15A",
           "#19d3f3",
           "#FF6692",
           "#B6E880",
           "#FF97FF",
           "#FECB52"
          ],
          "font": {
           "color": "#2a3f5f"
          },
          "geo": {
           "bgcolor": "white",
           "lakecolor": "white",
           "landcolor": "#E5ECF6",
           "showlakes": true,
           "showland": true,
           "subunitcolor": "white"
          },
          "hoverlabel": {
           "align": "left"
          },
          "hovermode": "closest",
          "mapbox": {
           "style": "light"
          },
          "paper_bgcolor": "white",
          "plot_bgcolor": "#E5ECF6",
          "polar": {
           "angularaxis": {
            "gridcolor": "white",
            "linecolor": "white",
            "ticks": ""
           },
           "bgcolor": "#E5ECF6",
           "radialaxis": {
            "gridcolor": "white",
            "linecolor": "white",
            "ticks": ""
           }
          },
          "scene": {
           "xaxis": {
            "backgroundcolor": "#E5ECF6",
            "gridcolor": "white",
            "gridwidth": 2,
            "linecolor": "white",
            "showbackground": true,
            "ticks": "",
            "zerolinecolor": "white"
           },
           "yaxis": {
            "backgroundcolor": "#E5ECF6",
            "gridcolor": "white",
            "gridwidth": 2,
            "linecolor": "white",
            "showbackground": true,
            "ticks": "",
            "zerolinecolor": "white"
           },
           "zaxis": {
            "backgroundcolor": "#E5ECF6",
            "gridcolor": "white",
            "gridwidth": 2,
            "linecolor": "white",
            "showbackground": true,
            "ticks": "",
            "zerolinecolor": "white"
           }
          },
          "shapedefaults": {
           "line": {
            "color": "#2a3f5f"
           }
          },
          "ternary": {
           "aaxis": {
            "gridcolor": "white",
            "linecolor": "white",
            "ticks": ""
           },
           "baxis": {
            "gridcolor": "white",
            "linecolor": "white",
            "ticks": ""
           },
           "bgcolor": "#E5ECF6",
           "caxis": {
            "gridcolor": "white",
            "linecolor": "white",
            "ticks": ""
           }
          },
          "title": {
           "x": 0.05
          },
          "xaxis": {
           "automargin": true,
           "gridcolor": "white",
           "linecolor": "white",
           "ticks": "",
           "title": {
            "standoff": 15
           },
           "zerolinecolor": "white",
           "zerolinewidth": 2
          },
          "yaxis": {
           "automargin": true,
           "gridcolor": "white",
           "linecolor": "white",
           "ticks": "",
           "title": {
            "standoff": 15
           },
           "zerolinecolor": "white",
           "zerolinewidth": 2
          }
         }
        }
       }
      },
      "text/html": [
       "<div>                            <div id=\"c564a015-2d57-4863-a529-a5c4122d1e76\" class=\"plotly-graph-div\" style=\"height:525px; width:100%;\"></div>            <script type=\"text/javascript\">                require([\"plotly\"], function(Plotly) {                    window.PLOTLYENV=window.PLOTLYENV || {};                                    if (document.getElementById(\"c564a015-2d57-4863-a529-a5c4122d1e76\")) {                    Plotly.newPlot(                        \"c564a015-2d57-4863-a529-a5c4122d1e76\",                        [{\"hoverinfo\":\"text\",\"hovertext\":[\"<b>Barrio<b>: Agronom\\u00eda<b><b>Cantidad de delitos<b>1<b>\",\"<b>Barrio<b>: Agronom\\u00eda<b><b>Cantidad de delitos<b>1<b>\",\"<b>Barrio<b>: Agronom\\u00eda<b><b>Cantidad de delitos<b>1<b>\",\"<b>Barrio<b>: Agronom\\u00eda<b><b>Cantidad de delitos<b>1<b>\",\"<b>Barrio<b>: Almagro<b><b>Cantidad de delitos<b>1<b>\",\"<b>Barrio<b>: Almagro<b><b>Cantidad de delitos<b>1<b>\",\"<b>Barrio<b>: Almagro<b><b>Cantidad de delitos<b>1<b>\",\"<b>Barrio<b>: Almagro<b><b>Cantidad de delitos<b>1<b>\",\"<b>Barrio<b>: Almagro<b><b>Cantidad de delitos<b>1<b>\",\"<b>Barrio<b>: Almagro<b><b>Cantidad de delitos<b>1<b>\",\"<b>Barrio<b>: Almagro<b><b>Cantidad de delitos<b>1<b>\",\"<b>Barrio<b>: Almagro<b><b>Cantidad de delitos<b>1<b>\",\"<b>Barrio<b>: Almagro<b><b>Cantidad de delitos<b>1<b>\",\"<b>Barrio<b>: Almagro<b><b>Cantidad de delitos<b>1<b>\",\"<b>Barrio<b>: Almagro<b><b>Cantidad de delitos<b>1<b>\",\"<b>Barrio<b>: Almagro<b><b>Cantidad de delitos<b>1<b>\",\"<b>Barrio<b>: Almagro<b><b>Cantidad de delitos<b>1<b>\",\"<b>Barrio<b>: Almagro<b><b>Cantidad de delitos<b>1<b>\",\"<b>Barrio<b>: Almagro<b><b>Cantidad de delitos<b>1<b>\",\"<b>Barrio<b>: Almagro<b><b>Cantidad de delitos<b>1<b>\",\"<b>Barrio<b>: Almagro<b><b>Cantidad de delitos<b>1<b>\",\"<b>Barrio<b>: Almagro<b><b>Cantidad de delitos<b>1<b>\",\"<b>Barrio<b>: Almagro<b><b>Cantidad de delitos<b>1<b>\",\"<b>Barrio<b>: Almagro<b><b>Cantidad de delitos<b>1<b>\",\"<b>Barrio<b>: Almagro<b><b>Cantidad de delitos<b>1<b>\",\"<b>Barrio<b>: Almagro<b><b>Cantidad de delitos<b>1<b>\",\"<b>Barrio<b>: Almagro<b><b>Cantidad de delitos<b>1<b>\",\"<b>Barrio<b>: Almagro<b><b>Cantidad de delitos<b>1<b>\",\"<b>Barrio<b>: Almagro<b><b>Cantidad de delitos<b>1<b>\",\"<b>Barrio<b>: Almagro<b><b>Cantidad de delitos<b>1<b>\",\"<b>Barrio<b>: Almagro<b><b>Cantidad de delitos<b>1<b>\",\"<b>Barrio<b>: Almagro<b><b>Cantidad de delitos<b>2<b>\",\"<b>Barrio<b>: Almagro<b><b>Cantidad de delitos<b>1<b>\",\"<b>Barrio<b>: Almagro<b><b>Cantidad de delitos<b>1<b>\",\"<b>Barrio<b>: Almagro<b><b>Cantidad de delitos<b>1<b>\",\"<b>Barrio<b>: Almagro<b><b>Cantidad de delitos<b>1<b>\",\"<b>Barrio<b>: Almagro<b><b>Cantidad de delitos<b>1<b>\",\"<b>Barrio<b>: Almagro<b><b>Cantidad de delitos<b>1<b>\",\"<b>Barrio<b>: Almagro<b><b>Cantidad de delitos<b>1<b>\",\"<b>Barrio<b>: Almagro<b><b>Cantidad de delitos<b>1<b>\",\"<b>Barrio<b>: Almagro<b><b>Cantidad de delitos<b>1<b>\",\"<b>Barrio<b>: Almagro<b><b>Cantidad de delitos<b>1<b>\",\"<b>Barrio<b>: Almagro<b><b>Cantidad de delitos<b>1<b>\",\"<b>Barrio<b>: Almagro<b><b>Cantidad de delitos<b>1<b>\",\"<b>Barrio<b>: Almagro<b><b>Cantidad de delitos<b>1<b>\",\"<b>Barrio<b>: Almagro<b><b>Cantidad de delitos<b>1<b>\",\"<b>Barrio<b>: Almagro<b><b>Cantidad de delitos<b>1<b>\",\"<b>Barrio<b>: Almagro<b><b>Cantidad de delitos<b>1<b>\",\"<b>Barrio<b>: Almagro<b><b>Cantidad de delitos<b>1<b>\",\"<b>Barrio<b>: Almagro<b><b>Cantidad de delitos<b>1<b>\",\"<b>Barrio<b>: Almagro<b><b>Cantidad de delitos<b>2<b>\",\"<b>Barrio<b>: Almagro<b><b>Cantidad de delitos<b>1<b>\",\"<b>Barrio<b>: Balvanera<b><b>Cantidad de delitos<b>1<b>\",\"<b>Barrio<b>: Balvanera<b><b>Cantidad de delitos<b>1<b>\",\"<b>Barrio<b>: Balvanera<b><b>Cantidad de delitos<b>1<b>\",\"<b>Barrio<b>: Balvanera<b><b>Cantidad de delitos<b>2<b>\",\"<b>Barrio<b>: Balvanera<b><b>Cantidad de delitos<b>1<b>\",\"<b>Barrio<b>: Balvanera<b><b>Cantidad de delitos<b>1<b>\",\"<b>Barrio<b>: Balvanera<b><b>Cantidad de delitos<b>1<b>\",\"<b>Barrio<b>: Balvanera<b><b>Cantidad de delitos<b>1<b>\",\"<b>Barrio<b>: Balvanera<b><b>Cantidad de delitos<b>1<b>\",\"<b>Barrio<b>: Balvanera<b><b>Cantidad de delitos<b>1<b>\",\"<b>Barrio<b>: Balvanera<b><b>Cantidad de delitos<b>1<b>\",\"<b>Barrio<b>: Balvanera<b><b>Cantidad de delitos<b>1<b>\",\"<b>Barrio<b>: Balvanera<b><b>Cantidad de delitos<b>2<b>\",\"<b>Barrio<b>: Balvanera<b><b>Cantidad de delitos<b>1<b>\",\"<b>Barrio<b>: Balvanera<b><b>Cantidad de delitos<b>1<b>\",\"<b>Barrio<b>: Balvanera<b><b>Cantidad de delitos<b>1<b>\",\"<b>Barrio<b>: Balvanera<b><b>Cantidad de delitos<b>1<b>\",\"<b>Barrio<b>: Balvanera<b><b>Cantidad de delitos<b>1<b>\",\"<b>Barrio<b>: Balvanera<b><b>Cantidad de delitos<b>1<b>\",\"<b>Barrio<b>: Balvanera<b><b>Cantidad de delitos<b>1<b>\",\"<b>Barrio<b>: Balvanera<b><b>Cantidad de delitos<b>1<b>\",\"<b>Barrio<b>: Balvanera<b><b>Cantidad de delitos<b>1<b>\",\"<b>Barrio<b>: Balvanera<b><b>Cantidad de delitos<b>1<b>\",\"<b>Barrio<b>: Balvanera<b><b>Cantidad de delitos<b>1<b>\",\"<b>Barrio<b>: Balvanera<b><b>Cantidad de delitos<b>1<b>\",\"<b>Barrio<b>: Balvanera<b><b>Cantidad de delitos<b>1<b>\",\"<b>Barrio<b>: Balvanera<b><b>Cantidad de delitos<b>1<b>\",\"<b>Barrio<b>: Balvanera<b><b>Cantidad de delitos<b>1<b>\",\"<b>Barrio<b>: Balvanera<b><b>Cantidad de delitos<b>1<b>\",\"<b>Barrio<b>: Balvanera<b><b>Cantidad de delitos<b>1<b>\",\"<b>Barrio<b>: Balvanera<b><b>Cantidad de delitos<b>1<b>\",\"<b>Barrio<b>: Balvanera<b><b>Cantidad de delitos<b>1<b>\",\"<b>Barrio<b>: Balvanera<b><b>Cantidad de delitos<b>1<b>\",\"<b>Barrio<b>: Balvanera<b><b>Cantidad de delitos<b>1<b>\",\"<b>Barrio<b>: Balvanera<b><b>Cantidad de delitos<b>1<b>\",\"<b>Barrio<b>: Balvanera<b><b>Cantidad de delitos<b>1<b>\",\"<b>Barrio<b>: Balvanera<b><b>Cantidad de delitos<b>1<b>\",\"<b>Barrio<b>: Balvanera<b><b>Cantidad de delitos<b>1<b>\",\"<b>Barrio<b>: Balvanera<b><b>Cantidad de delitos<b>1<b>\",\"<b>Barrio<b>: Balvanera<b><b>Cantidad de delitos<b>1<b>\",\"<b>Barrio<b>: Balvanera<b><b>Cantidad de delitos<b>1<b>\",\"<b>Barrio<b>: Balvanera<b><b>Cantidad de delitos<b>1<b>\",\"<b>Barrio<b>: Balvanera<b><b>Cantidad de delitos<b>1<b>\",\"<b>Barrio<b>: Balvanera<b><b>Cantidad de delitos<b>1<b>\",\"<b>Barrio<b>: Balvanera<b><b>Cantidad de delitos<b>1<b>\",\"<b>Barrio<b>: Balvanera<b><b>Cantidad de delitos<b>1<b>\",\"<b>Barrio<b>: Balvanera<b><b>Cantidad de delitos<b>1<b>\",\"<b>Barrio<b>: Balvanera<b><b>Cantidad de delitos<b>1<b>\",\"<b>Barrio<b>: Balvanera<b><b>Cantidad de delitos<b>1<b>\",\"<b>Barrio<b>: Balvanera<b><b>Cantidad de delitos<b>1<b>\",\"<b>Barrio<b>: Balvanera<b><b>Cantidad de delitos<b>1<b>\",\"<b>Barrio<b>: Balvanera<b><b>Cantidad de delitos<b>1<b>\",\"<b>Barrio<b>: Balvanera<b><b>Cantidad de delitos<b>1<b>\",\"<b>Barrio<b>: Balvanera<b><b>Cantidad de delitos<b>1<b>\",\"<b>Barrio<b>: Balvanera<b><b>Cantidad de delitos<b>1<b>\",\"<b>Barrio<b>: Balvanera<b><b>Cantidad de delitos<b>1<b>\",\"<b>Barrio<b>: Balvanera<b><b>Cantidad de delitos<b>1<b>\",\"<b>Barrio<b>: Balvanera<b><b>Cantidad de delitos<b>1<b>\",\"<b>Barrio<b>: Balvanera<b><b>Cantidad de delitos<b>1<b>\",\"<b>Barrio<b>: Balvanera<b><b>Cantidad de delitos<b>1<b>\",\"<b>Barrio<b>: Balvanera<b><b>Cantidad de delitos<b>1<b>\",\"<b>Barrio<b>: Balvanera<b><b>Cantidad de delitos<b>2<b>\",\"<b>Barrio<b>: Balvanera<b><b>Cantidad de delitos<b>1<b>\",\"<b>Barrio<b>: Balvanera<b><b>Cantidad de delitos<b>1<b>\",\"<b>Barrio<b>: Balvanera<b><b>Cantidad de delitos<b>1<b>\",\"<b>Barrio<b>: Balvanera<b><b>Cantidad de delitos<b>5<b>\",\"<b>Barrio<b>: Balvanera<b><b>Cantidad de delitos<b>3<b>\",\"<b>Barrio<b>: Balvanera<b><b>Cantidad de delitos<b>2<b>\",\"<b>Barrio<b>: Barracas<b><b>Cantidad de delitos<b>1<b>\",\"<b>Barrio<b>: Barracas<b><b>Cantidad de delitos<b>2<b>\",\"<b>Barrio<b>: Barracas<b><b>Cantidad de delitos<b>1<b>\",\"<b>Barrio<b>: Barracas<b><b>Cantidad de delitos<b>1<b>\",\"<b>Barrio<b>: Barracas<b><b>Cantidad de delitos<b>1<b>\",\"<b>Barrio<b>: Barracas<b><b>Cantidad de delitos<b>1<b>\",\"<b>Barrio<b>: Barracas<b><b>Cantidad de delitos<b>1<b>\",\"<b>Barrio<b>: Barracas<b><b>Cantidad de delitos<b>1<b>\",\"<b>Barrio<b>: Barracas<b><b>Cantidad de delitos<b>1<b>\",\"<b>Barrio<b>: Barracas<b><b>Cantidad de delitos<b>1<b>\",\"<b>Barrio<b>: Barracas<b><b>Cantidad de delitos<b>1<b>\",\"<b>Barrio<b>: Barracas<b><b>Cantidad de delitos<b>1<b>\",\"<b>Barrio<b>: Barracas<b><b>Cantidad de delitos<b>1<b>\",\"<b>Barrio<b>: Barracas<b><b>Cantidad de delitos<b>1<b>\",\"<b>Barrio<b>: Barracas<b><b>Cantidad de delitos<b>1<b>\",\"<b>Barrio<b>: Barracas<b><b>Cantidad de delitos<b>1<b>\",\"<b>Barrio<b>: Barracas<b><b>Cantidad de delitos<b>1<b>\",\"<b>Barrio<b>: Barracas<b><b>Cantidad de delitos<b>1<b>\",\"<b>Barrio<b>: Barracas<b><b>Cantidad de delitos<b>1<b>\",\"<b>Barrio<b>: Barracas<b><b>Cantidad de delitos<b>1<b>\",\"<b>Barrio<b>: Barracas<b><b>Cantidad de delitos<b>1<b>\",\"<b>Barrio<b>: Barracas<b><b>Cantidad de delitos<b>1<b>\",\"<b>Barrio<b>: Barracas<b><b>Cantidad de delitos<b>1<b>\",\"<b>Barrio<b>: Barracas<b><b>Cantidad de delitos<b>1<b>\",\"<b>Barrio<b>: Barracas<b><b>Cantidad de delitos<b>1<b>\",\"<b>Barrio<b>: Barracas<b><b>Cantidad de delitos<b>1<b>\",\"<b>Barrio<b>: Barracas<b><b>Cantidad de delitos<b>1<b>\",\"<b>Barrio<b>: Barracas<b><b>Cantidad de delitos<b>1<b>\",\"<b>Barrio<b>: Barracas<b><b>Cantidad de delitos<b>1<b>\",\"<b>Barrio<b>: Barracas<b><b>Cantidad de delitos<b>1<b>\",\"<b>Barrio<b>: Barracas<b><b>Cantidad de delitos<b>1<b>\",\"<b>Barrio<b>: Barracas<b><b>Cantidad de delitos<b>1<b>\",\"<b>Barrio<b>: Barracas<b><b>Cantidad de delitos<b>1<b>\",\"<b>Barrio<b>: Barracas<b><b>Cantidad de delitos<b>1<b>\",\"<b>Barrio<b>: Barracas<b><b>Cantidad de delitos<b>1<b>\",\"<b>Barrio<b>: Barracas<b><b>Cantidad de delitos<b>1<b>\",\"<b>Barrio<b>: Barracas<b><b>Cantidad de delitos<b>1<b>\",\"<b>Barrio<b>: Barracas<b><b>Cantidad de delitos<b>1<b>\",\"<b>Barrio<b>: Belgrano<b><b>Cantidad de delitos<b>1<b>\",\"<b>Barrio<b>: Belgrano<b><b>Cantidad de delitos<b>1<b>\",\"<b>Barrio<b>: Belgrano<b><b>Cantidad de delitos<b>1<b>\",\"<b>Barrio<b>: Belgrano<b><b>Cantidad de delitos<b>1<b>\",\"<b>Barrio<b>: Belgrano<b><b>Cantidad de delitos<b>1<b>\",\"<b>Barrio<b>: Belgrano<b><b>Cantidad de delitos<b>1<b>\",\"<b>Barrio<b>: Belgrano<b><b>Cantidad de delitos<b>1<b>\",\"<b>Barrio<b>: Belgrano<b><b>Cantidad de delitos<b>1<b>\",\"<b>Barrio<b>: Belgrano<b><b>Cantidad de delitos<b>1<b>\",\"<b>Barrio<b>: Belgrano<b><b>Cantidad de delitos<b>1<b>\",\"<b>Barrio<b>: Belgrano<b><b>Cantidad de delitos<b>1<b>\",\"<b>Barrio<b>: Belgrano<b><b>Cantidad de delitos<b>1<b>\",\"<b>Barrio<b>: Belgrano<b><b>Cantidad de delitos<b>1<b>\",\"<b>Barrio<b>: Belgrano<b><b>Cantidad de delitos<b>1<b>\",\"<b>Barrio<b>: Belgrano<b><b>Cantidad de delitos<b>1<b>\",\"<b>Barrio<b>: Belgrano<b><b>Cantidad de delitos<b>1<b>\",\"<b>Barrio<b>: Belgrano<b><b>Cantidad de delitos<b>1<b>\",\"<b>Barrio<b>: Belgrano<b><b>Cantidad de delitos<b>1<b>\",\"<b>Barrio<b>: Belgrano<b><b>Cantidad de delitos<b>1<b>\",\"<b>Barrio<b>: Belgrano<b><b>Cantidad de delitos<b>1<b>\",\"<b>Barrio<b>: Belgrano<b><b>Cantidad de delitos<b>1<b>\",\"<b>Barrio<b>: Belgrano<b><b>Cantidad de delitos<b>1<b>\",\"<b>Barrio<b>: Belgrano<b><b>Cantidad de delitos<b>1<b>\",\"<b>Barrio<b>: Belgrano<b><b>Cantidad de delitos<b>1<b>\",\"<b>Barrio<b>: Belgrano<b><b>Cantidad de delitos<b>1<b>\",\"<b>Barrio<b>: Belgrano<b><b>Cantidad de delitos<b>1<b>\",\"<b>Barrio<b>: Belgrano<b><b>Cantidad de delitos<b>1<b>\",\"<b>Barrio<b>: Belgrano<b><b>Cantidad de delitos<b>1<b>\",\"<b>Barrio<b>: Belgrano<b><b>Cantidad de delitos<b>1<b>\",\"<b>Barrio<b>: Belgrano<b><b>Cantidad de delitos<b>1<b>\",\"<b>Barrio<b>: Belgrano<b><b>Cantidad de delitos<b>1<b>\",\"<b>Barrio<b>: Belgrano<b><b>Cantidad de delitos<b>1<b>\",\"<b>Barrio<b>: Belgrano<b><b>Cantidad de delitos<b>1<b>\",\"<b>Barrio<b>: Belgrano<b><b>Cantidad de delitos<b>1<b>\",\"<b>Barrio<b>: Belgrano<b><b>Cantidad de delitos<b>1<b>\",\"<b>Barrio<b>: Belgrano<b><b>Cantidad de delitos<b>1<b>\",\"<b>Barrio<b>: Belgrano<b><b>Cantidad de delitos<b>1<b>\",\"<b>Barrio<b>: Belgrano<b><b>Cantidad de delitos<b>1<b>\",\"<b>Barrio<b>: Belgrano<b><b>Cantidad de delitos<b>1<b>\",\"<b>Barrio<b>: Belgrano<b><b>Cantidad de delitos<b>1<b>\",\"<b>Barrio<b>: Belgrano<b><b>Cantidad de delitos<b>1<b>\",\"<b>Barrio<b>: Belgrano<b><b>Cantidad de delitos<b>2<b>\",\"<b>Barrio<b>: Belgrano<b><b>Cantidad de delitos<b>1<b>\",\"<b>Barrio<b>: Belgrano<b><b>Cantidad de delitos<b>1<b>\",\"<b>Barrio<b>: Belgrano<b><b>Cantidad de delitos<b>1<b>\",\"<b>Barrio<b>: Boca<b><b>Cantidad de delitos<b>1<b>\",\"<b>Barrio<b>: Boca<b><b>Cantidad de delitos<b>1<b>\",\"<b>Barrio<b>: Boca<b><b>Cantidad de delitos<b>1<b>\",\"<b>Barrio<b>: Boca<b><b>Cantidad de delitos<b>1<b>\",\"<b>Barrio<b>: Boca<b><b>Cantidad de delitos<b>1<b>\",\"<b>Barrio<b>: Boca<b><b>Cantidad de delitos<b>1<b>\",\"<b>Barrio<b>: Boca<b><b>Cantidad de delitos<b>1<b>\",\"<b>Barrio<b>: Boca<b><b>Cantidad de delitos<b>1<b>\",\"<b>Barrio<b>: Boca<b><b>Cantidad de delitos<b>1<b>\",\"<b>Barrio<b>: Boca<b><b>Cantidad de delitos<b>1<b>\",\"<b>Barrio<b>: Boca<b><b>Cantidad de delitos<b>1<b>\",\"<b>Barrio<b>: Boca<b><b>Cantidad de delitos<b>1<b>\",\"<b>Barrio<b>: Boca<b><b>Cantidad de delitos<b>1<b>\",\"<b>Barrio<b>: Boedo<b><b>Cantidad de delitos<b>1<b>\",\"<b>Barrio<b>: Boedo<b><b>Cantidad de delitos<b>1<b>\",\"<b>Barrio<b>: Boedo<b><b>Cantidad de delitos<b>1<b>\",\"<b>Barrio<b>: Boedo<b><b>Cantidad de delitos<b>1<b>\",\"<b>Barrio<b>: Boedo<b><b>Cantidad de delitos<b>1<b>\",\"<b>Barrio<b>: Boedo<b><b>Cantidad de delitos<b>1<b>\",\"<b>Barrio<b>: Boedo<b><b>Cantidad de delitos<b>1<b>\",\"<b>Barrio<b>: Boedo<b><b>Cantidad de delitos<b>1<b>\",\"<b>Barrio<b>: Boedo<b><b>Cantidad de delitos<b>1<b>\",\"<b>Barrio<b>: Boedo<b><b>Cantidad de delitos<b>2<b>\",\"<b>Barrio<b>: Boedo<b><b>Cantidad de delitos<b>1<b>\",\"<b>Barrio<b>: Boedo<b><b>Cantidad de delitos<b>1<b>\",\"<b>Barrio<b>: Boedo<b><b>Cantidad de delitos<b>1<b>\",\"<b>Barrio<b>: Boedo<b><b>Cantidad de delitos<b>1<b>\",\"<b>Barrio<b>: Boedo<b><b>Cantidad de delitos<b>1<b>\",\"<b>Barrio<b>: Boedo<b><b>Cantidad de delitos<b>1<b>\",\"<b>Barrio<b>: Boedo<b><b>Cantidad de delitos<b>1<b>\",\"<b>Barrio<b>: Boedo<b><b>Cantidad de delitos<b>1<b>\",\"<b>Barrio<b>: Boedo<b><b>Cantidad de delitos<b>1<b>\",\"<b>Barrio<b>: Boedo<b><b>Cantidad de delitos<b>1<b>\",\"<b>Barrio<b>: Boedo<b><b>Cantidad de delitos<b>1<b>\",\"<b>Barrio<b>: Boedo<b><b>Cantidad de delitos<b>1<b>\",\"<b>Barrio<b>: Caballito<b><b>Cantidad de delitos<b>1<b>\",\"<b>Barrio<b>: Caballito<b><b>Cantidad de delitos<b>1<b>\",\"<b>Barrio<b>: Caballito<b><b>Cantidad de delitos<b>1<b>\",\"<b>Barrio<b>: Caballito<b><b>Cantidad de delitos<b>1<b>\",\"<b>Barrio<b>: Caballito<b><b>Cantidad de delitos<b>1<b>\",\"<b>Barrio<b>: Caballito<b><b>Cantidad de delitos<b>1<b>\",\"<b>Barrio<b>: Caballito<b><b>Cantidad de delitos<b>1<b>\",\"<b>Barrio<b>: Caballito<b><b>Cantidad de delitos<b>1<b>\",\"<b>Barrio<b>: Caballito<b><b>Cantidad de delitos<b>1<b>\",\"<b>Barrio<b>: Caballito<b><b>Cantidad de delitos<b>1<b>\",\"<b>Barrio<b>: Caballito<b><b>Cantidad de delitos<b>1<b>\",\"<b>Barrio<b>: Caballito<b><b>Cantidad de delitos<b>1<b>\",\"<b>Barrio<b>: Caballito<b><b>Cantidad de delitos<b>1<b>\",\"<b>Barrio<b>: Caballito<b><b>Cantidad de delitos<b>1<b>\",\"<b>Barrio<b>: Caballito<b><b>Cantidad de delitos<b>1<b>\",\"<b>Barrio<b>: Caballito<b><b>Cantidad de delitos<b>1<b>\",\"<b>Barrio<b>: Caballito<b><b>Cantidad de delitos<b>1<b>\",\"<b>Barrio<b>: Caballito<b><b>Cantidad de delitos<b>1<b>\",\"<b>Barrio<b>: Caballito<b><b>Cantidad de delitos<b>1<b>\",\"<b>Barrio<b>: Caballito<b><b>Cantidad de delitos<b>1<b>\",\"<b>Barrio<b>: Caballito<b><b>Cantidad de delitos<b>1<b>\",\"<b>Barrio<b>: Caballito<b><b>Cantidad de delitos<b>1<b>\",\"<b>Barrio<b>: Caballito<b><b>Cantidad de delitos<b>1<b>\",\"<b>Barrio<b>: Caballito<b><b>Cantidad de delitos<b>1<b>\",\"<b>Barrio<b>: Caballito<b><b>Cantidad de delitos<b>1<b>\",\"<b>Barrio<b>: Caballito<b><b>Cantidad de delitos<b>1<b>\",\"<b>Barrio<b>: Caballito<b><b>Cantidad de delitos<b>1<b>\",\"<b>Barrio<b>: Caballito<b><b>Cantidad de delitos<b>1<b>\",\"<b>Barrio<b>: Caballito<b><b>Cantidad de delitos<b>1<b>\",\"<b>Barrio<b>: Caballito<b><b>Cantidad de delitos<b>1<b>\",\"<b>Barrio<b>: Caballito<b><b>Cantidad de delitos<b>1<b>\",\"<b>Barrio<b>: Caballito<b><b>Cantidad de delitos<b>1<b>\",\"<b>Barrio<b>: Caballito<b><b>Cantidad de delitos<b>1<b>\",\"<b>Barrio<b>: Caballito<b><b>Cantidad de delitos<b>1<b>\",\"<b>Barrio<b>: Caballito<b><b>Cantidad de delitos<b>1<b>\",\"<b>Barrio<b>: Caballito<b><b>Cantidad de delitos<b>1<b>\",\"<b>Barrio<b>: Caballito<b><b>Cantidad de delitos<b>1<b>\",\"<b>Barrio<b>: Caballito<b><b>Cantidad de delitos<b>1<b>\",\"<b>Barrio<b>: Caballito<b><b>Cantidad de delitos<b>1<b>\",\"<b>Barrio<b>: Caballito<b><b>Cantidad de delitos<b>1<b>\",\"<b>Barrio<b>: Caballito<b><b>Cantidad de delitos<b>1<b>\",\"<b>Barrio<b>: Caballito<b><b>Cantidad de delitos<b>1<b>\",\"<b>Barrio<b>: Caballito<b><b>Cantidad de delitos<b>1<b>\",\"<b>Barrio<b>: Caballito<b><b>Cantidad de delitos<b>1<b>\",\"<b>Barrio<b>: Caballito<b><b>Cantidad de delitos<b>1<b>\",\"<b>Barrio<b>: Caballito<b><b>Cantidad de delitos<b>1<b>\",\"<b>Barrio<b>: Caballito<b><b>Cantidad de delitos<b>1<b>\",\"<b>Barrio<b>: Caballito<b><b>Cantidad de delitos<b>1<b>\",\"<b>Barrio<b>: Chacarita<b><b>Cantidad de delitos<b>1<b>\",\"<b>Barrio<b>: Chacarita<b><b>Cantidad de delitos<b>1<b>\",\"<b>Barrio<b>: Chacarita<b><b>Cantidad de delitos<b>1<b>\",\"<b>Barrio<b>: Chacarita<b><b>Cantidad de delitos<b>1<b>\",\"<b>Barrio<b>: Chacarita<b><b>Cantidad de delitos<b>1<b>\",\"<b>Barrio<b>: Chacarita<b><b>Cantidad de delitos<b>1<b>\",\"<b>Barrio<b>: Chacarita<b><b>Cantidad de delitos<b>1<b>\",\"<b>Barrio<b>: Chacarita<b><b>Cantidad de delitos<b>1<b>\",\"<b>Barrio<b>: Chacarita<b><b>Cantidad de delitos<b>1<b>\",\"<b>Barrio<b>: Chacarita<b><b>Cantidad de delitos<b>1<b>\",\"<b>Barrio<b>: Chacarita<b><b>Cantidad de delitos<b>1<b>\",\"<b>Barrio<b>: Chacarita<b><b>Cantidad de delitos<b>1<b>\",\"<b>Barrio<b>: Chacarita<b><b>Cantidad de delitos<b>1<b>\",\"<b>Barrio<b>: Chacarita<b><b>Cantidad de delitos<b>2<b>\",\"<b>Barrio<b>: Chacarita<b><b>Cantidad de delitos<b>1<b>\",\"<b>Barrio<b>: Chacarita<b><b>Cantidad de delitos<b>2<b>\",\"<b>Barrio<b>: Coghlan<b><b>Cantidad de delitos<b>1<b>\",\"<b>Barrio<b>: Coghlan<b><b>Cantidad de delitos<b>1<b>\",\"<b>Barrio<b>: Coghlan<b><b>Cantidad de delitos<b>1<b>\",\"<b>Barrio<b>: Coghlan<b><b>Cantidad de delitos<b>1<b>\",\"<b>Barrio<b>: Coghlan<b><b>Cantidad de delitos<b>1<b>\",\"<b>Barrio<b>: Colegiales<b><b>Cantidad de delitos<b>1<b>\",\"<b>Barrio<b>: Colegiales<b><b>Cantidad de delitos<b>1<b>\",\"<b>Barrio<b>: Colegiales<b><b>Cantidad de delitos<b>1<b>\",\"<b>Barrio<b>: Colegiales<b><b>Cantidad de delitos<b>1<b>\",\"<b>Barrio<b>: Colegiales<b><b>Cantidad de delitos<b>1<b>\",\"<b>Barrio<b>: Colegiales<b><b>Cantidad de delitos<b>1<b>\",\"<b>Barrio<b>: Colegiales<b><b>Cantidad de delitos<b>1<b>\",\"<b>Barrio<b>: Colegiales<b><b>Cantidad de delitos<b>1<b>\",\"<b>Barrio<b>: Colegiales<b><b>Cantidad de delitos<b>1<b>\",\"<b>Barrio<b>: Colegiales<b><b>Cantidad de delitos<b>1<b>\",\"<b>Barrio<b>: Colegiales<b><b>Cantidad de delitos<b>1<b>\",\"<b>Barrio<b>: Constituci\\u00f3n<b><b>Cantidad de delitos<b>1<b>\",\"<b>Barrio<b>: Constituci\\u00f3n<b><b>Cantidad de delitos<b>1<b>\",\"<b>Barrio<b>: Constituci\\u00f3n<b><b>Cantidad de delitos<b>1<b>\",\"<b>Barrio<b>: Constituci\\u00f3n<b><b>Cantidad de delitos<b>1<b>\",\"<b>Barrio<b>: Constituci\\u00f3n<b><b>Cantidad de delitos<b>1<b>\",\"<b>Barrio<b>: Constituci\\u00f3n<b><b>Cantidad de delitos<b>1<b>\",\"<b>Barrio<b>: Constituci\\u00f3n<b><b>Cantidad de delitos<b>1<b>\",\"<b>Barrio<b>: Constituci\\u00f3n<b><b>Cantidad de delitos<b>1<b>\",\"<b>Barrio<b>: Constituci\\u00f3n<b><b>Cantidad de delitos<b>1<b>\",\"<b>Barrio<b>: Constituci\\u00f3n<b><b>Cantidad de delitos<b>1<b>\",\"<b>Barrio<b>: Constituci\\u00f3n<b><b>Cantidad de delitos<b>1<b>\",\"<b>Barrio<b>: Constituci\\u00f3n<b><b>Cantidad de delitos<b>1<b>\",\"<b>Barrio<b>: Constituci\\u00f3n<b><b>Cantidad de delitos<b>1<b>\",\"<b>Barrio<b>: Constituci\\u00f3n<b><b>Cantidad de delitos<b>1<b>\",\"<b>Barrio<b>: Constituci\\u00f3n<b><b>Cantidad de delitos<b>1<b>\",\"<b>Barrio<b>: Constituci\\u00f3n<b><b>Cantidad de delitos<b>1<b>\",\"<b>Barrio<b>: Constituci\\u00f3n<b><b>Cantidad de delitos<b>1<b>\",\"<b>Barrio<b>: Constituci\\u00f3n<b><b>Cantidad de delitos<b>1<b>\",\"<b>Barrio<b>: Constituci\\u00f3n<b><b>Cantidad de delitos<b>1<b>\",\"<b>Barrio<b>: Constituci\\u00f3n<b><b>Cantidad de delitos<b>1<b>\",\"<b>Barrio<b>: Constituci\\u00f3n<b><b>Cantidad de delitos<b>1<b>\",\"<b>Barrio<b>: Constituci\\u00f3n<b><b>Cantidad de delitos<b>1<b>\",\"<b>Barrio<b>: Constituci\\u00f3n<b><b>Cantidad de delitos<b>1<b>\",\"<b>Barrio<b>: Constituci\\u00f3n<b><b>Cantidad de delitos<b>1<b>\",\"<b>Barrio<b>: Constituci\\u00f3n<b><b>Cantidad de delitos<b>3<b>\",\"<b>Barrio<b>: Constituci\\u00f3n<b><b>Cantidad de delitos<b>1<b>\",\"<b>Barrio<b>: Constituci\\u00f3n<b><b>Cantidad de delitos<b>1<b>\",\"<b>Barrio<b>: Constituci\\u00f3n<b><b>Cantidad de delitos<b>1<b>\",\"<b>Barrio<b>: Constituci\\u00f3n<b><b>Cantidad de delitos<b>1<b>\",\"<b>Barrio<b>: Constituci\\u00f3n<b><b>Cantidad de delitos<b>1<b>\",\"<b>Barrio<b>: Flores<b><b>Cantidad de delitos<b>1<b>\",\"<b>Barrio<b>: Flores<b><b>Cantidad de delitos<b>1<b>\",\"<b>Barrio<b>: Flores<b><b>Cantidad de delitos<b>1<b>\",\"<b>Barrio<b>: Flores<b><b>Cantidad de delitos<b>1<b>\",\"<b>Barrio<b>: Flores<b><b>Cantidad de delitos<b>1<b>\",\"<b>Barrio<b>: Flores<b><b>Cantidad de delitos<b>1<b>\",\"<b>Barrio<b>: Flores<b><b>Cantidad de delitos<b>1<b>\",\"<b>Barrio<b>: Flores<b><b>Cantidad de delitos<b>1<b>\",\"<b>Barrio<b>: Flores<b><b>Cantidad de delitos<b>1<b>\",\"<b>Barrio<b>: Flores<b><b>Cantidad de delitos<b>2<b>\",\"<b>Barrio<b>: Flores<b><b>Cantidad de delitos<b>1<b>\",\"<b>Barrio<b>: Flores<b><b>Cantidad de delitos<b>1<b>\",\"<b>Barrio<b>: Flores<b><b>Cantidad de delitos<b>1<b>\",\"<b>Barrio<b>: Flores<b><b>Cantidad de delitos<b>1<b>\",\"<b>Barrio<b>: Flores<b><b>Cantidad de delitos<b>1<b>\",\"<b>Barrio<b>: Flores<b><b>Cantidad de delitos<b>1<b>\",\"<b>Barrio<b>: Flores<b><b>Cantidad de delitos<b>1<b>\",\"<b>Barrio<b>: Flores<b><b>Cantidad de delitos<b>1<b>\",\"<b>Barrio<b>: Flores<b><b>Cantidad de delitos<b>1<b>\",\"<b>Barrio<b>: Flores<b><b>Cantidad de delitos<b>1<b>\",\"<b>Barrio<b>: Flores<b><b>Cantidad de delitos<b>1<b>\",\"<b>Barrio<b>: Flores<b><b>Cantidad de delitos<b>1<b>\",\"<b>Barrio<b>: Flores<b><b>Cantidad de delitos<b>1<b>\",\"<b>Barrio<b>: Flores<b><b>Cantidad de delitos<b>1<b>\",\"<b>Barrio<b>: Flores<b><b>Cantidad de delitos<b>1<b>\",\"<b>Barrio<b>: Flores<b><b>Cantidad de delitos<b>1<b>\",\"<b>Barrio<b>: Flores<b><b>Cantidad de delitos<b>1<b>\",\"<b>Barrio<b>: Flores<b><b>Cantidad de delitos<b>1<b>\",\"<b>Barrio<b>: Flores<b><b>Cantidad de delitos<b>1<b>\",\"<b>Barrio<b>: Flores<b><b>Cantidad de delitos<b>1<b>\",\"<b>Barrio<b>: Flores<b><b>Cantidad de delitos<b>1<b>\",\"<b>Barrio<b>: Flores<b><b>Cantidad de delitos<b>1<b>\",\"<b>Barrio<b>: Flores<b><b>Cantidad de delitos<b>1<b>\",\"<b>Barrio<b>: Flores<b><b>Cantidad de delitos<b>1<b>\",\"<b>Barrio<b>: Flores<b><b>Cantidad de delitos<b>2<b>\",\"<b>Barrio<b>: Flores<b><b>Cantidad de delitos<b>1<b>\",\"<b>Barrio<b>: Flores<b><b>Cantidad de delitos<b>1<b>\",\"<b>Barrio<b>: Flores<b><b>Cantidad de delitos<b>1<b>\",\"<b>Barrio<b>: Flores<b><b>Cantidad de delitos<b>1<b>\",\"<b>Barrio<b>: Flores<b><b>Cantidad de delitos<b>1<b>\",\"<b>Barrio<b>: Flores<b><b>Cantidad de delitos<b>1<b>\",\"<b>Barrio<b>: Flores<b><b>Cantidad de delitos<b>1<b>\",\"<b>Barrio<b>: Flores<b><b>Cantidad de delitos<b>1<b>\",\"<b>Barrio<b>: Flores<b><b>Cantidad de delitos<b>1<b>\",\"<b>Barrio<b>: Flores<b><b>Cantidad de delitos<b>1<b>\",\"<b>Barrio<b>: Flores<b><b>Cantidad de delitos<b>1<b>\",\"<b>Barrio<b>: Flores<b><b>Cantidad de delitos<b>1<b>\",\"<b>Barrio<b>: Flores<b><b>Cantidad de delitos<b>1<b>\",\"<b>Barrio<b>: Flores<b><b>Cantidad de delitos<b>1<b>\",\"<b>Barrio<b>: Flores<b><b>Cantidad de delitos<b>3<b>\",\"<b>Barrio<b>: Flores<b><b>Cantidad de delitos<b>1<b>\",\"<b>Barrio<b>: Flores<b><b>Cantidad de delitos<b>1<b>\",\"<b>Barrio<b>: Floresta<b><b>Cantidad de delitos<b>1<b>\",\"<b>Barrio<b>: Floresta<b><b>Cantidad de delitos<b>1<b>\",\"<b>Barrio<b>: Floresta<b><b>Cantidad de delitos<b>1<b>\",\"<b>Barrio<b>: Floresta<b><b>Cantidad de delitos<b>1<b>\",\"<b>Barrio<b>: Floresta<b><b>Cantidad de delitos<b>1<b>\",\"<b>Barrio<b>: Floresta<b><b>Cantidad de delitos<b>1<b>\",\"<b>Barrio<b>: Floresta<b><b>Cantidad de delitos<b>1<b>\",\"<b>Barrio<b>: Floresta<b><b>Cantidad de delitos<b>1<b>\",\"<b>Barrio<b>: Liniers<b><b>Cantidad de delitos<b>1<b>\",\"<b>Barrio<b>: Liniers<b><b>Cantidad de delitos<b>1<b>\",\"<b>Barrio<b>: Liniers<b><b>Cantidad de delitos<b>2<b>\",\"<b>Barrio<b>: Liniers<b><b>Cantidad de delitos<b>1<b>\",\"<b>Barrio<b>: Liniers<b><b>Cantidad de delitos<b>1<b>\",\"<b>Barrio<b>: Liniers<b><b>Cantidad de delitos<b>1<b>\",\"<b>Barrio<b>: Liniers<b><b>Cantidad de delitos<b>1<b>\",\"<b>Barrio<b>: Liniers<b><b>Cantidad de delitos<b>1<b>\",\"<b>Barrio<b>: Liniers<b><b>Cantidad de delitos<b>1<b>\",\"<b>Barrio<b>: Liniers<b><b>Cantidad de delitos<b>1<b>\",\"<b>Barrio<b>: Liniers<b><b>Cantidad de delitos<b>1<b>\",\"<b>Barrio<b>: Liniers<b><b>Cantidad de delitos<b>1<b>\",\"<b>Barrio<b>: Liniers<b><b>Cantidad de delitos<b>1<b>\",\"<b>Barrio<b>: Liniers<b><b>Cantidad de delitos<b>1<b>\",\"<b>Barrio<b>: Liniers<b><b>Cantidad de delitos<b>1<b>\",\"<b>Barrio<b>: Mataderos<b><b>Cantidad de delitos<b>1<b>\",\"<b>Barrio<b>: Mataderos<b><b>Cantidad de delitos<b>1<b>\",\"<b>Barrio<b>: Mataderos<b><b>Cantidad de delitos<b>1<b>\",\"<b>Barrio<b>: Mataderos<b><b>Cantidad de delitos<b>1<b>\",\"<b>Barrio<b>: Mataderos<b><b>Cantidad de delitos<b>1<b>\",\"<b>Barrio<b>: Mataderos<b><b>Cantidad de delitos<b>1<b>\",\"<b>Barrio<b>: Mataderos<b><b>Cantidad de delitos<b>1<b>\",\"<b>Barrio<b>: Mataderos<b><b>Cantidad de delitos<b>1<b>\",\"<b>Barrio<b>: Mataderos<b><b>Cantidad de delitos<b>1<b>\",\"<b>Barrio<b>: Mataderos<b><b>Cantidad de delitos<b>1<b>\",\"<b>Barrio<b>: Mataderos<b><b>Cantidad de delitos<b>1<b>\",\"<b>Barrio<b>: Mataderos<b><b>Cantidad de delitos<b>1<b>\",\"<b>Barrio<b>: Mataderos<b><b>Cantidad de delitos<b>1<b>\",\"<b>Barrio<b>: Mataderos<b><b>Cantidad de delitos<b>1<b>\",\"<b>Barrio<b>: Mataderos<b><b>Cantidad de delitos<b>1<b>\",\"<b>Barrio<b>: Mataderos<b><b>Cantidad de delitos<b>1<b>\",\"<b>Barrio<b>: Mataderos<b><b>Cantidad de delitos<b>1<b>\",\"<b>Barrio<b>: Mataderos<b><b>Cantidad de delitos<b>1<b>\",\"<b>Barrio<b>: Mataderos<b><b>Cantidad de delitos<b>1<b>\",\"<b>Barrio<b>: Mataderos<b><b>Cantidad de delitos<b>1<b>\",\"<b>Barrio<b>: Mataderos<b><b>Cantidad de delitos<b>1<b>\",\"<b>Barrio<b>: Mataderos<b><b>Cantidad de delitos<b>1<b>\",\"<b>Barrio<b>: Mataderos<b><b>Cantidad de delitos<b>1<b>\",\"<b>Barrio<b>: Monserrat<b><b>Cantidad de delitos<b>1<b>\",\"<b>Barrio<b>: Monserrat<b><b>Cantidad de delitos<b>1<b>\",\"<b>Barrio<b>: Monserrat<b><b>Cantidad de delitos<b>1<b>\",\"<b>Barrio<b>: Monserrat<b><b>Cantidad de delitos<b>1<b>\",\"<b>Barrio<b>: Monserrat<b><b>Cantidad de delitos<b>1<b>\",\"<b>Barrio<b>: Monserrat<b><b>Cantidad de delitos<b>1<b>\",\"<b>Barrio<b>: Monserrat<b><b>Cantidad de delitos<b>1<b>\",\"<b>Barrio<b>: Monserrat<b><b>Cantidad de delitos<b>1<b>\",\"<b>Barrio<b>: Monserrat<b><b>Cantidad de delitos<b>1<b>\",\"<b>Barrio<b>: Monserrat<b><b>Cantidad de delitos<b>1<b>\",\"<b>Barrio<b>: Monserrat<b><b>Cantidad de delitos<b>1<b>\",\"<b>Barrio<b>: Monserrat<b><b>Cantidad de delitos<b>1<b>\",\"<b>Barrio<b>: Monserrat<b><b>Cantidad de delitos<b>1<b>\",\"<b>Barrio<b>: Monserrat<b><b>Cantidad de delitos<b>1<b>\",\"<b>Barrio<b>: Monserrat<b><b>Cantidad de delitos<b>1<b>\",\"<b>Barrio<b>: Monserrat<b><b>Cantidad de delitos<b>1<b>\",\"<b>Barrio<b>: Monserrat<b><b>Cantidad de delitos<b>1<b>\",\"<b>Barrio<b>: Monserrat<b><b>Cantidad de delitos<b>1<b>\",\"<b>Barrio<b>: Monserrat<b><b>Cantidad de delitos<b>1<b>\",\"<b>Barrio<b>: Monserrat<b><b>Cantidad de delitos<b>1<b>\",\"<b>Barrio<b>: Monserrat<b><b>Cantidad de delitos<b>1<b>\",\"<b>Barrio<b>: Monserrat<b><b>Cantidad de delitos<b>1<b>\",\"<b>Barrio<b>: Monte Castro<b><b>Cantidad de delitos<b>1<b>\",\"<b>Barrio<b>: Monte Castro<b><b>Cantidad de delitos<b>1<b>\",\"<b>Barrio<b>: Monte Castro<b><b>Cantidad de delitos<b>1<b>\",\"<b>Barrio<b>: Monte Castro<b><b>Cantidad de delitos<b>1<b>\",\"<b>Barrio<b>: Monte Castro<b><b>Cantidad de delitos<b>1<b>\",\"<b>Barrio<b>: Monte Castro<b><b>Cantidad de delitos<b>1<b>\",\"<b>Barrio<b>: Monte Castro<b><b>Cantidad de delitos<b>1<b>\",\"<b>Barrio<b>: Monte Castro<b><b>Cantidad de delitos<b>1<b>\",\"<b>Barrio<b>: Monte Castro<b><b>Cantidad de delitos<b>1<b>\",\"<b>Barrio<b>: Monte Castro<b><b>Cantidad de delitos<b>1<b>\",\"<b>Barrio<b>: Monte Castro<b><b>Cantidad de delitos<b>1<b>\",\"<b>Barrio<b>: Monte Castro<b><b>Cantidad de delitos<b>1<b>\",\"<b>Barrio<b>: Nueva Pompeya<b><b>Cantidad de delitos<b>1<b>\",\"<b>Barrio<b>: Nueva Pompeya<b><b>Cantidad de delitos<b>1<b>\",\"<b>Barrio<b>: Nueva Pompeya<b><b>Cantidad de delitos<b>1<b>\",\"<b>Barrio<b>: Nueva Pompeya<b><b>Cantidad de delitos<b>1<b>\",\"<b>Barrio<b>: Nueva Pompeya<b><b>Cantidad de delitos<b>1<b>\",\"<b>Barrio<b>: Nueva Pompeya<b><b>Cantidad de delitos<b>1<b>\",\"<b>Barrio<b>: Nueva Pompeya<b><b>Cantidad de delitos<b>1<b>\",\"<b>Barrio<b>: Nueva Pompeya<b><b>Cantidad de delitos<b>1<b>\",\"<b>Barrio<b>: Nueva Pompeya<b><b>Cantidad de delitos<b>1<b>\",\"<b>Barrio<b>: Nueva Pompeya<b><b>Cantidad de delitos<b>1<b>\",\"<b>Barrio<b>: Nueva Pompeya<b><b>Cantidad de delitos<b>1<b>\",\"<b>Barrio<b>: Nueva Pompeya<b><b>Cantidad de delitos<b>1<b>\",\"<b>Barrio<b>: Nueva Pompeya<b><b>Cantidad de delitos<b>1<b>\",\"<b>Barrio<b>: Nueva Pompeya<b><b>Cantidad de delitos<b>1<b>\",\"<b>Barrio<b>: Nueva Pompeya<b><b>Cantidad de delitos<b>1<b>\",\"<b>Barrio<b>: Nueva Pompeya<b><b>Cantidad de delitos<b>1<b>\",\"<b>Barrio<b>: Nueva Pompeya<b><b>Cantidad de delitos<b>1<b>\",\"<b>Barrio<b>: Nueva Pompeya<b><b>Cantidad de delitos<b>1<b>\",\"<b>Barrio<b>: Nueva Pompeya<b><b>Cantidad de delitos<b>1<b>\",\"<b>Barrio<b>: Nueva Pompeya<b><b>Cantidad de delitos<b>1<b>\",\"<b>Barrio<b>: Nueva Pompeya<b><b>Cantidad de delitos<b>1<b>\",\"<b>Barrio<b>: Nueva Pompeya<b><b>Cantidad de delitos<b>1<b>\",\"<b>Barrio<b>: Nueva Pompeya<b><b>Cantidad de delitos<b>1<b>\",\"<b>Barrio<b>: Nueva Pompeya<b><b>Cantidad de delitos<b>1<b>\",\"<b>Barrio<b>: Nueva Pompeya<b><b>Cantidad de delitos<b>1<b>\",\"<b>Barrio<b>: Nueva Pompeya<b><b>Cantidad de delitos<b>1<b>\",\"<b>Barrio<b>: Nueva Pompeya<b><b>Cantidad de delitos<b>1<b>\",\"<b>Barrio<b>: Nueva Pompeya<b><b>Cantidad de delitos<b>1<b>\",\"<b>Barrio<b>: Nueva Pompeya<b><b>Cantidad de delitos<b>1<b>\",\"<b>Barrio<b>: Nueva Pompeya<b><b>Cantidad de delitos<b>1<b>\",\"<b>Barrio<b>: Nueva Pompeya<b><b>Cantidad de delitos<b>1<b>\",\"<b>Barrio<b>: Nueva Pompeya<b><b>Cantidad de delitos<b>1<b>\",\"<b>Barrio<b>: Nueva Pompeya<b><b>Cantidad de delitos<b>1<b>\",\"<b>Barrio<b>: Nueva Pompeya<b><b>Cantidad de delitos<b>1<b>\",\"<b>Barrio<b>: Nueva Pompeya<b><b>Cantidad de delitos<b>1<b>\",\"<b>Barrio<b>: Nueva Pompeya<b><b>Cantidad de delitos<b>1<b>\",\"<b>Barrio<b>: Nueva Pompeya<b><b>Cantidad de delitos<b>1<b>\",\"<b>Barrio<b>: Nueva Pompeya<b><b>Cantidad de delitos<b>1<b>\",\"<b>Barrio<b>: Nu\\u00f1ez<b><b>Cantidad de delitos<b>1<b>\",\"<b>Barrio<b>: Nu\\u00f1ez<b><b>Cantidad de delitos<b>1<b>\",\"<b>Barrio<b>: Nu\\u00f1ez<b><b>Cantidad de delitos<b>1<b>\",\"<b>Barrio<b>: Nu\\u00f1ez<b><b>Cantidad de delitos<b>1<b>\",\"<b>Barrio<b>: Nu\\u00f1ez<b><b>Cantidad de delitos<b>1<b>\",\"<b>Barrio<b>: Nu\\u00f1ez<b><b>Cantidad de delitos<b>1<b>\",\"<b>Barrio<b>: Nu\\u00f1ez<b><b>Cantidad de delitos<b>1<b>\",\"<b>Barrio<b>: Nu\\u00f1ez<b><b>Cantidad de delitos<b>1<b>\",\"<b>Barrio<b>: Nu\\u00f1ez<b><b>Cantidad de delitos<b>1<b>\",\"<b>Barrio<b>: Nu\\u00f1ez<b><b>Cantidad de delitos<b>1<b>\",\"<b>Barrio<b>: Nu\\u00f1ez<b><b>Cantidad de delitos<b>1<b>\",\"<b>Barrio<b>: Nu\\u00f1ez<b><b>Cantidad de delitos<b>1<b>\",\"<b>Barrio<b>: Nu\\u00f1ez<b><b>Cantidad de delitos<b>1<b>\",\"<b>Barrio<b>: Nu\\u00f1ez<b><b>Cantidad de delitos<b>1<b>\",\"<b>Barrio<b>: Nu\\u00f1ez<b><b>Cantidad de delitos<b>1<b>\",\"<b>Barrio<b>: Nu\\u00f1ez<b><b>Cantidad de delitos<b>1<b>\",\"<b>Barrio<b>: Nu\\u00f1ez<b><b>Cantidad de delitos<b>1<b>\",\"<b>Barrio<b>: Nu\\u00f1ez<b><b>Cantidad de delitos<b>1<b>\",\"<b>Barrio<b>: Nu\\u00f1ez<b><b>Cantidad de delitos<b>1<b>\",\"<b>Barrio<b>: Nu\\u00f1ez<b><b>Cantidad de delitos<b>1<b>\",\"<b>Barrio<b>: Nu\\u00f1ez<b><b>Cantidad de delitos<b>1<b>\",\"<b>Barrio<b>: Palermo<b><b>Cantidad de delitos<b>1<b>\",\"<b>Barrio<b>: Palermo<b><b>Cantidad de delitos<b>1<b>\",\"<b>Barrio<b>: Palermo<b><b>Cantidad de delitos<b>1<b>\",\"<b>Barrio<b>: Palermo<b><b>Cantidad de delitos<b>1<b>\",\"<b>Barrio<b>: Palermo<b><b>Cantidad de delitos<b>1<b>\",\"<b>Barrio<b>: Palermo<b><b>Cantidad de delitos<b>1<b>\",\"<b>Barrio<b>: Palermo<b><b>Cantidad de delitos<b>1<b>\",\"<b>Barrio<b>: Palermo<b><b>Cantidad de delitos<b>1<b>\",\"<b>Barrio<b>: Palermo<b><b>Cantidad de delitos<b>1<b>\",\"<b>Barrio<b>: Palermo<b><b>Cantidad de delitos<b>1<b>\",\"<b>Barrio<b>: Palermo<b><b>Cantidad de delitos<b>1<b>\",\"<b>Barrio<b>: Palermo<b><b>Cantidad de delitos<b>1<b>\",\"<b>Barrio<b>: Palermo<b><b>Cantidad de delitos<b>1<b>\",\"<b>Barrio<b>: Palermo<b><b>Cantidad de delitos<b>1<b>\",\"<b>Barrio<b>: Palermo<b><b>Cantidad de delitos<b>1<b>\",\"<b>Barrio<b>: Palermo<b><b>Cantidad de delitos<b>1<b>\",\"<b>Barrio<b>: Palermo<b><b>Cantidad de delitos<b>1<b>\",\"<b>Barrio<b>: Palermo<b><b>Cantidad de delitos<b>1<b>\",\"<b>Barrio<b>: Palermo<b><b>Cantidad de delitos<b>1<b>\",\"<b>Barrio<b>: Palermo<b><b>Cantidad de delitos<b>1<b>\",\"<b>Barrio<b>: Palermo<b><b>Cantidad de delitos<b>1<b>\",\"<b>Barrio<b>: Palermo<b><b>Cantidad de delitos<b>1<b>\",\"<b>Barrio<b>: Palermo<b><b>Cantidad de delitos<b>1<b>\",\"<b>Barrio<b>: Palermo<b><b>Cantidad de delitos<b>1<b>\",\"<b>Barrio<b>: Palermo<b><b>Cantidad de delitos<b>1<b>\",\"<b>Barrio<b>: Palermo<b><b>Cantidad de delitos<b>1<b>\",\"<b>Barrio<b>: Palermo<b><b>Cantidad de delitos<b>1<b>\",\"<b>Barrio<b>: Palermo<b><b>Cantidad de delitos<b>1<b>\",\"<b>Barrio<b>: Palermo<b><b>Cantidad de delitos<b>1<b>\",\"<b>Barrio<b>: Palermo<b><b>Cantidad de delitos<b>1<b>\",\"<b>Barrio<b>: Palermo<b><b>Cantidad de delitos<b>1<b>\",\"<b>Barrio<b>: Palermo<b><b>Cantidad de delitos<b>1<b>\",\"<b>Barrio<b>: Palermo<b><b>Cantidad de delitos<b>1<b>\",\"<b>Barrio<b>: Palermo<b><b>Cantidad de delitos<b>1<b>\",\"<b>Barrio<b>: Palermo<b><b>Cantidad de delitos<b>1<b>\",\"<b>Barrio<b>: Palermo<b><b>Cantidad de delitos<b>1<b>\",\"<b>Barrio<b>: Palermo<b><b>Cantidad de delitos<b>1<b>\",\"<b>Barrio<b>: Palermo<b><b>Cantidad de delitos<b>1<b>\",\"<b>Barrio<b>: Palermo<b><b>Cantidad de delitos<b>1<b>\",\"<b>Barrio<b>: Palermo<b><b>Cantidad de delitos<b>1<b>\",\"<b>Barrio<b>: Palermo<b><b>Cantidad de delitos<b>1<b>\",\"<b>Barrio<b>: Palermo<b><b>Cantidad de delitos<b>1<b>\",\"<b>Barrio<b>: Palermo<b><b>Cantidad de delitos<b>1<b>\",\"<b>Barrio<b>: Palermo<b><b>Cantidad de delitos<b>1<b>\",\"<b>Barrio<b>: Palermo<b><b>Cantidad de delitos<b>1<b>\",\"<b>Barrio<b>: Palermo<b><b>Cantidad de delitos<b>1<b>\",\"<b>Barrio<b>: Palermo<b><b>Cantidad de delitos<b>2<b>\",\"<b>Barrio<b>: Palermo<b><b>Cantidad de delitos<b>1<b>\",\"<b>Barrio<b>: Palermo<b><b>Cantidad de delitos<b>1<b>\",\"<b>Barrio<b>: Palermo<b><b>Cantidad de delitos<b>1<b>\",\"<b>Barrio<b>: Palermo<b><b>Cantidad de delitos<b>2<b>\",\"<b>Barrio<b>: Palermo<b><b>Cantidad de delitos<b>1<b>\",\"<b>Barrio<b>: Palermo<b><b>Cantidad de delitos<b>1<b>\",\"<b>Barrio<b>: Palermo<b><b>Cantidad de delitos<b>1<b>\",\"<b>Barrio<b>: Palermo<b><b>Cantidad de delitos<b>1<b>\",\"<b>Barrio<b>: Palermo<b><b>Cantidad de delitos<b>1<b>\",\"<b>Barrio<b>: Palermo<b><b>Cantidad de delitos<b>1<b>\",\"<b>Barrio<b>: Palermo<b><b>Cantidad de delitos<b>1<b>\",\"<b>Barrio<b>: Palermo<b><b>Cantidad de delitos<b>1<b>\",\"<b>Barrio<b>: Palermo<b><b>Cantidad de delitos<b>1<b>\",\"<b>Barrio<b>: Palermo<b><b>Cantidad de delitos<b>1<b>\",\"<b>Barrio<b>: Palermo<b><b>Cantidad de delitos<b>1<b>\",\"<b>Barrio<b>: Palermo<b><b>Cantidad de delitos<b>1<b>\",\"<b>Barrio<b>: Palermo<b><b>Cantidad de delitos<b>1<b>\",\"<b>Barrio<b>: Palermo<b><b>Cantidad de delitos<b>1<b>\",\"<b>Barrio<b>: Palermo<b><b>Cantidad de delitos<b>1<b>\",\"<b>Barrio<b>: Palermo<b><b>Cantidad de delitos<b>1<b>\",\"<b>Barrio<b>: Palermo<b><b>Cantidad de delitos<b>1<b>\",\"<b>Barrio<b>: Palermo<b><b>Cantidad de delitos<b>1<b>\",\"<b>Barrio<b>: Palermo<b><b>Cantidad de delitos<b>1<b>\",\"<b>Barrio<b>: Palermo<b><b>Cantidad de delitos<b>1<b>\",\"<b>Barrio<b>: Palermo<b><b>Cantidad de delitos<b>1<b>\",\"<b>Barrio<b>: Palermo<b><b>Cantidad de delitos<b>1<b>\",\"<b>Barrio<b>: Palermo<b><b>Cantidad de delitos<b>1<b>\",\"<b>Barrio<b>: Palermo<b><b>Cantidad de delitos<b>1<b>\",\"<b>Barrio<b>: Palermo<b><b>Cantidad de delitos<b>1<b>\",\"<b>Barrio<b>: Palermo<b><b>Cantidad de delitos<b>1<b>\",\"<b>Barrio<b>: Palermo<b><b>Cantidad de delitos<b>1<b>\",\"<b>Barrio<b>: Palermo<b><b>Cantidad de delitos<b>1<b>\",\"<b>Barrio<b>: Palermo<b><b>Cantidad de delitos<b>1<b>\",\"<b>Barrio<b>: Palermo<b><b>Cantidad de delitos<b>1<b>\",\"<b>Barrio<b>: Palermo<b><b>Cantidad de delitos<b>2<b>\",\"<b>Barrio<b>: Palermo<b><b>Cantidad de delitos<b>1<b>\",\"<b>Barrio<b>: Palermo<b><b>Cantidad de delitos<b>1<b>\",\"<b>Barrio<b>: Palermo<b><b>Cantidad de delitos<b>1<b>\",\"<b>Barrio<b>: Palermo<b><b>Cantidad de delitos<b>1<b>\",\"<b>Barrio<b>: Palermo<b><b>Cantidad de delitos<b>1<b>\",\"<b>Barrio<b>: Palermo<b><b>Cantidad de delitos<b>1<b>\",\"<b>Barrio<b>: Palermo<b><b>Cantidad de delitos<b>1<b>\",\"<b>Barrio<b>: Palermo<b><b>Cantidad de delitos<b>1<b>\",\"<b>Barrio<b>: Palermo<b><b>Cantidad de delitos<b>1<b>\",\"<b>Barrio<b>: Palermo<b><b>Cantidad de delitos<b>1<b>\",\"<b>Barrio<b>: Palermo<b><b>Cantidad de delitos<b>2<b>\",\"<b>Barrio<b>: Palermo<b><b>Cantidad de delitos<b>1<b>\",\"<b>Barrio<b>: Palermo<b><b>Cantidad de delitos<b>3<b>\",\"<b>Barrio<b>: Palermo<b><b>Cantidad de delitos<b>1<b>\",\"<b>Barrio<b>: Palermo<b><b>Cantidad de delitos<b>1<b>\",\"<b>Barrio<b>: Palermo<b><b>Cantidad de delitos<b>1<b>\",\"<b>Barrio<b>: Palermo<b><b>Cantidad de delitos<b>1<b>\",\"<b>Barrio<b>: Palermo<b><b>Cantidad de delitos<b>1<b>\",\"<b>Barrio<b>: Palermo<b><b>Cantidad de delitos<b>1<b>\",\"<b>Barrio<b>: Palermo<b><b>Cantidad de delitos<b>1<b>\",\"<b>Barrio<b>: Palermo<b><b>Cantidad de delitos<b>1<b>\",\"<b>Barrio<b>: Palermo<b><b>Cantidad de delitos<b>1<b>\",\"<b>Barrio<b>: Palermo<b><b>Cantidad de delitos<b>1<b>\",\"<b>Barrio<b>: Parque Avellaneda<b><b>Cantidad de delitos<b>1<b>\",\"<b>Barrio<b>: Parque Avellaneda<b><b>Cantidad de delitos<b>1<b>\",\"<b>Barrio<b>: Parque Avellaneda<b><b>Cantidad de delitos<b>1<b>\",\"<b>Barrio<b>: Parque Avellaneda<b><b>Cantidad de delitos<b>1<b>\",\"<b>Barrio<b>: Parque Avellaneda<b><b>Cantidad de delitos<b>1<b>\",\"<b>Barrio<b>: Parque Avellaneda<b><b>Cantidad de delitos<b>1<b>\",\"<b>Barrio<b>: Parque Avellaneda<b><b>Cantidad de delitos<b>1<b>\",\"<b>Barrio<b>: Parque Avellaneda<b><b>Cantidad de delitos<b>1<b>\",\"<b>Barrio<b>: Parque Avellaneda<b><b>Cantidad de delitos<b>1<b>\",\"<b>Barrio<b>: Parque Avellaneda<b><b>Cantidad de delitos<b>1<b>\",\"<b>Barrio<b>: Parque Avellaneda<b><b>Cantidad de delitos<b>1<b>\",\"<b>Barrio<b>: Parque Avellaneda<b><b>Cantidad de delitos<b>1<b>\",\"<b>Barrio<b>: Parque Avellaneda<b><b>Cantidad de delitos<b>1<b>\",\"<b>Barrio<b>: Parque Avellaneda<b><b>Cantidad de delitos<b>1<b>\",\"<b>Barrio<b>: Parque Avellaneda<b><b>Cantidad de delitos<b>1<b>\",\"<b>Barrio<b>: Parque Avellaneda<b><b>Cantidad de delitos<b>1<b>\",\"<b>Barrio<b>: Parque Avellaneda<b><b>Cantidad de delitos<b>1<b>\",\"<b>Barrio<b>: Parque Avellaneda<b><b>Cantidad de delitos<b>1<b>\",\"<b>Barrio<b>: Parque Avellaneda<b><b>Cantidad de delitos<b>1<b>\",\"<b>Barrio<b>: Parque Avellaneda<b><b>Cantidad de delitos<b>1<b>\",\"<b>Barrio<b>: Parque Avellaneda<b><b>Cantidad de delitos<b>1<b>\",\"<b>Barrio<b>: Parque Avellaneda<b><b>Cantidad de delitos<b>2<b>\",\"<b>Barrio<b>: Parque Avellaneda<b><b>Cantidad de delitos<b>1<b>\",\"<b>Barrio<b>: Parque Avellaneda<b><b>Cantidad de delitos<b>1<b>\",\"<b>Barrio<b>: Parque Avellaneda<b><b>Cantidad de delitos<b>1<b>\",\"<b>Barrio<b>: Parque Avellaneda<b><b>Cantidad de delitos<b>1<b>\",\"<b>Barrio<b>: Parque Avellaneda<b><b>Cantidad de delitos<b>1<b>\",\"<b>Barrio<b>: Parque Avellaneda<b><b>Cantidad de delitos<b>1<b>\",\"<b>Barrio<b>: Parque Avellaneda<b><b>Cantidad de delitos<b>1<b>\",\"<b>Barrio<b>: Parque Avellaneda<b><b>Cantidad de delitos<b>1<b>\",\"<b>Barrio<b>: Parque Chacabuco<b><b>Cantidad de delitos<b>1<b>\",\"<b>Barrio<b>: Parque Chacabuco<b><b>Cantidad de delitos<b>1<b>\",\"<b>Barrio<b>: Parque Chacabuco<b><b>Cantidad de delitos<b>1<b>\",\"<b>Barrio<b>: Parque Chacabuco<b><b>Cantidad de delitos<b>1<b>\",\"<b>Barrio<b>: Parque Chacabuco<b><b>Cantidad de delitos<b>1<b>\",\"<b>Barrio<b>: Parque Chacabuco<b><b>Cantidad de delitos<b>1<b>\",\"<b>Barrio<b>: Parque Chacabuco<b><b>Cantidad de delitos<b>1<b>\",\"<b>Barrio<b>: Parque Chacabuco<b><b>Cantidad de delitos<b>1<b>\",\"<b>Barrio<b>: Parque Chacabuco<b><b>Cantidad de delitos<b>1<b>\",\"<b>Barrio<b>: Parque Chacabuco<b><b>Cantidad de delitos<b>1<b>\",\"<b>Barrio<b>: Parque Chacabuco<b><b>Cantidad de delitos<b>1<b>\",\"<b>Barrio<b>: Parque Chacabuco<b><b>Cantidad de delitos<b>1<b>\",\"<b>Barrio<b>: Parque Chacabuco<b><b>Cantidad de delitos<b>1<b>\",\"<b>Barrio<b>: Parque Chacabuco<b><b>Cantidad de delitos<b>1<b>\",\"<b>Barrio<b>: Parque Chacabuco<b><b>Cantidad de delitos<b>1<b>\",\"<b>Barrio<b>: Parque Chacabuco<b><b>Cantidad de delitos<b>1<b>\",\"<b>Barrio<b>: Parque Chacabuco<b><b>Cantidad de delitos<b>1<b>\",\"<b>Barrio<b>: Parque Chacabuco<b><b>Cantidad de delitos<b>1<b>\",\"<b>Barrio<b>: Parque Chacabuco<b><b>Cantidad de delitos<b>1<b>\",\"<b>Barrio<b>: Parque Chacabuco<b><b>Cantidad de delitos<b>1<b>\",\"<b>Barrio<b>: Parque Chacabuco<b><b>Cantidad de delitos<b>1<b>\",\"<b>Barrio<b>: Parque Chacabuco<b><b>Cantidad de delitos<b>1<b>\",\"<b>Barrio<b>: Parque Chacabuco<b><b>Cantidad de delitos<b>1<b>\",\"<b>Barrio<b>: Parque Chas<b><b>Cantidad de delitos<b>1<b>\",\"<b>Barrio<b>: Parque Chas<b><b>Cantidad de delitos<b>1<b>\",\"<b>Barrio<b>: Parque Chas<b><b>Cantidad de delitos<b>1<b>\",\"<b>Barrio<b>: Parque Chas<b><b>Cantidad de delitos<b>1<b>\",\"<b>Barrio<b>: Parque Chas<b><b>Cantidad de delitos<b>1<b>\",\"<b>Barrio<b>: Parque Chas<b><b>Cantidad de delitos<b>1<b>\",\"<b>Barrio<b>: Parque Chas<b><b>Cantidad de delitos<b>1<b>\",\"<b>Barrio<b>: Parque Chas<b><b>Cantidad de delitos<b>1<b>\",\"<b>Barrio<b>: Parque Chas<b><b>Cantidad de delitos<b>1<b>\",\"<b>Barrio<b>: Parque Patricios<b><b>Cantidad de delitos<b>1<b>\",\"<b>Barrio<b>: Parque Patricios<b><b>Cantidad de delitos<b>1<b>\",\"<b>Barrio<b>: Parque Patricios<b><b>Cantidad de delitos<b>1<b>\",\"<b>Barrio<b>: Parque Patricios<b><b>Cantidad de delitos<b>1<b>\",\"<b>Barrio<b>: Parque Patricios<b><b>Cantidad de delitos<b>1<b>\",\"<b>Barrio<b>: Parque Patricios<b><b>Cantidad de delitos<b>1<b>\",\"<b>Barrio<b>: Parque Patricios<b><b>Cantidad de delitos<b>1<b>\",\"<b>Barrio<b>: Parque Patricios<b><b>Cantidad de delitos<b>1<b>\",\"<b>Barrio<b>: Parque Patricios<b><b>Cantidad de delitos<b>1<b>\",\"<b>Barrio<b>: Parque Patricios<b><b>Cantidad de delitos<b>1<b>\",\"<b>Barrio<b>: Parque Patricios<b><b>Cantidad de delitos<b>1<b>\",\"<b>Barrio<b>: Parque Patricios<b><b>Cantidad de delitos<b>1<b>\",\"<b>Barrio<b>: Parque Patricios<b><b>Cantidad de delitos<b>2<b>\",\"<b>Barrio<b>: Parque Patricios<b><b>Cantidad de delitos<b>1<b>\",\"<b>Barrio<b>: Parque Patricios<b><b>Cantidad de delitos<b>2<b>\",\"<b>Barrio<b>: Parque Patricios<b><b>Cantidad de delitos<b>1<b>\",\"<b>Barrio<b>: Parque Patricios<b><b>Cantidad de delitos<b>1<b>\",\"<b>Barrio<b>: Parque Patricios<b><b>Cantidad de delitos<b>1<b>\",\"<b>Barrio<b>: Parque Patricios<b><b>Cantidad de delitos<b>1<b>\",\"<b>Barrio<b>: Parque Patricios<b><b>Cantidad de delitos<b>1<b>\",\"<b>Barrio<b>: Parque Patricios<b><b>Cantidad de delitos<b>1<b>\",\"<b>Barrio<b>: Paternal<b><b>Cantidad de delitos<b>1<b>\",\"<b>Barrio<b>: Paternal<b><b>Cantidad de delitos<b>1<b>\",\"<b>Barrio<b>: Paternal<b><b>Cantidad de delitos<b>1<b>\",\"<b>Barrio<b>: Paternal<b><b>Cantidad de delitos<b>1<b>\",\"<b>Barrio<b>: Paternal<b><b>Cantidad de delitos<b>1<b>\",\"<b>Barrio<b>: Paternal<b><b>Cantidad de delitos<b>1<b>\",\"<b>Barrio<b>: Paternal<b><b>Cantidad de delitos<b>1<b>\",\"<b>Barrio<b>: Recoleta<b><b>Cantidad de delitos<b>1<b>\",\"<b>Barrio<b>: Recoleta<b><b>Cantidad de delitos<b>1<b>\",\"<b>Barrio<b>: Recoleta<b><b>Cantidad de delitos<b>1<b>\",\"<b>Barrio<b>: Recoleta<b><b>Cantidad de delitos<b>1<b>\",\"<b>Barrio<b>: Recoleta<b><b>Cantidad de delitos<b>1<b>\",\"<b>Barrio<b>: Recoleta<b><b>Cantidad de delitos<b>1<b>\",\"<b>Barrio<b>: Recoleta<b><b>Cantidad de delitos<b>1<b>\",\"<b>Barrio<b>: Recoleta<b><b>Cantidad de delitos<b>1<b>\",\"<b>Barrio<b>: Recoleta<b><b>Cantidad de delitos<b>1<b>\",\"<b>Barrio<b>: Recoleta<b><b>Cantidad de delitos<b>1<b>\",\"<b>Barrio<b>: Recoleta<b><b>Cantidad de delitos<b>1<b>\",\"<b>Barrio<b>: Recoleta<b><b>Cantidad de delitos<b>1<b>\",\"<b>Barrio<b>: Recoleta<b><b>Cantidad de delitos<b>1<b>\",\"<b>Barrio<b>: Recoleta<b><b>Cantidad de delitos<b>1<b>\",\"<b>Barrio<b>: Recoleta<b><b>Cantidad de delitos<b>1<b>\",\"<b>Barrio<b>: Recoleta<b><b>Cantidad de delitos<b>2<b>\",\"<b>Barrio<b>: Recoleta<b><b>Cantidad de delitos<b>1<b>\",\"<b>Barrio<b>: Recoleta<b><b>Cantidad de delitos<b>1<b>\",\"<b>Barrio<b>: Recoleta<b><b>Cantidad de delitos<b>1<b>\",\"<b>Barrio<b>: Recoleta<b><b>Cantidad de delitos<b>1<b>\",\"<b>Barrio<b>: Recoleta<b><b>Cantidad de delitos<b>1<b>\",\"<b>Barrio<b>: Recoleta<b><b>Cantidad de delitos<b>1<b>\",\"<b>Barrio<b>: Recoleta<b><b>Cantidad de delitos<b>1<b>\",\"<b>Barrio<b>: Recoleta<b><b>Cantidad de delitos<b>1<b>\",\"<b>Barrio<b>: Recoleta<b><b>Cantidad de delitos<b>1<b>\",\"<b>Barrio<b>: Recoleta<b><b>Cantidad de delitos<b>1<b>\",\"<b>Barrio<b>: Recoleta<b><b>Cantidad de delitos<b>1<b>\",\"<b>Barrio<b>: Recoleta<b><b>Cantidad de delitos<b>1<b>\",\"<b>Barrio<b>: Recoleta<b><b>Cantidad de delitos<b>1<b>\",\"<b>Barrio<b>: Recoleta<b><b>Cantidad de delitos<b>1<b>\",\"<b>Barrio<b>: Recoleta<b><b>Cantidad de delitos<b>1<b>\",\"<b>Barrio<b>: Recoleta<b><b>Cantidad de delitos<b>1<b>\",\"<b>Barrio<b>: Recoleta<b><b>Cantidad de delitos<b>1<b>\",\"<b>Barrio<b>: Recoleta<b><b>Cantidad de delitos<b>1<b>\",\"<b>Barrio<b>: Recoleta<b><b>Cantidad de delitos<b>1<b>\",\"<b>Barrio<b>: Recoleta<b><b>Cantidad de delitos<b>1<b>\",\"<b>Barrio<b>: Recoleta<b><b>Cantidad de delitos<b>1<b>\",\"<b>Barrio<b>: Recoleta<b><b>Cantidad de delitos<b>1<b>\",\"<b>Barrio<b>: Recoleta<b><b>Cantidad de delitos<b>1<b>\",\"<b>Barrio<b>: Recoleta<b><b>Cantidad de delitos<b>1<b>\",\"<b>Barrio<b>: Recoleta<b><b>Cantidad de delitos<b>1<b>\",\"<b>Barrio<b>: Recoleta<b><b>Cantidad de delitos<b>1<b>\",\"<b>Barrio<b>: Recoleta<b><b>Cantidad de delitos<b>1<b>\",\"<b>Barrio<b>: Recoleta<b><b>Cantidad de delitos<b>1<b>\",\"<b>Barrio<b>: Recoleta<b><b>Cantidad de delitos<b>1<b>\",\"<b>Barrio<b>: Recoleta<b><b>Cantidad de delitos<b>1<b>\",\"<b>Barrio<b>: Recoleta<b><b>Cantidad de delitos<b>1<b>\",\"<b>Barrio<b>: Recoleta<b><b>Cantidad de delitos<b>1<b>\",\"<b>Barrio<b>: Recoleta<b><b>Cantidad de delitos<b>1<b>\",\"<b>Barrio<b>: Recoleta<b><b>Cantidad de delitos<b>1<b>\",\"<b>Barrio<b>: Recoleta<b><b>Cantidad de delitos<b>1<b>\",\"<b>Barrio<b>: Recoleta<b><b>Cantidad de delitos<b>1<b>\",\"<b>Barrio<b>: Recoleta<b><b>Cantidad de delitos<b>1<b>\",\"<b>Barrio<b>: Recoleta<b><b>Cantidad de delitos<b>1<b>\",\"<b>Barrio<b>: Recoleta<b><b>Cantidad de delitos<b>1<b>\",\"<b>Barrio<b>: Recoleta<b><b>Cantidad de delitos<b>1<b>\",\"<b>Barrio<b>: Recoleta<b><b>Cantidad de delitos<b>1<b>\",\"<b>Barrio<b>: Recoleta<b><b>Cantidad de delitos<b>1<b>\",\"<b>Barrio<b>: Recoleta<b><b>Cantidad de delitos<b>1<b>\",\"<b>Barrio<b>: Recoleta<b><b>Cantidad de delitos<b>1<b>\",\"<b>Barrio<b>: Recoleta<b><b>Cantidad de delitos<b>1<b>\",\"<b>Barrio<b>: Recoleta<b><b>Cantidad de delitos<b>1<b>\",\"<b>Barrio<b>: Recoleta<b><b>Cantidad de delitos<b>1<b>\",\"<b>Barrio<b>: Recoleta<b><b>Cantidad de delitos<b>1<b>\",\"<b>Barrio<b>: Recoleta<b><b>Cantidad de delitos<b>1<b>\",\"<b>Barrio<b>: Recoleta<b><b>Cantidad de delitos<b>1<b>\",\"<b>Barrio<b>: Recoleta<b><b>Cantidad de delitos<b>1<b>\",\"<b>Barrio<b>: Recoleta<b><b>Cantidad de delitos<b>1<b>\",\"<b>Barrio<b>: Recoleta<b><b>Cantidad de delitos<b>1<b>\",\"<b>Barrio<b>: Recoleta<b><b>Cantidad de delitos<b>1<b>\",\"<b>Barrio<b>: Recoleta<b><b>Cantidad de delitos<b>1<b>\",\"<b>Barrio<b>: Recoleta<b><b>Cantidad de delitos<b>1<b>\",\"<b>Barrio<b>: Recoleta<b><b>Cantidad de delitos<b>1<b>\",\"<b>Barrio<b>: Retiro<b><b>Cantidad de delitos<b>1<b>\",\"<b>Barrio<b>: Retiro<b><b>Cantidad de delitos<b>1<b>\",\"<b>Barrio<b>: Retiro<b><b>Cantidad de delitos<b>1<b>\",\"<b>Barrio<b>: Retiro<b><b>Cantidad de delitos<b>1<b>\",\"<b>Barrio<b>: Retiro<b><b>Cantidad de delitos<b>1<b>\",\"<b>Barrio<b>: Retiro<b><b>Cantidad de delitos<b>1<b>\",\"<b>Barrio<b>: Retiro<b><b>Cantidad de delitos<b>1<b>\",\"<b>Barrio<b>: Retiro<b><b>Cantidad de delitos<b>1<b>\",\"<b>Barrio<b>: Retiro<b><b>Cantidad de delitos<b>1<b>\",\"<b>Barrio<b>: Retiro<b><b>Cantidad de delitos<b>1<b>\",\"<b>Barrio<b>: Retiro<b><b>Cantidad de delitos<b>1<b>\",\"<b>Barrio<b>: Retiro<b><b>Cantidad de delitos<b>1<b>\",\"<b>Barrio<b>: Retiro<b><b>Cantidad de delitos<b>1<b>\",\"<b>Barrio<b>: Retiro<b><b>Cantidad de delitos<b>1<b>\",\"<b>Barrio<b>: Retiro<b><b>Cantidad de delitos<b>1<b>\",\"<b>Barrio<b>: Retiro<b><b>Cantidad de delitos<b>1<b>\",\"<b>Barrio<b>: Retiro<b><b>Cantidad de delitos<b>1<b>\",\"<b>Barrio<b>: Retiro<b><b>Cantidad de delitos<b>1<b>\",\"<b>Barrio<b>: Saavedra<b><b>Cantidad de delitos<b>1<b>\",\"<b>Barrio<b>: Saavedra<b><b>Cantidad de delitos<b>1<b>\",\"<b>Barrio<b>: Saavedra<b><b>Cantidad de delitos<b>1<b>\",\"<b>Barrio<b>: Saavedra<b><b>Cantidad de delitos<b>1<b>\",\"<b>Barrio<b>: Saavedra<b><b>Cantidad de delitos<b>1<b>\",\"<b>Barrio<b>: Saavedra<b><b>Cantidad de delitos<b>1<b>\",\"<b>Barrio<b>: Saavedra<b><b>Cantidad de delitos<b>1<b>\",\"<b>Barrio<b>: Saavedra<b><b>Cantidad de delitos<b>1<b>\",\"<b>Barrio<b>: Saavedra<b><b>Cantidad de delitos<b>1<b>\",\"<b>Barrio<b>: Saavedra<b><b>Cantidad de delitos<b>1<b>\",\"<b>Barrio<b>: Saavedra<b><b>Cantidad de delitos<b>1<b>\",\"<b>Barrio<b>: Saavedra<b><b>Cantidad de delitos<b>1<b>\",\"<b>Barrio<b>: Saavedra<b><b>Cantidad de delitos<b>1<b>\",\"<b>Barrio<b>: Saavedra<b><b>Cantidad de delitos<b>1<b>\",\"<b>Barrio<b>: Saavedra<b><b>Cantidad de delitos<b>1<b>\",\"<b>Barrio<b>: Saavedra<b><b>Cantidad de delitos<b>1<b>\",\"<b>Barrio<b>: Saavedra<b><b>Cantidad de delitos<b>1<b>\",\"<b>Barrio<b>: Saavedra<b><b>Cantidad de delitos<b>1<b>\",\"<b>Barrio<b>: Saavedra<b><b>Cantidad de delitos<b>1<b>\",\"<b>Barrio<b>: Saavedra<b><b>Cantidad de delitos<b>2<b>\",\"<b>Barrio<b>: Saavedra<b><b>Cantidad de delitos<b>1<b>\",\"<b>Barrio<b>: Saavedra<b><b>Cantidad de delitos<b>1<b>\",\"<b>Barrio<b>: Saavedra<b><b>Cantidad de delitos<b>1<b>\",\"<b>Barrio<b>: San Crist\\u00f3bal<b><b>Cantidad de delitos<b>1<b>\",\"<b>Barrio<b>: San Crist\\u00f3bal<b><b>Cantidad de delitos<b>1<b>\",\"<b>Barrio<b>: San Crist\\u00f3bal<b><b>Cantidad de delitos<b>1<b>\",\"<b>Barrio<b>: San Crist\\u00f3bal<b><b>Cantidad de delitos<b>1<b>\",\"<b>Barrio<b>: San Crist\\u00f3bal<b><b>Cantidad de delitos<b>1<b>\",\"<b>Barrio<b>: San Crist\\u00f3bal<b><b>Cantidad de delitos<b>1<b>\",\"<b>Barrio<b>: San Crist\\u00f3bal<b><b>Cantidad de delitos<b>1<b>\",\"<b>Barrio<b>: San Crist\\u00f3bal<b><b>Cantidad de delitos<b>1<b>\",\"<b>Barrio<b>: San Crist\\u00f3bal<b><b>Cantidad de delitos<b>1<b>\",\"<b>Barrio<b>: San Crist\\u00f3bal<b><b>Cantidad de delitos<b>1<b>\",\"<b>Barrio<b>: San Crist\\u00f3bal<b><b>Cantidad de delitos<b>1<b>\",\"<b>Barrio<b>: San Crist\\u00f3bal<b><b>Cantidad de delitos<b>1<b>\",\"<b>Barrio<b>: San Crist\\u00f3bal<b><b>Cantidad de delitos<b>1<b>\",\"<b>Barrio<b>: San Crist\\u00f3bal<b><b>Cantidad de delitos<b>1<b>\",\"<b>Barrio<b>: San Crist\\u00f3bal<b><b>Cantidad de delitos<b>1<b>\",\"<b>Barrio<b>: San Crist\\u00f3bal<b><b>Cantidad de delitos<b>1<b>\",\"<b>Barrio<b>: San Crist\\u00f3bal<b><b>Cantidad de delitos<b>1<b>\",\"<b>Barrio<b>: San Crist\\u00f3bal<b><b>Cantidad de delitos<b>1<b>\",\"<b>Barrio<b>: San Crist\\u00f3bal<b><b>Cantidad de delitos<b>1<b>\",\"<b>Barrio<b>: San Crist\\u00f3bal<b><b>Cantidad de delitos<b>1<b>\",\"<b>Barrio<b>: San Crist\\u00f3bal<b><b>Cantidad de delitos<b>1<b>\",\"<b>Barrio<b>: San Crist\\u00f3bal<b><b>Cantidad de delitos<b>1<b>\",\"<b>Barrio<b>: San Crist\\u00f3bal<b><b>Cantidad de delitos<b>1<b>\",\"<b>Barrio<b>: San Crist\\u00f3bal<b><b>Cantidad de delitos<b>1<b>\",\"<b>Barrio<b>: San Crist\\u00f3bal<b><b>Cantidad de delitos<b>1<b>\",\"<b>Barrio<b>: San Crist\\u00f3bal<b><b>Cantidad de delitos<b>1<b>\",\"<b>Barrio<b>: San Crist\\u00f3bal<b><b>Cantidad de delitos<b>1<b>\",\"<b>Barrio<b>: San Crist\\u00f3bal<b><b>Cantidad de delitos<b>1<b>\",\"<b>Barrio<b>: San Nicol\\u00e1s<b><b>Cantidad de delitos<b>1<b>\",\"<b>Barrio<b>: San Nicol\\u00e1s<b><b>Cantidad de delitos<b>2<b>\",\"<b>Barrio<b>: San Nicol\\u00e1s<b><b>Cantidad de delitos<b>1<b>\",\"<b>Barrio<b>: San Nicol\\u00e1s<b><b>Cantidad de delitos<b>1<b>\",\"<b>Barrio<b>: San Nicol\\u00e1s<b><b>Cantidad de delitos<b>1<b>\",\"<b>Barrio<b>: San Nicol\\u00e1s<b><b>Cantidad de delitos<b>2<b>\",\"<b>Barrio<b>: San Nicol\\u00e1s<b><b>Cantidad de delitos<b>1<b>\",\"<b>Barrio<b>: San Nicol\\u00e1s<b><b>Cantidad de delitos<b>1<b>\",\"<b>Barrio<b>: San Nicol\\u00e1s<b><b>Cantidad de delitos<b>1<b>\",\"<b>Barrio<b>: San Nicol\\u00e1s<b><b>Cantidad de delitos<b>1<b>\",\"<b>Barrio<b>: San Nicol\\u00e1s<b><b>Cantidad de delitos<b>1<b>\",\"<b>Barrio<b>: San Nicol\\u00e1s<b><b>Cantidad de delitos<b>1<b>\",\"<b>Barrio<b>: San Nicol\\u00e1s<b><b>Cantidad de delitos<b>1<b>\",\"<b>Barrio<b>: San Nicol\\u00e1s<b><b>Cantidad de delitos<b>1<b>\",\"<b>Barrio<b>: San Nicol\\u00e1s<b><b>Cantidad de delitos<b>1<b>\",\"<b>Barrio<b>: San Nicol\\u00e1s<b><b>Cantidad de delitos<b>1<b>\",\"<b>Barrio<b>: San Nicol\\u00e1s<b><b>Cantidad de delitos<b>1<b>\",\"<b>Barrio<b>: San Nicol\\u00e1s<b><b>Cantidad de delitos<b>1<b>\",\"<b>Barrio<b>: San Nicol\\u00e1s<b><b>Cantidad de delitos<b>1<b>\",\"<b>Barrio<b>: San Nicol\\u00e1s<b><b>Cantidad de delitos<b>1<b>\",\"<b>Barrio<b>: San Nicol\\u00e1s<b><b>Cantidad de delitos<b>1<b>\",\"<b>Barrio<b>: San Nicol\\u00e1s<b><b>Cantidad de delitos<b>1<b>\",\"<b>Barrio<b>: San Nicol\\u00e1s<b><b>Cantidad de delitos<b>1<b>\",\"<b>Barrio<b>: San Nicol\\u00e1s<b><b>Cantidad de delitos<b>1<b>\",\"<b>Barrio<b>: San Nicol\\u00e1s<b><b>Cantidad de delitos<b>1<b>\",\"<b>Barrio<b>: San Telmo<b><b>Cantidad de delitos<b>1<b>\",\"<b>Barrio<b>: San Telmo<b><b>Cantidad de delitos<b>1<b>\",\"<b>Barrio<b>: San Telmo<b><b>Cantidad de delitos<b>1<b>\",\"<b>Barrio<b>: San Telmo<b><b>Cantidad de delitos<b>1<b>\",\"<b>Barrio<b>: San Telmo<b><b>Cantidad de delitos<b>1<b>\",\"<b>Barrio<b>: San Telmo<b><b>Cantidad de delitos<b>1<b>\",\"<b>Barrio<b>: San Telmo<b><b>Cantidad de delitos<b>1<b>\",\"<b>Barrio<b>: San Telmo<b><b>Cantidad de delitos<b>1<b>\",\"<b>Barrio<b>: Versalles<b><b>Cantidad de delitos<b>2<b>\",\"<b>Barrio<b>: Versalles<b><b>Cantidad de delitos<b>1<b>\",\"<b>Barrio<b>: Versalles<b><b>Cantidad de delitos<b>1<b>\",\"<b>Barrio<b>: Villa Crespo<b><b>Cantidad de delitos<b>1<b>\",\"<b>Barrio<b>: Villa Crespo<b><b>Cantidad de delitos<b>1<b>\",\"<b>Barrio<b>: Villa Crespo<b><b>Cantidad de delitos<b>1<b>\",\"<b>Barrio<b>: Villa Crespo<b><b>Cantidad de delitos<b>1<b>\",\"<b>Barrio<b>: Villa Crespo<b><b>Cantidad de delitos<b>1<b>\",\"<b>Barrio<b>: Villa Crespo<b><b>Cantidad de delitos<b>1<b>\",\"<b>Barrio<b>: Villa Crespo<b><b>Cantidad de delitos<b>1<b>\",\"<b>Barrio<b>: Villa Crespo<b><b>Cantidad de delitos<b>1<b>\",\"<b>Barrio<b>: Villa Crespo<b><b>Cantidad de delitos<b>1<b>\",\"<b>Barrio<b>: Villa Crespo<b><b>Cantidad de delitos<b>1<b>\",\"<b>Barrio<b>: Villa Crespo<b><b>Cantidad de delitos<b>1<b>\",\"<b>Barrio<b>: Villa Crespo<b><b>Cantidad de delitos<b>1<b>\",\"<b>Barrio<b>: Villa Crespo<b><b>Cantidad de delitos<b>1<b>\",\"<b>Barrio<b>: Villa Crespo<b><b>Cantidad de delitos<b>1<b>\",\"<b>Barrio<b>: Villa Crespo<b><b>Cantidad de delitos<b>1<b>\",\"<b>Barrio<b>: Villa Crespo<b><b>Cantidad de delitos<b>1<b>\",\"<b>Barrio<b>: Villa Crespo<b><b>Cantidad de delitos<b>1<b>\",\"<b>Barrio<b>: Villa Crespo<b><b>Cantidad de delitos<b>1<b>\",\"<b>Barrio<b>: Villa Crespo<b><b>Cantidad de delitos<b>1<b>\",\"<b>Barrio<b>: Villa Crespo<b><b>Cantidad de delitos<b>1<b>\",\"<b>Barrio<b>: Villa Crespo<b><b>Cantidad de delitos<b>1<b>\",\"<b>Barrio<b>: Villa Crespo<b><b>Cantidad de delitos<b>1<b>\",\"<b>Barrio<b>: Villa Del Parque<b><b>Cantidad de delitos<b>1<b>\",\"<b>Barrio<b>: Villa Del Parque<b><b>Cantidad de delitos<b>1<b>\",\"<b>Barrio<b>: Villa Del Parque<b><b>Cantidad de delitos<b>1<b>\",\"<b>Barrio<b>: Villa Del Parque<b><b>Cantidad de delitos<b>1<b>\",\"<b>Barrio<b>: Villa Del Parque<b><b>Cantidad de delitos<b>1<b>\",\"<b>Barrio<b>: Villa Del Parque<b><b>Cantidad de delitos<b>1<b>\",\"<b>Barrio<b>: Villa Del Parque<b><b>Cantidad de delitos<b>1<b>\",\"<b>Barrio<b>: Villa Del Parque<b><b>Cantidad de delitos<b>1<b>\",\"<b>Barrio<b>: Villa Del Parque<b><b>Cantidad de delitos<b>1<b>\",\"<b>Barrio<b>: Villa Del Parque<b><b>Cantidad de delitos<b>1<b>\",\"<b>Barrio<b>: Villa Del Parque<b><b>Cantidad de delitos<b>2<b>\",\"<b>Barrio<b>: Villa Del Parque<b><b>Cantidad de delitos<b>1<b>\",\"<b>Barrio<b>: Villa Del Parque<b><b>Cantidad de delitos<b>1<b>\",\"<b>Barrio<b>: Villa Devoto<b><b>Cantidad de delitos<b>1<b>\",\"<b>Barrio<b>: Villa Devoto<b><b>Cantidad de delitos<b>1<b>\",\"<b>Barrio<b>: Villa Devoto<b><b>Cantidad de delitos<b>1<b>\",\"<b>Barrio<b>: Villa Devoto<b><b>Cantidad de delitos<b>1<b>\",\"<b>Barrio<b>: Villa Devoto<b><b>Cantidad de delitos<b>1<b>\",\"<b>Barrio<b>: Villa Devoto<b><b>Cantidad de delitos<b>1<b>\",\"<b>Barrio<b>: Villa Devoto<b><b>Cantidad de delitos<b>1<b>\",\"<b>Barrio<b>: Villa Devoto<b><b>Cantidad de delitos<b>1<b>\",\"<b>Barrio<b>: Villa Devoto<b><b>Cantidad de delitos<b>1<b>\",\"<b>Barrio<b>: Villa Devoto<b><b>Cantidad de delitos<b>1<b>\",\"<b>Barrio<b>: Villa Devoto<b><b>Cantidad de delitos<b>1<b>\",\"<b>Barrio<b>: Villa Devoto<b><b>Cantidad de delitos<b>1<b>\",\"<b>Barrio<b>: Villa Devoto<b><b>Cantidad de delitos<b>1<b>\",\"<b>Barrio<b>: Villa Devoto<b><b>Cantidad de delitos<b>1<b>\",\"<b>Barrio<b>: Villa Devoto<b><b>Cantidad de delitos<b>1<b>\",\"<b>Barrio<b>: Villa Devoto<b><b>Cantidad de delitos<b>1<b>\",\"<b>Barrio<b>: Villa Devoto<b><b>Cantidad de delitos<b>1<b>\",\"<b>Barrio<b>: Villa Devoto<b><b>Cantidad de delitos<b>1<b>\",\"<b>Barrio<b>: Villa Devoto<b><b>Cantidad de delitos<b>1<b>\",\"<b>Barrio<b>: Villa Gral. Mitre<b><b>Cantidad de delitos<b>2<b>\",\"<b>Barrio<b>: Villa Gral. Mitre<b><b>Cantidad de delitos<b>1<b>\",\"<b>Barrio<b>: Villa Gral. Mitre<b><b>Cantidad de delitos<b>1<b>\",\"<b>Barrio<b>: Villa Gral. Mitre<b><b>Cantidad de delitos<b>1<b>\",\"<b>Barrio<b>: Villa Gral. Mitre<b><b>Cantidad de delitos<b>1<b>\",\"<b>Barrio<b>: Villa Gral. Mitre<b><b>Cantidad de delitos<b>1<b>\",\"<b>Barrio<b>: Villa Gral. Mitre<b><b>Cantidad de delitos<b>1<b>\",\"<b>Barrio<b>: Villa Gral. Mitre<b><b>Cantidad de delitos<b>1<b>\",\"<b>Barrio<b>: Villa Gral. Mitre<b><b>Cantidad de delitos<b>1<b>\",\"<b>Barrio<b>: Villa Lugano<b><b>Cantidad de delitos<b>1<b>\",\"<b>Barrio<b>: Villa Lugano<b><b>Cantidad de delitos<b>1<b>\",\"<b>Barrio<b>: Villa Lugano<b><b>Cantidad de delitos<b>1<b>\",\"<b>Barrio<b>: Villa Lugano<b><b>Cantidad de delitos<b>1<b>\",\"<b>Barrio<b>: Villa Lugano<b><b>Cantidad de delitos<b>1<b>\",\"<b>Barrio<b>: Villa Lugano<b><b>Cantidad de delitos<b>2<b>\",\"<b>Barrio<b>: Villa Lugano<b><b>Cantidad de delitos<b>1<b>\",\"<b>Barrio<b>: Villa Lugano<b><b>Cantidad de delitos<b>1<b>\",\"<b>Barrio<b>: Villa Lugano<b><b>Cantidad de delitos<b>1<b>\",\"<b>Barrio<b>: Villa Lugano<b><b>Cantidad de delitos<b>1<b>\",\"<b>Barrio<b>: Villa Lugano<b><b>Cantidad de delitos<b>1<b>\",\"<b>Barrio<b>: Villa Lugano<b><b>Cantidad de delitos<b>1<b>\",\"<b>Barrio<b>: Villa Lugano<b><b>Cantidad de delitos<b>1<b>\",\"<b>Barrio<b>: Villa Lugano<b><b>Cantidad de delitos<b>1<b>\",\"<b>Barrio<b>: Villa Lugano<b><b>Cantidad de delitos<b>1<b>\",\"<b>Barrio<b>: Villa Lugano<b><b>Cantidad de delitos<b>1<b>\",\"<b>Barrio<b>: Villa Lugano<b><b>Cantidad de delitos<b>1<b>\",\"<b>Barrio<b>: Villa Lugano<b><b>Cantidad de delitos<b>1<b>\",\"<b>Barrio<b>: Villa Lugano<b><b>Cantidad de delitos<b>1<b>\",\"<b>Barrio<b>: Villa Lugano<b><b>Cantidad de delitos<b>1<b>\",\"<b>Barrio<b>: Villa Lugano<b><b>Cantidad de delitos<b>1<b>\",\"<b>Barrio<b>: Villa Lugano<b><b>Cantidad de delitos<b>1<b>\",\"<b>Barrio<b>: Villa Lugano<b><b>Cantidad de delitos<b>1<b>\",\"<b>Barrio<b>: Villa Lugano<b><b>Cantidad de delitos<b>1<b>\",\"<b>Barrio<b>: Villa Lugano<b><b>Cantidad de delitos<b>1<b>\",\"<b>Barrio<b>: Villa Lugano<b><b>Cantidad de delitos<b>1<b>\",\"<b>Barrio<b>: Villa Lugano<b><b>Cantidad de delitos<b>1<b>\",\"<b>Barrio<b>: Villa Lugano<b><b>Cantidad de delitos<b>1<b>\",\"<b>Barrio<b>: Villa Lugano<b><b>Cantidad de delitos<b>1<b>\",\"<b>Barrio<b>: Villa Lugano<b><b>Cantidad de delitos<b>1<b>\",\"<b>Barrio<b>: Villa Lugano<b><b>Cantidad de delitos<b>1<b>\",\"<b>Barrio<b>: Villa Lugano<b><b>Cantidad de delitos<b>1<b>\",\"<b>Barrio<b>: Villa Lugano<b><b>Cantidad de delitos<b>2<b>\",\"<b>Barrio<b>: Villa Lugano<b><b>Cantidad de delitos<b>1<b>\",\"<b>Barrio<b>: Villa Lugano<b><b>Cantidad de delitos<b>1<b>\",\"<b>Barrio<b>: Villa Lugano<b><b>Cantidad de delitos<b>1<b>\",\"<b>Barrio<b>: Villa Lugano<b><b>Cantidad de delitos<b>1<b>\",\"<b>Barrio<b>: Villa Lugano<b><b>Cantidad de delitos<b>2<b>\",\"<b>Barrio<b>: Villa Luro<b><b>Cantidad de delitos<b>1<b>\",\"<b>Barrio<b>: Villa Luro<b><b>Cantidad de delitos<b>1<b>\",\"<b>Barrio<b>: Villa Luro<b><b>Cantidad de delitos<b>1<b>\",\"<b>Barrio<b>: Villa Luro<b><b>Cantidad de delitos<b>1<b>\",\"<b>Barrio<b>: Villa Luro<b><b>Cantidad de delitos<b>1<b>\",\"<b>Barrio<b>: Villa Luro<b><b>Cantidad de delitos<b>1<b>\",\"<b>Barrio<b>: Villa Luro<b><b>Cantidad de delitos<b>1<b>\",\"<b>Barrio<b>: Villa Luro<b><b>Cantidad de delitos<b>1<b>\",\"<b>Barrio<b>: Villa Ortuzar<b><b>Cantidad de delitos<b>1<b>\",\"<b>Barrio<b>: Villa Ortuzar<b><b>Cantidad de delitos<b>1<b>\",\"<b>Barrio<b>: Villa Ortuzar<b><b>Cantidad de delitos<b>1<b>\",\"<b>Barrio<b>: Villa Pueyrred\\u00f3n<b><b>Cantidad de delitos<b>1<b>\",\"<b>Barrio<b>: Villa Pueyrred\\u00f3n<b><b>Cantidad de delitos<b>1<b>\",\"<b>Barrio<b>: Villa Pueyrred\\u00f3n<b><b>Cantidad de delitos<b>1<b>\",\"<b>Barrio<b>: Villa Pueyrred\\u00f3n<b><b>Cantidad de delitos<b>1<b>\",\"<b>Barrio<b>: Villa Pueyrred\\u00f3n<b><b>Cantidad de delitos<b>2<b>\",\"<b>Barrio<b>: Villa Pueyrred\\u00f3n<b><b>Cantidad de delitos<b>1<b>\",\"<b>Barrio<b>: Villa Pueyrred\\u00f3n<b><b>Cantidad de delitos<b>1<b>\",\"<b>Barrio<b>: Villa Pueyrred\\u00f3n<b><b>Cantidad de delitos<b>1<b>\",\"<b>Barrio<b>: Villa Pueyrred\\u00f3n<b><b>Cantidad de delitos<b>1<b>\",\"<b>Barrio<b>: Villa Pueyrred\\u00f3n<b><b>Cantidad de delitos<b>1<b>\",\"<b>Barrio<b>: Villa Pueyrred\\u00f3n<b><b>Cantidad de delitos<b>1<b>\",\"<b>Barrio<b>: Villa Pueyrred\\u00f3n<b><b>Cantidad de delitos<b>1<b>\",\"<b>Barrio<b>: Villa Pueyrred\\u00f3n<b><b>Cantidad de delitos<b>1<b>\",\"<b>Barrio<b>: Villa Pueyrred\\u00f3n<b><b>Cantidad de delitos<b>1<b>\",\"<b>Barrio<b>: Villa Real<b><b>Cantidad de delitos<b>1<b>\",\"<b>Barrio<b>: Villa Real<b><b>Cantidad de delitos<b>1<b>\",\"<b>Barrio<b>: Villa Real<b><b>Cantidad de delitos<b>1<b>\",\"<b>Barrio<b>: Villa Real<b><b>Cantidad de delitos<b>1<b>\",\"<b>Barrio<b>: Villa Real<b><b>Cantidad de delitos<b>1<b>\",\"<b>Barrio<b>: Villa Real<b><b>Cantidad de delitos<b>1<b>\",\"<b>Barrio<b>: Villa Real<b><b>Cantidad de delitos<b>1<b>\",\"<b>Barrio<b>: Villa Riachuelo<b><b>Cantidad de delitos<b>1<b>\",\"<b>Barrio<b>: Villa Riachuelo<b><b>Cantidad de delitos<b>1<b>\",\"<b>Barrio<b>: Villa Riachuelo<b><b>Cantidad de delitos<b>1<b>\",\"<b>Barrio<b>: Villa Riachuelo<b><b>Cantidad de delitos<b>1<b>\",\"<b>Barrio<b>: Villa Santa Rita<b><b>Cantidad de delitos<b>1<b>\",\"<b>Barrio<b>: Villa Santa Rita<b><b>Cantidad de delitos<b>1<b>\",\"<b>Barrio<b>: Villa Santa Rita<b><b>Cantidad de delitos<b>1<b>\",\"<b>Barrio<b>: Villa Santa Rita<b><b>Cantidad de delitos<b>1<b>\",\"<b>Barrio<b>: Villa Santa Rita<b><b>Cantidad de delitos<b>1<b>\",\"<b>Barrio<b>: Villa Santa Rita<b><b>Cantidad de delitos<b>1<b>\",\"<b>Barrio<b>: Villa Santa Rita<b><b>Cantidad de delitos<b>1<b>\",\"<b>Barrio<b>: Villa Santa Rita<b><b>Cantidad de delitos<b>1<b>\",\"<b>Barrio<b>: Villa Santa Rita<b><b>Cantidad de delitos<b>1<b>\",\"<b>Barrio<b>: Villa Santa Rita<b><b>Cantidad de delitos<b>1<b>\",\"<b>Barrio<b>: Villa Santa Rita<b><b>Cantidad de delitos<b>1<b>\",\"<b>Barrio<b>: Villa Soldati<b><b>Cantidad de delitos<b>1<b>\",\"<b>Barrio<b>: Villa Soldati<b><b>Cantidad de delitos<b>1<b>\",\"<b>Barrio<b>: Villa Soldati<b><b>Cantidad de delitos<b>2<b>\",\"<b>Barrio<b>: Villa Soldati<b><b>Cantidad de delitos<b>1<b>\",\"<b>Barrio<b>: Villa Soldati<b><b>Cantidad de delitos<b>1<b>\",\"<b>Barrio<b>: Villa Soldati<b><b>Cantidad de delitos<b>1<b>\",\"<b>Barrio<b>: Villa Soldati<b><b>Cantidad de delitos<b>1<b>\",\"<b>Barrio<b>: Villa Soldati<b><b>Cantidad de delitos<b>1<b>\",\"<b>Barrio<b>: Villa Soldati<b><b>Cantidad de delitos<b>1<b>\",\"<b>Barrio<b>: Villa Soldati<b><b>Cantidad de delitos<b>1<b>\",\"<b>Barrio<b>: Villa Soldati<b><b>Cantidad de delitos<b>1<b>\",\"<b>Barrio<b>: Villa Soldati<b><b>Cantidad de delitos<b>1<b>\",\"<b>Barrio<b>: Villa Soldati<b><b>Cantidad de delitos<b>1<b>\",\"<b>Barrio<b>: Villa Soldati<b><b>Cantidad de delitos<b>1<b>\",\"<b>Barrio<b>: Villa Soldati<b><b>Cantidad de delitos<b>1<b>\",\"<b>Barrio<b>: Villa Soldati<b><b>Cantidad de delitos<b>1<b>\",\"<b>Barrio<b>: Villa Soldati<b><b>Cantidad de delitos<b>2<b>\",\"<b>Barrio<b>: Villa Soldati<b><b>Cantidad de delitos<b>1<b>\",\"<b>Barrio<b>: Villa Soldati<b><b>Cantidad de delitos<b>1<b>\",\"<b>Barrio<b>: Villa Soldati<b><b>Cantidad de delitos<b>1<b>\",\"<b>Barrio<b>: Villa Soldati<b><b>Cantidad de delitos<b>1<b>\",\"<b>Barrio<b>: Villa Soldati<b><b>Cantidad de delitos<b>1<b>\",\"<b>Barrio<b>: Villa Soldati<b><b>Cantidad de delitos<b>1<b>\",\"<b>Barrio<b>: Villa Soldati<b><b>Cantidad de delitos<b>1<b>\",\"<b>Barrio<b>: Villa Soldati<b><b>Cantidad de delitos<b>1<b>\",\"<b>Barrio<b>: Villa Soldati<b><b>Cantidad de delitos<b>1<b>\",\"<b>Barrio<b>: Villa Soldati<b><b>Cantidad de delitos<b>1<b>\",\"<b>Barrio<b>: Villa Soldati<b><b>Cantidad de delitos<b>2<b>\",\"<b>Barrio<b>: Villa Soldati<b><b>Cantidad de delitos<b>1<b>\",\"<b>Barrio<b>: Villa Soldati<b><b>Cantidad de delitos<b>1<b>\",\"<b>Barrio<b>: Villa Soldati<b><b>Cantidad de delitos<b>1<b>\",\"<b>Barrio<b>: Villa Soldati<b><b>Cantidad de delitos<b>1<b>\",\"<b>Barrio<b>: Villa Soldati<b><b>Cantidad de delitos<b>1<b>\",\"<b>Barrio<b>: Villa Soldati<b><b>Cantidad de delitos<b>1<b>\",\"<b>Barrio<b>: Villa Soldati<b><b>Cantidad de delitos<b>1<b>\",\"<b>Barrio<b>: Villa Urquiza<b><b>Cantidad de delitos<b>1<b>\",\"<b>Barrio<b>: Villa Urquiza<b><b>Cantidad de delitos<b>1<b>\",\"<b>Barrio<b>: Villa Urquiza<b><b>Cantidad de delitos<b>1<b>\",\"<b>Barrio<b>: Villa Urquiza<b><b>Cantidad de delitos<b>1<b>\",\"<b>Barrio<b>: Villa Urquiza<b><b>Cantidad de delitos<b>1<b>\",\"<b>Barrio<b>: Villa Urquiza<b><b>Cantidad de delitos<b>1<b>\",\"<b>Barrio<b>: Villa Urquiza<b><b>Cantidad de delitos<b>1<b>\",\"<b>Barrio<b>: Villa Urquiza<b><b>Cantidad de delitos<b>1<b>\",\"<b>Barrio<b>: Villa Urquiza<b><b>Cantidad de delitos<b>1<b>\",\"<b>Barrio<b>: Villa Urquiza<b><b>Cantidad de delitos<b>1<b>\",\"<b>Barrio<b>: Villa Urquiza<b><b>Cantidad de delitos<b>1<b>\",\"<b>Barrio<b>: Villa Urquiza<b><b>Cantidad de delitos<b>1<b>\",\"<b>Barrio<b>: Villa Urquiza<b><b>Cantidad de delitos<b>1<b>\",\"<b>Barrio<b>: Villa Urquiza<b><b>Cantidad de delitos<b>1<b>\",\"<b>Barrio<b>: Villa Urquiza<b><b>Cantidad de delitos<b>1<b>\",\"<b>Barrio<b>: Villa Urquiza<b><b>Cantidad de delitos<b>1<b>\",\"<b>Barrio<b>: Villa Urquiza<b><b>Cantidad de delitos<b>1<b>\",\"<b>Barrio<b>: Villa Urquiza<b><b>Cantidad de delitos<b>1<b>\",\"<b>Barrio<b>: Villa Urquiza<b><b>Cantidad de delitos<b>1<b>\",\"<b>Barrio<b>: Villa Urquiza<b><b>Cantidad de delitos<b>1<b>\",\"<b>Barrio<b>: Villa Urquiza<b><b>Cantidad de delitos<b>1<b>\",\"<b>Barrio<b>: Villa Urquiza<b><b>Cantidad de delitos<b>1<b>\",\"<b>Barrio<b>: Villa Urquiza<b><b>Cantidad de delitos<b>1<b>\",\"<b>Barrio<b>: Villa Urquiza<b><b>Cantidad de delitos<b>1<b>\",\"<b>Barrio<b>: Villa Urquiza<b><b>Cantidad de delitos<b>1<b>\",\"<b>Barrio<b>: Villa Urquiza<b><b>Cantidad de delitos<b>1<b>\",\"<b>Barrio<b>: Villa Urquiza<b><b>Cantidad de delitos<b>1<b>\",\"<b>Barrio<b>: Villa Urquiza<b><b>Cantidad de delitos<b>1<b>\",\"<b>Barrio<b>: Villa Urquiza<b><b>Cantidad de delitos<b>1<b>\",\"<b>Barrio<b>: Villa Urquiza<b><b>Cantidad de delitos<b>1<b>\",\"<b>Barrio<b>: Villa Urquiza<b><b>Cantidad de delitos<b>1<b>\",\"<b>Barrio<b>: Villa Urquiza<b><b>Cantidad de delitos<b>1<b>\",\"<b>Barrio<b>: Villa Urquiza<b><b>Cantidad de delitos<b>1<b>\",\"<b>Barrio<b>: Villa Urquiza<b><b>Cantidad de delitos<b>1<b>\",\"<b>Barrio<b>: Villa Urquiza<b><b>Cantidad de delitos<b>1<b>\",\"<b>Barrio<b>: Villa Urquiza<b><b>Cantidad de delitos<b>1<b>\",\"<b>Barrio<b>: Villa Urquiza<b><b>Cantidad de delitos<b>1<b>\",\"<b>Barrio<b>: Villa Urquiza<b><b>Cantidad de delitos<b>1<b>\",\"<b>Barrio<b>: Villa Urquiza<b><b>Cantidad de delitos<b>1<b>\",\"<b>Barrio<b>: V\\u00e9lez S\\u00e1rsfield<b><b>Cantidad de delitos<b>1<b>\",\"<b>Barrio<b>: V\\u00e9lez S\\u00e1rsfield<b><b>Cantidad de delitos<b>1<b>\",\"<b>Barrio<b>: V\\u00e9lez S\\u00e1rsfield<b><b>Cantidad de delitos<b>1<b>\",\"<b>Barrio<b>: V\\u00e9lez S\\u00e1rsfield<b><b>Cantidad de delitos<b>1<b>\",\"<b>Barrio<b>: V\\u00e9lez S\\u00e1rsfield<b><b>Cantidad de delitos<b>1<b>\",\"<b>Barrio<b>: V\\u00e9lez S\\u00e1rsfield<b><b>Cantidad de delitos<b>1<b>\"],\"lat\":[-34.595715,-34.594778,-34.594775,-34.588351,-34.601001,-34.606034,-34.602445,-34.613265,-34.621236,-34.612281,-34.610245,-34.619162,-34.610955,-34.600539,-34.612029,-34.599433,-34.601775,-34.609544,-34.60622,-34.598546,-34.605048,-34.620103,-34.614613,-34.610487,-34.610689,-34.604359,-34.603319,-34.603441,-34.607285,-34.610757,-34.604598,-34.599901,-34.600958,-34.600042,-34.610041,-34.610941,-34.614282,-34.613767,-34.618826,-34.61855,-34.59795,-34.601838,-34.605856,-34.606465,-34.619693,-34.609375,-34.604014,-34.617148,-34.605103,-34.606115,-34.605004,-34.605118,-34.605241,-34.604082,-34.60403,-34.603955,-34.610593,-34.61035,-34.606716,-34.606746,-34.605241,-34.610334,-34.609112,-34.601915,-34.604732,-34.618011,-34.60063,-34.618699,-34.606528,-34.606519,-34.608839,-34.609298,-34.606545,-34.609095,-34.604688,-34.61242,-34.613422,-34.60336,-34.61883,-34.607162,-34.606296,-34.615564,-34.601956,-34.601574,-34.618838,-34.601314,-34.599556,-34.606258,-34.599585,-34.606152,-34.606838,-34.612081,-34.605103,-34.602181,-34.606138,-34.606019,-34.607202,-34.600518,-34.607881,-34.613001,-34.603345,-34.604611,-34.609482,-34.604597,-34.609536,-34.604495,-34.607309,-34.615014,-34.60682,-34.601985,-34.603154,-34.604434,-34.608601,-34.605645,-34.607878,-34.607008,-34.606787,-34.607985,-34.609233,-34.610339,-34.651069,-34.651048,-34.65617,-34.65143,-34.65003,-34.64847,-34.652617,-34.655133,-34.648826,-34.648177,-34.648171,-34.642873,-34.646074,-34.633829,-34.632661,-34.635553,-34.64779,-34.633705,-34.642953,-34.653596,-34.635064,-34.650543,-34.647997,-34.647316,-34.647845,-34.637239,-34.635764,-34.642903,-34.635967,-34.637743,-34.64048,-34.633118,-34.648171,-34.639402,-34.642158,-34.650986,-34.635561,-34.644873,-34.566778,-34.557888,-34.564905,-34.557163,-34.560585,-34.571789,-34.560104,-34.560435,-34.564198,-34.55981,-34.566777,-34.558783,-34.562126,-34.557451,-34.563687,-34.561409,-34.561646,-34.5559,-34.562653,-34.562827,-34.558527,-34.56264,-34.562764,-34.564673,-34.564708,-34.55283,-34.566296,-34.562428,-34.557305,-34.556931,-34.56151,-34.558442,-34.555316,-34.540487,-34.559963,-34.560401,-34.551561,-34.553195,-34.558926,-34.553141,-34.548396,-34.554909,-34.553275,-34.542998,-34.553595,-34.635435,-34.627181,-34.631262,-34.638773,-34.626657,-34.637304,-34.628641,-34.636337,-34.644029,-34.635099,-34.627914,-34.634491,-34.619152,-34.624829,-34.624956,-34.627346,-34.629342,-34.632107,-34.626185,-34.63663,-34.639739,-34.622184,-34.626041,-34.636316,-34.634414,-34.633104,-34.63721,-34.63105,-34.633669,-34.631733,-34.631004,-34.626889,-34.625186,-34.638156,-34.632965,-34.611341,-34.612812,-34.625753,-34.626679,-34.616765,-34.623153,-34.626933,-34.624305,-34.628143,-34.622664,-34.626242,-34.610345,-34.628954,-34.623527,-34.624721,-34.610285,-34.617571,-34.624041,-34.616707,-34.614036,-34.622498,-34.629158,-34.615896,-34.616391,-34.61522,-34.618677,-34.608715,-34.60862,-34.619431,-34.607788,-34.621414,-34.619255,-34.625866,-34.604798,-34.625915,-34.614853,-34.624319,-34.605433,-34.612218,-34.627425,-34.627431,-34.61582,-34.625591,-34.618712,-34.627411,-34.619398,-34.627198,-34.625267,-34.581431,-34.580118,-34.582163,-34.581299,-34.590087,-34.585182,-34.583112,-34.584683,-34.580502,-34.593032,-34.585846,-34.593598,-34.583125,-34.583893,-34.585401,-34.588354,-34.556711,-34.557875,-34.562575,-34.559033,-34.563672,-34.575815,-34.572009,-34.568584,-34.568351,-34.577668,-34.579352,-34.575404,-34.578113,-34.581846,-34.582786,-34.571446,-34.633929,-34.626204,-34.620046,-34.624828,-34.624849,-34.624757,-34.627042,-34.622312,-34.624709,-34.620702,-34.620977,-34.619726,-34.619167,-34.622241,-34.627568,-34.625988,-34.627273,-34.624718,-34.627798,-34.619753,-34.625877,-34.627261,-34.624645,-34.618517,-34.626368,-34.627712,-34.62119,-34.618406,-34.627778,-34.629331,-34.627161,-34.627126,-34.629867,-34.622004,-34.631266,-34.627423,-34.636327,-34.633753,-34.630705,-34.62417,-34.639182,-34.634056,-34.637649,-34.636281,-34.633626,-34.63091,-34.615738,-34.617606,-34.628379,-34.61956,-34.615958,-34.630763,-34.619522,-34.627876,-34.619761,-34.633013,-34.627129,-34.623131,-34.650549,-34.648003,-34.644818,-34.64318,-34.635565,-34.639363,-34.621203,-34.6264,-34.65082,-34.631498,-34.642296,-34.625601,-34.628649,-34.650214,-34.639995,-34.642092,-34.641356,-34.641442,-34.630656,-34.647119,-34.647525,-34.648812,-34.64779,-34.650338,-34.6245,-34.621087,-34.626678,-34.625142,-34.632948,-34.63394,-34.631898,-34.630275,-34.638377,-34.640558,-34.635535,-34.641738,-34.64478,-34.63579,-34.639147,-34.640251,-34.639048,-34.63893,-34.641264,-34.649926,-34.633073,-34.646555,-34.649186,-34.659933,-34.657258,-34.663147,-34.664432,-34.667129,-34.669182,-34.663108,-34.672962,-34.649198,-34.673465,-34.645857,-34.644694,-34.64441,-34.654738,-34.647505,-34.653428,-34.652431,-34.651377,-34.664254,-34.663601,-34.653695,-34.661868,-34.660135,-34.611401,-34.609731,-34.611913,-34.618078,-34.609755,-34.617995,-34.613534,-34.617778,-34.612279,-34.612012,-34.609099,-34.612174,-34.611874,-34.609038,-34.617137,-34.608898,-34.615077,-34.609011,-34.608558,-34.609089,-34.615892,-34.613437,-34.623174,-34.627654,-34.622707,-34.620913,-34.617995,-34.62385,-34.626047,-34.624422,-34.615203,-34.621892,-34.611998,-34.618229,-34.645854,-34.653463,-34.64787,-34.65418,-34.650107,-34.657008,-34.651178,-34.65683,-34.642823,-34.65317,-34.65172,-34.65542,-34.644727,-34.65409,-34.649552,-34.648423,-34.652728,-34.650684,-34.641139,-34.643633,-34.652131,-34.64577,-34.648479,-34.650002,-34.651695,-34.652061,-34.650973,-34.648329,-34.651705,-34.654133,-34.654237,-34.649166,-34.650126,-34.650262,-34.65378,-34.648257,-34.648017,-34.655869,-34.552999,-34.543979,-34.553134,-34.556802,-34.536446,-34.551958,-34.549127,-34.536298,-34.547872,-34.548045,-34.546444,-34.535844,-34.546063,-34.551629,-34.541039,-34.544249,-34.548501,-34.551919,-34.546946,-34.548059,-34.548862,-34.569036,-34.58126,-34.568315,-34.572435,-34.570677,-34.565382,-34.57402,-34.566245,-34.58517,-34.57805,-34.564693,-34.585177,-34.579486,-34.573605,-34.578819,-34.575894,-34.588953,-34.574794,-34.583712,-34.574928,-34.569129,-34.575946,-34.588373,-34.588155,-34.590016,-34.587567,-34.57451,-34.58656,-34.589485,-34.58577,-34.581131,-34.592971,-34.589953,-34.592778,-34.559184,-34.559282,-34.582411,-34.588221,-34.581146,-34.590127,-34.588548,-34.59293,-34.588476,-34.589867,-34.578422,-34.589768,-34.574925,-34.556578,-34.579415,-34.578917,-34.570823,-34.579642,-34.581745,-34.571168,-34.58233,-34.58058,-34.580829,-34.597302,-34.571823,-34.586963,-34.58186,-34.590089,-34.582251,-34.588976,-34.589804,-34.593588,-34.586922,-34.587995,-34.591006,-34.588373,-34.592821,-34.588503,-34.583812,-34.597825,-34.584508,-34.584366,-34.585578,-34.586788,-34.57498,-34.583477,-34.581684,-34.591773,-34.593038,-34.584218,-34.592689,-34.593072,-34.587721,-34.582011,-34.587682,-34.586071,-34.584711,-34.588073,-34.588251,-34.588555,-34.589056,-34.579877,-34.588226,-34.558721,-34.575254,-34.574761,-34.580062,-34.583314,-34.564454,-34.57614,-34.569551,-34.645569,-34.641309,-34.645005,-34.644541,-34.639552,-34.654773,-34.650328,-34.654763,-34.640542,-34.653731,-34.659248,-34.656332,-34.643005,-34.645382,-34.645229,-34.650404,-34.658085,-34.650245,-34.661531,-34.662437,-34.658788,-34.646977,-34.645152,-34.658816,-34.653315,-34.640311,-34.645813,-34.643026,-34.652256,-34.647997,-34.630761,-34.634188,-34.634764,-34.637258,-34.629552,-34.631192,-34.643576,-34.636727,-34.635994,-34.637788,-34.647349,-34.629834,-34.63614,-34.636825,-34.643378,-34.633665,-34.634923,-34.643601,-34.644897,-34.635946,-34.633116,-34.63492,-34.638453,-34.583171,-34.58747,-34.589876,-34.584584,-34.58817,-34.586338,-34.580872,-34.588287,-34.588492,-34.642857,-34.645954,-34.635217,-34.636152,-34.633062,-34.633933,-34.634259,-34.637121,-34.631704,-34.638242,-34.639455,-34.642982,-34.645467,-34.644055,-34.635914,-34.630364,-34.63144,-34.641011,-34.636555,-34.64156,-34.636647,-34.592273,-34.592507,-34.603581,-34.592419,-34.599523,-34.596604,-34.600446,-34.592708,-34.594191,-34.598002,-34.592207,-34.59113,-34.59096,-34.591619,-34.589531,-34.587794,-34.590041,-34.596163,-34.590868,-34.594989,-34.593351,-34.585989,-34.595385,-34.590662,-34.585398,-34.591536,-34.597497,-34.593341,-34.584811,-34.58647,-34.59741,-34.592585,-34.59393,-34.588278,-34.591503,-34.596405,-34.595102,-34.589731,-34.594442,-34.596975,-34.593328,-34.589879,-34.598091,-34.591826,-34.596203,-34.585025,-34.589146,-34.583557,-34.591499,-34.588275,-34.595388,-34.589374,-34.586406,-34.592873,-34.590733,-34.597329,-34.583592,-34.59867,-34.584738,-34.58487,-34.589217,-34.593982,-34.58677,-34.58236,-34.587716,-34.584185,-34.583333,-34.598477,-34.587445,-34.592869,-34.591981,-34.583703,-34.58913,-34.588829,-34.585441,-34.591416,-34.585902,-34.577698,-34.58812,-34.586588,-34.5802,-34.596552,-34.599226,-34.598079,-34.594433,-34.580131,-34.581731,-34.593836,-34.588974,-34.589982,-34.596366,-34.597658,-34.598908,-34.585167,-34.583262,-34.592967,-34.587591,-34.586002,-34.554334,-34.549834,-34.552423,-34.555206,-34.552721,-34.554829,-34.548367,-34.554158,-34.548927,-34.545749,-34.551779,-34.550124,-34.552657,-34.544774,-34.545954,-34.556233,-34.542852,-34.541281,-34.540239,-34.53937,-34.554177,-34.54422,-34.545281,-34.620651,-34.622598,-34.620566,-34.627063,-34.62043,-34.620157,-34.625924,-34.6225,-34.624095,-34.624006,-34.623778,-34.625199,-34.627453,-34.619732,-34.627166,-34.623232,-34.620791,-34.625744,-34.626627,-34.619561,-34.621745,-34.626785,-34.625734,-34.619527,-34.623997,-34.626453,-34.622731,-34.627041,-34.608002,-34.600755,-34.602764,-34.609117,-34.607909,-34.609192,-34.602111,-34.60335,-34.603651,-34.600326,-34.602773,-34.603997,-34.600509,-34.60391,-34.605099,-34.601398,-34.599006,-34.600131,-34.604743,-34.599954,-34.599872,-34.599401,-34.603276,-34.605496,-34.602989,-34.620671,-34.619381,-34.618461,-34.617787,-34.627161,-34.624069,-34.619307,-34.619242,-34.634681,-34.624489,-34.625123,-34.597695,-34.603709,-34.596053,-34.595693,-34.606407,-34.596825,-34.597196,-34.595957,-34.601479,-34.600192,-34.605803,-34.602996,-34.595448,-34.605605,-34.599648,-34.591008,-34.596076,-34.599933,-34.597285,-34.593829,-34.594302,-34.597061,-34.612149,-34.607401,-34.605925,-34.597763,-34.597847,-34.599855,-34.609848,-34.606512,-34.60323,-34.603947,-34.600115,-34.603188,-34.604607,-34.612697,-34.604973,-34.603786,-34.59539,-34.615208,-34.615407,-34.595441,-34.58909,-34.606562,-34.608075,-34.59741,-34.592319,-34.602354,-34.60289,-34.589607,-34.595315,-34.596857,-34.593454,-34.608617,-34.613823,-34.608655,-34.603895,-34.617796,-34.605393,-34.611303,-34.614413,-34.61219,-34.607372,-34.671286,-34.680255,-34.666658,-34.681173,-34.677538,-34.682081,-34.671152,-34.666853,-34.676484,-34.678413,-34.684697,-34.670013,-34.67047,-34.66805,-34.667463,-34.679175,-34.677987,-34.68631,-34.678653,-34.661867,-34.658606,-34.672907,-34.667953,-34.678989,-34.666106,-34.675993,-34.665273,-34.674964,-34.67326,-34.678831,-34.677556,-34.662353,-34.674789,-34.677288,-34.677856,-34.68098,-34.684468,-34.685208,-34.628449,-34.629829,-34.644592,-34.644537,-34.635162,-34.638699,-34.640987,-34.643297,-34.583215,-34.585554,-34.578314,-34.570709,-34.574913,-34.58148,-34.58219,-34.572136,-34.587021,-34.589516,-34.580946,-34.588102,-34.575005,-34.576693,-34.582578,-34.577673,-34.584514,-34.614689,-34.623214,-34.622783,-34.624791,-34.619822,-34.616489,-34.617306,-34.686463,-34.691662,-34.691286,-34.703796,-34.616326,-34.617184,-34.611169,-34.613868,-34.620671,-34.615079,-34.616396,-34.611589,-34.623186,-34.613768,-34.620805,-34.664142,-34.664989,-34.67315,-34.65953,-34.659263,-34.656703,-34.660381,-34.662246,-34.663154,-34.67615,-34.664925,-34.662247,-34.653853,-34.663275,-34.665419,-34.662416,-34.668424,-34.663894,-34.66636,-34.684771,-34.661795,-34.660789,-34.662455,-34.6645,-34.660714,-34.654991,-34.660456,-34.654715,-34.661829,-34.661668,-34.665092,-34.656116,-34.656304,-34.664326,-34.658702,-34.57176,-34.571639,-34.572587,-34.572855,-34.572989,-34.577361,-34.568097,-34.573706,-34.5666,-34.569417,-34.57758,-34.579707,-34.58279,-34.573328,-34.571149,-34.583924,-34.57394,-34.573656,-34.577058,-34.571141,-34.570102,-34.570206,-34.579483,-34.575008,-34.570262,-34.568695,-34.566257,-34.574319,-34.57797,-34.562185,-34.567362,-34.577515,-34.57654,-34.572784,-34.576648,-34.567426,-34.566943,-34.566704,-34.567637,-34.624313,-34.634284,-34.623778,-34.626514,-34.635676,-34.630512],\"lon\":[-58.497791,-58.496584,-58.49573,-58.490805,-58.429953,-58.429151,-58.429136,-58.428152,-58.42732,-58.426048,-58.425891,-58.424926,-58.422245,-58.422216,-58.422118,-58.42196,-58.421733,-58.421291,-58.421215,-58.421017,-58.420412,-58.420369,-58.420339,-58.419762,-58.419736,-58.419648,-58.419515,-58.419118,-58.418669,-58.418592,-58.418118,-58.417918,-58.417799,-58.417626,-58.41742,-58.417344,-58.417256,-58.417249,-58.416791,-58.416736,-58.415566,-58.415234,-58.41495,-58.414912,-58.414839,-58.414588,-58.414519,-58.414207,-58.414079,-58.41365,-58.413449,-58.413417,-58.41268,-58.411747,-58.410864,-58.410672,-58.410216,-58.410205,-58.40998,-58.409807,-58.408894,-58.408887,-58.40884,-58.408704,-58.407944,-58.407072,-58.406509,-58.406475,-58.40629,-58.406154,-58.406035,-58.406012,-58.40595,-58.405899,-58.405688,-58.405573,-58.405282,-58.405225,-58.405062,-58.404772,-58.40411,-58.403604,-58.403595,-58.403582,-58.403518,-58.403448,-58.40206,-58.402049,-58.40093,-58.400728,-58.400629,-58.400323,-58.39952,-58.399472,-58.399226,-58.399121,-58.398858,-58.398716,-58.397739,-58.397216,-58.396924,-58.39667,-58.396293,-58.396104,-58.395382,-58.395295,-58.394979,-58.393477,-58.392882,-58.392599,-58.392394,-58.392293,-58.392216,-58.392201,-58.392175,-58.392135,-58.392119,-58.39204,-58.391962,-58.391882,-58.40057,-58.398799,-58.397515,-58.396622,-58.395543,-58.392461,-58.392145,-58.38699,-58.386857,-58.386711,-58.386593,-58.385364,-58.383928,-58.382902,-58.382642,-58.382148,-58.380957,-58.380119,-58.379417,-58.378887,-58.378709,-58.378632,-58.377937,-58.377879,-58.377568,-58.376438,-58.375238,-58.375096,-58.374902,-58.374149,-58.373809,-58.373458,-58.372831,-58.372211,-58.37133,-58.37007,-58.369959,-58.36866,-58.473103,-58.467182,-58.464605,-58.463692,-58.463673,-58.463157,-58.4626,-58.460947,-58.460348,-58.460083,-58.459687,-58.459324,-58.458736,-58.45862,-58.458154,-58.457071,-58.456275,-58.456015,-58.456003,-58.455853,-58.45567,-58.455176,-58.454608,-58.454585,-58.453871,-58.45284,-58.45272,-58.452449,-58.451225,-58.450996,-58.450896,-58.450587,-58.450004,-58.449274,-58.449159,-58.446695,-58.446261,-58.445795,-58.4442,-58.439235,-58.43911,-58.437466,-58.435307,-58.434739,-58.434657,-58.369315,-58.36699,-58.36654,-58.366348,-58.364166,-58.3639,-58.361617,-58.361306,-58.360997,-58.360876,-58.360876,-58.35938,-58.355489,-58.427137,-58.424526,-58.423909,-58.423852,-58.422868,-58.421801,-58.421567,-58.420922,-58.420573,-58.420252,-58.419554,-58.419298,-58.419246,-58.41762,-58.416026,-58.414465,-58.414435,-58.414066,-58.413364,-58.412125,-58.41163,-58.411482,-58.455261,-58.454015,-58.453728,-58.453438,-58.451439,-58.451206,-58.450974,-58.450665,-58.450397,-58.449833,-58.449434,-58.449353,-58.448809,-58.448649,-58.446533,-58.445963,-58.445524,-58.444915,-58.444244,-58.444167,-58.442135,-58.442117,-58.440888,-58.440285,-58.439297,-58.439275,-58.439123,-58.439093,-58.438806,-58.438603,-58.435956,-58.434864,-58.434309,-58.434278,-58.433895,-58.433732,-58.433552,-58.432635,-58.431119,-58.431037,-58.430914,-58.430872,-58.430843,-58.429974,-58.429637,-58.428813,-58.428163,-58.427719,-58.4593,-58.458453,-58.456708,-58.456155,-58.455509,-58.453967,-58.453676,-58.452324,-58.450955,-58.45057,-58.449782,-58.449738,-58.44613,-58.445996,-58.44348,-58.441392,-58.478575,-58.473756,-58.472522,-58.469164,-58.468613,-58.459796,-58.458802,-58.456577,-58.456082,-58.452469,-58.449111,-58.446548,-58.446285,-58.445438,-58.445178,-58.441947,-58.389522,-58.389095,-58.388137,-58.38747,-58.387194,-58.385788,-58.38522,-58.384398,-58.384386,-58.384308,-58.383579,-58.383173,-58.383127,-58.382968,-58.382885,-58.382884,-58.382838,-58.382626,-58.382335,-58.38145,-58.381305,-58.381106,-58.380897,-58.380649,-58.380189,-58.38003,-58.380017,-58.379796,-58.37962,-58.379052,-58.474347,-58.473893,-58.473578,-58.472973,-58.472088,-58.471104,-58.47021,-58.47001,-58.469639,-58.469502,-58.468989,-58.466682,-58.466441,-58.465729,-58.465154,-58.464963,-58.46414,-58.463879,-58.463723,-58.462906,-58.462697,-58.460085,-58.459954,-58.459437,-58.459165,-58.458886,-58.457839,-58.457536,-58.457396,-58.456932,-58.456348,-58.456308,-58.456308,-58.456151,-58.456077,-58.45579,-58.454637,-58.454379,-58.454193,-58.454184,-58.453828,-58.453767,-58.452608,-58.452486,-58.452038,-58.451986,-58.451925,-58.442878,-58.440834,-58.440701,-58.435064,-58.430986,-58.491344,-58.491296,-58.490533,-58.485923,-58.483488,-58.482379,-58.480503,-58.478973,-58.53004,-58.529939,-58.52922,-58.528951,-58.526769,-58.526755,-58.526418,-58.526347,-58.525096,-58.523725,-58.52107,-58.520796,-58.516844,-58.516634,-58.515627,-58.520131,-58.518772,-58.515986,-58.514294,-58.511546,-58.50812,-58.50389,-58.502901,-58.501261,-58.500678,-58.500649,-58.497203,-58.496832,-58.495562,-58.495348,-58.493994,-58.493894,-58.493557,-58.492194,-58.489328,-58.488885,-58.485035,-58.482332,-58.391707,-58.390612,-58.390415,-58.390333,-58.389904,-58.388971,-58.387521,-58.386401,-58.386163,-58.382707,-58.382236,-58.381233,-58.38121,-58.381153,-58.38024,-58.379195,-58.377492,-58.374759,-58.374272,-58.373509,-58.370573,-58.367831,-58.51833,-58.517409,-58.515783,-58.513625,-58.512255,-58.512206,-58.509359,-58.508549,-58.505122,-58.505049,-58.499542,-58.498685,-58.433141,-58.432141,-58.432128,-58.42718,-58.425297,-58.42426,-58.423156,-58.422831,-58.422818,-58.421211,-58.418865,-58.418082,-58.417202,-58.416597,-58.41651,-58.416287,-58.416195,-58.415742,-58.415271,-58.414706,-58.41414,-58.413812,-58.412875,-58.411722,-58.411076,-58.410295,-58.409578,-58.408894,-58.40741,-58.40737,-58.406554,-58.406332,-58.405448,-58.405232,-58.405142,-58.403787,-58.403486,-58.40275,-58.470374,-58.470304,-58.470166,-58.469671,-58.468711,-58.468705,-58.468223,-58.467561,-58.467438,-58.4673,-58.467254,-58.466808,-58.46665,-58.466036,-58.466007,-58.463636,-58.463572,-58.463238,-58.461656,-58.460943,-58.455549,-58.443805,-58.442775,-58.442499,-58.440901,-58.44087,-58.440329,-58.440211,-58.439591,-58.439514,-58.439273,-58.439189,-58.438769,-58.438744,-58.438615,-58.438065,-58.437055,-58.436312,-58.435844,-58.435729,-58.435351,-58.434835,-58.433486,-58.433365,-58.433133,-58.432173,-58.432051,-58.431585,-58.431253,-58.43116,-58.429629,-58.428799,-58.42806,-58.427986,-58.427605,-58.427487,-58.427393,-58.427185,-58.426846,-58.42662,-58.426074,-58.42605,-58.425998,-58.425941,-58.425781,-58.425714,-58.425433,-58.425342,-58.424491,-58.424325,-58.42411,-58.424079,-58.423408,-58.423331,-58.423249,-58.423106,-58.422607,-58.422399,-58.421756,-58.421746,-58.42124,-58.420756,-58.420371,-58.420351,-58.4203,-58.419906,-58.419423,-58.418788,-58.418664,-58.418631,-58.418445,-58.418291,-58.418264,-58.418175,-58.417268,-58.417173,-58.417117,-58.41682,-58.416736,-58.415406,-58.415259,-58.415231,-58.415158,-58.41504,-58.414604,-58.414091,-58.413528,-58.412636,-58.412116,-58.411972,-58.411937,-58.411563,-58.411548,-58.411505,-58.410666,-58.410086,-58.409838,-58.409503,-58.409501,-58.408221,-58.406183,-58.404911,-58.402953,-58.401787,-58.401504,-58.398924,-58.488704,-58.487629,-58.486026,-58.485452,-58.483906,-58.481617,-58.479768,-58.478842,-58.478525,-58.477529,-58.477042,-58.476895,-58.476475,-58.476293,-58.474961,-58.47373,-58.473659,-58.473618,-58.473502,-58.472991,-58.472766,-58.472753,-58.472743,-58.47273,-58.47273,-58.472294,-58.471936,-58.47178,-58.471326,-58.467672,-58.449216,-58.448593,-58.447298,-58.445316,-58.443746,-58.442423,-58.441477,-58.440554,-58.438966,-58.437944,-58.437425,-58.436882,-58.436797,-58.436404,-58.435897,-58.432861,-58.432555,-58.432219,-58.432189,-58.431597,-58.429551,-58.425446,-58.424058,-58.482688,-58.482405,-58.482352,-58.481002,-58.47884,-58.477402,-58.474793,-58.474034,-58.472118,-58.413072,-58.40811,-58.407973,-58.407633,-58.407592,-58.406523,-58.405945,-58.405611,-58.405473,-58.405338,-58.405101,-58.402345,-58.401844,-58.39917,-58.398911,-58.396264,-58.395964,-58.39536,-58.394866,-58.393809,-58.393174,-58.474246,-58.473823,-58.473544,-58.470255,-58.468008,-58.464874,-58.458524,-58.413122,-58.412073,-58.411924,-58.411618,-58.411604,-58.410353,-58.410058,-58.409509,-58.409076,-58.408903,-58.40846,-58.407944,-58.407875,-58.407792,-58.407743,-58.406687,-58.405745,-58.405733,-58.405469,-58.405373,-58.405112,-58.404783,-58.404397,-58.40437,-58.404192,-58.403758,-58.40374,-58.403729,-58.403126,-58.40268,-58.402556,-58.402354,-58.402023,-58.401852,-58.400891,-58.400764,-58.400493,-58.400129,-58.399937,-58.399842,-58.399814,-58.399647,-58.399018,-58.398528,-58.39825,-58.398107,-58.397473,-58.397336,-58.395578,-58.395357,-58.395213,-58.394326,-58.393278,-58.392997,-58.391748,-58.390992,-58.390794,-58.390784,-58.390569,-58.390556,-58.389726,-58.389671,-58.389632,-58.389545,-58.389521,-58.388982,-58.388784,-58.388595,-58.387745,-58.387448,-58.387302,-58.386101,-58.385853,-58.386633,-58.385748,-58.385479,-58.384101,-58.383964,-58.382,-58.381263,-58.3801,-58.379618,-58.379361,-58.378446,-58.37837,-58.378287,-58.377614,-58.377318,-58.375367,-58.371545,-58.370644,-58.496592,-58.496064,-58.495564,-58.494877,-58.494089,-58.493877,-58.493326,-58.490981,-58.488872,-58.486934,-58.484049,-58.482341,-58.481706,-58.480684,-58.479372,-58.479046,-58.476407,-58.476032,-58.475639,-58.475488,-58.475327,-58.473405,-58.471013,-58.412076,-58.409833,-58.409273,-58.408564,-58.407704,-58.407659,-58.406907,-58.404387,-58.404072,-58.403355,-58.402176,-58.401851,-58.401334,-58.40089,-58.398762,-58.397832,-58.397761,-58.397272,-58.397076,-58.395931,-58.395648,-58.395532,-58.39452,-58.394503,-58.392736,-58.392313,-58.391495,-58.391193,-58.391882,-58.391431,-58.391172,-58.390741,-58.390677,-58.39056,-58.389565,-58.389403,-58.389386,-58.388163,-58.386647,-58.386598,-58.38536,-58.38514,-58.383627,-58.382359,-58.379754,-58.379675,-58.378014,-58.376807,-58.375372,-58.374089,-58.372215,-58.371725,-58.369934,-58.371426,-58.37042,-58.370277,-58.370223,-58.369556,-58.368068,-58.367166,-58.366333,-58.526916,-58.522826,-58.521471,-58.455922,-58.453539,-58.449581,-58.447318,-58.446623,-58.446069,-58.445653,-58.445194,-58.444724,-58.443362,-58.442117,-58.441883,-58.44105,-58.439288,-58.439173,-58.437456,-58.437213,-58.434901,-58.433045,-58.430956,-58.430063,-58.424847,-58.497531,-58.494888,-58.494755,-58.493455,-58.493372,-58.492813,-58.492256,-58.484322,-58.482609,-58.480628,-58.480275,-58.4799,-58.479558,-58.526167,-58.519589,-58.51949,-58.519174,-58.51909,-58.517586,-58.517132,-58.515002,-58.51481,-58.513577,-58.512686,-58.512148,-58.511385,-58.510654,-58.509665,-58.509358,-58.509184,-58.508095,-58.502652,-58.472253,-58.470667,-58.469099,-58.469094,-58.468651,-58.467848,-58.465488,-58.465428,-58.462705,-58.494547,-58.49346,-58.49228,-58.491927,-58.491911,-58.490743,-58.490711,-58.490669,-58.489352,-58.488799,-58.48832,-58.48827,-58.487799,-58.487514,-58.48656,-58.486332,-58.484223,-58.48314,-58.481776,-58.480109,-58.479329,-58.476309,-58.475583,-58.474836,-58.474544,-58.472692,-58.47213,-58.471537,-58.470411,-58.469048,-58.468335,-58.467519,-58.466394,-58.465449,-58.464738,-58.46465,-58.464569,-58.459279,-58.516378,-58.506192,-58.502125,-58.501806,-58.499793,-58.499222,-58.49716,-58.492366,-58.471964,-58.469196,-58.468775,-58.507878,-58.507667,-58.506533,-58.505752,-58.50552,-58.50549,-58.50528,-58.505262,-58.50299,-58.501174,-58.500572,-58.498468,-58.497751,-58.491889,-58.531079,-58.52962,-58.529204,-58.528042,-58.527497,-58.526396,-58.52509,-58.478625,-58.473269,-58.472795,-58.460718,-58.490081,-58.489006,-58.488878,-58.487352,-58.486474,-58.485704,-58.485572,-58.483114,-58.479589,-58.47777,-58.47756,-58.470453,-58.469389,-58.458364,-58.456696,-58.454703,-58.453717,-58.453372,-58.453124,-58.452588,-58.451694,-58.449959,-58.448753,-58.448048,-58.447442,-58.446587,-58.446366,-58.445574,-58.444564,-58.444495,-58.44433,-58.443495,-58.442262,-58.436725,-58.436576,-58.436338,-58.434472,-58.434282,-58.433995,-58.43375,-58.433504,-58.432729,-58.431806,-58.431294,-58.430017,-58.428242,-58.504841,-58.502043,-58.499697,-58.499483,-58.498275,-58.498033,-58.498027,-58.497516,-58.497283,-58.492438,-58.491996,-58.491206,-58.490799,-58.490664,-58.490122,-58.489831,-58.489723,-58.488899,-58.488864,-58.488753,-58.488371,-58.488288,-58.487881,-58.487254,-58.487158,-58.486818,-58.486598,-58.486385,-58.486227,-58.48622,-58.485655,-58.481401,-58.480578,-58.479441,-58.478488,-58.477165,-58.476146,-58.473333,-58.472638,-58.501722,-58.495544,-58.495242,-58.4918,-58.487025,-58.486844],\"marker\":{\"color\":[1,1,1,1,1,1,1,1,1,1,1,1,1,1,1,1,1,1,1,1,1,1,1,1,1,1,1,1,1,1,1,2,1,1,1,1,1,1,1,1,1,1,1,1,1,1,1,1,1,1,2,1,1,1,1,2,1,1,1,1,1,1,1,1,2,1,1,1,1,1,1,1,1,1,1,1,1,1,1,1,1,1,1,1,1,1,1,1,1,1,1,1,1,1,1,1,1,1,1,1,1,1,1,1,1,1,1,1,1,1,1,1,1,2,1,1,1,5,3,2,1,2,1,1,1,1,1,1,1,1,1,1,1,1,1,1,1,1,1,1,1,1,1,1,1,1,1,1,1,1,1,1,1,1,1,1,1,1,1,1,1,1,1,1,1,1,1,1,1,1,1,1,1,1,1,1,1,1,1,1,1,1,1,1,1,1,1,1,1,1,1,1,1,1,1,1,1,1,1,2,1,1,1,1,1,1,1,1,1,1,1,1,1,1,1,1,1,1,1,1,1,1,1,1,1,2,1,1,1,1,1,1,1,1,1,1,1,1,1,1,1,1,1,1,1,1,1,1,1,1,1,1,1,1,1,1,1,1,1,1,1,1,1,1,1,1,1,1,1,1,1,1,1,1,1,1,1,1,1,1,1,1,1,1,1,1,1,1,1,1,1,1,1,1,1,1,1,1,1,2,1,2,1,1,1,1,1,1,1,1,1,1,1,1,1,1,1,1,1,1,1,1,1,1,1,1,1,1,1,1,1,1,1,1,1,1,1,1,1,1,1,1,3,1,1,1,1,1,1,1,1,1,1,1,1,1,1,2,1,1,1,1,1,1,1,1,1,1,1,1,1,1,1,1,1,1,1,1,1,1,1,1,2,1,1,1,1,1,1,1,1,1,1,1,1,1,1,3,1,1,1,1,1,1,1,1,1,1,1,1,2,1,1,1,1,1,1,1,1,1,1,1,1,1,1,1,1,1,1,1,1,1,1,1,1,1,1,1,1,1,1,1,1,1,1,1,1,1,1,1,1,1,1,1,1,1,1,1,1,1,1,1,1,1,1,1,1,1,1,1,1,1,1,1,1,1,1,1,1,1,1,1,1,1,1,1,1,1,1,1,1,1,1,1,1,1,1,1,1,1,1,1,1,1,1,1,1,1,1,1,1,1,1,1,1,1,1,1,1,1,1,1,1,1,1,1,1,1,1,1,1,1,1,1,1,1,1,1,1,1,1,1,1,1,1,1,1,1,1,1,1,1,1,1,1,1,1,1,1,1,1,1,1,1,1,1,1,1,1,1,1,1,1,1,1,1,1,1,1,1,1,1,1,1,1,2,1,1,1,2,1,1,1,1,1,1,1,1,1,1,1,1,1,1,1,1,1,1,1,1,1,1,1,1,1,1,1,1,1,1,2,1,1,1,1,1,1,1,1,1,1,2,1,3,1,1,1,1,1,1,1,1,1,1,1,1,1,1,1,1,1,1,1,1,1,1,1,1,1,1,1,1,1,1,1,2,1,1,1,1,1,1,1,1,1,1,1,1,1,1,1,1,1,1,1,1,1,1,1,1,1,1,1,1,1,1,1,1,1,1,1,1,1,1,1,1,1,1,1,1,1,1,1,1,1,1,1,1,2,1,2,1,1,1,1,1,1,1,1,1,1,1,1,1,1,1,1,1,1,1,1,1,1,1,1,1,1,1,1,2,1,1,1,1,1,1,1,1,1,1,1,1,1,1,1,1,1,1,1,1,1,1,1,1,1,1,1,1,1,1,1,1,1,1,1,1,1,1,1,1,1,1,1,1,1,1,1,1,1,1,1,1,1,1,1,1,1,1,1,1,1,1,1,1,1,1,1,1,1,1,1,1,1,1,1,1,1,1,1,1,1,1,1,1,1,1,1,1,1,1,1,1,1,1,2,1,1,1,1,1,1,1,1,1,1,1,1,1,1,1,1,1,1,1,1,1,1,1,1,1,1,1,1,1,1,1,1,2,1,1,1,2,1,1,1,1,1,1,1,1,1,1,1,1,1,1,1,1,1,1,1,1,1,1,1,1,1,1,1,2,1,1,1,1,1,1,1,1,1,1,1,1,1,1,1,1,1,1,1,1,1,1,1,1,1,1,1,1,1,1,1,1,1,1,2,1,1,1,1,1,1,1,1,1,1,1,1,1,1,1,1,1,1,1,1,1,2,1,1,1,1,1,1,1,1,1,1,1,1,1,2,1,1,1,1,1,1,1,1,1,1,1,1,1,1,1,1,1,1,1,1,1,1,1,1,1,1,2,1,1,1,1,2,1,1,1,1,1,1,1,1,1,1,1,1,1,1,1,2,1,1,1,1,1,1,1,1,1,1,1,1,1,1,1,1,1,1,1,1,1,1,1,1,1,1,1,1,1,1,1,1,1,2,1,1,1,1,1,1,1,1,1,1,1,1,1,2,1,1,1,1,1,1,1,1,1,1,2,1,1,1,1,1,1,1,1,1,1,1,1,1,1,1,1,1,1,1,1,1,1,1,1,1,1,1,1,1,1,1,1,1,1,1,1,1,1,1,1,1,1,1,1,1,1,1,1,1,1,1,1],\"colorscale\":[[0.0,\"#313131\"],[0.0625,\"#3d019d\"],[0.125,\"#3810dc\"],[0.1875,\"#2d47f9\"],[0.25,\"#2593ff\"],[0.3125,\"#2adef6\"],[0.375,\"#60fdfa\"],[0.4375,\"#aefdff\"],[0.5,\"#f3f3f1\"],[0.5625,\"#fffda9\"],[0.625,\"#fafd5b\"],[0.6875,\"#f7da29\"],[0.75,\"#ff8e25\"],[0.8125,\"#f8432d\"],[0.875,\"#d90d39\"],[0.9375,\"#97023d\"],[1.0,\"#313131\"]],\"opacity\":0.8,\"showscale\":true,\"size\":[1,1,1,1,1,1,1,1,1,1,1,1,1,1,1,1,1,1,1,1,1,1,1,1,1,1,1,1,1,1,1,2,1,1,1,1,1,1,1,1,1,1,1,1,1,1,1,1,1,1,2,1,1,1,1,2,1,1,1,1,1,1,1,1,2,1,1,1,1,1,1,1,1,1,1,1,1,1,1,1,1,1,1,1,1,1,1,1,1,1,1,1,1,1,1,1,1,1,1,1,1,1,1,1,1,1,1,1,1,1,1,1,1,2,1,1,1,5,3,2,1,2,1,1,1,1,1,1,1,1,1,1,1,1,1,1,1,1,1,1,1,1,1,1,1,1,1,1,1,1,1,1,1,1,1,1,1,1,1,1,1,1,1,1,1,1,1,1,1,1,1,1,1,1,1,1,1,1,1,1,1,1,1,1,1,1,1,1,1,1,1,1,1,1,1,1,1,1,1,2,1,1,1,1,1,1,1,1,1,1,1,1,1,1,1,1,1,1,1,1,1,1,1,1,1,2,1,1,1,1,1,1,1,1,1,1,1,1,1,1,1,1,1,1,1,1,1,1,1,1,1,1,1,1,1,1,1,1,1,1,1,1,1,1,1,1,1,1,1,1,1,1,1,1,1,1,1,1,1,1,1,1,1,1,1,1,1,1,1,1,1,1,1,1,1,1,1,1,1,2,1,2,1,1,1,1,1,1,1,1,1,1,1,1,1,1,1,1,1,1,1,1,1,1,1,1,1,1,1,1,1,1,1,1,1,1,1,1,1,1,1,1,3,1,1,1,1,1,1,1,1,1,1,1,1,1,1,2,1,1,1,1,1,1,1,1,1,1,1,1,1,1,1,1,1,1,1,1,1,1,1,1,2,1,1,1,1,1,1,1,1,1,1,1,1,1,1,3,1,1,1,1,1,1,1,1,1,1,1,1,2,1,1,1,1,1,1,1,1,1,1,1,1,1,1,1,1,1,1,1,1,1,1,1,1,1,1,1,1,1,1,1,1,1,1,1,1,1,1,1,1,1,1,1,1,1,1,1,1,1,1,1,1,1,1,1,1,1,1,1,1,1,1,1,1,1,1,1,1,1,1,1,1,1,1,1,1,1,1,1,1,1,1,1,1,1,1,1,1,1,1,1,1,1,1,1,1,1,1,1,1,1,1,1,1,1,1,1,1,1,1,1,1,1,1,1,1,1,1,1,1,1,1,1,1,1,1,1,1,1,1,1,1,1,1,1,1,1,1,1,1,1,1,1,1,1,1,1,1,1,1,1,1,1,1,1,1,1,1,1,1,1,1,1,1,1,1,1,1,1,1,1,1,1,1,2,1,1,1,2,1,1,1,1,1,1,1,1,1,1,1,1,1,1,1,1,1,1,1,1,1,1,1,1,1,1,1,1,1,1,2,1,1,1,1,1,1,1,1,1,1,2,1,3,1,1,1,1,1,1,1,1,1,1,1,1,1,1,1,1,1,1,1,1,1,1,1,1,1,1,1,1,1,1,1,2,1,1,1,1,1,1,1,1,1,1,1,1,1,1,1,1,1,1,1,1,1,1,1,1,1,1,1,1,1,1,1,1,1,1,1,1,1,1,1,1,1,1,1,1,1,1,1,1,1,1,1,1,2,1,2,1,1,1,1,1,1,1,1,1,1,1,1,1,1,1,1,1,1,1,1,1,1,1,1,1,1,1,1,2,1,1,1,1,1,1,1,1,1,1,1,1,1,1,1,1,1,1,1,1,1,1,1,1,1,1,1,1,1,1,1,1,1,1,1,1,1,1,1,1,1,1,1,1,1,1,1,1,1,1,1,1,1,1,1,1,1,1,1,1,1,1,1,1,1,1,1,1,1,1,1,1,1,1,1,1,1,1,1,1,1,1,1,1,1,1,1,1,1,1,1,1,1,1,2,1,1,1,1,1,1,1,1,1,1,1,1,1,1,1,1,1,1,1,1,1,1,1,1,1,1,1,1,1,1,1,1,2,1,1,1,2,1,1,1,1,1,1,1,1,1,1,1,1,1,1,1,1,1,1,1,1,1,1,1,1,1,1,1,2,1,1,1,1,1,1,1,1,1,1,1,1,1,1,1,1,1,1,1,1,1,1,1,1,1,1,1,1,1,1,1,1,1,1,2,1,1,1,1,1,1,1,1,1,1,1,1,1,1,1,1,1,1,1,1,1,2,1,1,1,1,1,1,1,1,1,1,1,1,1,2,1,1,1,1,1,1,1,1,1,1,1,1,1,1,1,1,1,1,1,1,1,1,1,1,1,1,2,1,1,1,1,2,1,1,1,1,1,1,1,1,1,1,1,1,1,1,1,2,1,1,1,1,1,1,1,1,1,1,1,1,1,1,1,1,1,1,1,1,1,1,1,1,1,1,1,1,1,1,1,1,1,2,1,1,1,1,1,1,1,1,1,1,1,1,1,2,1,1,1,1,1,1,1,1,1,1,2,1,1,1,1,1,1,1,1,1,1,1,1,1,1,1,1,1,1,1,1,1,1,1,1,1,1,1,1,1,1,1,1,1,1,1,1,1,1,1,1,1,1,1,1,1,1,1,1,1,1,1,1],\"sizemode\":\"area\"},\"mode\":\"markers+text\",\"type\":\"scattermapbox\"}],                        {\"autosize\":true,\"hovermode\":\"x\",\"margin\":{\"b\":0,\"l\":0,\"r\":0,\"t\":0},\"showlegend\":true,\"template\":{\"data\":{\"bar\":[{\"error_x\":{\"color\":\"#2a3f5f\"},\"error_y\":{\"color\":\"#2a3f5f\"},\"marker\":{\"line\":{\"color\":\"#E5ECF6\",\"width\":0.5},\"pattern\":{\"fillmode\":\"overlay\",\"size\":10,\"solidity\":0.2}},\"type\":\"bar\"}],\"barpolar\":[{\"marker\":{\"line\":{\"color\":\"#E5ECF6\",\"width\":0.5},\"pattern\":{\"fillmode\":\"overlay\",\"size\":10,\"solidity\":0.2}},\"type\":\"barpolar\"}],\"carpet\":[{\"aaxis\":{\"endlinecolor\":\"#2a3f5f\",\"gridcolor\":\"white\",\"linecolor\":\"white\",\"minorgridcolor\":\"white\",\"startlinecolor\":\"#2a3f5f\"},\"baxis\":{\"endlinecolor\":\"#2a3f5f\",\"gridcolor\":\"white\",\"linecolor\":\"white\",\"minorgridcolor\":\"white\",\"startlinecolor\":\"#2a3f5f\"},\"type\":\"carpet\"}],\"choropleth\":[{\"colorbar\":{\"outlinewidth\":0,\"ticks\":\"\"},\"type\":\"choropleth\"}],\"contour\":[{\"colorbar\":{\"outlinewidth\":0,\"ticks\":\"\"},\"colorscale\":[[0.0,\"#0d0887\"],[0.1111111111111111,\"#46039f\"],[0.2222222222222222,\"#7201a8\"],[0.3333333333333333,\"#9c179e\"],[0.4444444444444444,\"#bd3786\"],[0.5555555555555556,\"#d8576b\"],[0.6666666666666666,\"#ed7953\"],[0.7777777777777778,\"#fb9f3a\"],[0.8888888888888888,\"#fdca26\"],[1.0,\"#f0f921\"]],\"type\":\"contour\"}],\"contourcarpet\":[{\"colorbar\":{\"outlinewidth\":0,\"ticks\":\"\"},\"type\":\"contourcarpet\"}],\"heatmap\":[{\"colorbar\":{\"outlinewidth\":0,\"ticks\":\"\"},\"colorscale\":[[0.0,\"#0d0887\"],[0.1111111111111111,\"#46039f\"],[0.2222222222222222,\"#7201a8\"],[0.3333333333333333,\"#9c179e\"],[0.4444444444444444,\"#bd3786\"],[0.5555555555555556,\"#d8576b\"],[0.6666666666666666,\"#ed7953\"],[0.7777777777777778,\"#fb9f3a\"],[0.8888888888888888,\"#fdca26\"],[1.0,\"#f0f921\"]],\"type\":\"heatmap\"}],\"heatmapgl\":[{\"colorbar\":{\"outlinewidth\":0,\"ticks\":\"\"},\"colorscale\":[[0.0,\"#0d0887\"],[0.1111111111111111,\"#46039f\"],[0.2222222222222222,\"#7201a8\"],[0.3333333333333333,\"#9c179e\"],[0.4444444444444444,\"#bd3786\"],[0.5555555555555556,\"#d8576b\"],[0.6666666666666666,\"#ed7953\"],[0.7777777777777778,\"#fb9f3a\"],[0.8888888888888888,\"#fdca26\"],[1.0,\"#f0f921\"]],\"type\":\"heatmapgl\"}],\"histogram\":[{\"marker\":{\"pattern\":{\"fillmode\":\"overlay\",\"size\":10,\"solidity\":0.2}},\"type\":\"histogram\"}],\"histogram2d\":[{\"colorbar\":{\"outlinewidth\":0,\"ticks\":\"\"},\"colorscale\":[[0.0,\"#0d0887\"],[0.1111111111111111,\"#46039f\"],[0.2222222222222222,\"#7201a8\"],[0.3333333333333333,\"#9c179e\"],[0.4444444444444444,\"#bd3786\"],[0.5555555555555556,\"#d8576b\"],[0.6666666666666666,\"#ed7953\"],[0.7777777777777778,\"#fb9f3a\"],[0.8888888888888888,\"#fdca26\"],[1.0,\"#f0f921\"]],\"type\":\"histogram2d\"}],\"histogram2dcontour\":[{\"colorbar\":{\"outlinewidth\":0,\"ticks\":\"\"},\"colorscale\":[[0.0,\"#0d0887\"],[0.1111111111111111,\"#46039f\"],[0.2222222222222222,\"#7201a8\"],[0.3333333333333333,\"#9c179e\"],[0.4444444444444444,\"#bd3786\"],[0.5555555555555556,\"#d8576b\"],[0.6666666666666666,\"#ed7953\"],[0.7777777777777778,\"#fb9f3a\"],[0.8888888888888888,\"#fdca26\"],[1.0,\"#f0f921\"]],\"type\":\"histogram2dcontour\"}],\"mesh3d\":[{\"colorbar\":{\"outlinewidth\":0,\"ticks\":\"\"},\"type\":\"mesh3d\"}],\"parcoords\":[{\"line\":{\"colorbar\":{\"outlinewidth\":0,\"ticks\":\"\"}},\"type\":\"parcoords\"}],\"pie\":[{\"automargin\":true,\"type\":\"pie\"}],\"scatter\":[{\"marker\":{\"colorbar\":{\"outlinewidth\":0,\"ticks\":\"\"}},\"type\":\"scatter\"}],\"scatter3d\":[{\"line\":{\"colorbar\":{\"outlinewidth\":0,\"ticks\":\"\"}},\"marker\":{\"colorbar\":{\"outlinewidth\":0,\"ticks\":\"\"}},\"type\":\"scatter3d\"}],\"scattercarpet\":[{\"marker\":{\"colorbar\":{\"outlinewidth\":0,\"ticks\":\"\"}},\"type\":\"scattercarpet\"}],\"scattergeo\":[{\"marker\":{\"colorbar\":{\"outlinewidth\":0,\"ticks\":\"\"}},\"type\":\"scattergeo\"}],\"scattergl\":[{\"marker\":{\"colorbar\":{\"outlinewidth\":0,\"ticks\":\"\"}},\"type\":\"scattergl\"}],\"scattermapbox\":[{\"marker\":{\"colorbar\":{\"outlinewidth\":0,\"ticks\":\"\"}},\"type\":\"scattermapbox\"}],\"scatterpolar\":[{\"marker\":{\"colorbar\":{\"outlinewidth\":0,\"ticks\":\"\"}},\"type\":\"scatterpolar\"}],\"scatterpolargl\":[{\"marker\":{\"colorbar\":{\"outlinewidth\":0,\"ticks\":\"\"}},\"type\":\"scatterpolargl\"}],\"scatterternary\":[{\"marker\":{\"colorbar\":{\"outlinewidth\":0,\"ticks\":\"\"}},\"type\":\"scatterternary\"}],\"surface\":[{\"colorbar\":{\"outlinewidth\":0,\"ticks\":\"\"},\"colorscale\":[[0.0,\"#0d0887\"],[0.1111111111111111,\"#46039f\"],[0.2222222222222222,\"#7201a8\"],[0.3333333333333333,\"#9c179e\"],[0.4444444444444444,\"#bd3786\"],[0.5555555555555556,\"#d8576b\"],[0.6666666666666666,\"#ed7953\"],[0.7777777777777778,\"#fb9f3a\"],[0.8888888888888888,\"#fdca26\"],[1.0,\"#f0f921\"]],\"type\":\"surface\"}],\"table\":[{\"cells\":{\"fill\":{\"color\":\"#EBF0F8\"},\"line\":{\"color\":\"white\"}},\"header\":{\"fill\":{\"color\":\"#C8D4E3\"},\"line\":{\"color\":\"white\"}},\"type\":\"table\"}]},\"layout\":{\"annotationdefaults\":{\"arrowcolor\":\"#2a3f5f\",\"arrowhead\":0,\"arrowwidth\":1},\"autotypenumbers\":\"strict\",\"coloraxis\":{\"colorbar\":{\"outlinewidth\":0,\"ticks\":\"\"}},\"colorscale\":{\"diverging\":[[0,\"#8e0152\"],[0.1,\"#c51b7d\"],[0.2,\"#de77ae\"],[0.3,\"#f1b6da\"],[0.4,\"#fde0ef\"],[0.5,\"#f7f7f7\"],[0.6,\"#e6f5d0\"],[0.7,\"#b8e186\"],[0.8,\"#7fbc41\"],[0.9,\"#4d9221\"],[1,\"#276419\"]],\"sequential\":[[0.0,\"#0d0887\"],[0.1111111111111111,\"#46039f\"],[0.2222222222222222,\"#7201a8\"],[0.3333333333333333,\"#9c179e\"],[0.4444444444444444,\"#bd3786\"],[0.5555555555555556,\"#d8576b\"],[0.6666666666666666,\"#ed7953\"],[0.7777777777777778,\"#fb9f3a\"],[0.8888888888888888,\"#fdca26\"],[1.0,\"#f0f921\"]],\"sequentialminus\":[[0.0,\"#0d0887\"],[0.1111111111111111,\"#46039f\"],[0.2222222222222222,\"#7201a8\"],[0.3333333333333333,\"#9c179e\"],[0.4444444444444444,\"#bd3786\"],[0.5555555555555556,\"#d8576b\"],[0.6666666666666666,\"#ed7953\"],[0.7777777777777778,\"#fb9f3a\"],[0.8888888888888888,\"#fdca26\"],[1.0,\"#f0f921\"]]},\"colorway\":[\"#636efa\",\"#EF553B\",\"#00cc96\",\"#ab63fa\",\"#FFA15A\",\"#19d3f3\",\"#FF6692\",\"#B6E880\",\"#FF97FF\",\"#FECB52\"],\"font\":{\"color\":\"#2a3f5f\"},\"geo\":{\"bgcolor\":\"white\",\"lakecolor\":\"white\",\"landcolor\":\"#E5ECF6\",\"showlakes\":true,\"showland\":true,\"subunitcolor\":\"white\"},\"hoverlabel\":{\"align\":\"left\"},\"hovermode\":\"closest\",\"mapbox\":{\"style\":\"light\"},\"paper_bgcolor\":\"white\",\"plot_bgcolor\":\"#E5ECF6\",\"polar\":{\"angularaxis\":{\"gridcolor\":\"white\",\"linecolor\":\"white\",\"ticks\":\"\"},\"bgcolor\":\"#E5ECF6\",\"radialaxis\":{\"gridcolor\":\"white\",\"linecolor\":\"white\",\"ticks\":\"\"}},\"scene\":{\"xaxis\":{\"backgroundcolor\":\"#E5ECF6\",\"gridcolor\":\"white\",\"gridwidth\":2,\"linecolor\":\"white\",\"showbackground\":true,\"ticks\":\"\",\"zerolinecolor\":\"white\"},\"yaxis\":{\"backgroundcolor\":\"#E5ECF6\",\"gridcolor\":\"white\",\"gridwidth\":2,\"linecolor\":\"white\",\"showbackground\":true,\"ticks\":\"\",\"zerolinecolor\":\"white\"},\"zaxis\":{\"backgroundcolor\":\"#E5ECF6\",\"gridcolor\":\"white\",\"gridwidth\":2,\"linecolor\":\"white\",\"showbackground\":true,\"ticks\":\"\",\"zerolinecolor\":\"white\"}},\"shapedefaults\":{\"line\":{\"color\":\"#2a3f5f\"}},\"ternary\":{\"aaxis\":{\"gridcolor\":\"white\",\"linecolor\":\"white\",\"ticks\":\"\"},\"baxis\":{\"gridcolor\":\"white\",\"linecolor\":\"white\",\"ticks\":\"\"},\"bgcolor\":\"#E5ECF6\",\"caxis\":{\"gridcolor\":\"white\",\"linecolor\":\"white\",\"ticks\":\"\"}},\"title\":{\"x\":0.05},\"xaxis\":{\"automargin\":true,\"gridcolor\":\"white\",\"linecolor\":\"white\",\"ticks\":\"\",\"title\":{\"standoff\":15},\"zerolinecolor\":\"white\",\"zerolinewidth\":2},\"yaxis\":{\"automargin\":true,\"gridcolor\":\"white\",\"linecolor\":\"white\",\"ticks\":\"\",\"title\":{\"standoff\":15},\"zerolinecolor\":\"white\",\"zerolinewidth\":2}}}},                        {\"responsive\": true}                    ).then(function(){\n",
       "                            \n",
       "var gd = document.getElementById('c564a015-2d57-4863-a529-a5c4122d1e76');\n",
       "var x = new MutationObserver(function (mutations, observer) {{\n",
       "        var display = window.getComputedStyle(gd).display;\n",
       "        if (!display || display === 'none') {{\n",
       "            console.log([gd, 'removed!']);\n",
       "            Plotly.purge(gd);\n",
       "            observer.disconnect();\n",
       "        }}\n",
       "}});\n",
       "\n",
       "// Listen for the removal of the full notebook cells\n",
       "var notebookContainer = gd.closest('#notebook-container');\n",
       "if (notebookContainer) {{\n",
       "    x.observe(notebookContainer, {childList: true});\n",
       "}}\n",
       "\n",
       "// Listen for the clearing of the current output cell\n",
       "var outputEl = gd.closest('.output');\n",
       "if (outputEl) {{\n",
       "    x.observe(outputEl, {childList: true});\n",
       "}}\n",
       "\n",
       "                        })                };                });            </script>        </div>"
      ]
     },
     "metadata": {},
     "output_type": "display_data"
    }
   ],
   "source": [
    "token = 'pk.eyJ1Ijoic2ViYWtpcmlsbCIsImEiOiJja3Mwb2VoczkwMDE2MndydzBtdTZvaDRoIn0.lwZfQxI25txfqk5swoqeuw'\n",
    "fig = go.Figure(go.Scattermapbox(\n",
    "    lon = df_lat_long['long'],\n",
    "    lat = df_lat_long['lat'],\n",
    "    mode = 'markers+text',\n",
    "    marker = go.scattermapbox.Marker(size = df_lat_long['tipo_delito'],\n",
    "                                     color = df_lat_long['tipo_delito'],\n",
    "                                     colorscale = 'Edge',\n",
    "                                     showscale = True,\n",
    "                                     sizemode = 'area',\n",
    "                                     opacity = .8),\n",
    "    hoverinfo = 'text',\n",
    "    hovertext = \n",
    "    '<b>Barrio<b>: ' + df_lat_long['barrio'].astype(str) + '<b>' +\n",
    "    '<b>Cantidad de delitos<b>' + df_lat_long['tipo_delito'].astype(str) + '<b>'\n",
    "))\n",
    "\n",
    "fig.update_layout(\n",
    "    hovermode = 'x',\n",
    "    margin = dict(r=0, l=0, b=0, t=0),\n",
    "    mapbox = dict(\n",
    "        accesstoken = token,\n",
    "        style = 'stamen-terrain',\n",
    "        zoom = 10,\n",
    "        center = dict(\n",
    "            lat = -34.6083,\n",
    "            lon = -58.3712\n",
    "        )\n",
    "    ),\n",
    "    showlegend = True,\n",
    "    autosize =True\n",
    "    )"
   ]
  },
  {
   "cell_type": "code",
   "execution_count": null,
   "id": "d684903e-603a-4919-8d4b-266d4d2d5ac3",
   "metadata": {},
   "outputs": [],
   "source": []
  }
 ],
 "metadata": {
  "kernelspec": {
   "display_name": "Python 3 (ipykernel)",
   "language": "python",
   "name": "python3"
  },
  "language_info": {
   "codemirror_mode": {
    "name": "ipython",
    "version": 3
   },
   "file_extension": ".py",
   "mimetype": "text/x-python",
   "name": "python",
   "nbconvert_exporter": "python",
   "pygments_lexer": "ipython3",
   "version": "3.9.6"
  }
 },
 "nbformat": 4,
 "nbformat_minor": 5
}
